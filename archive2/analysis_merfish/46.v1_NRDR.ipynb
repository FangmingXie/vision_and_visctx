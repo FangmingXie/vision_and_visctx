{
 "cells": [
  {
   "cell_type": "code",
   "execution_count": null,
   "id": "aa503af1-8bb5-427a-8241-06e28faa45f3",
   "metadata": {
    "tags": []
   },
   "outputs": [],
   "source": [
    "import numpy as np\n",
    "import pandas as pd\n",
    "import matplotlib.pyplot as plt\n",
    "import seaborn as sns\n",
    "import anndata as ad\n",
    "import scanpy as sc\n",
    "from scipy import stats\n",
    "import os\n",
    "\n",
    "from scipy import spatial\n",
    "from scipy import sparse\n",
    "from scipy.interpolate import CubicSpline\n",
    "from sklearn.decomposition import PCA\n",
    "from sklearn.cluster import KMeans\n",
    "from sklearn.neighbors import NearestNeighbors\n",
    "import networkx as nx\n",
    "from umap import UMAP\n",
    "\n",
    "import json"
   ]
  },
  {
   "cell_type": "code",
   "execution_count": null,
   "id": "0f45245f-11c8-4e6e-b181-d2bf21e8c459",
   "metadata": {},
   "outputs": [],
   "source": [
    "import importlib\n",
    "\n",
    "from scroutines import powerplots\n",
    "from scroutines.miscu import is_in_polygon\n",
    "\n",
    "import utils_merfish\n",
    "importlib.reload(utils_merfish)\n",
    "from utils_merfish import rot2d, st_scatter, st_scatter_ax, plot_cluster, binning\n",
    "from utils_merfish import RefLineSegs\n",
    "\n",
    "import merfish_datasets\n",
    "import merfish_genesets\n",
    "importlib.reload(merfish_datasets)\n",
    "from merfish_datasets import merfish_datasets\n",
    "from merfish_datasets import merfish_datasets_params\n",
    "\n",
    "from scroutines import basicu"
   ]
  },
  {
   "cell_type": "code",
   "execution_count": null,
   "id": "5ee31c0c-9fc3-4bf8-a36e-1cdb4fe398dc",
   "metadata": {
    "tags": []
   },
   "outputs": [],
   "source": [
    "def get_qc_metrics(df):\n",
    "    \"\"\"\n",
    "    return metrics\n",
    "     - key\n",
    "      - (name, val, medval, bins)\n",
    "    \"\"\"\n",
    "    metrics = {}\n",
    "    cols  = ['volume', 'gncov', 'gnnum']\n",
    "    names = ['cell volume', 'num transcripts', 'num genes']\n",
    "    \n",
    "    for col, name in zip(cols, names):\n",
    "        val = df[col].values\n",
    "        medval = np.median(val)\n",
    "        bins = np.linspace(0, 10*medval, 50)\n",
    "        \n",
    "        metrics[col] = (name, val, medval, bins)\n",
    "    return metrics\n",
    "\n",
    "def get_norm_counts(adata, scaling=500):\n",
    "    \"\"\"norm - equalize the volume to be 500 for all cells\n",
    "    \"\"\"\n",
    "    cnts = adata.X\n",
    "    vol = adata.obs['volume'].values\n",
    "    normcnts = cnts/vol.reshape(-1,1)*scaling\n",
    "    adata.layers['norm'] = normcnts\n",
    "    \n",
    "    return normcnts"
   ]
  },
  {
   "cell_type": "code",
   "execution_count": null,
   "id": "f966b334-541e-4e6a-a02b-99b26455e254",
   "metadata": {
    "tags": []
   },
   "outputs": [],
   "source": [
    "def get_largest_spatial_components(adata, k=100, dist_th=80):\n",
    "    \"\"\"\n",
    "    k - number of neighbors\n",
    "    dist_th - distance to call connected components\n",
    "    \n",
    "    returns\n",
    "        - indices of the largest components\n",
    "    \"\"\"\n",
    "    XY = adata.obs[['x', 'y']].values\n",
    "    nc = len(XY)\n",
    "\n",
    "    # kNN\n",
    "    nbrs = NearestNeighbors(n_neighbors=k, algorithm='auto').fit(XY)\n",
    "    distances, indices = nbrs.kneighbors(XY)\n",
    "\n",
    "    # filtered by distance th\n",
    "    val = distances[:,1:].reshape(-1,)\n",
    "    i = np.repeat(indices[:,0],k-1)\n",
    "    j = indices[:,1:].reshape(-1,)\n",
    "\n",
    "    indices_filtered = np.vstack([i[val < dist_th], j[val < dist_th]]).T\n",
    "\n",
    "    G = nx.Graph()\n",
    "    G.add_nodes_from(np.arange(nc))\n",
    "    G.add_edges_from(indices_filtered)\n",
    "    components = nx.connected_components(G)\n",
    "    largest_component = max(components, key=len)\n",
    "    indices_selected = np.array(list(largest_component))\n",
    "\n",
    "    print(f\"fraction of cells included: {len(largest_component)/nc: .2f}\" )\n",
    "    \n",
    "    return indices_selected, XY"
   ]
  },
  {
   "cell_type": "markdown",
   "id": "948e0c4c-761e-4757-9027-2c6f309b4245",
   "metadata": {},
   "source": [
    "# load data and construct adata "
   ]
  },
  {
   "cell_type": "code",
   "execution_count": null,
   "id": "39889430-5345-48d5-acb5-32a077eb6b85",
   "metadata": {},
   "outputs": [],
   "source": [
    "np.random.seed(0)"
   ]
  },
  {
   "cell_type": "code",
   "execution_count": null,
   "id": "1abfa400-a56a-4bdd-b61a-d962b03ae2b1",
   "metadata": {
    "tags": []
   },
   "outputs": [],
   "source": [
    "outdir     = \"/u/home/f/f7xiesnm/project-zipursky/v1-bb/v1/results_merfish/plots_240718\"\n",
    "outdatadir = \"/u/home/f/f7xiesnm/project-zipursky/v1-bb/v1/data/merfish/organized\"\n",
    "!mkdir -p $outdir\n",
    "!mkdir -p $outdatadir"
   ]
  },
  {
   "cell_type": "code",
   "execution_count": null,
   "id": "10056f83-d188-4aea-9e6b-6bfaed8f77e0",
   "metadata": {
    "tags": []
   },
   "outputs": [],
   "source": [
    "genesets, df = merfish_genesets.get_all_genesets()\n",
    "for key, item in genesets.items():\n",
    "    print(key, len(item))"
   ]
  },
  {
   "cell_type": "code",
   "execution_count": null,
   "id": "9de52cb2-2b0c-4b9f-a864-1ec9e50eae47",
   "metadata": {
    "tags": []
   },
   "outputs": [],
   "source": [
    "ddir = \"/u/home/f/f7xiesnm/project-zipursky/v1-bb/v1/data/merfish/organized\" \n",
    "fout = os.path.join(ddir, 'P28NRDR_v1l23_merged_240508.h5ad')\n",
    "!ls $ddir/*l2*240723.h5ad "
   ]
  },
  {
   "cell_type": "code",
   "execution_count": null,
   "id": "72ebe8f3-6d19-4bed-bea5-904b178eeed0",
   "metadata": {
    "tags": []
   },
   "outputs": [],
   "source": [
    "%%time\n",
    "names = [\n",
    "    'P28NRa_ant', \n",
    "    'P28NRa_pos',\n",
    "    \n",
    "    'P28NRb_ant', \n",
    "    'P28NRb_pos',\n",
    "    \n",
    "    'P28DRa_ant', \n",
    "    'P28DRa_pos',\n",
    "    \n",
    "    'P28DRb_ant', \n",
    "    'P28DRb_pos',\n",
    "]\n",
    "\n",
    "alldata = {}\n",
    "for name in names:\n",
    "    adatasub = ad.read(os.path.join(ddir, f'{name}_l2_v1_240723.h5ad')) \n",
    "    adatasub.obs.index = np.char.add(f'{name}', adatasub.obs.index.values)\n",
    "    alldata[name] = adatasub \n",
    "    print(name, len(alldata[name]))\n",
    "    \n",
    "genes = adatasub.var.index.values\n",
    "genes.shape"
   ]
  },
  {
   "cell_type": "code",
   "execution_count": null,
   "id": "bbeb650a-238c-4dbf-b22b-2f64f203f0b3",
   "metadata": {
    "tags": []
   },
   "outputs": [],
   "source": [
    "agenes = genesets['a']\n",
    "bgenes = genesets['b']\n",
    "cgenes = genesets['c']\n",
    "iegs   = genesets['i']\n",
    "up_agenes = genesets['a_up']\n",
    "abcgenes = np.hstack([agenes, bgenes, cgenes])\n",
    "len(abcgenes)"
   ]
  },
  {
   "cell_type": "code",
   "execution_count": null,
   "id": "425bb22f-df22-4280-82a8-f4bffa73f40d",
   "metadata": {
    "tags": []
   },
   "outputs": [],
   "source": [
    "agenes_idx = basicu.get_index_from_array(adatasub.var.index.values, agenes)\n",
    "bgenes_idx = basicu.get_index_from_array(adatasub.var.index.values, bgenes)\n",
    "cgenes_idx = basicu.get_index_from_array(adatasub.var.index.values, cgenes)\n",
    "igenes_idx = basicu.get_index_from_array(adatasub.var.index.values, iegs)"
   ]
  },
  {
   "cell_type": "code",
   "execution_count": null,
   "id": "17dd1c5e-fc3e-4bf3-8854-ce4229df7267",
   "metadata": {
    "tags": []
   },
   "outputs": [],
   "source": [
    "mean_total_rna_target = 250\n",
    "adata_premerge = []\n",
    "for i, name in enumerate(names):\n",
    "    adatasub = alldata[name].copy()\n",
    "    \n",
    "    adatasub.obs['sample'] = name\n",
    "    \n",
    "    norm_cnts = adatasub.layers['norm']\n",
    "    mean_per_batch = np.mean(norm_cnts.sum(axis=1))\n",
    "    adatasub.layers['jnorm']  = norm_cnts*(mean_total_rna_target/mean_per_batch)\n",
    "    adatasub.layers['ljnorm'] = np.log2(1+adatasub.layers['jnorm'])\n",
    "    \n",
    "    adatasub.obs['norm_transcript_count']  = adatasub.layers['norm'].sum(axis=1)\n",
    "    adatasub.obs['jnorm_transcript_count'] = adatasub.layers['jnorm'].sum(axis=1)\n",
    "    \n",
    "    adata_premerge.append(adatasub)\n",
    "    \n",
    "adata_premerge = ad.concat(adata_premerge)"
   ]
  },
  {
   "cell_type": "code",
   "execution_count": null,
   "id": "03d116d2-3ba3-480d-8283-b3813faa3b40",
   "metadata": {
    "tags": []
   },
   "outputs": [],
   "source": [
    "adata_merged = []\n",
    "for i, name in enumerate(names):\n",
    "    j = i // 4\n",
    "    i = i % 4\n",
    "    \n",
    "    adatasub = adata_premerge[adata_premerge.obs['sample']==name].copy()\n",
    "        \n",
    "    adatasub.obs['sample'] = name\n",
    "    adatasub.obs['depth_show'] = -adatasub.obs['depth'].values - i*1300 # name\n",
    "    adatasub.obs['width_show'] =  adatasub.obs['width'].values - np.min(adatasub.obs['width'].values) + j*2500   # name\n",
    "    adata_merged.append(adatasub)\n",
    "    print(adatasub.shape)\n",
    "    # break\n",
    "    \n",
    "adata_merged = ad.concat(adata_merged)"
   ]
  },
  {
   "cell_type": "code",
   "execution_count": null,
   "id": "6059cd47-35ab-4410-963d-f809a8bf89fc",
   "metadata": {},
   "outputs": [],
   "source": [
    "\n",
    "sns.histplot(adata_premerge.obs['jnorm_transcript_count'], bins=np.linspace(0, 500, 50))"
   ]
  },
  {
   "cell_type": "code",
   "execution_count": null,
   "id": "f216ed54-619f-49f9-b628-137da46fbfe9",
   "metadata": {
    "tags": []
   },
   "outputs": [],
   "source": [
    "sns.histplot(adata_premerge.obs['norm_transcript_count'], bins=np.linspace(0, 500, 50))"
   ]
  },
  {
   "cell_type": "code",
   "execution_count": null,
   "id": "2cd9905f-81a8-4552-875b-38fa5e64e459",
   "metadata": {},
   "outputs": [],
   "source": [
    "from scipy.stats import zscore"
   ]
  },
  {
   "cell_type": "code",
   "execution_count": null,
   "id": "76c10acc-6bf1-4c14-b8de-d7aac46ec471",
   "metadata": {
    "tags": []
   },
   "outputs": [],
   "source": [
    "marker_genes = [\n",
    "       'Ptprn', 'Slc17a7', 'Gad1', 'Fos', \n",
    "       \n",
    "       'Gfap', 'Slc6a13', 'Slc47a1',\n",
    "       'Grin2c', 'Aqp4', 'Rfx4', 'Sox21', 'Slc1a3',\n",
    "       \n",
    "       'Sox10', 'Pdgfra', 'Mog',\n",
    "       \n",
    "       'Pecam1', 'Cd34' , 'Tnfrsf12a', 'Sema3c', \n",
    "       'Zfhx3', 'Pag1', 'Slco2b1', 'Cx3cr1',\n",
    "      ] "
   ]
  },
  {
   "cell_type": "code",
   "execution_count": null,
   "id": "d3917828-b2e4-4494-a673-47f7f7575c36",
   "metadata": {
    "tags": []
   },
   "outputs": [],
   "source": [
    "genes_noniegs = np.array([g for g in genes if g not in iegs])\n",
    "genes_noniegs.shape"
   ]
  },
  {
   "cell_type": "code",
   "execution_count": null,
   "id": "eba48c65-9722-4352-a8c8-f4b94ac04c7c",
   "metadata": {},
   "outputs": [],
   "source": [
    "adata = adata_merged # [:,marker_genes].copy()\n",
    "\n",
    "\n",
    "# PCA\n",
    "pca = PCA(n_components=50)\n",
    "pcs = pca.fit_transform(zscore(adata[:,genes_noniegs].layers['ljnorm'], axis=1))\n",
    "# pcs = pca.fit_transform(zscore(adata.layers['ljnorm'], axis=1))\n",
    "ucs = UMAP(n_components=2, n_neighbors=30, random_state=0).fit_transform(pcs)\n",
    "\n",
    "adata.obsm['pca'] = pcs\n",
    "adata.obsm['umap'] = ucs\n",
    "sc.pp.neighbors(adata, n_neighbors=30, use_rep='pca', random_state=0)"
   ]
  },
  {
   "cell_type": "code",
   "execution_count": null,
   "id": "6f15e3d3-9e90-477c-83ca-54fb8754bbb3",
   "metadata": {
    "tags": []
   },
   "outputs": [],
   "source": [
    "# clustering\n",
    "r = 0.3\n",
    "sc.tl.leiden(adata, resolution=r, key_added=f'leiden_r{r}', random_state=0, n_iterations=10)"
   ]
  },
  {
   "cell_type": "code",
   "execution_count": null,
   "id": "4abd8ad4-6dba-43d7-90ab-3540e37d03c6",
   "metadata": {
    "tags": []
   },
   "outputs": [],
   "source": [
    "# plot\n",
    "gn = 'Slc17a7'\n",
    "# gn = 'Fos'\n",
    "# gn = 'Gad1'\n",
    "g = np.log2(1+adata[:,gn].layers['jnorm'].reshape(-1,))\n",
    "\n",
    "# add some quality metrics\n",
    "\n",
    "fig, (ax1, ax2) = plt.subplots(1,2,figsize=(2*5,1*4))\n",
    "utils_merfish.st_scatter_ax(fig, ax1, pcs[:,0], pcs[:,1], gexp=g)\n",
    "utils_merfish.st_scatter_ax(fig, ax2, ucs[:,0], ucs[:,1], gexp=g)\n",
    "plt.show()\n",
    "\n",
    "# plot\n",
    "gn = 'Slc17a7'\n",
    "# gn = 'Fos'\n",
    "# gn = 'Gad1'\n",
    "g = adata[:,gn].layers['jnorm'].reshape(-1,)\n",
    "\n",
    "# add some quality metrics\n",
    "\n",
    "fig, (ax1, ax2) = plt.subplots(1,2,figsize=(2*5,1*4))\n",
    "utils_merfish.st_scatter_ax(fig, ax1, pcs[:,0], pcs[:,1], gexp=g)\n",
    "utils_merfish.st_scatter_ax(fig, ax2, ucs[:,0], ucs[:,1], gexp=g)\n",
    "plt.show()"
   ]
  },
  {
   "cell_type": "code",
   "execution_count": null,
   "id": "6c2e2ca9-8eb9-44f1-9886-7910d7a49913",
   "metadata": {
    "tags": []
   },
   "outputs": [],
   "source": [
    "\n",
    "clsts = adata.obs[f'leiden_r{r}'].astype(int)\n",
    "xr =  adata.obs['width_show']\n",
    "yr =  adata.obs['depth_show']\n",
    "ux = adata.obsm['umap'][:,0]\n",
    "uy = adata.obsm['umap'][:,1]\n",
    "utils_merfish.plot_cluster(clsts, xr, yr, ux, uy, s=2)\n",
    "\n",
    "samples, uniq_labels = pd.factorize(adata.obs['sample']) # .astype(int)\n",
    "utils_merfish.plot_cluster(samples, xr, yr, ux, uy, s=2)"
   ]
  },
  {
   "cell_type": "code",
   "execution_count": null,
   "id": "86bb6ef2-32c7-4ead-9c3f-4e2ebc027b4f",
   "metadata": {
    "tags": []
   },
   "outputs": [],
   "source": [
    "np.unique(clsts, return_counts=True)"
   ]
  },
  {
   "cell_type": "code",
   "execution_count": null,
   "id": "b933bce0-4fb4-4e02-9970-a2edc8822a63",
   "metadata": {
    "tags": []
   },
   "outputs": [],
   "source": [
    "clsts = adata.obs[f'leiden_r{r}'].astype(int)\n",
    "uniq_clsts = np.unique(clsts)\n",
    "\n",
    "\n",
    "for clst in uniq_clsts:\n",
    "    show = (clsts == clst)\n",
    "    xr =  adata.obs['width_show']\n",
    "    yr =  adata.obs['depth_show']\n",
    "    ux    = adata.obsm['umap'][:,0]\n",
    "    uy    = adata.obsm['umap'][:,1]\n",
    "    utils_merfish.plot_cluster(show, xr, yr, ux, uy, s=2, cmap=plt.cm.copper_r, suptitle=clst)"
   ]
  },
  {
   "cell_type": "code",
   "execution_count": null,
   "id": "e67e19ac-93bd-4bc7-a827-5043882e615c",
   "metadata": {},
   "outputs": [],
   "source": []
  },
  {
   "cell_type": "code",
   "execution_count": null,
   "id": "91b60a58-99e6-49b8-9ea3-361845b2bad5",
   "metadata": {},
   "outputs": [],
   "source": []
  },
  {
   "cell_type": "code",
   "execution_count": null,
   "id": "52a59e60-e95b-42c9-a19c-c1af5ad41e45",
   "metadata": {},
   "outputs": [],
   "source": []
  },
  {
   "cell_type": "markdown",
   "id": "7f9778cb-e173-4b16-aa2e-039f3417b479",
   "metadata": {},
   "source": [
    "# figure out major cell population by marker genes; groups of genes; and quality metrics"
   ]
  },
  {
   "cell_type": "code",
   "execution_count": null,
   "id": "735f21ca-97ca-4fea-918e-5e37e81e5822",
   "metadata": {
    "tags": []
   },
   "outputs": [],
   "source": [
    "# plot\n",
    "marker_genes = [\n",
    "       'Ptprn', 'Slc17a7', 'Gad1', 'Fos', \n",
    "       \n",
    "       'Gfap', 'Slc6a13', 'Slc47a1',\n",
    "       'Grin2c', 'Aqp4', 'Rfx4', 'Sox21', 'Slc1a3',\n",
    "       \n",
    "       'Sox10', 'Pdgfra', 'Mog',\n",
    "       \n",
    "       'Pecam1', 'Cd34' , 'Tnfrsf12a', 'Sema3c', \n",
    "       'Zfhx3', 'Pag1', 'Slco2b1', 'Cx3cr1',\n",
    "      ] \n",
    "gns = marker_genes\n",
    "n = len(gns)\n",
    "nx = 4\n",
    "ny = int((n+nx-1)/nx)\n",
    "# add some quality metrics\n",
    "fig, axs = plt.subplots(ny,nx,figsize=(nx*5,ny*4))\n",
    "for gn, ax in zip(gns, axs.flat):\n",
    "    g = adata[:,gn].layers['jnorm'].reshape(-1,)\n",
    "    utils_merfish.st_scatter_ax(fig, ax, ucs[:,0], ucs[:,1], gexp=g)\n",
    "    ax.set_title(gn)\n",
    "plt.show()\n"
   ]
  },
  {
   "cell_type": "code",
   "execution_count": null,
   "id": "c4b8189e-53c4-414b-97ad-035e89907e56",
   "metadata": {
    "tags": []
   },
   "outputs": [],
   "source": [
    "# plot\n",
    "gns = marker_genes\n",
    "n = len(gns)\n",
    "nx = 4\n",
    "ny = int((n+nx-1)/nx)\n",
    "# add some quality metrics\n",
    "fig, axs = plt.subplots(ny,nx,figsize=(nx*5,ny*4))\n",
    "for gn, ax in zip(gns, axs.flat):\n",
    "    g = np.log2(1+adata[:,gn].layers['jnorm'].reshape(-1,))\n",
    "    utils_merfish.st_scatter_ax(fig, ax, ucs[:,0], ucs[:,1], gexp=g)\n",
    "    ax.set_title(gn)\n",
    "plt.show()\n",
    "\n"
   ]
  },
  {
   "cell_type": "code",
   "execution_count": null,
   "id": "e50f0f53-e6cd-4892-a944-541b6819b3e7",
   "metadata": {
    "tags": []
   },
   "outputs": [],
   "source": [
    "# # add some quality metrics\n",
    "# fig, ax = plt.subplots()\n",
    "# # g = (adata.layers['jnorm'].sum(axis=1) < 100).astype(int)\n",
    "# g = (adata.obs['jnorm_transcript_count'].values < 100).astype(int)\n",
    "# # g = (adata.obs['volume'].values < 60).astype(int)\n",
    "# p = utils_merfish.st_scatter_ax(fig, ax, ucs[:,0], ucs[:,1], gexp=g, s=3)\n",
    "# fig.colorbar(p)\n",
    "# ax.set_title('')\n",
    "# plt.show()\n",
    "\n",
    "# fig, ax = plt.subplots()\n",
    "# # g = (adata.layers['volume'].sum(axis=1)) #  < 100).astype(int)\n",
    "# # g = (adata.obs['transcript_count'].values < 50).astype(int)\n",
    "# g = (adata.obs['volume'].values < 150).astype(int)\n",
    "# p = utils_merfish.st_scatter_ax(fig, ax, ucs[:,0], ucs[:,1], gexp=g, s=3)\n",
    "# fig.colorbar(p)\n",
    "# ax.set_title('')\n",
    "# plt.show()\n",
    "\n",
    "# fig, ax = plt.subplots()\n",
    "# # g = (adata.layers['volume'].sum(axis=1)) #  < 100).astype(int)\n",
    "# g = (adata.obs['transcript_count'].values < 100).astype(int)\n",
    "# # g = (adata.obs['volume'].values < 150).astype(int)\n",
    "# p = utils_merfish.st_scatter_ax(fig, ax, ucs[:,0], ucs[:,1], gexp=g, s=3)\n",
    "# fig.colorbar(p)\n",
    "# ax.set_title('')\n",
    "# plt.show()\n",
    "\n",
    "fig, ax = plt.subplots()\n",
    "# g = (adata.layers['volume'].sum(axis=1)) #  < 100).astype(int)\n",
    "g = np.logical_and(\n",
    "    (adata.obs['transcript_count'].values < 50).astype(int),\n",
    "    (adata.obs['jnorm_transcript_count'].values < 150).astype(int),\n",
    ").astype(int)\n",
    "# g = (adata.obs['volume'].values < 150).astype(int)\n",
    "p = utils_merfish.st_scatter_ax(fig, ax, ucs[:,0], ucs[:,1], gexp=g, s=3)\n",
    "fig.colorbar(p)\n",
    "ax.set_title('')\n",
    "plt.show()"
   ]
  },
  {
   "cell_type": "code",
   "execution_count": null,
   "id": "237b9f98-fa92-4740-b279-e4794b0d72ca",
   "metadata": {
    "tags": []
   },
   "outputs": [],
   "source": [
    "metrics = [\n",
    "    'volume', 'anisotropy', 'perimeter_area_ratio', 'solidity', \n",
    "    'PolyT_raw', 'PolyT_high_pass', 'DAPI_raw', 'DAPI_high_pass', \n",
    "    'transcript_count', 'jnorm_transcript_count', 'gnnum', 'fpcov', \n",
    "    'depth', 'width', 'sample' \n",
    "       ]\n",
    "n = len(metrics)\n",
    "nx = 5\n",
    "ny = int((n+nx-1)/nx)\n",
    "# add some quality metrics\n",
    "fig, axs = plt.subplots(ny,nx,figsize=(nx*5,ny*4))\n",
    "for metric, ax in zip(metrics, axs.flat):\n",
    "    g = adata.obs[metric].values\n",
    "    if metric == 'sample':\n",
    "        g, uniq_lbls = pd.factorize(g)\n",
    "    p = utils_merfish.st_scatter_ax(fig, ax, ucs[:,0], ucs[:,1], gexp=g, s=3)\n",
    "    fig.colorbar(p, shrink=0.4)\n",
    "    ax.set_title(metric)\n",
    "plt.show()\n"
   ]
  },
  {
   "cell_type": "code",
   "execution_count": null,
   "id": "9489b9be-b01f-438a-ac2f-08b8c07e2b10",
   "metadata": {
    "tags": []
   },
   "outputs": [],
   "source": [
    "n = len(metrics)\n",
    "nx = 5\n",
    "ny = int((n+nx-1)/nx)\n",
    "# add some quality metrics\n",
    "fig, axs = plt.subplots(ny,nx,figsize=(nx*5,ny*4))\n",
    "for metric, ax in zip(metrics, axs.flat):\n",
    "    if metric == 'sample':\n",
    "        g, uniq_lbls = pd.factorize(g)\n",
    "    else:\n",
    "        g = np.log10(1+adata.obs[metric].values)\n",
    "    utils_merfish.st_scatter_ax(fig, ax, ucs[:,0], ucs[:,1], gexp=g, s=3)\n",
    "    ax.set_title(metric)\n",
    "plt.show()"
   ]
  },
  {
   "cell_type": "code",
   "execution_count": null,
   "id": "fc0761a3-57bf-4b8e-b7fc-7848234e00ed",
   "metadata": {},
   "outputs": [],
   "source": [
    "adata"
   ]
  },
  {
   "cell_type": "markdown",
   "id": "6caf285e-bfe5-4729-9687-d7325d1d4ab7",
   "metadata": {},
   "source": [
    "# astrocytes only"
   ]
  },
  {
   "cell_type": "code",
   "execution_count": null,
   "id": "f7d478d5-a172-4c98-bb27-bb14a2de2fb8",
   "metadata": {},
   "outputs": [],
   "source": [
    "adata_astro = adata[adata.obs[f'leiden_r{r}']=='0']\n",
    "adata_astro"
   ]
  },
  {
   "cell_type": "code",
   "execution_count": null,
   "id": "8708269b-bb81-457b-83ca-48929fa410f2",
   "metadata": {
    "tags": []
   },
   "outputs": [],
   "source": [
    "adata_astro"
   ]
  },
  {
   "cell_type": "code",
   "execution_count": null,
   "id": "ef394f5c-ee75-476e-b0d2-129426efb53e",
   "metadata": {},
   "outputs": [],
   "source": [
    "adata = adata_astro # [:,marker_genes].copy()\n",
    "\n",
    "\n",
    "# PCA\n",
    "pca = PCA(n_components=10)\n",
    "pcs = pca.fit_transform(zscore(adata[:,genes_noniegs].layers['ljnorm'], axis=1))\n",
    "# pcs = pca.fit_transform(zscore(adata.layers['ljnorm'], axis=1))\n",
    "ucs = UMAP(n_components=2, n_neighbors=30, random_state=0).fit_transform(pcs)\n",
    "\n",
    "adata.obsm['pca'] = pcs\n",
    "adata.obsm['umap'] = ucs\n",
    "sc.pp.neighbors(adata, n_neighbors=30, use_rep='pca', random_state=0)"
   ]
  },
  {
   "cell_type": "code",
   "execution_count": null,
   "id": "4b1218b5-e589-4484-a2b9-250a0d51dd93",
   "metadata": {
    "tags": []
   },
   "outputs": [],
   "source": [
    "# clustering\n",
    "r = 0.3\n",
    "sc.tl.leiden(adata, resolution=r, key_added=f'leiden_r{r}', random_state=0, n_iterations=10)"
   ]
  },
  {
   "cell_type": "code",
   "execution_count": null,
   "id": "5403e73d-beb1-46d0-a2dc-aa1fb6146cd6",
   "metadata": {
    "tags": []
   },
   "outputs": [],
   "source": [
    "# plot\n",
    "gn = 'Slc17a7'\n",
    "# gn = 'Fos'\n",
    "# gn = 'Gad1'\n",
    "g = np.log2(1+adata[:,gn].layers['jnorm'].reshape(-1,))\n",
    "\n",
    "# add some quality metrics\n",
    "\n",
    "fig, (ax1, ax2) = plt.subplots(1,2,figsize=(2*5,1*4))\n",
    "utils_merfish.st_scatter_ax(fig, ax1, pcs[:,0], pcs[:,1], gexp=g)\n",
    "utils_merfish.st_scatter_ax(fig, ax2, ucs[:,0], ucs[:,1], gexp=g)\n",
    "plt.show()\n",
    "\n",
    "# plot\n",
    "gn = 'Slc17a7'\n",
    "# gn = 'Fos'\n",
    "# gn = 'Gad1'\n",
    "g = adata[:,gn].layers['jnorm'].reshape(-1,)\n",
    "\n",
    "# add some quality metrics\n",
    "\n",
    "fig, (ax1, ax2) = plt.subplots(1,2,figsize=(2*5,1*4))\n",
    "utils_merfish.st_scatter_ax(fig, ax1, pcs[:,0], pcs[:,1], gexp=g)\n",
    "utils_merfish.st_scatter_ax(fig, ax2, ucs[:,0], ucs[:,1], gexp=g)\n",
    "plt.show()"
   ]
  },
  {
   "cell_type": "code",
   "execution_count": null,
   "id": "09532c93-273c-4df5-8ed6-51d87c2fa87c",
   "metadata": {
    "tags": []
   },
   "outputs": [],
   "source": [
    "\n",
    "clsts = adata.obs[f'leiden_r{r}'].astype(int)\n",
    "xr =  adata.obs['width_show']\n",
    "yr =  adata.obs['depth_show']\n",
    "ux    = adata.obsm['umap'][:,0]\n",
    "uy    = adata.obsm['umap'][:,1]\n",
    "utils_merfish.plot_cluster(clsts, xr, yr, ux, uy, s=2)\n",
    "\n",
    "samples, uniq_labels = pd.factorize(adata.obs['sample']) # .astype(int)\n",
    "utils_merfish.plot_cluster(samples, xr, yr, ux, uy, s=2)"
   ]
  },
  {
   "cell_type": "code",
   "execution_count": null,
   "id": "4627e9f1-0f4e-4034-83d7-d41f13358c09",
   "metadata": {
    "tags": []
   },
   "outputs": [],
   "source": [
    "np.unique(clsts, return_counts=True)"
   ]
  },
  {
   "cell_type": "code",
   "execution_count": null,
   "id": "97ff1e17-7fc9-4151-8494-483264d38877",
   "metadata": {
    "tags": []
   },
   "outputs": [],
   "source": [
    "clsts = adata.obs[f'leiden_r{r}'].astype(int)\n",
    "uniq_clsts = np.unique(clsts)\n",
    "\n",
    "\n",
    "for clst in uniq_clsts:\n",
    "    show = (clsts == clst)\n",
    "    xr =  adata.obs['width_show']\n",
    "    yr =  adata.obs['depth_show']\n",
    "    ux    = adata.obsm['umap'][:,0]\n",
    "    uy    = adata.obsm['umap'][:,1]\n",
    "    utils_merfish.plot_cluster(show, xr, yr, ux, uy, s=2, cmap=plt.cm.copper_r, suptitle=clst)"
   ]
  },
  {
   "cell_type": "code",
   "execution_count": null,
   "id": "342b3c4b-2a1c-4b3b-99db-4a5b3b97fc80",
   "metadata": {
    "tags": []
   },
   "outputs": [],
   "source": [
    "# plot\n",
    "gns = ['Gfap', 'Slc6a13', 'Slc17a7', 'Grin2c', 'Aqp4', 'Rfx4']\n",
    "\n",
    "for gn in gns:\n",
    "    g = adata[:,gn].layers['jnorm'].reshape(-1,)\n",
    "\n",
    "    x  =  adata.obs['width_show']\n",
    "    y  =  adata.obs['depth_show']\n",
    "    ux = adata.obsm['umap'][:,0]\n",
    "    uy = adata.obsm['umap'][:,1]\n",
    "    # add some quality metrics\n",
    "\n",
    "    fig, (ax1, ax2) = plt.subplots(1,2,figsize=(2*5,1*4))\n",
    "    utils_merfish.st_scatter_ax(fig, ax1, x, y, gexp=g)\n",
    "    utils_merfish.st_scatter_ax(fig, ax2, ux, uy, gexp=g)\n",
    "    ax2.set_title(gn)\n",
    "    plt.show()\n",
    "    "
   ]
  },
  {
   "cell_type": "code",
   "execution_count": null,
   "id": "420147e9-76bf-4d49-98cc-f60ba2e70633",
   "metadata": {
    "tags": []
   },
   "outputs": [],
   "source": [
    "# \n",
    "\n",
    "# rfx4 -> target genes\n",
    "astro_genes = [\n",
    "    \"Rfx4\",\n",
    "    \"Grin2c\",\n",
    "    \"Aqp4\",\n",
    "    \"Gfap\",\n",
    "    \"Nr1d1\",\n",
    "    \"Junb\",\n",
    "    \"Mertk\",\n",
    "    \"Slc1a3\",\n",
    "    \"Nrxn1\",\n",
    "    \"Sox21\",\n",
    "    \"Fosl2\",\n",
    "    \"Id3\",\n",
    "    \"Stat2\",\n",
    "    \"Klf3\",\n",
    "    \"Rora\",\n",
    "    \"Sdc4\",\n",
    "]\n",
    "\n",
    "astro_genes"
   ]
  },
  {
   "cell_type": "code",
   "execution_count": null,
   "id": "585aff73-46c5-4575-ac25-921a7c9bea80",
   "metadata": {
    "tags": []
   },
   "outputs": [],
   "source": [
    "\n",
    "for gn in astro_genes:\n",
    "    g = adata[:,gn].layers['jnorm'].reshape(-1,)\n",
    "\n",
    "    x  =  adata.obs['width_show']\n",
    "    y  =  adata.obs['depth_show']\n",
    "    ux = adata.obsm['umap'][:,0]\n",
    "    uy = adata.obsm['umap'][:,1]\n",
    "    # add some quality metrics\n",
    "\n",
    "    fig, (ax1, ax2) = plt.subplots(1,2,figsize=(2*5,1*4))\n",
    "    utils_merfish.st_scatter_ax(fig, ax1, x, y, gexp=g)\n",
    "    utils_merfish.st_scatter_ax(fig, ax2, ux, uy, gexp=g)\n",
    "    ax2.set_title(gn)\n",
    "    plt.show()\n",
    "    "
   ]
  }
 ],
 "metadata": {
  "kernelspec": {
   "display_name": "napari",
   "language": "python",
   "name": "napari"
  },
  "language_info": {
   "codemirror_mode": {
    "name": "ipython",
    "version": 3
   },
   "file_extension": ".py",
   "mimetype": "text/x-python",
   "name": "python",
   "nbconvert_exporter": "python",
   "pygments_lexer": "ipython3",
   "version": "3.9.16"
  }
 },
 "nbformat": 4,
 "nbformat_minor": 5
}
