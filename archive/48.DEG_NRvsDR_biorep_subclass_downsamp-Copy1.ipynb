{
 "cells": [
  {
   "cell_type": "code",
   "execution_count": 1,
   "id": "b2b52d20-dc7c-4cdf-a9a8-e95ef32ed332",
   "metadata": {
    "tags": []
   },
   "outputs": [
    {
     "data": {
      "text/plain": [
       "<module 'scroutines.basicu' from '/u/project/zipursky/f7xiesnm/code/scroutines/scroutines/basicu.py'>"
      ]
     },
     "execution_count": 1,
     "metadata": {},
     "output_type": "execute_result"
    }
   ],
   "source": [
    "import os\n",
    "import numpy as np\n",
    "import pandas as pd\n",
    "from scipy.stats import ttest_ind\n",
    "from statsmodels.stats.multitest import multipletests\n",
    "\n",
    "import matplotlib.pyplot as plt\n",
    "import seaborn as sns\n",
    "import anndata\n",
    "\n",
    "from scroutines import basicu\n",
    "from scroutines.config_plots import *\n",
    "import importlib\n",
    "importlib.reload(basicu)"
   ]
  },
  {
   "cell_type": "code",
   "execution_count": 2,
   "id": "152c6530-754d-4b6d-9f8b-a2c953d0287f",
   "metadata": {
    "tags": []
   },
   "outputs": [],
   "source": [
    "def show_onetype(idx, columns=[\"NR_1\", \"NR_2\", \"NR_3\", \"NR_4\", \n",
    "                               \"DR_1\", \"DR_2\", \"DR_3\", \"DR_4\",\n",
    "                              ]):\n",
    "    \"\"\"idx - cell type idx\n",
    "    \"\"\"\n",
    "    gidx = np.logical_or(sde_up[:,idx], sde_dn[:,idx])\n",
    "    _genes = genes_comm[gidx]\n",
    "\n",
    "    p_nr = tensor_nr[gidx,:,:][:,idx,:]\n",
    "    p_dr = tensor_dr[gidx,:,:][:,idx,:]\n",
    "    \n",
    "    \n",
    "    ab = np.hstack([p_nr, p_dr])\n",
    "    nr_mean = np.mean(p_nr, axis=1)\n",
    "    ab = (ab - nr_mean.reshape(-1,1))*np.log2(10) # log2 FC w.r.t. the mean in NR\n",
    "    ab = pd.DataFrame(ab, index=_genes, columns=columns)\n",
    "    \n",
    "    this_mlfc = (np.mean(p_nr, axis=1) - np.mean(p_dr, axis=1))*np.log2(10)\n",
    "    this_ordr = np.argsort(this_mlfc)\n",
    "    ab = ab.iloc[this_ordr]\n",
    "    \n",
    "    fig, ax = plt.subplots(figsize=(4, min(10, 0.3*len(ab))))\n",
    "    sns.heatmap(ab, center=0, cmap='coolwarm', yticklabels=True, cbar_kws=dict(shrink=0.5, label='log2 FC (w.r.t. NR mean)'))\n",
    "    ax.set_yticklabels(ax.get_yticklabels(), rotation=0)\n",
    "    ax.set_title(unq_types[idx])\n",
    "    plt.show()"
   ]
  },
  {
   "cell_type": "code",
   "execution_count": 3,
   "id": "360cc50b-d511-4037-9b5c-41317dae10ba",
   "metadata": {
    "tags": []
   },
   "outputs": [],
   "source": [
    "def show_volcano(thetypeidx, thetype, lfc, qs, cond1, cond2up, cond2dn, ax=None, bbox_to_anchor=(1,1), loc=None):\n",
    "    \"\"\"\n",
    "    \"\"\"\n",
    "    eff = lfc[:,thetypeidx]\n",
    "    pvl =  qs[:,thetypeidx]\n",
    "\n",
    "    cnd_up = np.all([cond1[:,thetypeidx], \n",
    "                     cond2up[:,thetypeidx]], axis=0) \n",
    "    cnd_dn = np.all([cond1[:,thetypeidx], \n",
    "                     cond2dn[:,thetypeidx]], axis=0) \n",
    "\n",
    "    if ax is None:\n",
    "        fig, ax = plt.subplots()\n",
    "    else:\n",
    "        pass\n",
    "    ax.scatter(eff, -np.log10(pvl), s=1, color='gray')\n",
    "\n",
    "    ax.scatter(eff[cnd_up], -np.log10(pvl)[cnd_up], s=5, #s=5, \n",
    "               label=f'DR up (n={cnd_up.sum():,})')\n",
    "    ax.scatter(eff[cnd_dn], -np.log10(pvl)[cnd_dn], s=5, #s=5, \n",
    "               label=f'DR dn (n={cnd_dn.sum():,})')\n",
    "\n",
    "    ax.set_xlabel('log2(FC) (DR/NR in CPM)')\n",
    "    ax.set_ylabel('-log10(FDR)')\n",
    "    ax.set_title(f'{thetype}')\n",
    "    ax.legend(bbox_to_anchor=bbox_to_anchor, loc=loc)\n",
    "    return ax"
   ]
  },
  {
   "cell_type": "code",
   "execution_count": 4,
   "id": "5bf8e0c1-3de5-41a6-9b88-a0b40d01a8ab",
   "metadata": {
    "tags": []
   },
   "outputs": [],
   "source": [
    "sns.set_context('talk')"
   ]
  },
  {
   "cell_type": "code",
   "execution_count": 5,
   "id": "a3d185ca-6b20-48bb-a3f9-a94266ec989b",
   "metadata": {
    "tags": []
   },
   "outputs": [
    {
     "data": {
      "text/plain": [
       "'/u/home/f/f7xiesnm/project-zipursky/v1-bb/v1/results'"
      ]
     },
     "execution_count": 5,
     "metadata": {},
     "output_type": "execute_result"
    }
   ],
   "source": [
    "outdir = \"/u/home/f/f7xiesnm/project-zipursky/v1-bb/v1/results\"\n",
    "outdir"
   ]
  },
  {
   "cell_type": "markdown",
   "id": "b6da5d0b-0229-48bb-9878-314b1782f2d2",
   "metadata": {},
   "source": [
    "# get data"
   ]
  },
  {
   "cell_type": "code",
   "execution_count": 6,
   "id": "b1a256b5-a3e2-4e55-ac67-470c382ec390",
   "metadata": {
    "tags": []
   },
   "outputs": [
    {
     "name": "stderr",
     "output_type": "stream",
     "text": [
      "/tmp/ipykernel_26078/12491127.py:3: DtypeWarning: Columns (1,4) have mixed types. Specify dtype option on import or set low_memory=False.\n",
      "  meta = pd.read_csv(f, index_col=0)\n"
     ]
    },
    {
     "data": {
      "text/html": [
       "<div>\n",
       "<style scoped>\n",
       "    .dataframe tbody tr th:only-of-type {\n",
       "        vertical-align: middle;\n",
       "    }\n",
       "\n",
       "    .dataframe tbody tr th {\n",
       "        vertical-align: top;\n",
       "    }\n",
       "\n",
       "    .dataframe thead th {\n",
       "        text-align: right;\n",
       "    }\n",
       "</style>\n",
       "<table border=\"1\" class=\"dataframe\">\n",
       "  <thead>\n",
       "    <tr style=\"text-align: right;\">\n",
       "      <th></th>\n",
       "      <th>Class_broad</th>\n",
       "      <th>Doublet</th>\n",
       "      <th>Doublet Score</th>\n",
       "      <th>batch</th>\n",
       "      <th>leiden</th>\n",
       "      <th>n_counts</th>\n",
       "      <th>n_genes</th>\n",
       "      <th>percent_mito</th>\n",
       "      <th>sample</th>\n",
       "      <th>Type</th>\n",
       "      <th>Subclass</th>\n",
       "      <th>cond</th>\n",
       "      <th>easitype</th>\n",
       "      <th>umap1</th>\n",
       "      <th>umap2</th>\n",
       "      <th>easisample</th>\n",
       "      <th>easicond</th>\n",
       "      <th>newtype</th>\n",
       "    </tr>\n",
       "  </thead>\n",
       "  <tbody>\n",
       "    <tr>\n",
       "      <th>AAACGCTCACTTCATT-1-P8_1a-P8</th>\n",
       "      <td>Excitatory</td>\n",
       "      <td>False</td>\n",
       "      <td>0.025713</td>\n",
       "      <td>1</td>\n",
       "      <td>0</td>\n",
       "      <td>23384.0</td>\n",
       "      <td>4943</td>\n",
       "      <td>0.000128</td>\n",
       "      <td>P8_1a</td>\n",
       "      <td>L2/3_AB</td>\n",
       "      <td>L2/3</td>\n",
       "      <td>P8NR</td>\n",
       "      <td>L2/3_A</td>\n",
       "      <td>NaN</td>\n",
       "      <td>NaN</td>\n",
       "      <td>1a</td>\n",
       "      <td>1-P08NR</td>\n",
       "      <td>L2/3_A</td>\n",
       "    </tr>\n",
       "    <tr>\n",
       "      <th>AAAGGATAGGTGCATG-1-P8_1a-P8</th>\n",
       "      <td>Excitatory</td>\n",
       "      <td>False</td>\n",
       "      <td>0.011883</td>\n",
       "      <td>1</td>\n",
       "      <td>0</td>\n",
       "      <td>17774.0</td>\n",
       "      <td>4698</td>\n",
       "      <td>0.000169</td>\n",
       "      <td>P8_1a</td>\n",
       "      <td>L2/3_AB</td>\n",
       "      <td>L2/3</td>\n",
       "      <td>P8NR</td>\n",
       "      <td>L2/3_A</td>\n",
       "      <td>NaN</td>\n",
       "      <td>NaN</td>\n",
       "      <td>1a</td>\n",
       "      <td>1-P08NR</td>\n",
       "      <td>L2/3_A</td>\n",
       "    </tr>\n",
       "    <tr>\n",
       "      <th>AAAGGGCCAGTATACC-1-P8_1a-P8</th>\n",
       "      <td>Excitatory</td>\n",
       "      <td>False</td>\n",
       "      <td>0.024667</td>\n",
       "      <td>1</td>\n",
       "      <td>0</td>\n",
       "      <td>15872.0</td>\n",
       "      <td>4173</td>\n",
       "      <td>0.000126</td>\n",
       "      <td>P8_1a</td>\n",
       "      <td>L2/3_AB</td>\n",
       "      <td>L2/3</td>\n",
       "      <td>P8NR</td>\n",
       "      <td>L2/3_A</td>\n",
       "      <td>NaN</td>\n",
       "      <td>NaN</td>\n",
       "      <td>1a</td>\n",
       "      <td>1-P08NR</td>\n",
       "      <td>L2/3_A</td>\n",
       "    </tr>\n",
       "    <tr>\n",
       "      <th>AAAGTCCCATATACCG-1-P8_1a-P8</th>\n",
       "      <td>Excitatory</td>\n",
       "      <td>False</td>\n",
       "      <td>0.027921</td>\n",
       "      <td>1</td>\n",
       "      <td>0</td>\n",
       "      <td>20076.0</td>\n",
       "      <td>4761</td>\n",
       "      <td>0.000050</td>\n",
       "      <td>P8_1a</td>\n",
       "      <td>L2/3_AB</td>\n",
       "      <td>L2/3</td>\n",
       "      <td>P8NR</td>\n",
       "      <td>L2/3_A</td>\n",
       "      <td>NaN</td>\n",
       "      <td>NaN</td>\n",
       "      <td>1a</td>\n",
       "      <td>1-P08NR</td>\n",
       "      <td>L2/3_A</td>\n",
       "    </tr>\n",
       "    <tr>\n",
       "      <th>AAAGTCCTCAGATGCT-1-P8_1a-P8</th>\n",
       "      <td>Excitatory</td>\n",
       "      <td>False</td>\n",
       "      <td>0.009527</td>\n",
       "      <td>1</td>\n",
       "      <td>4</td>\n",
       "      <td>19061.0</td>\n",
       "      <td>4601</td>\n",
       "      <td>0.000000</td>\n",
       "      <td>P8_1a</td>\n",
       "      <td>L2/3_BC</td>\n",
       "      <td>L2/3</td>\n",
       "      <td>P8NR</td>\n",
       "      <td>L2/3_C</td>\n",
       "      <td>NaN</td>\n",
       "      <td>NaN</td>\n",
       "      <td>1a</td>\n",
       "      <td>1-P08NR</td>\n",
       "      <td>L2/3_C</td>\n",
       "    </tr>\n",
       "    <tr>\n",
       "      <th>...</th>\n",
       "      <td>...</td>\n",
       "      <td>...</td>\n",
       "      <td>...</td>\n",
       "      <td>...</td>\n",
       "      <td>...</td>\n",
       "      <td>...</td>\n",
       "      <td>...</td>\n",
       "      <td>...</td>\n",
       "      <td>...</td>\n",
       "      <td>...</td>\n",
       "      <td>...</td>\n",
       "      <td>...</td>\n",
       "      <td>...</td>\n",
       "      <td>...</td>\n",
       "      <td>...</td>\n",
       "      <td>...</td>\n",
       "      <td>...</td>\n",
       "      <td>...</td>\n",
       "    </tr>\n",
       "    <tr>\n",
       "      <th>TTTGGTTCAGTTGTTG-1-P38_dr_1a</th>\n",
       "      <td>NaN</td>\n",
       "      <td>False</td>\n",
       "      <td>0.042872</td>\n",
       "      <td>11</td>\n",
       "      <td>1</td>\n",
       "      <td>11379.0</td>\n",
       "      <td>3568</td>\n",
       "      <td>0.000879</td>\n",
       "      <td>P38_dr_1a</td>\n",
       "      <td>L2/3_3</td>\n",
       "      <td>L2/3</td>\n",
       "      <td>P38DR</td>\n",
       "      <td>L2/3_C</td>\n",
       "      <td>NaN</td>\n",
       "      <td>NaN</td>\n",
       "      <td>1a</td>\n",
       "      <td>2-P38DR</td>\n",
       "      <td>L2/3_B</td>\n",
       "    </tr>\n",
       "    <tr>\n",
       "      <th>TTTGGTTTCTGCCTGT-1-P38_dr_2b</th>\n",
       "      <td>NaN</td>\n",
       "      <td>False</td>\n",
       "      <td>0.007108</td>\n",
       "      <td>2</td>\n",
       "      <td>1</td>\n",
       "      <td>16050.0</td>\n",
       "      <td>3104</td>\n",
       "      <td>0.000062</td>\n",
       "      <td>P38_dr_2b</td>\n",
       "      <td>L2/3_3</td>\n",
       "      <td>L2/3</td>\n",
       "      <td>P38DR</td>\n",
       "      <td>L2/3_C</td>\n",
       "      <td>NaN</td>\n",
       "      <td>NaN</td>\n",
       "      <td>2b</td>\n",
       "      <td>2-P38DR</td>\n",
       "      <td>L2/3_B</td>\n",
       "    </tr>\n",
       "    <tr>\n",
       "      <th>TTTGTTGCACCGGTCA-1-P38_dr_2a</th>\n",
       "      <td>NaN</td>\n",
       "      <td>False</td>\n",
       "      <td>0.030928</td>\n",
       "      <td>2</td>\n",
       "      <td>1</td>\n",
       "      <td>13955.0</td>\n",
       "      <td>3739</td>\n",
       "      <td>0.001146</td>\n",
       "      <td>P38_dr_2a</td>\n",
       "      <td>L2/3_3</td>\n",
       "      <td>L2/3</td>\n",
       "      <td>P38DR</td>\n",
       "      <td>L2/3_C</td>\n",
       "      <td>NaN</td>\n",
       "      <td>NaN</td>\n",
       "      <td>2a</td>\n",
       "      <td>2-P38DR</td>\n",
       "      <td>L2/3_B</td>\n",
       "    </tr>\n",
       "    <tr>\n",
       "      <th>TTTGTTGGTGGCTAGA-1-P38_dr_2b</th>\n",
       "      <td>NaN</td>\n",
       "      <td>False</td>\n",
       "      <td>0.015884</td>\n",
       "      <td>3</td>\n",
       "      <td>4</td>\n",
       "      <td>7272.0</td>\n",
       "      <td>2789</td>\n",
       "      <td>0.000963</td>\n",
       "      <td>P38_dr_2b</td>\n",
       "      <td>L2/3_2</td>\n",
       "      <td>L2/3</td>\n",
       "      <td>P38DR</td>\n",
       "      <td>L2/3_B</td>\n",
       "      <td>NaN</td>\n",
       "      <td>NaN</td>\n",
       "      <td>2b</td>\n",
       "      <td>2-P38DR</td>\n",
       "      <td>L2/3_A</td>\n",
       "    </tr>\n",
       "    <tr>\n",
       "      <th>TTTGTTGTCTATTGTC-1-P38_dr_1a</th>\n",
       "      <td>NaN</td>\n",
       "      <td>False</td>\n",
       "      <td>0.028005</td>\n",
       "      <td>3</td>\n",
       "      <td>4</td>\n",
       "      <td>11447.0</td>\n",
       "      <td>2959</td>\n",
       "      <td>0.000262</td>\n",
       "      <td>P38_dr_1a</td>\n",
       "      <td>L2/3_2</td>\n",
       "      <td>L2/3</td>\n",
       "      <td>P38DR</td>\n",
       "      <td>L2/3_B</td>\n",
       "      <td>NaN</td>\n",
       "      <td>NaN</td>\n",
       "      <td>1a</td>\n",
       "      <td>2-P38DR</td>\n",
       "      <td>L2/3_B</td>\n",
       "    </tr>\n",
       "  </tbody>\n",
       "</table>\n",
       "<p>41048 rows × 18 columns</p>\n",
       "</div>"
      ],
      "text/plain": [
       "                             Class_broad  Doublet  Doublet Score batch  \\\n",
       "AAACGCTCACTTCATT-1-P8_1a-P8   Excitatory    False       0.025713     1   \n",
       "AAAGGATAGGTGCATG-1-P8_1a-P8   Excitatory    False       0.011883     1   \n",
       "AAAGGGCCAGTATACC-1-P8_1a-P8   Excitatory    False       0.024667     1   \n",
       "AAAGTCCCATATACCG-1-P8_1a-P8   Excitatory    False       0.027921     1   \n",
       "AAAGTCCTCAGATGCT-1-P8_1a-P8   Excitatory    False       0.009527     1   \n",
       "...                                  ...      ...            ...   ...   \n",
       "TTTGGTTCAGTTGTTG-1-P38_dr_1a         NaN    False       0.042872    11   \n",
       "TTTGGTTTCTGCCTGT-1-P38_dr_2b         NaN    False       0.007108     2   \n",
       "TTTGTTGCACCGGTCA-1-P38_dr_2a         NaN    False       0.030928     2   \n",
       "TTTGTTGGTGGCTAGA-1-P38_dr_2b         NaN    False       0.015884     3   \n",
       "TTTGTTGTCTATTGTC-1-P38_dr_1a         NaN    False       0.028005     3   \n",
       "\n",
       "                              leiden  n_counts  n_genes  percent_mito  \\\n",
       "AAACGCTCACTTCATT-1-P8_1a-P8        0   23384.0     4943      0.000128   \n",
       "AAAGGATAGGTGCATG-1-P8_1a-P8        0   17774.0     4698      0.000169   \n",
       "AAAGGGCCAGTATACC-1-P8_1a-P8        0   15872.0     4173      0.000126   \n",
       "AAAGTCCCATATACCG-1-P8_1a-P8        0   20076.0     4761      0.000050   \n",
       "AAAGTCCTCAGATGCT-1-P8_1a-P8        4   19061.0     4601      0.000000   \n",
       "...                              ...       ...      ...           ...   \n",
       "TTTGGTTCAGTTGTTG-1-P38_dr_1a       1   11379.0     3568      0.000879   \n",
       "TTTGGTTTCTGCCTGT-1-P38_dr_2b       1   16050.0     3104      0.000062   \n",
       "TTTGTTGCACCGGTCA-1-P38_dr_2a       1   13955.0     3739      0.001146   \n",
       "TTTGTTGGTGGCTAGA-1-P38_dr_2b       4    7272.0     2789      0.000963   \n",
       "TTTGTTGTCTATTGTC-1-P38_dr_1a       4   11447.0     2959      0.000262   \n",
       "\n",
       "                                 sample     Type Subclass   cond easitype  \\\n",
       "AAACGCTCACTTCATT-1-P8_1a-P8       P8_1a  L2/3_AB     L2/3   P8NR   L2/3_A   \n",
       "AAAGGATAGGTGCATG-1-P8_1a-P8       P8_1a  L2/3_AB     L2/3   P8NR   L2/3_A   \n",
       "AAAGGGCCAGTATACC-1-P8_1a-P8       P8_1a  L2/3_AB     L2/3   P8NR   L2/3_A   \n",
       "AAAGTCCCATATACCG-1-P8_1a-P8       P8_1a  L2/3_AB     L2/3   P8NR   L2/3_A   \n",
       "AAAGTCCTCAGATGCT-1-P8_1a-P8       P8_1a  L2/3_BC     L2/3   P8NR   L2/3_C   \n",
       "...                                 ...      ...      ...    ...      ...   \n",
       "TTTGGTTCAGTTGTTG-1-P38_dr_1a  P38_dr_1a   L2/3_3     L2/3  P38DR   L2/3_C   \n",
       "TTTGGTTTCTGCCTGT-1-P38_dr_2b  P38_dr_2b   L2/3_3     L2/3  P38DR   L2/3_C   \n",
       "TTTGTTGCACCGGTCA-1-P38_dr_2a  P38_dr_2a   L2/3_3     L2/3  P38DR   L2/3_C   \n",
       "TTTGTTGGTGGCTAGA-1-P38_dr_2b  P38_dr_2b   L2/3_2     L2/3  P38DR   L2/3_B   \n",
       "TTTGTTGTCTATTGTC-1-P38_dr_1a  P38_dr_1a   L2/3_2     L2/3  P38DR   L2/3_B   \n",
       "\n",
       "                              umap1  umap2 easisample easicond newtype  \n",
       "AAACGCTCACTTCATT-1-P8_1a-P8     NaN    NaN         1a  1-P08NR  L2/3_A  \n",
       "AAAGGATAGGTGCATG-1-P8_1a-P8     NaN    NaN         1a  1-P08NR  L2/3_A  \n",
       "AAAGGGCCAGTATACC-1-P8_1a-P8     NaN    NaN         1a  1-P08NR  L2/3_A  \n",
       "AAAGTCCCATATACCG-1-P8_1a-P8     NaN    NaN         1a  1-P08NR  L2/3_A  \n",
       "AAAGTCCTCAGATGCT-1-P8_1a-P8     NaN    NaN         1a  1-P08NR  L2/3_C  \n",
       "...                             ...    ...        ...      ...     ...  \n",
       "TTTGGTTCAGTTGTTG-1-P38_dr_1a    NaN    NaN         1a  2-P38DR  L2/3_B  \n",
       "TTTGGTTTCTGCCTGT-1-P38_dr_2b    NaN    NaN         2b  2-P38DR  L2/3_B  \n",
       "TTTGTTGCACCGGTCA-1-P38_dr_2a    NaN    NaN         2a  2-P38DR  L2/3_B  \n",
       "TTTGTTGGTGGCTAGA-1-P38_dr_2b    NaN    NaN         2b  2-P38DR  L2/3_A  \n",
       "TTTGTTGTCTATTGTC-1-P38_dr_1a    NaN    NaN         1a  2-P38DR  L2/3_B  \n",
       "\n",
       "[41048 rows x 18 columns]"
      ]
     },
     "execution_count": 6,
     "metadata": {},
     "output_type": "execute_result"
    }
   ],
   "source": [
    "# get updated cell types\n",
    "f = \"/u/home/f/f7xiesnm/project-zipursky/v1-bb/v1/results/allL23_newtypes.csv\"\n",
    "meta = pd.read_csv(f, index_col=0)\n",
    "meta"
   ]
  },
  {
   "cell_type": "code",
   "execution_count": 7,
   "id": "e43f80ec-a2ee-4d27-9566-541ec29d9ae7",
   "metadata": {},
   "outputs": [],
   "source": [
    "ddir = '../../data/cheng21_cell_scrna/organized/'\n",
    "files = [\n",
    "    'P28NR.h5ad',\n",
    "    'P38NR.h5ad',\n",
    "    \n",
    "    'P28DR.h5ad',\n",
    "    'P38DR.h5ad',\n",
    "] "
   ]
  },
  {
   "cell_type": "code",
   "execution_count": 8,
   "id": "0d04b281-406a-45ea-9a2b-61366a21a30d",
   "metadata": {
    "tags": []
   },
   "outputs": [
    {
     "name": "stdout",
     "output_type": "stream",
     "text": [
      "P28NR.h5ad\n",
      "P38NR.h5ad\n",
      "P28DR.h5ad\n",
      "P38DR.h5ad\n"
     ]
    }
   ],
   "source": [
    "pbulks = []\n",
    "xclsts = []\n",
    "xcnsts = []\n",
    "\n",
    "ncond, nrep, nclst, ngene = 4,2,20, -1, #42-3,-1 # remove 3 L4 types\n",
    "\n",
    "for f in files:\n",
    "    print(f)\n",
    "    \n",
    "    path = os.path.join(ddir, f)\n",
    "    adata = anndata.read(path)\n",
    "    genes = adata.var.index.values\n",
    "    \n",
    "    tmp = adata.obs.copy()\n",
    "    # labels - by sample and type \n",
    "    # 1 or 2\n",
    "    sample_codes = tmp['sample'].apply(lambda x: x.split('_')[-1][:-1].replace('3', '2')).astype(str).values\n",
    "    tmp['sample_code'] = sample_codes\n",
    "    \n",
    "    types = tmp['Subclass'].astype(str).values\n",
    "    \n",
    "    sample_and_type = sample_codes + \"_\" + types\n",
    "    tmp['sample_and_type'] = sample_and_type\n",
    "    \n",
    "    # sample \n",
    "    n = 200\n",
    "    cat_filter = tmp.groupby('sample_and_type').size() > n\n",
    "    tmp = tmp[tmp['sample_and_type'].isin(cat_filter[cat_filter].index.values)]\n",
    "    \n",
    "    tmp = tmp.groupby('sample_and_type').apply(lambda x: x.sample(n, replace=False))\n",
    "    cells = tmp.index.get_level_values(level=1)\n",
    "    adata = adata[cells]\n",
    "    \n",
    "    # update \n",
    "    tmp = adata.obs.copy()\n",
    "    # 1 or 2\n",
    "    sample_codes = tmp['sample'].apply(lambda x: x.split('_')[-1][:-1].replace('3', '2')).astype(str).values\n",
    "    tmp['sample_code'] = sample_codes\n",
    "    \n",
    "    types = tmp['Subclass'].astype(str).values\n",
    "    \n",
    "    sample_and_type = sample_codes + \"_\" + types\n",
    "    tmp['sample_and_type'] = sample_and_type\n",
    "    \n",
    "    # group data\n",
    "    _xclsts, Xk, Xk_n, Xk_ln = basicu.counts_to_bulk_profiles(adata.X, sample_and_type) \n",
    "        \n",
    "    unqs, cnts = np.unique(sample_and_type, return_counts=True)\n",
    "    \n",
    "    pbulks.append(Xk_ln)\n",
    "    xclsts.append(_xclsts)\n",
    "    xcnsts.append(cnts)\n",
    "    "
   ]
  },
  {
   "cell_type": "code",
   "execution_count": 9,
   "id": "980b4f39-e1f3-4088-b8ae-310a14d1e852",
   "metadata": {
    "tags": []
   },
   "outputs": [
    {
     "name": "stdout",
     "output_type": "stream",
     "text": [
      "(26, 53801) (26,) (26,)\n",
      "(21, 53801) (21,) (21,)\n",
      "(27, 53801) (27,) (27,)\n",
      "(25, 53801) (25,) (25,)\n",
      "(20,)\n",
      "(20,)\n",
      "(18,)\n",
      "(18,)\n",
      "[['1_Astro' '1_L2/3' '1_L4' '1_L6CT' '1_L6IT' '1_OD']\n",
      " ['2_Astro' '2_L2/3' '2_L4' '2_L6CT' '2_L6IT' '2_OD']]\n",
      "(12, 53801) (12,) (12,)\n",
      "(12, 53801) (12,) (12,)\n",
      "(12, 53801) (12,) (12,)\n",
      "(12, 53801) (12,) (12,)\n"
     ]
    }
   ],
   "source": [
    "for a, b, c in zip(pbulks, xclsts, xcnsts):\n",
    "    print(a.shape, b.shape, c.shape)\n",
    "\n",
    "# use the same types\n",
    "xclsts_comm = xclsts[0]\n",
    "for a in xclsts[1:]:\n",
    "    xclsts_comm = np.intersect1d(xclsts_comm, a)\n",
    "    print(xclsts_comm.shape)\n",
    "print(xclsts_comm.shape)\n",
    "\n",
    "# has to appear twice\n",
    "unq, inv, cnts = np.unique([clst.split('_')[1] for clst in xclsts_comm], return_inverse=True, return_counts=True)\n",
    "typelist = unq[cnts==2]\n",
    "xclsts_comm = np.sort([i for i in xclsts_comm if i.split('_')[1] in typelist])\n",
    "\n",
    "# check \n",
    "tmp = xclsts_comm.reshape(2,-1)\n",
    "print(tmp)\n",
    "\n",
    "\n",
    "# trim \n",
    "pbulks_trim = []\n",
    "xclsts_trim = []\n",
    "xcnsts_trim = []\n",
    "for a, b, c in zip(pbulks, xclsts, xcnsts):\n",
    "    b_idx = basicu.get_index_from_array(b, xclsts_comm)\n",
    "    ap = a[b_idx]\n",
    "    bp = b[b_idx]\n",
    "    cp = c[b_idx]\n",
    "    pbulks_trim.append(ap)\n",
    "    xclsts_trim.append(bp)\n",
    "    xcnsts_trim.append(cp)\n",
    "\n",
    "pbulks = pbulks_trim\n",
    "xclsts = xclsts_trim\n",
    "xcnsts = xcnsts_trim\n",
    "for a, b, c in zip(pbulks, xclsts, xcnsts):\n",
    "    print(a.shape, b.shape, c.shape)"
   ]
  },
  {
   "cell_type": "code",
   "execution_count": 10,
   "id": "c46e6e81-6412-446a-b9ea-c8df62779df6",
   "metadata": {
    "tags": []
   },
   "outputs": [],
   "source": [
    "nclst = int(len(xclsts_comm)/2)"
   ]
  },
  {
   "cell_type": "code",
   "execution_count": 11,
   "id": "926d0ea3-1ed5-417f-918d-3d86cbca4c24",
   "metadata": {},
   "outputs": [
    {
     "name": "stdout",
     "output_type": "stream",
     "text": [
      "(4, 12, 53801)\n",
      "(4, 12)\n",
      "(4, 12)\n",
      "(4, 2, 6, 53801)\n",
      "(4, 2, 6)\n",
      "(4, 2, 6)\n"
     ]
    }
   ],
   "source": [
    "pbulks = np.array(pbulks)\n",
    "xcnsts = np.array(xcnsts)\n",
    "xclsts = np.array(xclsts)\n",
    "print(pbulks.shape)\n",
    "print(xcnsts.shape)\n",
    "print(xclsts.shape)\n",
    "\n",
    "pbulks = pbulks.reshape(ncond,nrep,nclst,-1)\n",
    "xcnsts = xcnsts.reshape(ncond,nrep,nclst)\n",
    "xclsts = xclsts.reshape(ncond,nrep,nclst)\n",
    "print(pbulks.shape)\n",
    "print(xcnsts.shape)\n",
    "print(xclsts.shape)"
   ]
  },
  {
   "cell_type": "code",
   "execution_count": 12,
   "id": "1b61a4ca-7b0e-4d36-8186-cefc678cc09d",
   "metadata": {
    "tags": []
   },
   "outputs": [
    {
     "name": "stdout",
     "output_type": "stream",
     "text": [
      "(2, 4, 6, 53801)\n"
     ]
    }
   ],
   "source": [
    "pbulks = pbulks.reshape(2,4,pbulks.shape[2], pbulks.shape[3])\n",
    "print(pbulks.shape)"
   ]
  },
  {
   "cell_type": "code",
   "execution_count": 13,
   "id": "85e146ef-c970-4b51-bdf4-c6cb36627ddd",
   "metadata": {
    "tags": []
   },
   "outputs": [
    {
     "data": {
      "text/plain": [
       "((2, 4, 6), True)"
      ]
     },
     "execution_count": 13,
     "metadata": {},
     "output_type": "execute_result"
    }
   ],
   "source": [
    "# check the pbulks are good -- log10(CPM+1) for each sample\n",
    "checkpbulks = np.sum(np.power(10, pbulks)-1, axis=-1)\n",
    "checkpbulks.shape, np.all(np.abs(checkpbulks-1e6) < 1e-6)"
   ]
  },
  {
   "cell_type": "code",
   "execution_count": 14,
   "id": "b1fe5648-3bd5-493d-84e8-a9574f9df196",
   "metadata": {
    "tags": []
   },
   "outputs": [
    {
     "data": {
      "text/plain": [
       "(array(['Astro', 'L2/3', 'L4', 'L6CT', 'L6IT', 'OD'], dtype='<U5'), (6,))"
      ]
     },
     "execution_count": 14,
     "metadata": {},
     "output_type": "execute_result"
    }
   ],
   "source": [
    "# xclsts_short = np.array([clst[len(\"1a_\"):] for clst in xclsts[0]]) #, '_'\n",
    "xclsts_short = np.array([clst[len(\"1_\"):] for clst in xclsts_comm.reshape(2,-1)[0]]) #, '_'\n",
    "xclsts_short, xclsts_short.shape"
   ]
  },
  {
   "cell_type": "code",
   "execution_count": 15,
   "id": "5aa26e9d-2f00-441f-be3a-ddde72868f5a",
   "metadata": {
    "tags": []
   },
   "outputs": [
    {
     "data": {
      "text/html": [
       "<div>\n",
       "<style scoped>\n",
       "    .dataframe tbody tr th:only-of-type {\n",
       "        vertical-align: middle;\n",
       "    }\n",
       "\n",
       "    .dataframe tbody tr th {\n",
       "        vertical-align: top;\n",
       "    }\n",
       "\n",
       "    .dataframe thead th {\n",
       "        text-align: right;\n",
       "    }\n",
       "</style>\n",
       "<table border=\"1\" class=\"dataframe\">\n",
       "  <thead>\n",
       "    <tr style=\"text-align: right;\">\n",
       "      <th></th>\n",
       "      <th>0</th>\n",
       "      <th>1</th>\n",
       "      <th>2</th>\n",
       "      <th>3</th>\n",
       "      <th>4</th>\n",
       "      <th>5</th>\n",
       "      <th>6</th>\n",
       "      <th>7</th>\n",
       "    </tr>\n",
       "  </thead>\n",
       "  <tbody>\n",
       "    <tr>\n",
       "      <th>Astro</th>\n",
       "      <td>200</td>\n",
       "      <td>200</td>\n",
       "      <td>200</td>\n",
       "      <td>200</td>\n",
       "      <td>200</td>\n",
       "      <td>200</td>\n",
       "      <td>200</td>\n",
       "      <td>200</td>\n",
       "    </tr>\n",
       "    <tr>\n",
       "      <th>L2/3</th>\n",
       "      <td>200</td>\n",
       "      <td>200</td>\n",
       "      <td>200</td>\n",
       "      <td>200</td>\n",
       "      <td>200</td>\n",
       "      <td>200</td>\n",
       "      <td>200</td>\n",
       "      <td>200</td>\n",
       "    </tr>\n",
       "    <tr>\n",
       "      <th>L4</th>\n",
       "      <td>200</td>\n",
       "      <td>200</td>\n",
       "      <td>200</td>\n",
       "      <td>200</td>\n",
       "      <td>200</td>\n",
       "      <td>200</td>\n",
       "      <td>200</td>\n",
       "      <td>200</td>\n",
       "    </tr>\n",
       "    <tr>\n",
       "      <th>L6CT</th>\n",
       "      <td>200</td>\n",
       "      <td>200</td>\n",
       "      <td>200</td>\n",
       "      <td>200</td>\n",
       "      <td>200</td>\n",
       "      <td>200</td>\n",
       "      <td>200</td>\n",
       "      <td>200</td>\n",
       "    </tr>\n",
       "    <tr>\n",
       "      <th>L6IT</th>\n",
       "      <td>200</td>\n",
       "      <td>200</td>\n",
       "      <td>200</td>\n",
       "      <td>200</td>\n",
       "      <td>200</td>\n",
       "      <td>200</td>\n",
       "      <td>200</td>\n",
       "      <td>200</td>\n",
       "    </tr>\n",
       "    <tr>\n",
       "      <th>OD</th>\n",
       "      <td>200</td>\n",
       "      <td>200</td>\n",
       "      <td>200</td>\n",
       "      <td>200</td>\n",
       "      <td>200</td>\n",
       "      <td>200</td>\n",
       "      <td>200</td>\n",
       "      <td>200</td>\n",
       "    </tr>\n",
       "  </tbody>\n",
       "</table>\n",
       "</div>"
      ],
      "text/plain": [
       "         0    1    2    3    4    5    6    7\n",
       "Astro  200  200  200  200  200  200  200  200\n",
       "L2/3   200  200  200  200  200  200  200  200\n",
       "L4     200  200  200  200  200  200  200  200\n",
       "L6CT   200  200  200  200  200  200  200  200\n",
       "L6IT   200  200  200  200  200  200  200  200\n",
       "OD     200  200  200  200  200  200  200  200"
      ]
     },
     "execution_count": 15,
     "metadata": {},
     "output_type": "execute_result"
    }
   ],
   "source": [
    "numcells = pd.DataFrame(xcnsts.T.reshape(-1,nrep*ncond), index=xclsts_short)\n",
    "numcells"
   ]
  },
  {
   "cell_type": "code",
   "execution_count": 16,
   "id": "15b532d3-1b84-49d8-a534-8c95cc329368",
   "metadata": {
    "tags": []
   },
   "outputs": [
    {
     "name": "stdout",
     "output_type": "stream",
     "text": [
      "(53801, 6, 4)\n",
      "(53801, 6, 4)\n",
      "(11698, 6, 4)\n",
      "(11698, 6, 4)\n"
     ]
    }
   ],
   "source": [
    "tensor_nr = pbulks[0].T\n",
    "tensor_dr = pbulks[1].T\n",
    "print(tensor_nr.shape)\n",
    "print(tensor_dr.shape)\n",
    "\n",
    "# mean exp of CPM=10 in any subclass in either NR or DR\n",
    "expressed_nr  = np.any(np.mean(tensor_nr, axis=2) > np.log10(10+1), axis=1) \n",
    "expressed_dr  = np.any(np.mean(tensor_dr, axis=2) > np.log10(10+1), axis=1) \n",
    "expressed_any = np.logical_or(expressed_nr, expressed_dr)\n",
    "\n",
    "genes_comm = genes[expressed_any]\n",
    "genes_cidx = np.arange(len(genes))[expressed_any] \n",
    "tensor_nr = pbulks[0].T[genes_cidx]\n",
    "tensor_dr = pbulks[1].T[genes_cidx]\n",
    "\n",
    "print(tensor_nr.shape)\n",
    "print(tensor_dr.shape)"
   ]
  },
  {
   "cell_type": "code",
   "execution_count": 17,
   "id": "527825cf-8995-4f76-829e-bb1b718774c6",
   "metadata": {
    "tags": []
   },
   "outputs": [],
   "source": [
    "# test for each gene and cell type; 4 rep vs 4 rep - t-test and p-val correction \n",
    "ts, ps = ttest_ind(tensor_nr, tensor_dr, axis=2)\n",
    "rs, qs, _, _ = multipletests(np.nan_to_num(ps, nan=1).reshape(-1,), method='fdr_bh')\n",
    "rs = rs.reshape(ps.shape)\n",
    "qs = qs.reshape(ps.shape)\n",
    "\n",
    "# effect size\n",
    "lfc = np.log2(10)*(np.mean(tensor_dr, axis=2) - np.mean(tensor_nr, axis=2)) # log2FC (log10CPM as raw counts)"
   ]
  },
  {
   "cell_type": "code",
   "execution_count": 18,
   "id": "964bb950-14b7-4053-a469-80a281acf1d0",
   "metadata": {
    "tags": []
   },
   "outputs": [
    {
     "data": {
      "text/html": [
       "<div>\n",
       "<style scoped>\n",
       "    .dataframe tbody tr th:only-of-type {\n",
       "        vertical-align: middle;\n",
       "    }\n",
       "\n",
       "    .dataframe tbody tr th {\n",
       "        vertical-align: top;\n",
       "    }\n",
       "\n",
       "    .dataframe thead th {\n",
       "        text-align: right;\n",
       "    }\n",
       "</style>\n",
       "<table border=\"1\" class=\"dataframe\">\n",
       "  <thead>\n",
       "    <tr style=\"text-align: right;\">\n",
       "      <th></th>\n",
       "      <th>rej</th>\n",
       "      <th>DE</th>\n",
       "      <th>DR_up</th>\n",
       "      <th>DR_dn</th>\n",
       "    </tr>\n",
       "  </thead>\n",
       "  <tbody>\n",
       "    <tr>\n",
       "      <th>Astro</th>\n",
       "      <td>8</td>\n",
       "      <td>7</td>\n",
       "      <td>7</td>\n",
       "      <td>0</td>\n",
       "    </tr>\n",
       "    <tr>\n",
       "      <th>L2/3</th>\n",
       "      <td>65</td>\n",
       "      <td>22</td>\n",
       "      <td>15</td>\n",
       "      <td>7</td>\n",
       "    </tr>\n",
       "    <tr>\n",
       "      <th>L4</th>\n",
       "      <td>20</td>\n",
       "      <td>2</td>\n",
       "      <td>1</td>\n",
       "      <td>1</td>\n",
       "    </tr>\n",
       "    <tr>\n",
       "      <th>L6CT</th>\n",
       "      <td>18</td>\n",
       "      <td>6</td>\n",
       "      <td>5</td>\n",
       "      <td>1</td>\n",
       "    </tr>\n",
       "    <tr>\n",
       "      <th>L6IT</th>\n",
       "      <td>36</td>\n",
       "      <td>11</td>\n",
       "      <td>11</td>\n",
       "      <td>0</td>\n",
       "    </tr>\n",
       "    <tr>\n",
       "      <th>OD</th>\n",
       "      <td>1</td>\n",
       "      <td>0</td>\n",
       "      <td>0</td>\n",
       "      <td>0</td>\n",
       "    </tr>\n",
       "  </tbody>\n",
       "</table>\n",
       "</div>"
      ],
      "text/plain": [
       "       rej  DE  DR_up  DR_dn\n",
       "Astro    8   7      7      0\n",
       "L2/3    65  22     15      7\n",
       "L4      20   2      1      1\n",
       "L6CT    18   6      5      1\n",
       "L6IT    36  11     11      0\n",
       "OD       1   0      0      0"
      ]
     },
     "execution_count": 18,
     "metadata": {},
     "output_type": "execute_result"
    }
   ],
   "source": [
    "fc_threshold = 2\n",
    "cond1   = rs # FDR< 0.05\n",
    "cond2   = np.abs(lfc) >  np.log2(fc_threshold) \n",
    "cond2up = lfc         >  np.log2(fc_threshold) \n",
    "cond2dn = lfc         < -np.log2(fc_threshold) \n",
    "\n",
    "sde    = np.all([cond1, cond2],   axis=0)\n",
    "sde_up = np.all([cond1, cond2up], axis=0)\n",
    "sde_dn = np.all([cond1, cond2dn], axis=0)\n",
    "\n",
    "sigsum = pd.DataFrame(index=xclsts_short)\n",
    "sigsum['rej']   = np.sum(rs, axis=0)\n",
    "sigsum['DE']    = np.sum(sde, axis=0)\n",
    "sigsum['DR_up'] = np.sum(sde_up, axis=0)\n",
    "sigsum['DR_dn'] = np.sum(sde_dn, axis=0)\n",
    "sigsum"
   ]
  },
  {
   "cell_type": "code",
   "execution_count": 19,
   "id": "089681ee-676e-4e30-b67b-49d5dc0c68c2",
   "metadata": {
    "tags": []
   },
   "outputs": [
    {
     "data": {
      "image/png": "[encoded data removed]",
      "text/plain": [
       "<Figure size 1200x600 with 1 Axes>"
      ]
     },
     "metadata": {
      "image/png": {
       "height": 558,
       "width": 1053
      }
     },
     "output_type": "display_data"
    }
   ],
   "source": [
    "fig, ax = plt.subplots(figsize=(12,6))\n",
    "# sigsum.loc[types_order][['DR_up', 'DR_dn']].plot.bar(stacked=True, width=0.8, ax=ax)\n",
    "sigsum[['DR_up', 'DR_dn']].plot.bar(stacked=True, width=0.8, ax=ax)\n",
    "ax.set_ylabel('Number of DE genes \\n (FDR<0.05, FC>2)')\n",
    "plt.show()"
   ]
  }
 ],
 "metadata": {
  "kernelspec": {
   "display_name": "Python 3 (ipykernel)",
   "language": "python",
   "name": "python3"
  },
  "language_info": {
   "codemirror_mode": {
    "name": "ipython",
    "version": 3
   },
   "file_extension": ".py",
   "mimetype": "text/x-python",
   "name": "python",
   "nbconvert_exporter": "python",
   "pygments_lexer": "ipython3",
   "version": "3.9.16"
  }
 },
 "nbformat": 4,
 "nbformat_minor": 5
}
