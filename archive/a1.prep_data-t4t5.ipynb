{
 "cells": [
  {
   "cell_type": "code",
   "execution_count": 1,
   "id": "bb214b6d-836a-49b8-93dd-a19f021215b7",
   "metadata": {
    "tags": []
   },
   "outputs": [],
   "source": [
    "import os\n",
    "import numpy as np\n",
    "import pandas as pd\n",
    "import scanpy as sc\n",
    "import anndata \n",
    "import seaborn as sns\n",
    "from scipy.stats import zscore\n",
    "from scipy import sparse \n",
    "import itertools\n",
    "\n",
    "import matplotlib.pyplot as plt\n",
    "import collections\n",
    "from sklearn.cluster import KMeans\n",
    "from sklearn import metrics\n",
    "\n",
    "from sklearn.decomposition import PCA\n",
    "from umap import UMAP\n",
    "\n",
    "from py_pcha import PCHA\n",
    "\n",
    "from matplotlib.colors import LinearSegmentedColormap\n",
    "\n",
    "from scroutines.config_plots import *\n",
    "from scroutines import powerplots # .config_plots import *\n",
    "from scroutines import pnmf\n",
    "from scroutines import basicu\n",
    "\n"
   ]
  },
  {
   "cell_type": "code",
   "execution_count": 2,
   "id": "f45abc88-0cbc-4575-8035-9cb157c42bc2",
   "metadata": {},
   "outputs": [],
   "source": [
    "# outdir     = \"/u/home/f/f7xiesnm/project-zipursky/v1-bb/v1/results\"\n",
    "outdir_fig = \"/u/home/f/f7xiesnm/project-zipursky/v1-bb/v1/figures\""
   ]
  },
  {
   "cell_type": "code",
   "execution_count": 3,
   "id": "194dc6f7-1be2-4a84-a84b-7cd3f05eebf4",
   "metadata": {
    "tags": []
   },
   "outputs": [
    {
     "data": {
      "text/plain": [
       "<17492x3894 sparse matrix of type '<class 'numpy.int64'>'\n",
       "\twith 6341865 stored elements in COOrdinate format>"
      ]
     },
     "execution_count": 3,
     "metadata": {},
     "output_type": "execute_result"
    }
   ],
   "source": [
    "from scipy.io import mmread\n",
    "\n",
    "f1 = \"../../data/fly_t4t5/GSM3592260_T4T5_48_matrix.mtx.gz\"\n",
    "mat = mmread(f1)\n",
    "mat"
   ]
  },
  {
   "cell_type": "code",
   "execution_count": 4,
   "id": "eb6f98b3-ed1e-460a-af76-7a5cd63921bf",
   "metadata": {
    "tags": []
   },
   "outputs": [
    {
     "data": {
      "text/html": [
       "<div>\n",
       "<style scoped>\n",
       "    .dataframe tbody tr th:only-of-type {\n",
       "        vertical-align: middle;\n",
       "    }\n",
       "\n",
       "    .dataframe tbody tr th {\n",
       "        vertical-align: top;\n",
       "    }\n",
       "\n",
       "    .dataframe thead th {\n",
       "        text-align: right;\n",
       "    }\n",
       "</style>\n",
       "<table border=\"1\" class=\"dataframe\">\n",
       "  <thead>\n",
       "    <tr style=\"text-align: right;\">\n",
       "      <th></th>\n",
       "      <th>0</th>\n",
       "      <th>1</th>\n",
       "    </tr>\n",
       "  </thead>\n",
       "  <tbody>\n",
       "    <tr>\n",
       "      <th>0</th>\n",
       "      <td>FBgn0031081</td>\n",
       "      <td>Nep3</td>\n",
       "    </tr>\n",
       "    <tr>\n",
       "      <th>1</th>\n",
       "      <td>FBgn0052826</td>\n",
       "      <td>tRNA:Pro-CGG-1-1</td>\n",
       "    </tr>\n",
       "    <tr>\n",
       "      <th>2</th>\n",
       "      <td>FBgn0031085</td>\n",
       "      <td>CG9570</td>\n",
       "    </tr>\n",
       "    <tr>\n",
       "      <th>3</th>\n",
       "      <td>FBgn0062565</td>\n",
       "      <td>Or19b</td>\n",
       "    </tr>\n",
       "    <tr>\n",
       "      <th>4</th>\n",
       "      <td>FBgn0031088</td>\n",
       "      <td>CG15322</td>\n",
       "    </tr>\n",
       "    <tr>\n",
       "      <th>...</th>\n",
       "      <td>...</td>\n",
       "      <td>...</td>\n",
       "    </tr>\n",
       "    <tr>\n",
       "      <th>17487</th>\n",
       "      <td>FBgn0040725</td>\n",
       "      <td>CG13946</td>\n",
       "    </tr>\n",
       "    <tr>\n",
       "      <th>17488</th>\n",
       "      <td>FBgn0031277</td>\n",
       "      <td>CG13947</td>\n",
       "    </tr>\n",
       "    <tr>\n",
       "      <th>17489</th>\n",
       "      <td>FBgn0041250</td>\n",
       "      <td>Gr21a</td>\n",
       "    </tr>\n",
       "    <tr>\n",
       "      <th>17490</th>\n",
       "      <td>FBgn0031279</td>\n",
       "      <td>CG3544</td>\n",
       "    </tr>\n",
       "    <tr>\n",
       "      <th>17491</th>\n",
       "      <td>FBgn0051658</td>\n",
       "      <td>Nnf1b</td>\n",
       "    </tr>\n",
       "  </tbody>\n",
       "</table>\n",
       "<p>17492 rows × 2 columns</p>\n",
       "</div>"
      ],
      "text/plain": [
       "                 0                 1\n",
       "0      FBgn0031081              Nep3\n",
       "1      FBgn0052826  tRNA:Pro-CGG-1-1\n",
       "2      FBgn0031085            CG9570\n",
       "3      FBgn0062565             Or19b\n",
       "4      FBgn0031088           CG15322\n",
       "...            ...               ...\n",
       "17487  FBgn0040725           CG13946\n",
       "17488  FBgn0031277           CG13947\n",
       "17489  FBgn0041250             Gr21a\n",
       "17490  FBgn0031279            CG3544\n",
       "17491  FBgn0051658             Nnf1b\n",
       "\n",
       "[17492 rows x 2 columns]"
      ]
     },
     "execution_count": 4,
     "metadata": {},
     "output_type": "execute_result"
    }
   ],
   "source": [
    "f2 = \"../../data/fly_t4t5/GSM3592260_T4T5_48_genes.tsv.gz\"\n",
    "gene = pd.read_csv(f2, sep='\\t', header=None)\n",
    "gene"
   ]
  },
  {
   "cell_type": "code",
   "execution_count": 5,
   "id": "97943bb2-0d99-44e9-89ff-2e1ce53060b1",
   "metadata": {
    "tags": []
   },
   "outputs": [
    {
     "data": {
      "text/html": [
       "<div>\n",
       "<style scoped>\n",
       "    .dataframe tbody tr th:only-of-type {\n",
       "        vertical-align: middle;\n",
       "    }\n",
       "\n",
       "    .dataframe tbody tr th {\n",
       "        vertical-align: top;\n",
       "    }\n",
       "\n",
       "    .dataframe thead th {\n",
       "        text-align: right;\n",
       "    }\n",
       "</style>\n",
       "<table border=\"1\" class=\"dataframe\">\n",
       "  <thead>\n",
       "    <tr style=\"text-align: right;\">\n",
       "      <th></th>\n",
       "      <th>0</th>\n",
       "    </tr>\n",
       "  </thead>\n",
       "  <tbody>\n",
       "    <tr>\n",
       "      <th>0</th>\n",
       "      <td>AAACCTGAGAATAGGG-1</td>\n",
       "    </tr>\n",
       "    <tr>\n",
       "      <th>1</th>\n",
       "      <td>AAACCTGAGCCACTAT-1</td>\n",
       "    </tr>\n",
       "    <tr>\n",
       "      <th>2</th>\n",
       "      <td>AAACCTGAGCTTTGGT-1</td>\n",
       "    </tr>\n",
       "    <tr>\n",
       "      <th>3</th>\n",
       "      <td>AAACCTGAGGGCATGT-1</td>\n",
       "    </tr>\n",
       "    <tr>\n",
       "      <th>4</th>\n",
       "      <td>AAACCTGCACCGTTGG-1</td>\n",
       "    </tr>\n",
       "    <tr>\n",
       "      <th>...</th>\n",
       "      <td>...</td>\n",
       "    </tr>\n",
       "    <tr>\n",
       "      <th>3889</th>\n",
       "      <td>TTTGTCAGTAAAGGAG-1</td>\n",
       "    </tr>\n",
       "    <tr>\n",
       "      <th>3890</th>\n",
       "      <td>TTTGTCAGTCGAACAG-1</td>\n",
       "    </tr>\n",
       "    <tr>\n",
       "      <th>3891</th>\n",
       "      <td>TTTGTCAGTTTGTTGG-1</td>\n",
       "    </tr>\n",
       "    <tr>\n",
       "      <th>3892</th>\n",
       "      <td>TTTGTCATCAACGGGA-1</td>\n",
       "    </tr>\n",
       "    <tr>\n",
       "      <th>3893</th>\n",
       "      <td>TTTGTCATCCGCGGTA-1</td>\n",
       "    </tr>\n",
       "  </tbody>\n",
       "</table>\n",
       "<p>3894 rows × 1 columns</p>\n",
       "</div>"
      ],
      "text/plain": [
       "                       0\n",
       "0     AAACCTGAGAATAGGG-1\n",
       "1     AAACCTGAGCCACTAT-1\n",
       "2     AAACCTGAGCTTTGGT-1\n",
       "3     AAACCTGAGGGCATGT-1\n",
       "4     AAACCTGCACCGTTGG-1\n",
       "...                  ...\n",
       "3889  TTTGTCAGTAAAGGAG-1\n",
       "3890  TTTGTCAGTCGAACAG-1\n",
       "3891  TTTGTCAGTTTGTTGG-1\n",
       "3892  TTTGTCATCAACGGGA-1\n",
       "3893  TTTGTCATCCGCGGTA-1\n",
       "\n",
       "[3894 rows x 1 columns]"
      ]
     },
     "execution_count": 5,
     "metadata": {},
     "output_type": "execute_result"
    }
   ],
   "source": [
    "f3 = \"../../data/fly_t4t5/GSM3592260_T4T5_48_barcodes.tsv.gz\"\n",
    "cell = pd.read_csv(f3, sep='\\t', header=None)\n",
    "cell"
   ]
  },
  {
   "cell_type": "code",
   "execution_count": 6,
   "id": "de775712-0f96-4eb8-836b-40823cd71044",
   "metadata": {
    "tags": []
   },
   "outputs": [
    {
     "data": {
      "text/html": [
       "<div>\n",
       "<style scoped>\n",
       "    .dataframe tbody tr th:only-of-type {\n",
       "        vertical-align: middle;\n",
       "    }\n",
       "\n",
       "    .dataframe tbody tr th {\n",
       "        vertical-align: top;\n",
       "    }\n",
       "\n",
       "    .dataframe thead th {\n",
       "        text-align: right;\n",
       "    }\n",
       "</style>\n",
       "<table border=\"1\" class=\"dataframe\">\n",
       "  <thead>\n",
       "    <tr style=\"text-align: right;\">\n",
       "      <th></th>\n",
       "      <th>barcode</th>\n",
       "      <th>cluster</th>\n",
       "    </tr>\n",
       "  </thead>\n",
       "  <tbody>\n",
       "    <tr>\n",
       "      <th>0</th>\n",
       "      <td>AAACCTGAGAATAGGG</td>\n",
       "      <td>T4a</td>\n",
       "    </tr>\n",
       "    <tr>\n",
       "      <th>1</th>\n",
       "      <td>AAACCTGAGCCACTAT</td>\n",
       "      <td>T4d</td>\n",
       "    </tr>\n",
       "    <tr>\n",
       "      <th>2</th>\n",
       "      <td>AAACCTGAGCTTTGGT</td>\n",
       "      <td>T4d</td>\n",
       "    </tr>\n",
       "    <tr>\n",
       "      <th>3</th>\n",
       "      <td>AAACCTGAGGGCATGT</td>\n",
       "      <td>T4d</td>\n",
       "    </tr>\n",
       "    <tr>\n",
       "      <th>4</th>\n",
       "      <td>AAACCTGCACCGTTGG</td>\n",
       "      <td>T5c</td>\n",
       "    </tr>\n",
       "    <tr>\n",
       "      <th>...</th>\n",
       "      <td>...</td>\n",
       "      <td>...</td>\n",
       "    </tr>\n",
       "    <tr>\n",
       "      <th>3889</th>\n",
       "      <td>TTTGTCAGTAAAGGAG</td>\n",
       "      <td>T4b</td>\n",
       "    </tr>\n",
       "    <tr>\n",
       "      <th>3890</th>\n",
       "      <td>TTTGTCAGTCGAACAG</td>\n",
       "      <td>T4c</td>\n",
       "    </tr>\n",
       "    <tr>\n",
       "      <th>3891</th>\n",
       "      <td>TTTGTCAGTTTGTTGG</td>\n",
       "      <td>T4b</td>\n",
       "    </tr>\n",
       "    <tr>\n",
       "      <th>3892</th>\n",
       "      <td>TTTGTCATCAACGGGA</td>\n",
       "      <td>T4b</td>\n",
       "    </tr>\n",
       "    <tr>\n",
       "      <th>3893</th>\n",
       "      <td>TTTGTCATCCGCGGTA</td>\n",
       "      <td>filtered</td>\n",
       "    </tr>\n",
       "  </tbody>\n",
       "</table>\n",
       "<p>3894 rows × 2 columns</p>\n",
       "</div>"
      ],
      "text/plain": [
       "               barcode   cluster\n",
       "0     AAACCTGAGAATAGGG       T4a\n",
       "1     AAACCTGAGCCACTAT       T4d\n",
       "2     AAACCTGAGCTTTGGT       T4d\n",
       "3     AAACCTGAGGGCATGT       T4d\n",
       "4     AAACCTGCACCGTTGG       T5c\n",
       "...                ...       ...\n",
       "3889  TTTGTCAGTAAAGGAG       T4b\n",
       "3890  TTTGTCAGTCGAACAG       T4c\n",
       "3891  TTTGTCAGTTTGTTGG       T4b\n",
       "3892  TTTGTCATCAACGGGA       T4b\n",
       "3893  TTTGTCATCCGCGGTA  filtered\n",
       "\n",
       "[3894 rows x 2 columns]"
      ]
     },
     "execution_count": 6,
     "metadata": {},
     "output_type": "execute_result"
    }
   ],
   "source": [
    "f4 = \"../../data/fly_t4t5/GSM3592260_clust48.txt.gz\"\n",
    "types = pd.read_csv(f4, sep='\\t')\n",
    "types"
   ]
  },
  {
   "cell_type": "code",
   "execution_count": 7,
   "id": "ca0a4af3-c196-48a6-9e86-059e7da6f1db",
   "metadata": {
    "tags": []
   },
   "outputs": [
    {
     "data": {
      "text/html": [
       "<div>\n",
       "<style scoped>\n",
       "    .dataframe tbody tr th:only-of-type {\n",
       "        vertical-align: middle;\n",
       "    }\n",
       "\n",
       "    .dataframe tbody tr th {\n",
       "        vertical-align: top;\n",
       "    }\n",
       "\n",
       "    .dataframe thead th {\n",
       "        text-align: right;\n",
       "    }\n",
       "</style>\n",
       "<table border=\"1\" class=\"dataframe\">\n",
       "  <thead>\n",
       "    <tr style=\"text-align: right;\">\n",
       "      <th></th>\n",
       "      <th>0</th>\n",
       "      <th>barcode</th>\n",
       "      <th>cluster</th>\n",
       "    </tr>\n",
       "  </thead>\n",
       "  <tbody>\n",
       "    <tr>\n",
       "      <th>0</th>\n",
       "      <td>AAACCTGAGAATAGGG-1</td>\n",
       "      <td>AAACCTGAGAATAGGG</td>\n",
       "      <td>T4a</td>\n",
       "    </tr>\n",
       "    <tr>\n",
       "      <th>1</th>\n",
       "      <td>AAACCTGAGCCACTAT-1</td>\n",
       "      <td>AAACCTGAGCCACTAT</td>\n",
       "      <td>T4d</td>\n",
       "    </tr>\n",
       "    <tr>\n",
       "      <th>2</th>\n",
       "      <td>AAACCTGAGCTTTGGT-1</td>\n",
       "      <td>AAACCTGAGCTTTGGT</td>\n",
       "      <td>T4d</td>\n",
       "    </tr>\n",
       "    <tr>\n",
       "      <th>3</th>\n",
       "      <td>AAACCTGAGGGCATGT-1</td>\n",
       "      <td>AAACCTGAGGGCATGT</td>\n",
       "      <td>T4d</td>\n",
       "    </tr>\n",
       "    <tr>\n",
       "      <th>4</th>\n",
       "      <td>AAACCTGCACCGTTGG-1</td>\n",
       "      <td>AAACCTGCACCGTTGG</td>\n",
       "      <td>T5c</td>\n",
       "    </tr>\n",
       "    <tr>\n",
       "      <th>...</th>\n",
       "      <td>...</td>\n",
       "      <td>...</td>\n",
       "      <td>...</td>\n",
       "    </tr>\n",
       "    <tr>\n",
       "      <th>3889</th>\n",
       "      <td>TTTGTCAGTAAAGGAG-1</td>\n",
       "      <td>TTTGTCAGTAAAGGAG</td>\n",
       "      <td>T4b</td>\n",
       "    </tr>\n",
       "    <tr>\n",
       "      <th>3890</th>\n",
       "      <td>TTTGTCAGTCGAACAG-1</td>\n",
       "      <td>TTTGTCAGTCGAACAG</td>\n",
       "      <td>T4c</td>\n",
       "    </tr>\n",
       "    <tr>\n",
       "      <th>3891</th>\n",
       "      <td>TTTGTCAGTTTGTTGG-1</td>\n",
       "      <td>TTTGTCAGTTTGTTGG</td>\n",
       "      <td>T4b</td>\n",
       "    </tr>\n",
       "    <tr>\n",
       "      <th>3892</th>\n",
       "      <td>TTTGTCATCAACGGGA-1</td>\n",
       "      <td>TTTGTCATCAACGGGA</td>\n",
       "      <td>T4b</td>\n",
       "    </tr>\n",
       "    <tr>\n",
       "      <th>3893</th>\n",
       "      <td>TTTGTCATCCGCGGTA-1</td>\n",
       "      <td>TTTGTCATCCGCGGTA</td>\n",
       "      <td>filtered</td>\n",
       "    </tr>\n",
       "  </tbody>\n",
       "</table>\n",
       "<p>3894 rows × 3 columns</p>\n",
       "</div>"
      ],
      "text/plain": [
       "                       0           barcode   cluster\n",
       "0     AAACCTGAGAATAGGG-1  AAACCTGAGAATAGGG       T4a\n",
       "1     AAACCTGAGCCACTAT-1  AAACCTGAGCCACTAT       T4d\n",
       "2     AAACCTGAGCTTTGGT-1  AAACCTGAGCTTTGGT       T4d\n",
       "3     AAACCTGAGGGCATGT-1  AAACCTGAGGGCATGT       T4d\n",
       "4     AAACCTGCACCGTTGG-1  AAACCTGCACCGTTGG       T5c\n",
       "...                  ...               ...       ...\n",
       "3889  TTTGTCAGTAAAGGAG-1  TTTGTCAGTAAAGGAG       T4b\n",
       "3890  TTTGTCAGTCGAACAG-1  TTTGTCAGTCGAACAG       T4c\n",
       "3891  TTTGTCAGTTTGTTGG-1  TTTGTCAGTTTGTTGG       T4b\n",
       "3892  TTTGTCATCAACGGGA-1  TTTGTCATCAACGGGA       T4b\n",
       "3893  TTTGTCATCCGCGGTA-1  TTTGTCATCCGCGGTA  filtered\n",
       "\n",
       "[3894 rows x 3 columns]"
      ]
     },
     "execution_count": 7,
     "metadata": {},
     "output_type": "execute_result"
    }
   ],
   "source": [
    "meta = pd.merge(cell, types, left_index=True, right_index=True).sort_index()\n",
    "meta"
   ]
  },
  {
   "cell_type": "code",
   "execution_count": 8,
   "id": "363bddb6-b667-43ce-a861-397622bdac1c",
   "metadata": {
    "tags": []
   },
   "outputs": [
    {
     "data": {
      "text/plain": [
       "True"
      ]
     },
     "execution_count": 8,
     "metadata": {},
     "output_type": "execute_result"
    }
   ],
   "source": [
    "np.all(meta['barcode'] == meta[0].apply(lambda x: x.split('-')[0]))"
   ]
  },
  {
   "cell_type": "code",
   "execution_count": 9,
   "id": "779c4f55-5db5-476d-ba40-4e2fdcb3c1b2",
   "metadata": {
    "tags": []
   },
   "outputs": [
    {
     "name": "stderr",
     "output_type": "stream",
     "text": [
      "/u/home/f/f7xiesnm/.conda/envs/napari/lib/python3.9/site-packages/anndata/_core/anndata.py:121: ImplicitModificationWarning: Transforming to str index.\n",
      "  warnings.warn(\"Transforming to str index.\", ImplicitModificationWarning)\n"
     ]
    },
    {
     "data": {
      "text/plain": [
       "AnnData object with n_obs × n_vars = 3894 × 17492\n",
       "    obs: 'barcode', 'cluster'"
      ]
     },
     "execution_count": 9,
     "metadata": {},
     "output_type": "execute_result"
    }
   ],
   "source": [
    "adata = anndata.AnnData(X=mat.T.tocsr(), \n",
    "                        obs=meta[['barcode', 'cluster']],#.astype(str), \n",
    "                        var=pd.DataFrame(index=gene[1].values.astype(str)),\n",
    "                       ) #.set_index(1))\n",
    "adata"
   ]
  },
  {
   "cell_type": "code",
   "execution_count": 10,
   "id": "a6e6de1b-1b89-402b-936e-ffce812df434",
   "metadata": {
    "tags": []
   },
   "outputs": [],
   "source": [
    "fout = \"../../data/fly_t4t5/GSM3592260_T4T5_48.h5ad\"\n",
    "adata.write(fout)"
   ]
  },
  {
   "cell_type": "code",
   "execution_count": null,
   "id": "f40c5d96-946f-4dac-9846-58b28e0de01e",
   "metadata": {},
   "outputs": [],
   "source": []
  }
 ],
 "metadata": {
  "kernelspec": {
   "display_name": "Python 3 (ipykernel)",
   "language": "python",
   "name": "python3"
  },
  "language_info": {
   "codemirror_mode": {
    "name": "ipython",
    "version": 3
   },
   "file_extension": ".py",
   "mimetype": "text/x-python",
   "name": "python",
   "nbconvert_exporter": "python",
   "pygments_lexer": "ipython3",
   "version": "3.9.16"
  }
 },
 "nbformat": 4,
 "nbformat_minor": 5
}
