{
 "cells": [
  {
   "cell_type": "code",
   "execution_count": null,
   "id": "aa503af1-8bb5-427a-8241-06e28faa45f3",
   "metadata": {
    "tags": []
   },
   "outputs": [],
   "source": [
    "import numpy as np\n",
    "import pandas as pd\n",
    "import matplotlib.pyplot as plt\n",
    "import seaborn as sns\n",
    "\n",
    "import anndata as ad\n",
    "import scanpy as sc\n",
    "\n",
    "from sklearn.decomposition import PCA\n",
    "from sklearn.cluster import KMeans\n",
    "from umap import UMAP\n",
    "\n",
    "from scroutines import powerplots\n",
    "from scroutines.miscu import is_in_polygon"
   ]
  },
  {
   "cell_type": "code",
   "execution_count": null,
   "id": "ceefcad3-c84e-4daa-8241-b50bd0b60aba",
   "metadata": {
    "tags": []
   },
   "outputs": [],
   "source": [
    "np.random.seed(0)"
   ]
  },
  {
   "cell_type": "code",
   "execution_count": null,
   "id": "6e6a9c36-90bd-43f5-b6c5-079c9d07d8a1",
   "metadata": {
    "tags": []
   },
   "outputs": [],
   "source": [
    "# functions (the teacher wrote for you to use later)\n",
    "def rot2d(x, y, theta, unit='degree'):\n",
    "    \"\"\" rotate data points defined by `x` and `y` by `theta` degree\n",
    "    \"\"\"\n",
    "    a = np.vstack([x,y]).T\n",
    "    if unit == 'degree':\n",
    "        theta = theta*np.pi/180 # convert to radian\n",
    "\n",
    "    R = np.array([[np.cos(theta), -np.sin(theta)], [np.sin(theta), np.cos(theta)]])\n",
    "    ar = a.dot(R.T)\n",
    "    return ar[:,0], ar[:,1]\n",
    "\n",
    "def st_scatter(x, y, gexp=None, vmax_p=98, title='', s=1, cbar_label='', output='', cmap='rocket_r', axis_off=True):\n",
    "    \"\"\"customized scatter plot -- yesterday's progress\n",
    "    \"\"\"\n",
    "  \n",
    "    fig, ax = plt.subplots(figsize=(10,8))\n",
    "    if gexp is not None:\n",
    "        vmax = np.percentile(gexp, vmax_p)\n",
    "        g = ax.scatter(x, y, c=gexp, s=s, edgecolor='none', vmax=vmax, cmap=cmap, rasterized=True)\n",
    "        fig.colorbar(g, label=cbar_label, shrink=0.3)\n",
    "    else:\n",
    "        g = ax.scatter(x, y, s=s, edgecolor='none', cmap=cmap, rasterized=True)\n",
    "  \n",
    "    if axis_off:\n",
    "        ax.axis('off')\n",
    "    ax.set_title(title)\n",
    "    ax.set_aspect('equal')\n",
    "  \n",
    "    if output:\n",
    "        powerplots.savefig_autodate(fig, output)\n",
    "        \n",
    "    return \n",
    "\n",
    "# visualize clusters\n",
    "def plot_cluster(clsts, x, y, ux, uy, s=1, axis_off=True):\n",
    "    \"\"\"this assumes `clsts` is a integer that starts from 0\n",
    "    \"\"\"\n",
    "    from matplotlib import colors\n",
    "  \n",
    "    unq_clsts, inv = np.unique(clsts, return_inverse=True)\n",
    "    n_unq = len(unq_clsts)\n",
    "    # colors = np.array(sns.color_palette('husl', n_unq))\n",
    "    # c_vec = colors[inv]\n",
    "  \n",
    "    cmap = plt.cm.jet\n",
    "    norm = colors.BoundaryNorm(np.arange(-0.5, n_unq, 1), cmap.N)\n",
    "  \n",
    "    fig, axs = plt.subplots(1, 2, figsize=(8*2,6))\n",
    "    \n",
    "    ax = axs[0]\n",
    "    g = ax.scatter(x, y, norm=norm, cmap=cmap, c=clsts, s=s, edgecolor='none')\n",
    "    ax.set_title('XY (spatial distribution)')\n",
    "    ax.set_aspect('equal')\n",
    "    if axis_off:\n",
    "        ax.axis('off')\n",
    "    \n",
    "    ax = axs[1]\n",
    "    ax.scatter(ux, uy, norm=norm, cmap=cmap, c=clsts, s=s, edgecolor='none')\n",
    "    ax.set_title('UMAP (molecular similarity)')\n",
    "    ax.set_aspect('equal')\n",
    "    if axis_off:\n",
    "        ax.axis('off')\n",
    "  \n",
    "    fig.colorbar(g, ax=ax, label='clusters', ticks=np.arange(n_unq), shrink=0.7)\n",
    "    return fig, axs"
   ]
  },
  {
   "cell_type": "code",
   "execution_count": null,
   "id": "1abfa400-a56a-4bdd-b61a-d962b03ae2b1",
   "metadata": {
    "tags": []
   },
   "outputs": [],
   "source": [
    "outdir = \"/data/qlyu/v1/results_merfish/plots_230717\"\n",
    "outdatadir = \"/data/qlyu/v1/results_merfish\"\n",
    "!mkdir -p $outdir"
   ]
  },
  {
   "cell_type": "code",
   "execution_count": null,
   "id": "6ce744eb-e0a6-44d4-b8ba-87b786940993",
   "metadata": {
    "tags": []
   },
   "outputs": [],
   "source": [
    "adata = ad.read('/data/qlyu/v1/results_merfish/pos_reg1_230719.h5ad')\n",
    "adata"
   ]
  },
  {
   "cell_type": "code",
   "execution_count": null,
   "id": "3b6c8fcb-0db4-4076-9b11-04bdec9b0112",
   "metadata": {},
   "outputs": [],
   "source": [
    "gn = 'Slc17a7'\n",
    "xr = adata.obs['x']\n",
    "yr = adata.obs['y']\n",
    "g = np.log10(1+adata[:,gn].X)\n",
    "st_scatter(xr, yr, gexp=g, title=gn, cbar_label='log10(cnt+1)', axis_off=True)"
   ]
  },
  {
   "cell_type": "markdown",
   "id": "d76f0ba5-90f5-426a-b772-2b1035ef94cd",
   "metadata": {
    "tags": []
   },
   "source": [
    "# norm"
   ]
  },
  {
   "cell_type": "code",
   "execution_count": null,
   "id": "867d7bc8-1b03-4dc0-966a-d49b46f7324d",
   "metadata": {
    "tags": []
   },
   "outputs": [],
   "source": [
    "cnts = adata.X\n",
    "cov = np.sum(cnts, axis=1)\n",
    "medcov = np.median(cov)"
   ]
  },
  {
   "cell_type": "code",
   "execution_count": null,
   "id": "bc74e99c-1e0f-45a8-884b-3da313fc3bab",
   "metadata": {
    "tags": []
   },
   "outputs": [],
   "source": [
    "fig, ax = plt.subplots()\n",
    "sns.histplot(cov, ax=ax)\n",
    "ax.text(medcov, 0, int(medcov))\n",
    "ax.axvline(medcov, color='k', linestyle='--')\n",
    "sns.despine(ax=ax)\n",
    "plt.show()"
   ]
  },
  {
   "cell_type": "code",
   "execution_count": null,
   "id": "ab4f777e-c4d3-4520-aff4-b7d30e28d5b8",
   "metadata": {
    "tags": []
   },
   "outputs": [],
   "source": [
    "# equlize the counts for all cells to be 100\n",
    "scaling = 100\n",
    "normcnts = cnts/cov.reshape(-1,1)*100\n",
    "adata.layers['norm'] = normcnts"
   ]
  },
  {
   "cell_type": "code",
   "execution_count": null,
   "id": "7ee7ffbd-adb2-4115-9729-14bdfa4151a9",
   "metadata": {
    "tags": []
   },
   "outputs": [],
   "source": [
    "gn = 'Slc17a7'\n",
    "xr = adata.obs['x']\n",
    "yr = adata.obs['y']\n",
    "g = np.log10(1+adata[:,gn].layers['norm'])\n",
    "st_scatter(xr, yr, gexp=g, title=gn, cbar_label='log10(cnt+1)', axis_off=True)"
   ]
  },
  {
   "cell_type": "markdown",
   "id": "fa5cd22a-45c0-4125-a831-6f628ef2c1ab",
   "metadata": {},
   "source": [
    "# PCA, UMAP, clustering"
   ]
  },
  {
   "cell_type": "code",
   "execution_count": null,
   "id": "edd24cd6-0b33-405a-93bb-c7c8f8a24019",
   "metadata": {
    "tags": []
   },
   "outputs": [],
   "source": [
    "pca = PCA(n_components=20)\n",
    "pcs = pca.fit_transform(adata.layers['norm'])\n",
    "print(pcs.shape)\n",
    "\n",
    "ucs = UMAP(n_components=2, n_neighbors=30).fit_transform(pcs)\n",
    "print(ucs.shape)"
   ]
  },
  {
   "cell_type": "code",
   "execution_count": null,
   "id": "0addddee-2758-4d98-83f8-135e8db8c4ff",
   "metadata": {
    "tags": []
   },
   "outputs": [],
   "source": [
    "adata.obsm['pca'] = pcs\n",
    "adata.obsm['umap'] = ucs"
   ]
  },
  {
   "cell_type": "code",
   "execution_count": null,
   "id": "fa7765a3-8403-4d8d-a351-461f18e71840",
   "metadata": {
    "tags": []
   },
   "outputs": [],
   "source": [
    "sc.pp.neighbors(adata, n_neighbors=30, use_rep='pca')"
   ]
  },
  {
   "cell_type": "code",
   "execution_count": null,
   "id": "af52f12a-7c2f-4f51-8c21-6f5f19ff8301",
   "metadata": {
    "tags": []
   },
   "outputs": [],
   "source": [
    "r = 0.1\n",
    "sc.tl.leiden(adata, resolution=r, key_added=f'leiden_r{r}')"
   ]
  },
  {
   "cell_type": "code",
   "execution_count": null,
   "id": "117146d4-be0e-4281-8495-befae1f325fd",
   "metadata": {
    "tags": []
   },
   "outputs": [],
   "source": [
    "adata"
   ]
  },
  {
   "cell_type": "code",
   "execution_count": null,
   "id": "dab76166-9b10-41d4-9930-2cb801a6f96b",
   "metadata": {
    "tags": []
   },
   "outputs": [],
   "source": [
    "st_scatter(pcs[:,0], pcs[:,1], gexp=g)"
   ]
  },
  {
   "cell_type": "code",
   "execution_count": null,
   "id": "26ab2994-a105-4712-b9d4-0862c8e5531f",
   "metadata": {
    "tags": []
   },
   "outputs": [],
   "source": [
    "st_scatter(ucs[:,0], ucs[:,1], gexp=g)"
   ]
  },
  {
   "cell_type": "code",
   "execution_count": null,
   "id": "600b5b0a-4b95-4975-92e7-0fd01c0f3320",
   "metadata": {
    "tags": []
   },
   "outputs": [],
   "source": [
    "clsts = adata.obs['leiden_r0.1'].astype(int)\n",
    "x = adata.obs['x']\n",
    "y = adata.obs['y']\n",
    "ux = adata.obsm['umap'][:,0]\n",
    "uy = adata.obsm['umap'][:,1]\n",
    "plot_cluster(clsts, x, y, ux, uy, axis_off=False)"
   ]
  },
  {
   "cell_type": "code",
   "execution_count": null,
   "id": "98f5ae04-b0a9-4c4d-a35a-e418b336dda2",
   "metadata": {},
   "outputs": [],
   "source": []
  },
  {
   "cell_type": "markdown",
   "id": "ac31bf55-d28c-42d0-8605-302fae634b0a",
   "metadata": {},
   "source": [
    "# Iteration 1: get Glut. neurons \n",
    "- pick cluster 0"
   ]
  },
  {
   "cell_type": "code",
   "execution_count": null,
   "id": "47dee311-41f9-491b-b496-8ae07a48c68f",
   "metadata": {
    "tags": []
   },
   "outputs": [],
   "source": [
    "adatasub = adata[adata.obs['x']>5500].copy()\n",
    "adatasub = adatasub[adatasub.obs['leiden_r0.1']=='0']\n",
    "adatasub"
   ]
  },
  {
   "cell_type": "code",
   "execution_count": null,
   "id": "28cc5ec3-d8ad-47e9-879b-21e427ee1cfb",
   "metadata": {
    "tags": []
   },
   "outputs": [],
   "source": [
    "pca = PCA(n_components=20)\n",
    "pcs = pca.fit_transform(adatasub.layers['norm'])\n",
    "print(pcs.shape)\n",
    "\n",
    "ucs = UMAP(n_components=2, n_neighbors=30).fit_transform(pcs)\n",
    "print(ucs.shape)"
   ]
  },
  {
   "cell_type": "code",
   "execution_count": null,
   "id": "27b1da62-c3a1-4890-a188-28b7294b64c4",
   "metadata": {
    "tags": []
   },
   "outputs": [],
   "source": [
    "adatasub.obsm['pca'] = pcs\n",
    "adatasub.obsm['umap'] = ucs"
   ]
  },
  {
   "cell_type": "code",
   "execution_count": null,
   "id": "dd754959-e963-45e5-989d-487f173d6979",
   "metadata": {
    "tags": []
   },
   "outputs": [],
   "source": [
    "sc.pp.neighbors(adatasub, n_neighbors=30, use_rep='pca')"
   ]
  },
  {
   "cell_type": "code",
   "execution_count": null,
   "id": "9ab7b337-49cb-42ff-b4cd-8c650c2b4ad6",
   "metadata": {
    "tags": []
   },
   "outputs": [],
   "source": [
    "r = 0.1\n",
    "sc.tl.leiden(adatasub, resolution=r, key_added=f'leiden_r{r}')"
   ]
  },
  {
   "cell_type": "code",
   "execution_count": null,
   "id": "de3fb698-7f59-486c-a5e8-a77bf846fe08",
   "metadata": {
    "tags": []
   },
   "outputs": [],
   "source": [
    "clsts = adatasub.obs['leiden_r0.1'].astype(int)\n",
    "x = adatasub.obs['x']\n",
    "y = adatasub.obs['y']\n",
    "ux = adatasub.obsm['umap'][:,0]\n",
    "uy = adatasub.obsm['umap'][:,1]\n",
    "plot_cluster(clsts, x, y, ux, uy, s=2)"
   ]
  },
  {
   "cell_type": "code",
   "execution_count": null,
   "id": "7567c99d-903f-44f3-8379-ccf9dd1ccb77",
   "metadata": {
    "tags": []
   },
   "outputs": [],
   "source": [
    "g = np.log10(1+adatasub[:,gn].layers['norm'])\n",
    "st_scatter(x, y, gexp=g, s=2, title=gn)\n",
    "st_scatter(ux, uy, gexp=g, s=2, title=gn)"
   ]
  },
  {
   "cell_type": "markdown",
   "id": "6863dffc-09fa-46f7-b507-539cfd1f9c3b",
   "metadata": {},
   "source": [
    "# Iteration 2: remove hippocampal Glut. neurons \n",
    "- pick cluster 0; ditch cluster 1"
   ]
  },
  {
   "cell_type": "code",
   "execution_count": null,
   "id": "d5f8e40e-c524-42f0-9e6d-0f10c22459a6",
   "metadata": {
    "tags": []
   },
   "outputs": [],
   "source": [
    "adatasub2 = adatasub[adatasub.obs['leiden_r0.1'].isin(['0'])].copy()\n",
    "# adatasub2 = adatasub[adatasub.obs['x']<4500].copy()\n",
    "adatasub2"
   ]
  },
  {
   "cell_type": "code",
   "execution_count": null,
   "id": "1f44b588-b46d-4b33-b1ef-65612c26aaaf",
   "metadata": {
    "tags": []
   },
   "outputs": [],
   "source": [
    "pca = PCA(n_components=20)\n",
    "pcs = pca.fit_transform(adatasub2.layers['norm'])\n",
    "print(pcs.shape)\n",
    "\n",
    "ucs = UMAP(n_components=2, n_neighbors=30).fit_transform(pcs)\n",
    "print(ucs.shape)"
   ]
  },
  {
   "cell_type": "code",
   "execution_count": null,
   "id": "2c60c306-c591-4ae9-82a4-88f089d5b8af",
   "metadata": {
    "tags": []
   },
   "outputs": [],
   "source": [
    "adatasub2.obsm['pca'] = pcs\n",
    "adatasub2.obsm['umap'] = ucs"
   ]
  },
  {
   "cell_type": "code",
   "execution_count": null,
   "id": "ff6b4d20-d41f-49db-a22a-de6a60c40d81",
   "metadata": {
    "tags": []
   },
   "outputs": [],
   "source": [
    "sc.pp.neighbors(adatasub2, n_neighbors=30, use_rep='pca')"
   ]
  },
  {
   "cell_type": "code",
   "execution_count": null,
   "id": "66c214d7-39fa-433f-b3eb-31bc2efa72bb",
   "metadata": {
    "tags": []
   },
   "outputs": [],
   "source": [
    "r = 0.2\n",
    "sc.tl.leiden(adatasub2, resolution=r, key_added=f'leiden_r{r}')"
   ]
  },
  {
   "cell_type": "code",
   "execution_count": null,
   "id": "6f245289-e47b-41c7-a7a9-4d2fbca3899d",
   "metadata": {
    "tags": []
   },
   "outputs": [],
   "source": [
    "clsts = adatasub2.obs['leiden_r0.2'].astype(int)\n",
    "x = adatasub2.obs['x']\n",
    "y = adatasub2.obs['y']\n",
    "ux = adatasub2.obsm['umap'][:,0]\n",
    "uy = adatasub2.obsm['umap'][:,1]\n",
    "fig, axs = plot_cluster(clsts, x, y, ux, uy, s=2, axis_off=False)\n",
    "# axs[0].plot([2000,4500], [-3000,-1500])"
   ]
  },
  {
   "cell_type": "markdown",
   "id": "7f7d6af5-f299-42bb-a6d3-45add8207c95",
   "metadata": {
    "tags": []
   },
   "source": [
    "# Iteration 3: remove other sub-cortical cells by anatomical location \n",
    "- those cells are hard to distinguish using global transcriptome signatures, but easy to be removed by anatomical location"
   ]
  },
  {
   "cell_type": "code",
   "execution_count": null,
   "id": "e5212032-c37a-4d3e-a5f2-403b2ad3899a",
   "metadata": {
    "tags": []
   },
   "outputs": [],
   "source": [
    "adatasub3 = adatasub2[adatasub2.obs['leiden_r0.2']=='0'].copy()\n",
    "adatasub3"
   ]
  },
  {
   "cell_type": "code",
   "execution_count": null,
   "id": "3b032c7e-a528-4a56-802b-f7ebe0820e34",
   "metadata": {
    "tags": []
   },
   "outputs": [],
   "source": [
    "xy  = adatasub3.obs[['x', 'y']].values\n",
    "adatasub3.obsm['xy'] = xy\n",
    "sc.pp.neighbors(adatasub3, n_neighbors=50, use_rep='xy')\n",
    "r = 0.02\n",
    "sc.tl.leiden(adatasub3, resolution=r, key_added=f'leiden_spatial_r{r}')"
   ]
  },
  {
   "cell_type": "code",
   "execution_count": null,
   "id": "11db0021-cc6d-42e7-a234-ad75ef1e9062",
   "metadata": {
    "tags": []
   },
   "outputs": [],
   "source": [
    "clsts = adatasub3.obs[f'leiden_spatial_r{r}'].astype(int)\n",
    "x  = adatasub3.obs['x']\n",
    "y  = adatasub3.obs['y']\n",
    "ux = adatasub3.obsm['umap'][:,0]\n",
    "uy = adatasub3.obsm['umap'][:,1]\n",
    "plot_cluster(clsts, x, y, ux, uy, s=2, axis_off=False)"
   ]
  },
  {
   "cell_type": "code",
   "execution_count": null,
   "id": "d1a9a06d-4df4-405f-9054-746081b1a54b",
   "metadata": {
    "tags": []
   },
   "outputs": [],
   "source": [
    "# poly = [\n",
    "#     [-11000, 10000,],\n",
    "#     [ -8500, 10000,],\n",
    "#     [ -7000, 11700,],\n",
    "#     [ -6000, 12500,],\n",
    "#     [ -6000, 12000,],\n",
    "#     [ -4000, 12500,],\n",
    "#     [ -4000, 14500,],\n",
    "#     [-11000, 14500,],\n",
    "# ]\n",
    "# selected = is_in_polygon(poly, xy)\n",
    "# adatasub3x = adatasub3[selected]\n",
    "adatasub3x = adatasub3[adatasub3.obs[f'leiden_spatial_r{r}'].isin(['0', '1', '2', '3'])].copy()\n",
    "\n",
    "clsts = adatasub3x.obs[f'leiden_spatial_r{r}'].astype(int)\n",
    "x  = adatasub3x.obs['x']\n",
    "y  = adatasub3x.obs['y']\n",
    "ux = adatasub3x.obsm['umap'][:,0]\n",
    "uy = adatasub3x.obsm['umap'][:,1]\n",
    "plot_cluster(clsts, x, y, ux, uy, s=2, axis_off=False)"
   ]
  },
  {
   "cell_type": "markdown",
   "id": "85761cd3-906e-4a53-9876-b987f0c02140",
   "metadata": {
    "tags": []
   },
   "source": [
    "# Iteration 4: refine the cells -- remove any remaining non-cortical-glut cells\n",
    "\n",
    "- remaining cells include cortical glut neurons more than V1. The exact V1 boundaries can be selected based on Rorb expressions and other"
   ]
  },
  {
   "cell_type": "code",
   "execution_count": null,
   "id": "c4472965-4dbb-4f52-9f32-a056c6e63023",
   "metadata": {
    "tags": []
   },
   "outputs": [],
   "source": [
    "adatasub4 = adatasub3x.copy()\n",
    "adatasub4"
   ]
  },
  {
   "cell_type": "code",
   "execution_count": null,
   "id": "8d730b98-190c-47f3-8fbf-f0760a1c33cc",
   "metadata": {
    "tags": []
   },
   "outputs": [],
   "source": [
    "pca = PCA(n_components=20)\n",
    "pcs = pca.fit_transform(adatasub4.layers['norm'])\n",
    "print(pcs.shape)\n",
    "\n",
    "ucs = UMAP(n_components=2, n_neighbors=30).fit_transform(pcs)\n",
    "print(ucs.shape)"
   ]
  },
  {
   "cell_type": "code",
   "execution_count": null,
   "id": "2619e245-5098-4193-87fe-8657b0718536",
   "metadata": {
    "tags": []
   },
   "outputs": [],
   "source": [
    "adatasub4.obsm['pca'] = pcs\n",
    "adatasub4.obsm['umap'] = ucs"
   ]
  },
  {
   "cell_type": "code",
   "execution_count": null,
   "id": "27eb606f-6541-463d-b2af-0eab7900d724",
   "metadata": {
    "tags": []
   },
   "outputs": [],
   "source": [
    "sc.pp.neighbors(adatasub4, n_neighbors=30, use_rep='pca')"
   ]
  },
  {
   "cell_type": "code",
   "execution_count": null,
   "id": "f92adafc-741e-4a21-9fe6-c2b40e11acb5",
   "metadata": {
    "tags": []
   },
   "outputs": [],
   "source": [
    "r = 0.2 \n",
    "sc.tl.leiden(adatasub4, resolution=r, key_added=f'leiden_r{r}')"
   ]
  },
  {
   "cell_type": "code",
   "execution_count": null,
   "id": "d36891a4-a944-42f5-b4d2-360a7792d2ca",
   "metadata": {
    "tags": []
   },
   "outputs": [],
   "source": [
    "clsts = adatasub4.obs['leiden_r0.2'].astype(int)\n",
    "x = adatasub4.obs['x']\n",
    "y = adatasub4.obs['y']\n",
    "ux = adatasub4.obsm['umap'][:,0]\n",
    "uy = adatasub4.obsm['umap'][:,1]\n",
    "plot_cluster(clsts, x, y, ux, uy, s=2)"
   ]
  },
  {
   "cell_type": "code",
   "execution_count": null,
   "id": "61f76a3e-5a42-4712-b319-79668d9aec79",
   "metadata": {
    "tags": []
   },
   "outputs": [],
   "source": [
    "gn = 'Slc17a7'\n",
    "g = np.log10(1+adatasub4[:,gn].layers['norm'])\n",
    "st_scatter(x, y, gexp=g, s=2, title=gn)\n",
    "st_scatter(ux, uy, gexp=g, s=2, title=gn)"
   ]
  },
  {
   "cell_type": "markdown",
   "id": "b68ff0c2-f2ae-427b-81ac-1961e767a05f",
   "metadata": {
    "tags": []
   },
   "source": [
    "# Iteration 5: get the cells we now care about"
   ]
  },
  {
   "cell_type": "code",
   "execution_count": null,
   "id": "ad93ec73-70a8-4bdb-8b6d-777dfd29d8c6",
   "metadata": {
    "tags": []
   },
   "outputs": [],
   "source": [
    "adatasub5 = adatasub4.copy() #[adatasub4.obs['leiden_r0.2'].isin(['0', '1'])].copy()\n",
    "adatasub5"
   ]
  },
  {
   "cell_type": "code",
   "execution_count": null,
   "id": "b236b6c5-c00b-4dd8-b737-47af1d864ce4",
   "metadata": {
    "tags": []
   },
   "outputs": [],
   "source": [
    "pca = PCA(n_components=20)\n",
    "pcs = pca.fit_transform(adatasub5.layers['norm'])\n",
    "print(pcs.shape)\n",
    "\n",
    "ucs = UMAP(n_components=2, n_neighbors=30).fit_transform(pcs)\n",
    "print(ucs.shape)"
   ]
  },
  {
   "cell_type": "code",
   "execution_count": null,
   "id": "9ecc5dc9-1640-455e-b958-c08c8fce18d8",
   "metadata": {
    "tags": []
   },
   "outputs": [],
   "source": [
    "adatasub5.obsm['pca'] = pcs\n",
    "adatasub5.obsm['umap'] = ucs"
   ]
  },
  {
   "cell_type": "code",
   "execution_count": null,
   "id": "82a8b4a7-46f8-44eb-a557-cbefb14ab5f5",
   "metadata": {
    "tags": []
   },
   "outputs": [],
   "source": [
    "sc.pp.neighbors(adatasub5, n_neighbors=30, use_rep='pca')"
   ]
  },
  {
   "cell_type": "code",
   "execution_count": null,
   "id": "2a6a549d-b4b3-4041-bfd0-a9da32998ec9",
   "metadata": {
    "tags": []
   },
   "outputs": [],
   "source": [
    "r = 0.5\n",
    "sc.tl.leiden(adatasub5, resolution=r, key_added=f'leiden_r{r}')"
   ]
  },
  {
   "cell_type": "code",
   "execution_count": null,
   "id": "5ec0afab-5063-4b35-b506-9e0a2890c598",
   "metadata": {
    "tags": []
   },
   "outputs": [],
   "source": [
    "clsts = adatasub5.obs['leiden_r0.5'].astype(int)\n",
    "x = adatasub5.obs['x']\n",
    "y = adatasub5.obs['y']\n",
    "ux = adatasub5.obsm['umap'][:,0]\n",
    "uy = adatasub5.obsm['umap'][:,1]\n",
    "plot_cluster(clsts, x, y, ux, uy, s=2)"
   ]
  },
  {
   "cell_type": "code",
   "execution_count": null,
   "id": "683c293e-77ff-48c1-860b-ff36c92901c3",
   "metadata": {
    "tags": []
   },
   "outputs": [],
   "source": [
    "gn = 'Slc17a7'\n",
    "g = np.log10(1+adatasub5[:,gn].layers['norm'])\n",
    "st_scatter(x, y, gexp=g, s=2, title=gn)\n",
    "st_scatter(ux, uy, gexp=g, s=2, title=gn)"
   ]
  },
  {
   "cell_type": "markdown",
   "id": "d45319cd-ef96-45e5-b24e-ccf8637eb783",
   "metadata": {},
   "source": [
    "# save "
   ]
  },
  {
   "cell_type": "code",
   "execution_count": null,
   "id": "68e065df-34c5-4307-b21d-f3f84c559470",
   "metadata": {
    "tags": []
   },
   "outputs": [],
   "source": [
    "output = outdatadir + '/pos_reg1_ctxglut_230719.h5ad'\n",
    "print(output)\n",
    "adatasub5.write(output)"
   ]
  },
  {
   "cell_type": "code",
   "execution_count": null,
   "id": "0fe44800-6b92-4e8b-8e09-f04afb2eee21",
   "metadata": {},
   "outputs": [],
   "source": []
  },
  {
   "cell_type": "markdown",
   "id": "26f21441-6e6d-4841-96d6-4f3b1c93c225",
   "metadata": {},
   "source": [
    "# explore"
   ]
  },
  {
   "cell_type": "code",
   "execution_count": null,
   "id": "4c185a22-dac4-4963-aa67-d0751746ecca",
   "metadata": {
    "tags": []
   },
   "outputs": [],
   "source": [
    "gn = 'Cux2'\n",
    "g = np.log10(1+adatasub5[:,gn].layers['norm'])\n",
    "st_scatter(x, y, gexp=g, s=2, title=gn)\n",
    "st_scatter(ux, uy, gexp=g, s=2, title=gn)"
   ]
  },
  {
   "cell_type": "code",
   "execution_count": null,
   "id": "ff027b78-df6e-4a2c-95ee-725284f9fc5f",
   "metadata": {
    "tags": []
   },
   "outputs": [],
   "source": [
    "gn = 'Rorb'\n",
    "g = np.log10(1+adatasub5[:,gn].layers['norm'])\n",
    "st_scatter(x, y, gexp=g, s=2, title=gn)\n",
    "st_scatter(ux, uy, gexp=g, s=2, title=gn)"
   ]
  },
  {
   "cell_type": "code",
   "execution_count": null,
   "id": "26668e67-cb44-4219-9fe7-f59a93aa511b",
   "metadata": {
    "tags": []
   },
   "outputs": [],
   "source": [
    "gn = 'Cdh13'\n",
    "g = np.log10(1+adatasub5[:,gn].layers['norm'])\n",
    "st_scatter(x, y, gexp=g, s=2, title=gn)\n",
    "# st_scatter(ux, uy, gexp=g, s=2, title=gn)"
   ]
  },
  {
   "cell_type": "code",
   "execution_count": null,
   "id": "d6273abb-5cfa-4f04-8a7b-7311b87f37f1",
   "metadata": {
    "tags": []
   },
   "outputs": [],
   "source": [
    "\n",
    "gns = [\n",
    "    'Cux2',\n",
    "    'Rorb',\n",
    "    'Whrn',\n",
    "]\n",
    "\n",
    "for gn in gns:\n",
    "    g = np.log10(1+adatasub5[:,gn].layers['norm'])\n",
    "    st_scatter(x, y, gexp=g, s=2, title=gn)\n",
    "    plt.show()\n",
    "    # plt.close()\n",
    "    # st_scatter(ux, uy, gexp=g, s=2, title=gn)"
   ]
  },
  {
   "cell_type": "code",
   "execution_count": null,
   "id": "c301b7d9-5041-44d6-98ef-d1796aa35279",
   "metadata": {
    "tags": []
   },
   "outputs": [],
   "source": [
    "\n",
    "gns = [\n",
    "    'Cdh13',\n",
    "    'Adamts2',\n",
    "    'Nr4a3',\n",
    "    'Cntn5',\n",
    "    'Gabrg3',\n",
    "    'Grm8',\n",
    "    'Sorcs3',\n",
    "    'Chrm2',\n",
    "    'Cdh12',\n",
    "    'Cntnap2',\n",
    "    'Kcnh5',\n",
    "    'Kcnq5',\n",
    "    'Ncam2',\n",
    "    'Gria3',\n",
    "    'Rorb',\n",
    "    'Kcnip3',\n",
    "    'Baz1a',\n",
    "    'Rfx3',\n",
    "    'Trpc6',\n",
    "    'Egfem1',\n",
    "    'Igfn1',\n",
    "    'Bdnf',\n",
    "    'Epha3',\n",
    "    'Kcna1',\n",
    "    'Whrn',\n",
    "    'Igsf9b',\n",
    "    'Mdga1',\n",
    "]\n",
    "\n",
    "for gn in gns:\n",
    "    g = np.log10(1+adatasub5[:,gn].layers['norm'])\n",
    "    st_scatter(x, y, gexp=g, s=2, title=gn)\n",
    "    plt.show()\n",
    "    # plt.close()\n",
    "    # st_scatter(ux, uy, gexp=g, s=2, title=gn)"
   ]
  },
  {
   "cell_type": "code",
   "execution_count": null,
   "id": "a6c66bfc-6625-429d-8091-8bca24378c65",
   "metadata": {},
   "outputs": [],
   "source": []
  },
  {
   "cell_type": "code",
   "execution_count": null,
   "id": "5db9551d-b854-4107-8ccd-519065c97386",
   "metadata": {},
   "outputs": [],
   "source": []
  },
  {
   "cell_type": "code",
   "execution_count": null,
   "id": "1596a545-788e-407a-920e-827c9bc5243b",
   "metadata": {},
   "outputs": [],
   "source": []
  },
  {
   "cell_type": "code",
   "execution_count": null,
   "id": "32f9de13-31ca-403e-a100-a1f59db14ca4",
   "metadata": {},
   "outputs": [],
   "source": []
  },
  {
   "cell_type": "code",
   "execution_count": null,
   "id": "b7f60490-ab98-4fac-a8ff-f7b8e3e442be",
   "metadata": {},
   "outputs": [],
   "source": []
  }
 ],
 "metadata": {
  "kernelspec": {
   "display_name": "Python 3 (ipykernel)",
   "language": "python",
   "name": "python3"
  },
  "language_info": {
   "codemirror_mode": {
    "name": "ipython",
    "version": 3
   },
   "file_extension": ".py",
   "mimetype": "text/x-python",
   "name": "python",
   "nbconvert_exporter": "python",
   "pygments_lexer": "ipython3",
   "version": "3.9.16"
  }
 },
 "nbformat": 4,
 "nbformat_minor": 5
}
