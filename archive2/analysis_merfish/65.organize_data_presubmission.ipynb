{
 "cells": [
  {
   "cell_type": "code",
   "execution_count": 1,
   "id": "f24b7a50-a6b4-49bf-8cd1-4f919c7ec107",
   "metadata": {
    "tags": []
   },
   "outputs": [],
   "source": [
    "from merfish_datasets import merfish_datasets\n",
    "import os\n",
    "import shutil"
   ]
  },
  {
   "cell_type": "code",
   "execution_count": 2,
   "id": "4b89d12e-1847-4612-9a1d-9089acd74ce9",
   "metadata": {
    "tags": []
   },
   "outputs": [
    {
     "data": {
      "text/plain": [
       "{'P14NRa_ant': 'merfish_06142023/ant/region0',\n",
       " 'P28NRa_ant': 'merfish_06142023/ant/region1',\n",
       " 'P14NRa_pos': 'merfish_06142023/pos/region0',\n",
       " 'P28NRa_pos': 'merfish_06142023/pos/region1',\n",
       " 'P21NRa_ant': 'merfish_20231114/region0',\n",
       " 'P21DRa_ant': 'merfish_20231114/region2',\n",
       " 'P28DRa_ant': 'merfish_20231114/region1',\n",
       " 'P21NRa_pos': 'merfish_20231120/region0',\n",
       " 'P21DRa_pos': 'merfish_20231120/region1',\n",
       " 'P28DRa_pos': 'merfish_20231120/region2',\n",
       " 'P14NRb_ant': 'merfish_202404051211/region_0',\n",
       " 'P28NRb_ant': 'merfish_202404051211/region_1',\n",
       " 'P14NRb_pos': 'merfish_202404051214/region_0',\n",
       " 'P28NRb_pos': 'merfish_202404051214/region_1',\n",
       " 'P21NRb_ant': 'merfish_202404091526/region_2',\n",
       " 'P21DRb_ant': 'merfish_202404091526/region_1',\n",
       " 'P28DRb_ant': 'merfish_202404091526/region_0',\n",
       " 'P21NRb_pos': 'merfish_202404091601/region_0',\n",
       " 'P21DRb_pos': 'merfish_202404091601/region_2',\n",
       " 'P28DRb_pos': 'merfish_202404091601/region_1',\n",
       " 'P14NR_ant': 'merfish_06142023/ant/region0',\n",
       " 'P28NR_ant': 'merfish_06142023/ant/region1',\n",
       " 'P14NR_pos': 'merfish_06142023/pos/region0',\n",
       " 'P28NR_pos': 'merfish_06142023/pos/region1',\n",
       " 'P21NR_ant': 'merfish_20231114/region0',\n",
       " 'P21DR_ant': 'merfish_20231114/region2',\n",
       " 'P28DR_ant': 'merfish_20231114/region1',\n",
       " 'P21NR_pos': 'merfish_20231120/region0',\n",
       " 'P21DR_pos': 'merfish_20231120/region1',\n",
       " 'P28DR_pos': 'merfish_20231120/region2'}"
      ]
     },
     "execution_count": 2,
     "metadata": {},
     "output_type": "execute_result"
    }
   ],
   "source": [
    "merfish_datasets"
   ]
  },
  {
   "cell_type": "code",
   "execution_count": null,
   "id": "2bd1b50b-223c-4197-88a4-24f9741b3dab",
   "metadata": {
    "tags": []
   },
   "outputs": [
    {
     "name": "stdout",
     "output_type": "stream",
     "text": [
      "P28NRa_ant merfish_06142023/ant/region1\n",
      "P28NRa_pos merfish_06142023/pos/region1\n",
      "P28NRb_ant merfish_202404051211/region_1\n",
      "P28NRb_pos merfish_202404051214/region_1\n",
      "P28DRa_ant merfish_20231114/region1\n",
      "P28DRa_pos merfish_20231120/region2\n",
      "P28DRb_ant merfish_202404091526/region_0\n"
     ]
    }
   ],
   "source": [
    "samples = [\n",
    "    'P28NRa_ant',\n",
    "    'P28NRa_pos',\n",
    "    'P28NRb_ant',\n",
    "    'P28NRb_pos',\n",
    "    \n",
    "    'P28DRa_ant',\n",
    "    'P28DRa_pos',\n",
    "    'P28DRb_ant',\n",
    "    'P28DRb_pos',\n",
    "]\n",
    "\n",
    "src_dir = '/u/home/f/f7xiesnm/project-zipursky/v1-bb/v1/data/merfish/' \n",
    "dst_dir = '/u/home/f/f7xiesnm/project-zipursky/v1-bb/v1/data/merfish/nrdr_merfish_paper_2024/'\n",
    "\n",
    "# for sample in samples:\n",
    "#     path = merfish_datasets[sample]\n",
    "#     print(sample, path)\n",
    "#     src = os.path.join(src_dir,   path, 'cell_metadata.csv')\n",
    "#     dst = os.path.join(dst_dir, sample, 'cell_metadata.csv')\n",
    "#     shutil.copyfile(src, dst)\n",
    "\n",
    "# for sample in samples:\n",
    "#     path = merfish_datasets[sample]\n",
    "#     print(sample, path)\n",
    "#     src = os.path.join(src_dir,   path, 'cell_by_gene.csv')\n",
    "#     dst = os.path.join(dst_dir, sample, 'cell_by_gene.csv')\n",
    "#     shutil.copyfile(src, dst)\n",
    "    \n",
    "for sample in samples:\n",
    "    path = merfish_datasets[sample]\n",
    "    print(sample, path)\n",
    "    src = os.path.join(src_dir,   path, 'detected_transcripts.csv')\n",
    "    dst = os.path.join(dst_dir, sample, 'detected_transcripts.csv')\n",
    "    shutil.copyfile(src, dst)"
   ]
  },
  {
   "cell_type": "code",
   "execution_count": 5,
   "id": "246518cd-a332-4333-9921-eb60b7ecf479",
   "metadata": {
    "tags": []
   },
   "outputs": [
    {
     "data": {
      "text/plain": [
       "'/u/home/f/f7xiesnm/project-zipursky/v1-bb/v1/data/merfish/nrdr_merfish_paper_2024/P28NRa_ant/'"
      ]
     },
     "execution_count": 5,
     "metadata": {},
     "output_type": "execute_result"
    }
   ],
   "source": []
  },
  {
   "cell_type": "code",
   "execution_count": null,
   "id": "3392d1b6-4fbf-44d0-8508-56be1d49db7b",
   "metadata": {},
   "outputs": [],
   "source": []
  }
 ],
 "metadata": {
  "kernelspec": {
   "display_name": "Python 3 (ipykernel)",
   "language": "python",
   "name": "python3"
  },
  "language_info": {
   "codemirror_mode": {
    "name": "ipython",
    "version": 3
   },
   "file_extension": ".py",
   "mimetype": "text/x-python",
   "name": "python",
   "nbconvert_exporter": "python",
   "pygments_lexer": "ipython3",
   "version": "3.9.16"
  }
 },
 "nbformat": 4,
 "nbformat_minor": 5
}
