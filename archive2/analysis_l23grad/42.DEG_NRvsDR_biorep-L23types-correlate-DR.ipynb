{
 "cells": [
  {
   "cell_type": "code",
   "execution_count": 1,
   "id": "b2b52d20-dc7c-4cdf-a9a8-e95ef32ed332",
   "metadata": {
    "tags": []
   },
   "outputs": [
    {
     "data": {
      "text/plain": [
       "<module 'scroutines.basicu' from '/u/project/zipursky/f7xiesnm/code/scroutines/scroutines/basicu.py'>"
      ]
     },
     "execution_count": 1,
     "metadata": {},
     "output_type": "execute_result"
    }
   ],
   "source": [
    "import os\n",
    "import numpy as np\n",
    "import pandas as pd\n",
    "from scipy.stats import ttest_ind\n",
    "from statsmodels.stats.multitest import multipletests\n",
    "\n",
    "import matplotlib.pyplot as plt\n",
    "import seaborn as sns\n",
    "import anndata\n",
    "\n",
    "from scroutines import basicu\n",
    "from scroutines.config_plots import *\n",
    "import importlib\n",
    "importlib.reload(basicu)"
   ]
  },
  {
   "cell_type": "code",
   "execution_count": 2,
   "id": "5bf8e0c1-3de5-41a6-9b88-a0b40d01a8ab",
   "metadata": {
    "tags": []
   },
   "outputs": [],
   "source": [
    "sns.set_context('talk')"
   ]
  },
  {
   "cell_type": "code",
   "execution_count": 3,
   "id": "a3d185ca-6b20-48bb-a3f9-a94266ec989b",
   "metadata": {
    "tags": []
   },
   "outputs": [
    {
     "data": {
      "text/plain": [
       "'/u/home/f/f7xiesnm/project-zipursky/v1-bb/v1/results/'"
      ]
     },
     "execution_count": 3,
     "metadata": {},
     "output_type": "execute_result"
    }
   ],
   "source": [
    "outdir = \"/u/home/f/f7xiesnm/project-zipursky/v1-bb/v1/results/\"\n",
    "outdir"
   ]
  },
  {
   "cell_type": "markdown",
   "id": "b6da5d0b-0229-48bb-9878-314b1782f2d2",
   "metadata": {},
   "source": [
    "# get data"
   ]
  },
  {
   "cell_type": "code",
   "execution_count": 4,
   "id": "401d9bdd-a3e7-4e18-82c0-be213eb8e108",
   "metadata": {
    "tags": []
   },
   "outputs": [
    {
     "data": {
      "text/html": [
       "<div>\n",
       "<style scoped>\n",
       "    .dataframe tbody tr th:only-of-type {\n",
       "        vertical-align: middle;\n",
       "    }\n",
       "\n",
       "    .dataframe tbody tr th {\n",
       "        vertical-align: top;\n",
       "    }\n",
       "\n",
       "    .dataframe thead th {\n",
       "        text-align: right;\n",
       "    }\n",
       "</style>\n",
       "<table border=\"1\" class=\"dataframe\">\n",
       "  <thead>\n",
       "    <tr style=\"text-align: right;\">\n",
       "      <th></th>\n",
       "      <th>gene</th>\n",
       "      <th>group</th>\n",
       "      <th>ispicked</th>\n",
       "      <th>P17on</th>\n",
       "      <th>P14</th>\n",
       "      <th>DR</th>\n",
       "      <th>DR_DE</th>\n",
       "      <th>DR_updn</th>\n",
       "    </tr>\n",
       "  </thead>\n",
       "  <tbody>\n",
       "    <tr>\n",
       "      <th>0</th>\n",
       "      <td>Matn2</td>\n",
       "      <td>A2</td>\n",
       "      <td>True</td>\n",
       "      <td>A</td>\n",
       "      <td>BC</td>\n",
       "      <td>1</td>\n",
       "      <td>False</td>\n",
       "      <td>NaN</td>\n",
       "    </tr>\n",
       "    <tr>\n",
       "      <th>1</th>\n",
       "      <td>Fam126a</td>\n",
       "      <td>A2</td>\n",
       "      <td>False</td>\n",
       "      <td>A</td>\n",
       "      <td>unsure</td>\n",
       "      <td>1</td>\n",
       "      <td>False</td>\n",
       "      <td>NaN</td>\n",
       "    </tr>\n",
       "    <tr>\n",
       "      <th>2</th>\n",
       "      <td>Egfem1</td>\n",
       "      <td>A2</td>\n",
       "      <td>True</td>\n",
       "      <td>A</td>\n",
       "      <td>unsure</td>\n",
       "      <td>unsure</td>\n",
       "      <td>False</td>\n",
       "      <td>NaN</td>\n",
       "    </tr>\n",
       "    <tr>\n",
       "      <th>3</th>\n",
       "      <td>Gm19410</td>\n",
       "      <td>A2</td>\n",
       "      <td>False</td>\n",
       "      <td>A</td>\n",
       "      <td>unsure</td>\n",
       "      <td>1</td>\n",
       "      <td>False</td>\n",
       "      <td>NaN</td>\n",
       "    </tr>\n",
       "    <tr>\n",
       "      <th>4</th>\n",
       "      <td>Grk3</td>\n",
       "      <td>A2</td>\n",
       "      <td>False</td>\n",
       "      <td>A</td>\n",
       "      <td>unsure</td>\n",
       "      <td>1</td>\n",
       "      <td>False</td>\n",
       "      <td>NaN</td>\n",
       "    </tr>\n",
       "    <tr>\n",
       "      <th>...</th>\n",
       "      <td>...</td>\n",
       "      <td>...</td>\n",
       "      <td>...</td>\n",
       "      <td>...</td>\n",
       "      <td>...</td>\n",
       "      <td>...</td>\n",
       "      <td>...</td>\n",
       "      <td>...</td>\n",
       "    </tr>\n",
       "    <tr>\n",
       "      <th>281</th>\n",
       "      <td>Brinp3</td>\n",
       "      <td>C3</td>\n",
       "      <td>True</td>\n",
       "      <td>C</td>\n",
       "      <td>BC</td>\n",
       "      <td>unsure</td>\n",
       "      <td>False</td>\n",
       "      <td>NaN</td>\n",
       "    </tr>\n",
       "    <tr>\n",
       "      <th>282</th>\n",
       "      <td>Ell2</td>\n",
       "      <td>C3</td>\n",
       "      <td>True</td>\n",
       "      <td>C</td>\n",
       "      <td>unsure</td>\n",
       "      <td>3</td>\n",
       "      <td>True</td>\n",
       "      <td>DR_up</td>\n",
       "    </tr>\n",
       "    <tr>\n",
       "      <th>283</th>\n",
       "      <td>Gm21949</td>\n",
       "      <td>C3</td>\n",
       "      <td>False</td>\n",
       "      <td>C</td>\n",
       "      <td>unsure</td>\n",
       "      <td>unsure</td>\n",
       "      <td>False</td>\n",
       "      <td>NaN</td>\n",
       "    </tr>\n",
       "    <tr>\n",
       "      <th>284</th>\n",
       "      <td>Jdp2</td>\n",
       "      <td>C3</td>\n",
       "      <td>True</td>\n",
       "      <td>C</td>\n",
       "      <td>BC</td>\n",
       "      <td>3</td>\n",
       "      <td>False</td>\n",
       "      <td>NaN</td>\n",
       "    </tr>\n",
       "    <tr>\n",
       "      <th>285</th>\n",
       "      <td>3632451O06Rik</td>\n",
       "      <td>C3</td>\n",
       "      <td>False</td>\n",
       "      <td>C</td>\n",
       "      <td>unsure</td>\n",
       "      <td>unsure</td>\n",
       "      <td>True</td>\n",
       "      <td>DR_dn</td>\n",
       "    </tr>\n",
       "  </tbody>\n",
       "</table>\n",
       "<p>286 rows × 8 columns</p>\n",
       "</div>"
      ],
      "text/plain": [
       "              gene group  ispicked P17on     P14      DR  DR_DE DR_updn\n",
       "0            Matn2    A2      True     A      BC       1  False     NaN\n",
       "1          Fam126a    A2     False     A  unsure       1  False     NaN\n",
       "2           Egfem1    A2      True     A  unsure  unsure  False     NaN\n",
       "3          Gm19410    A2     False     A  unsure       1  False     NaN\n",
       "4             Grk3    A2     False     A  unsure       1  False     NaN\n",
       "..             ...   ...       ...   ...     ...     ...    ...     ...\n",
       "281         Brinp3    C3      True     C      BC  unsure  False     NaN\n",
       "282           Ell2    C3      True     C  unsure       3   True   DR_up\n",
       "283        Gm21949    C3     False     C  unsure  unsure  False     NaN\n",
       "284           Jdp2    C3      True     C      BC       3  False     NaN\n",
       "285  3632451O06Rik    C3     False     C  unsure  unsure   True   DR_dn\n",
       "\n",
       "[286 rows x 8 columns]"
      ]
     },
     "execution_count": 4,
     "metadata": {},
     "output_type": "execute_result"
    }
   ],
   "source": [
    "f = '/u/home/f/f7xiesnm/project-zipursky/v1-bb/v1/data/cheng21_cell_scrna/res/L23-ABC-genes-n288-n286unq-annot_v2.csv'\n",
    "df2 = pd.read_csv(f)\n",
    "df2"
   ]
  },
  {
   "cell_type": "code",
   "execution_count": 5,
   "id": "b1a256b5-a3e2-4e55-ac67-470c382ec390",
   "metadata": {
    "tags": []
   },
   "outputs": [
    {
     "name": "stderr",
     "output_type": "stream",
     "text": [
      "/tmp/ipykernel_230068/12491127.py:3: DtypeWarning: Columns (1,4) have mixed types. Specify dtype option on import or set low_memory=False.\n",
      "  meta = pd.read_csv(f, index_col=0)\n"
     ]
    },
    {
     "data": {
      "text/html": [
       "<div>\n",
       "<style scoped>\n",
       "    .dataframe tbody tr th:only-of-type {\n",
       "        vertical-align: middle;\n",
       "    }\n",
       "\n",
       "    .dataframe tbody tr th {\n",
       "        vertical-align: top;\n",
       "    }\n",
       "\n",
       "    .dataframe thead th {\n",
       "        text-align: right;\n",
       "    }\n",
       "</style>\n",
       "<table border=\"1\" class=\"dataframe\">\n",
       "  <thead>\n",
       "    <tr style=\"text-align: right;\">\n",
       "      <th></th>\n",
       "      <th>Class_broad</th>\n",
       "      <th>Doublet</th>\n",
       "      <th>Doublet Score</th>\n",
       "      <th>batch</th>\n",
       "      <th>leiden</th>\n",
       "      <th>n_counts</th>\n",
       "      <th>n_genes</th>\n",
       "      <th>percent_mito</th>\n",
       "      <th>sample</th>\n",
       "      <th>Type</th>\n",
       "      <th>Subclass</th>\n",
       "      <th>cond</th>\n",
       "      <th>easitype</th>\n",
       "      <th>umap1</th>\n",
       "      <th>umap2</th>\n",
       "      <th>easisample</th>\n",
       "      <th>easicond</th>\n",
       "      <th>newtype</th>\n",
       "    </tr>\n",
       "  </thead>\n",
       "  <tbody>\n",
       "    <tr>\n",
       "      <th>AAACGCTCACTTCATT-1-P8_1a-P8</th>\n",
       "      <td>Excitatory</td>\n",
       "      <td>False</td>\n",
       "      <td>0.025713</td>\n",
       "      <td>1</td>\n",
       "      <td>0</td>\n",
       "      <td>23384.0</td>\n",
       "      <td>4943</td>\n",
       "      <td>0.000128</td>\n",
       "      <td>P8_1a</td>\n",
       "      <td>L2/3_AB</td>\n",
       "      <td>L2/3</td>\n",
       "      <td>P8NR</td>\n",
       "      <td>L2/3_A</td>\n",
       "      <td>NaN</td>\n",
       "      <td>NaN</td>\n",
       "      <td>1a</td>\n",
       "      <td>1-P08NR</td>\n",
       "      <td>L2/3_A</td>\n",
       "    </tr>\n",
       "    <tr>\n",
       "      <th>AAAGGATAGGTGCATG-1-P8_1a-P8</th>\n",
       "      <td>Excitatory</td>\n",
       "      <td>False</td>\n",
       "      <td>0.011883</td>\n",
       "      <td>1</td>\n",
       "      <td>0</td>\n",
       "      <td>17774.0</td>\n",
       "      <td>4698</td>\n",
       "      <td>0.000169</td>\n",
       "      <td>P8_1a</td>\n",
       "      <td>L2/3_AB</td>\n",
       "      <td>L2/3</td>\n",
       "      <td>P8NR</td>\n",
       "      <td>L2/3_A</td>\n",
       "      <td>NaN</td>\n",
       "      <td>NaN</td>\n",
       "      <td>1a</td>\n",
       "      <td>1-P08NR</td>\n",
       "      <td>L2/3_A</td>\n",
       "    </tr>\n",
       "    <tr>\n",
       "      <th>AAAGGGCCAGTATACC-1-P8_1a-P8</th>\n",
       "      <td>Excitatory</td>\n",
       "      <td>False</td>\n",
       "      <td>0.024667</td>\n",
       "      <td>1</td>\n",
       "      <td>0</td>\n",
       "      <td>15872.0</td>\n",
       "      <td>4173</td>\n",
       "      <td>0.000126</td>\n",
       "      <td>P8_1a</td>\n",
       "      <td>L2/3_AB</td>\n",
       "      <td>L2/3</td>\n",
       "      <td>P8NR</td>\n",
       "      <td>L2/3_A</td>\n",
       "      <td>NaN</td>\n",
       "      <td>NaN</td>\n",
       "      <td>1a</td>\n",
       "      <td>1-P08NR</td>\n",
       "      <td>L2/3_A</td>\n",
       "    </tr>\n",
       "    <tr>\n",
       "      <th>AAAGTCCCATATACCG-1-P8_1a-P8</th>\n",
       "      <td>Excitatory</td>\n",
       "      <td>False</td>\n",
       "      <td>0.027921</td>\n",
       "      <td>1</td>\n",
       "      <td>0</td>\n",
       "      <td>20076.0</td>\n",
       "      <td>4761</td>\n",
       "      <td>0.000050</td>\n",
       "      <td>P8_1a</td>\n",
       "      <td>L2/3_AB</td>\n",
       "      <td>L2/3</td>\n",
       "      <td>P8NR</td>\n",
       "      <td>L2/3_A</td>\n",
       "      <td>NaN</td>\n",
       "      <td>NaN</td>\n",
       "      <td>1a</td>\n",
       "      <td>1-P08NR</td>\n",
       "      <td>L2/3_A</td>\n",
       "    </tr>\n",
       "    <tr>\n",
       "      <th>AAAGTCCTCAGATGCT-1-P8_1a-P8</th>\n",
       "      <td>Excitatory</td>\n",
       "      <td>False</td>\n",
       "      <td>0.009527</td>\n",
       "      <td>1</td>\n",
       "      <td>4</td>\n",
       "      <td>19061.0</td>\n",
       "      <td>4601</td>\n",
       "      <td>0.000000</td>\n",
       "      <td>P8_1a</td>\n",
       "      <td>L2/3_BC</td>\n",
       "      <td>L2/3</td>\n",
       "      <td>P8NR</td>\n",
       "      <td>L2/3_C</td>\n",
       "      <td>NaN</td>\n",
       "      <td>NaN</td>\n",
       "      <td>1a</td>\n",
       "      <td>1-P08NR</td>\n",
       "      <td>L2/3_C</td>\n",
       "    </tr>\n",
       "    <tr>\n",
       "      <th>...</th>\n",
       "      <td>...</td>\n",
       "      <td>...</td>\n",
       "      <td>...</td>\n",
       "      <td>...</td>\n",
       "      <td>...</td>\n",
       "      <td>...</td>\n",
       "      <td>...</td>\n",
       "      <td>...</td>\n",
       "      <td>...</td>\n",
       "      <td>...</td>\n",
       "      <td>...</td>\n",
       "      <td>...</td>\n",
       "      <td>...</td>\n",
       "      <td>...</td>\n",
       "      <td>...</td>\n",
       "      <td>...</td>\n",
       "      <td>...</td>\n",
       "      <td>...</td>\n",
       "    </tr>\n",
       "    <tr>\n",
       "      <th>TTTGGTTCAGTTGTTG-1-P38_dr_1a</th>\n",
       "      <td>NaN</td>\n",
       "      <td>False</td>\n",
       "      <td>0.042872</td>\n",
       "      <td>11</td>\n",
       "      <td>1</td>\n",
       "      <td>11379.0</td>\n",
       "      <td>3568</td>\n",
       "      <td>0.000879</td>\n",
       "      <td>P38_dr_1a</td>\n",
       "      <td>L2/3_3</td>\n",
       "      <td>L2/3</td>\n",
       "      <td>P38DR</td>\n",
       "      <td>L2/3_C</td>\n",
       "      <td>NaN</td>\n",
       "      <td>NaN</td>\n",
       "      <td>1a</td>\n",
       "      <td>2-P38DR</td>\n",
       "      <td>L2/3_B</td>\n",
       "    </tr>\n",
       "    <tr>\n",
       "      <th>TTTGGTTTCTGCCTGT-1-P38_dr_2b</th>\n",
       "      <td>NaN</td>\n",
       "      <td>False</td>\n",
       "      <td>0.007108</td>\n",
       "      <td>2</td>\n",
       "      <td>1</td>\n",
       "      <td>16050.0</td>\n",
       "      <td>3104</td>\n",
       "      <td>0.000062</td>\n",
       "      <td>P38_dr_2b</td>\n",
       "      <td>L2/3_3</td>\n",
       "      <td>L2/3</td>\n",
       "      <td>P38DR</td>\n",
       "      <td>L2/3_C</td>\n",
       "      <td>NaN</td>\n",
       "      <td>NaN</td>\n",
       "      <td>2b</td>\n",
       "      <td>2-P38DR</td>\n",
       "      <td>L2/3_B</td>\n",
       "    </tr>\n",
       "    <tr>\n",
       "      <th>TTTGTTGCACCGGTCA-1-P38_dr_2a</th>\n",
       "      <td>NaN</td>\n",
       "      <td>False</td>\n",
       "      <td>0.030928</td>\n",
       "      <td>2</td>\n",
       "      <td>1</td>\n",
       "      <td>13955.0</td>\n",
       "      <td>3739</td>\n",
       "      <td>0.001146</td>\n",
       "      <td>P38_dr_2a</td>\n",
       "      <td>L2/3_3</td>\n",
       "      <td>L2/3</td>\n",
       "      <td>P38DR</td>\n",
       "      <td>L2/3_C</td>\n",
       "      <td>NaN</td>\n",
       "      <td>NaN</td>\n",
       "      <td>2a</td>\n",
       "      <td>2-P38DR</td>\n",
       "      <td>L2/3_B</td>\n",
       "    </tr>\n",
       "    <tr>\n",
       "      <th>TTTGTTGGTGGCTAGA-1-P38_dr_2b</th>\n",
       "      <td>NaN</td>\n",
       "      <td>False</td>\n",
       "      <td>0.015884</td>\n",
       "      <td>3</td>\n",
       "      <td>4</td>\n",
       "      <td>7272.0</td>\n",
       "      <td>2789</td>\n",
       "      <td>0.000963</td>\n",
       "      <td>P38_dr_2b</td>\n",
       "      <td>L2/3_2</td>\n",
       "      <td>L2/3</td>\n",
       "      <td>P38DR</td>\n",
       "      <td>L2/3_B</td>\n",
       "      <td>NaN</td>\n",
       "      <td>NaN</td>\n",
       "      <td>2b</td>\n",
       "      <td>2-P38DR</td>\n",
       "      <td>L2/3_A</td>\n",
       "    </tr>\n",
       "    <tr>\n",
       "      <th>TTTGTTGTCTATTGTC-1-P38_dr_1a</th>\n",
       "      <td>NaN</td>\n",
       "      <td>False</td>\n",
       "      <td>0.028005</td>\n",
       "      <td>3</td>\n",
       "      <td>4</td>\n",
       "      <td>11447.0</td>\n",
       "      <td>2959</td>\n",
       "      <td>0.000262</td>\n",
       "      <td>P38_dr_1a</td>\n",
       "      <td>L2/3_2</td>\n",
       "      <td>L2/3</td>\n",
       "      <td>P38DR</td>\n",
       "      <td>L2/3_B</td>\n",
       "      <td>NaN</td>\n",
       "      <td>NaN</td>\n",
       "      <td>1a</td>\n",
       "      <td>2-P38DR</td>\n",
       "      <td>L2/3_B</td>\n",
       "    </tr>\n",
       "  </tbody>\n",
       "</table>\n",
       "<p>41048 rows × 18 columns</p>\n",
       "</div>"
      ],
      "text/plain": [
       "                             Class_broad  Doublet  Doublet Score batch  \\\n",
       "AAACGCTCACTTCATT-1-P8_1a-P8   Excitatory    False       0.025713     1   \n",
       "AAAGGATAGGTGCATG-1-P8_1a-P8   Excitatory    False       0.011883     1   \n",
       "AAAGGGCCAGTATACC-1-P8_1a-P8   Excitatory    False       0.024667     1   \n",
       "AAAGTCCCATATACCG-1-P8_1a-P8   Excitatory    False       0.027921     1   \n",
       "AAAGTCCTCAGATGCT-1-P8_1a-P8   Excitatory    False       0.009527     1   \n",
       "...                                  ...      ...            ...   ...   \n",
       "TTTGGTTCAGTTGTTG-1-P38_dr_1a         NaN    False       0.042872    11   \n",
       "TTTGGTTTCTGCCTGT-1-P38_dr_2b         NaN    False       0.007108     2   \n",
       "TTTGTTGCACCGGTCA-1-P38_dr_2a         NaN    False       0.030928     2   \n",
       "TTTGTTGGTGGCTAGA-1-P38_dr_2b         NaN    False       0.015884     3   \n",
       "TTTGTTGTCTATTGTC-1-P38_dr_1a         NaN    False       0.028005     3   \n",
       "\n",
       "                              leiden  n_counts  n_genes  percent_mito  \\\n",
       "AAACGCTCACTTCATT-1-P8_1a-P8        0   23384.0     4943      0.000128   \n",
       "AAAGGATAGGTGCATG-1-P8_1a-P8        0   17774.0     4698      0.000169   \n",
       "AAAGGGCCAGTATACC-1-P8_1a-P8        0   15872.0     4173      0.000126   \n",
       "AAAGTCCCATATACCG-1-P8_1a-P8        0   20076.0     4761      0.000050   \n",
       "AAAGTCCTCAGATGCT-1-P8_1a-P8        4   19061.0     4601      0.000000   \n",
       "...                              ...       ...      ...           ...   \n",
       "TTTGGTTCAGTTGTTG-1-P38_dr_1a       1   11379.0     3568      0.000879   \n",
       "TTTGGTTTCTGCCTGT-1-P38_dr_2b       1   16050.0     3104      0.000062   \n",
       "TTTGTTGCACCGGTCA-1-P38_dr_2a       1   13955.0     3739      0.001146   \n",
       "TTTGTTGGTGGCTAGA-1-P38_dr_2b       4    7272.0     2789      0.000963   \n",
       "TTTGTTGTCTATTGTC-1-P38_dr_1a       4   11447.0     2959      0.000262   \n",
       "\n",
       "                                 sample     Type Subclass   cond easitype  \\\n",
       "AAACGCTCACTTCATT-1-P8_1a-P8       P8_1a  L2/3_AB     L2/3   P8NR   L2/3_A   \n",
       "AAAGGATAGGTGCATG-1-P8_1a-P8       P8_1a  L2/3_AB     L2/3   P8NR   L2/3_A   \n",
       "AAAGGGCCAGTATACC-1-P8_1a-P8       P8_1a  L2/3_AB     L2/3   P8NR   L2/3_A   \n",
       "AAAGTCCCATATACCG-1-P8_1a-P8       P8_1a  L2/3_AB     L2/3   P8NR   L2/3_A   \n",
       "AAAGTCCTCAGATGCT-1-P8_1a-P8       P8_1a  L2/3_BC     L2/3   P8NR   L2/3_C   \n",
       "...                                 ...      ...      ...    ...      ...   \n",
       "TTTGGTTCAGTTGTTG-1-P38_dr_1a  P38_dr_1a   L2/3_3     L2/3  P38DR   L2/3_C   \n",
       "TTTGGTTTCTGCCTGT-1-P38_dr_2b  P38_dr_2b   L2/3_3     L2/3  P38DR   L2/3_C   \n",
       "TTTGTTGCACCGGTCA-1-P38_dr_2a  P38_dr_2a   L2/3_3     L2/3  P38DR   L2/3_C   \n",
       "TTTGTTGGTGGCTAGA-1-P38_dr_2b  P38_dr_2b   L2/3_2     L2/3  P38DR   L2/3_B   \n",
       "TTTGTTGTCTATTGTC-1-P38_dr_1a  P38_dr_1a   L2/3_2     L2/3  P38DR   L2/3_B   \n",
       "\n",
       "                              umap1  umap2 easisample easicond newtype  \n",
       "AAACGCTCACTTCATT-1-P8_1a-P8     NaN    NaN         1a  1-P08NR  L2/3_A  \n",
       "AAAGGATAGGTGCATG-1-P8_1a-P8     NaN    NaN         1a  1-P08NR  L2/3_A  \n",
       "AAAGGGCCAGTATACC-1-P8_1a-P8     NaN    NaN         1a  1-P08NR  L2/3_A  \n",
       "AAAGTCCCATATACCG-1-P8_1a-P8     NaN    NaN         1a  1-P08NR  L2/3_A  \n",
       "AAAGTCCTCAGATGCT-1-P8_1a-P8     NaN    NaN         1a  1-P08NR  L2/3_C  \n",
       "...                             ...    ...        ...      ...     ...  \n",
       "TTTGGTTCAGTTGTTG-1-P38_dr_1a    NaN    NaN         1a  2-P38DR  L2/3_B  \n",
       "TTTGGTTTCTGCCTGT-1-P38_dr_2b    NaN    NaN         2b  2-P38DR  L2/3_B  \n",
       "TTTGTTGCACCGGTCA-1-P38_dr_2a    NaN    NaN         2a  2-P38DR  L2/3_B  \n",
       "TTTGTTGGTGGCTAGA-1-P38_dr_2b    NaN    NaN         2b  2-P38DR  L2/3_A  \n",
       "TTTGTTGTCTATTGTC-1-P38_dr_1a    NaN    NaN         1a  2-P38DR  L2/3_B  \n",
       "\n",
       "[41048 rows x 18 columns]"
      ]
     },
     "execution_count": 5,
     "metadata": {},
     "output_type": "execute_result"
    }
   ],
   "source": [
    "# get updated cell types\n",
    "f = \"/u/home/f/f7xiesnm/project-zipursky/v1-bb/v1/results/allL23_newtypes.csv\"\n",
    "meta = pd.read_csv(f, index_col=0)\n",
    "meta"
   ]
  },
  {
   "cell_type": "code",
   "execution_count": 6,
   "id": "e43f80ec-a2ee-4d27-9566-541ec29d9ae7",
   "metadata": {},
   "outputs": [],
   "source": [
    "ddir = '../../data/cheng21_cell_scrna/organized/'\n",
    "files = [\n",
    "    'P28NR.h5ad',\n",
    "    'P38NR.h5ad',\n",
    "    \n",
    "    # 'P28DR.h5ad',\n",
    "    # 'P38DR.h5ad',\n",
    "    'P28DL.h5ad',\n",
    "] "
   ]
  },
  {
   "cell_type": "code",
   "execution_count": 7,
   "id": "0d04b281-406a-45ea-9a2b-61366a21a30d",
   "metadata": {
    "tags": []
   },
   "outputs": [
    {
     "name": "stdout",
     "output_type": "stream",
     "text": [
      "P28NR.h5ad\n",
      "['1_L2/3_A' '1_L2/3_B' '1_L2/3_C' '2_L2/3_A' '2_L2/3_B' '2_L2/3_C']\n",
      "(6, 53801)\n",
      "P38NR.h5ad\n",
      "(6, 53801)\n",
      "P28DL.h5ad\n",
      "(6, 53801)\n",
      "(3, 6, 53801)\n",
      "(3, 2, 3, 53801)\n"
     ]
    }
   ],
   "source": [
    "pbulks = []\n",
    "xclsts = []\n",
    "xcnsts = []\n",
    "\n",
    "ncond, nrep, nclst, ngene = 3,2,3,-1, #42-3,-1 # remove 3 L4 types\n",
    "\n",
    "for f in files:\n",
    "    print(f)\n",
    "    \n",
    "    path = os.path.join(ddir, f)\n",
    "    adata = anndata.read(path)\n",
    "    genes = adata.var.index.values\n",
    "    \n",
    "    adata = adata[adata.obs['Type'].str.contains('L2/3')]\n",
    "    mat = adata.X\n",
    "    \n",
    "    # update new type \n",
    "    tmp = adata.obs.copy()\n",
    "    tmp['newtype'] = tmp['Type']\n",
    "    tmp.update(meta[['newtype']])\n",
    "    types = tmp['newtype'].values\n",
    "    # types = tmp['Subclass'].astype(str).values\n",
    "    \n",
    "    # 1 or 2\n",
    "    sample_codes = adata.obs['sample'].apply(lambda x: x.split('_')[-1][:-1].replace('3', '2')).astype(str).values\n",
    "    # sample_codes = adata.obs['sample'].apply(lambda x: x.split('_')[-1].replace('3', '2')).astype(str).values\n",
    "    sample_and_type = sample_codes + \"_\" + types\n",
    "    unqs, cnts = np.unique(sample_and_type, return_counts=True)\n",
    "    _xclsts, Xk, Xk_n, Xk_ln = basicu.counts_to_bulk_profiles(mat, sample_and_type) \n",
    "    \n",
    "    # check all types + reps are the same\n",
    "    if len(xclsts) > 0:\n",
    "        if not np.all(_xclsts == xclsts):\n",
    "            raise ValueError(_xclsts.shape, xclsts.shape, _xclsts, xclsts,)\n",
    "        if not np.all(_xclsts == unqs):\n",
    "            raise ValueError(_xclsts.shape, unqs.shape, _xclsts, unqs,)\n",
    "    else:\n",
    "        xclsts = _xclsts\n",
    "        print(xclsts)\n",
    "        \n",
    "    print(Xk_ln.shape)\n",
    "    pbulks.append(Xk_ln)\n",
    "    xcnsts.append(cnts)\n",
    "    \n",
    "pbulks = np.array(pbulks)\n",
    "xcnsts = np.array(xcnsts)\n",
    "print(pbulks.shape)\n",
    "pbulks = pbulks.reshape(ncond,nrep,nclst,-1)\n",
    "xcnsts = xcnsts.reshape(ncond,nrep,nclst)\n",
    "xclsts = xclsts.reshape(      nrep,nclst)\n",
    "print(pbulks.shape)"
   ]
  },
  {
   "cell_type": "code",
   "execution_count": null,
   "id": "d3bfbff1-1328-4a1b-8698-98b391441d67",
   "metadata": {},
   "outputs": [],
   "source": []
  },
  {
   "cell_type": "code",
   "execution_count": 8,
   "id": "1b61a4ca-7b0e-4d36-8186-cefc678cc09d",
   "metadata": {
    "tags": []
   },
   "outputs": [
    {
     "name": "stdout",
     "output_type": "stream",
     "text": [
      "(2, 4, 3, 53801)\n"
     ]
    }
   ],
   "source": [
    "pbulks = pbulks.reshape(2,4,3,53801)\n",
    "print(pbulks.shape)"
   ]
  },
  {
   "cell_type": "code",
   "execution_count": 9,
   "id": "85e146ef-c970-4b51-bdf4-c6cb36627ddd",
   "metadata": {
    "tags": []
   },
   "outputs": [
    {
     "data": {
      "text/plain": [
       "((2, 4, 3), True)"
      ]
     },
     "execution_count": 9,
     "metadata": {},
     "output_type": "execute_result"
    }
   ],
   "source": [
    "# check the pbulks are good -- log10(CPM+1) for each sample\n",
    "checkpbulks = np.sum(np.power(10, pbulks)-1, axis=-1)\n",
    "checkpbulks.shape, np.all(np.abs(checkpbulks-1e6) < 1e-6)"
   ]
  },
  {
   "cell_type": "code",
   "execution_count": 10,
   "id": "b1fe5648-3bd5-493d-84e8-a9574f9df196",
   "metadata": {
    "tags": []
   },
   "outputs": [
    {
     "data": {
      "text/plain": [
       "(array(['L2/3_A', 'L2/3_B', 'L2/3_C'], dtype='<U6'), (3,))"
      ]
     },
     "execution_count": 10,
     "metadata": {},
     "output_type": "execute_result"
    }
   ],
   "source": [
    "# xclsts_short = np.array([clst[len(\"1a_\"):] for clst in xclsts[0]]) #, '_'\n",
    "xclsts_short = np.array([clst[len(\"1_\"):] for clst in xclsts[0]]) #, '_'\n",
    "xclsts_short, xclsts_short.shape"
   ]
  },
  {
   "cell_type": "markdown",
   "id": "d2b28119-e2b4-4ebb-a87d-5599fd9d7f71",
   "metadata": {},
   "source": [
    "# filter out small bulk profiles"
   ]
  },
  {
   "cell_type": "code",
   "execution_count": 11,
   "id": "5aa26e9d-2f00-441f-be3a-ddde72868f5a",
   "metadata": {
    "tags": []
   },
   "outputs": [
    {
     "data": {
      "text/plain": [
       "(array(['L2/3_A', 'L2/3_B', 'L2/3_C'], dtype='<U6'), array([0, 1, 2]), (3,))"
      ]
     },
     "execution_count": 11,
     "metadata": {},
     "output_type": "execute_result"
    }
   ],
   "source": [
    "numcells = pd.DataFrame(xcnsts.T.reshape(-1,nrep*ncond), index=xclsts_short)\n",
    "xclsts_sel = xclsts_short[numcells.min(axis=1)>50]\n",
    "unq_types = xclsts_sel\n",
    "xclsts_selidx = basicu.get_index_from_array(xclsts_short, xclsts_sel)\n",
    "pbulks = pbulks[:,:,xclsts_selidx,:]\n",
    "xclsts_sel, xclsts_selidx, xclsts_sel.shape"
   ]
  },
  {
   "cell_type": "code",
   "execution_count": 12,
   "id": "8a0cd0d3-aa43-4093-b542-db005c3b3f71",
   "metadata": {
    "tags": []
   },
   "outputs": [
    {
     "data": {
      "text/plain": [
       "L2/3_A    108\n",
       "L2/3_C    190\n",
       "L2/3_B    422\n",
       "dtype: int64"
      ]
     },
     "execution_count": 12,
     "metadata": {},
     "output_type": "execute_result"
    }
   ],
   "source": [
    "numcells.min(axis=1).sort_values()"
   ]
  },
  {
   "cell_type": "markdown",
   "id": "7b59f6b2-c26a-4de8-bf23-6912b4066b38",
   "metadata": {},
   "source": [
    "# filter out unexpressed genes"
   ]
  },
  {
   "cell_type": "code",
   "execution_count": 13,
   "id": "15b532d3-1b84-49d8-a534-8c95cc329368",
   "metadata": {
    "tags": []
   },
   "outputs": [
    {
     "name": "stdout",
     "output_type": "stream",
     "text": [
      "(53801, 3, 4)\n",
      "(53801, 3, 4)\n",
      "(9241, 3, 4)\n",
      "(9241, 3, 4)\n"
     ]
    }
   ],
   "source": [
    "tensor_nr = pbulks[0].T\n",
    "tensor_dr = pbulks[1].T\n",
    "print(tensor_nr.shape)\n",
    "print(tensor_dr.shape)\n",
    "\n",
    "# mean exp of CPM=10 in any subclass in either NR or DR\n",
    "expressed_nr  = np.any(np.mean(tensor_nr, axis=2) > np.log10(10+1), axis=1) \n",
    "expressed_dr  = np.any(np.mean(tensor_dr, axis=2) > np.log10(10+1), axis=1) \n",
    "expressed_any = np.logical_or(expressed_nr, expressed_dr)\n",
    "\n",
    "genes_comm = genes[expressed_any]\n",
    "genes_cidx = np.arange(len(genes))[expressed_any] \n",
    "tensor_nr = pbulks[0].T[genes_cidx]\n",
    "tensor_dr = pbulks[1].T[genes_cidx]\n",
    "\n",
    "print(tensor_nr.shape)\n",
    "print(tensor_dr.shape)"
   ]
  },
  {
   "cell_type": "code",
   "execution_count": 14,
   "id": "bafe43e7-8d12-4583-99c6-6d857e5128e5",
   "metadata": {
    "tags": []
   },
   "outputs": [
    {
     "data": {
      "image/png": "[encoded data removed]",
      "text/plain": [
       "<Figure size 300x500 with 1 Axes>"
      ]
     },
     "metadata": {
      "image/png": {
       "height": 444,
       "width": 372
      }
     },
     "output_type": "display_data"
    }
   ],
   "source": [
    "idx = np.arange(len(genes))[~expressed_any]\n",
    "tensor_nr_ctrl = pbulks[0].T[idx]\n",
    "tensor_dr_ctrl = pbulks[1].T[idx]\n",
    "\n",
    "a = np.sum(np.power(10, tensor_nr_ctrl)-1, axis=0).ravel()\n",
    "b = np.sum(np.power(10, tensor_dr_ctrl)-1, axis=0).ravel()\n",
    "\n",
    "fig, ax = plt.subplots(figsize=(3,5))\n",
    "for ai, bi in zip(a,b):\n",
    "    ax.plot([0,1], [ai,bi], '-', color='gray', linewidth=1, markersize=1)\n",
    "sns.boxplot([a,b], ax=ax)\n",
    "ax.set_ylabel('total CPM of excluded genes')\n",
    "ax.set_xticklabels(['NR', 'DR'])\n",
    "plt.show()"
   ]
  },
  {
   "cell_type": "markdown",
   "id": "f16a969a-dc05-4544-94a5-9e748d6a9154",
   "metadata": {},
   "source": [
    "# correlation"
   ]
  },
  {
   "cell_type": "code",
   "execution_count": 15,
   "id": "a0164038-c795-4bd0-9b55-6c5b0f046704",
   "metadata": {
    "tags": []
   },
   "outputs": [
    {
     "name": "stdout",
     "output_type": "stream",
     "text": [
      "P28NR.h5ad\n",
      "['1_L2/3_A' '1_L2/3_B' '1_L2/3_C' '2_L2/3_A' '2_L2/3_B' '2_L2/3_C']\n",
      "(6, 53801)\n",
      "P38NR.h5ad\n",
      "(6, 53801)\n",
      "P28DR.h5ad\n",
      "(6, 53801)\n",
      "P38DR.h5ad\n",
      "(6, 53801)\n",
      "(4, 6, 53801)\n",
      "(4, 2, 3, 53801)\n"
     ]
    }
   ],
   "source": [
    "pbulks2 = []\n",
    "xclsts = []\n",
    "xcnsts = []\n",
    "\n",
    "ncond, nrep, nclst, ngene = 4,2,3,-1, #42-3,-1 # remove 3 L4 types\n",
    "\n",
    "for f in files:\n",
    "    print(f)\n",
    "    \n",
    "    path = os.path.join(ddir, f)\n",
    "    adata = anndata.read(path)\n",
    "    genes = adata.var.index.values\n",
    "    \n",
    "    adata = adata[adata.obs['Type'].str.contains('L2/3')]\n",
    "    mat = adata.X\n",
    "    \n",
    "    # update new type \n",
    "    tmp = adata.obs.copy()\n",
    "    tmp['easitype'] = tmp['Type']\n",
    "    tmp.update(meta[['easitype']])\n",
    "    types = tmp['easitype'].values\n",
    "    # types = tmp['Subclass'].astype(str).values\n",
    "    \n",
    "    # 1 or 2\n",
    "    sample_codes = adata.obs['sample'].apply(lambda x: x.split('_')[-1][:-1].replace('3', '2')).astype(str).values\n",
    "    # sample_codes = adata.obs['sample'].apply(lambda x: x.split('_')[-1].replace('3', '2')).astype(str).values\n",
    "    sample_and_type = sample_codes + \"_\" + types\n",
    "    unqs, cnts = np.unique(sample_and_type, return_counts=True)\n",
    "    _xclsts, Xk, Xk_n, Xk_ln = basicu.counts_to_bulk_profiles(mat, sample_and_type) \n",
    "    \n",
    "    # check all types + reps are the same\n",
    "    if len(xclsts) > 0:\n",
    "        if not np.all(_xclsts == xclsts):\n",
    "            raise ValueError(_xclsts.shape, xclsts.shape, _xclsts, xclsts,)\n",
    "        if not np.all(_xclsts == unqs):\n",
    "            raise ValueError(_xclsts.shape, unqs.shape, _xclsts, unqs,)\n",
    "    else:\n",
    "        xclsts = _xclsts\n",
    "        print(xclsts)\n",
    "        \n",
    "    print(Xk_ln.shape)\n",
    "    pbulks2.append(Xk_ln)\n",
    "    xcnsts.append(cnts)\n",
    "    \n",
    "pbulks2 = np.array(pbulks2)\n",
    "xcnsts = np.array(xcnsts)\n",
    "print(pbulks2.shape)\n",
    "pbulks2 = pbulks2.reshape(ncond,nrep,nclst,-1)\n",
    "xcnsts = xcnsts.reshape(ncond,nrep,nclst)\n",
    "xclsts = xclsts.reshape(      nrep,nclst)\n",
    "print(pbulks2.shape)"
   ]
  },
  {
   "cell_type": "code",
   "execution_count": 16,
   "id": "4845ae13-af18-4f3f-8842-e37e2de5d5e5",
   "metadata": {
    "tags": []
   },
   "outputs": [
    {
     "name": "stdout",
     "output_type": "stream",
     "text": [
      "(2, 4, 3, 53801)\n"
     ]
    }
   ],
   "source": [
    "pbulks2 = pbulks2.reshape(2,4,3,53801)\n",
    "print(pbulks2.shape)"
   ]
  },
  {
   "cell_type": "code",
   "execution_count": 17,
   "id": "a71f91ba-9bac-4012-95b9-22700adfe5db",
   "metadata": {
    "tags": []
   },
   "outputs": [
    {
     "data": {
      "text/plain": [
       "((2, 4, 3, 53801), (2, 4, 3, 53801))"
      ]
     },
     "execution_count": 17,
     "metadata": {},
     "output_type": "execute_result"
    }
   ],
   "source": [
    "pbulks.shape, pbulks2.shape"
   ]
  },
  {
   "cell_type": "code",
   "execution_count": null,
   "id": "780896ff-0794-49b7-8b98-1dd433fc1de5",
   "metadata": {},
   "outputs": [],
   "source": []
  },
  {
   "cell_type": "code",
   "execution_count": 18,
   "id": "f3b7a0df-08b9-467f-81b9-99bcf93ac0f5",
   "metadata": {
    "tags": []
   },
   "outputs": [
    {
     "name": "stdout",
     "output_type": "stream",
     "text": [
      "P28NR.h5ad\n",
      "['L2/3_A' 'L2/3_B' 'L2/3_C']\n",
      "(3, 53801)\n",
      "P38NR.h5ad\n",
      "(3, 53801)\n",
      "P28DR.h5ad\n",
      "(3, 53801)\n",
      "P38DR.h5ad\n",
      "(3, 53801)\n",
      "(4, 3, 53801)\n",
      "(4, 1, 3, 53801)\n"
     ]
    }
   ],
   "source": [
    "pbulks3 = []\n",
    "xclsts = []\n",
    "xcnsts = []\n",
    "\n",
    "ncond, nrep, nclst, ngene = 4,1,3,-1, #42-3,-1 # remove 3 L4 types\n",
    "\n",
    "for f in files:\n",
    "    print(f)\n",
    "    \n",
    "    path = os.path.join(ddir, f)\n",
    "    adata = anndata.read(path)\n",
    "    genes = adata.var.index.values\n",
    "    \n",
    "    adata = adata[adata.obs['Type'].str.contains('L2/3')]\n",
    "    mat = adata.X\n",
    "    \n",
    "    # update new type \n",
    "    tmp = adata.obs.copy()\n",
    "    tmp['newtype'] = tmp['Type']\n",
    "    tmp.update(meta[['newtype']])\n",
    "    types = tmp['newtype'].values\n",
    "    # types = tmp['Subclass'].astype(str).values\n",
    "    \n",
    "    # 1 or 2\n",
    "    # sample_codes = adata.obs['sample'].apply(lambda x: x.split('_')[-1][:-1].replace('3', '2')).astype(str).values\n",
    "    # sample_codes = adata.obs['sample'].apply(lambda x: x.split('_')[-1].replace('3', '2')).astype(str).values\n",
    "    # sample_and_type = sample_codes + \"_\" + types\n",
    "    sample_and_type = types\n",
    "    unqs, cnts = np.unique(sample_and_type, return_counts=True)\n",
    "    _xclsts, Xk, Xk_n, Xk_ln = basicu.counts_to_bulk_profiles(mat, sample_and_type) \n",
    "    \n",
    "    # check all types + reps are the same\n",
    "    if len(xclsts) > 0:\n",
    "        if not np.all(_xclsts == xclsts):\n",
    "            raise ValueError(_xclsts.shape, xclsts.shape, _xclsts, xclsts,)\n",
    "        if not np.all(_xclsts == unqs):\n",
    "            raise ValueError(_xclsts.shape, unqs.shape, _xclsts, unqs,)\n",
    "    else:\n",
    "        xclsts = _xclsts\n",
    "        print(xclsts)\n",
    "        \n",
    "    print(Xk_ln.shape)\n",
    "    pbulks3.append(Xk_ln)\n",
    "    xcnsts.append(cnts)\n",
    "    \n",
    "pbulks3 = np.array(pbulks3)\n",
    "xcnsts = np.array(xcnsts)\n",
    "print(pbulks3.shape)\n",
    "pbulks3 = pbulks3.reshape(ncond,nrep,nclst,-1)\n",
    "xcnsts = xcnsts.reshape(ncond,nrep,nclst)\n",
    "xclsts = xclsts.reshape(      nrep,nclst)\n",
    "print(pbulks3.shape)\n",
    "\n"
   ]
  },
  {
   "cell_type": "code",
   "execution_count": 19,
   "id": "7fce4bd0-9128-4cae-881a-255ae72d3dac",
   "metadata": {
    "tags": []
   },
   "outputs": [
    {
     "name": "stdout",
     "output_type": "stream",
     "text": [
      "(2, 2, 3, 53801)\n"
     ]
    }
   ],
   "source": [
    "pbulks3 = pbulks3.reshape(2,2,3,53801)\n",
    "print(pbulks3.shape)"
   ]
  },
  {
   "cell_type": "code",
   "execution_count": 20,
   "id": "e756c580-5c60-4dd0-9067-09358b63e8ae",
   "metadata": {
    "tags": []
   },
   "outputs": [
    {
     "name": "stdout",
     "output_type": "stream",
     "text": [
      "P28NR.h5ad\n",
      "['L2/3_A' 'L2/3_B' 'L2/3_C']\n",
      "(3, 53801)\n",
      "P38NR.h5ad\n",
      "(3, 53801)\n",
      "P28DR.h5ad\n",
      "(3, 53801)\n",
      "P38DR.h5ad\n",
      "(3, 53801)\n",
      "(4, 3, 53801)\n",
      "(4, 1, 3, 53801)\n"
     ]
    }
   ],
   "source": [
    "pbulks4 = []\n",
    "xclsts = []\n",
    "xcnsts = []\n",
    "\n",
    "ncond, nrep, nclst, ngene = 4,1,3,-1, #42-3,-1 # remove 3 L4 types\n",
    "\n",
    "for f in files:\n",
    "    print(f)\n",
    "    \n",
    "    path = os.path.join(ddir, f)\n",
    "    adata = anndata.read(path)\n",
    "    genes = adata.var.index.values\n",
    "    \n",
    "    adata = adata[adata.obs['Type'].str.contains('L2/3')]\n",
    "    mat = adata.X\n",
    "    \n",
    "    # update new type \n",
    "    tmp = adata.obs.copy()\n",
    "    tmp['easitype'] = tmp['Type']\n",
    "    tmp.update(meta[['easitype']])\n",
    "    types = tmp['easitype'].values\n",
    "    # types = tmp['Subclass'].astype(str).values\n",
    "    \n",
    "    # 1 or 2\n",
    "    # sample_codes = adata.obs['sample'].apply(lambda x: x.split('_')[-1][:-1].replace('3', '2')).astype(str).values\n",
    "    # sample_codes = adata.obs['sample'].apply(lambda x: x.split('_')[-1].replace('3', '2')).astype(str).values\n",
    "    # sample_and_type = sample_codes + \"_\" + types\n",
    "    sample_and_type = types\n",
    "    unqs, cnts = np.unique(sample_and_type, return_counts=True)\n",
    "    _xclsts, Xk, Xk_n, Xk_ln = basicu.counts_to_bulk_profiles(mat, sample_and_type) \n",
    "    \n",
    "    # check all types + reps are the same\n",
    "    if len(xclsts) > 0:\n",
    "        if not np.all(_xclsts == xclsts):\n",
    "            raise ValueError(_xclsts.shape, xclsts.shape, _xclsts, xclsts,)\n",
    "        if not np.all(_xclsts == unqs):\n",
    "            raise ValueError(_xclsts.shape, unqs.shape, _xclsts, unqs,)\n",
    "    else:\n",
    "        xclsts = _xclsts\n",
    "        print(xclsts)\n",
    "        \n",
    "    print(Xk_ln.shape)\n",
    "    pbulks4.append(Xk_ln)\n",
    "    xcnsts.append(cnts)\n",
    "    \n",
    "pbulks4 = np.array(pbulks4)\n",
    "xcnsts = np.array(xcnsts)\n",
    "print(pbulks4.shape)\n",
    "pbulks4 = pbulks4.reshape(ncond,nrep,nclst,-1)\n",
    "xcnsts = xcnsts.reshape(ncond,nrep,nclst)\n",
    "xclsts = xclsts.reshape(      nrep,nclst)\n",
    "print(pbulks4.shape)"
   ]
  },
  {
   "cell_type": "code",
   "execution_count": 21,
   "id": "3b7552db-ed43-44f2-b81d-ce2c96ffc728",
   "metadata": {
    "tags": []
   },
   "outputs": [
    {
     "name": "stdout",
     "output_type": "stream",
     "text": [
      "(2, 2, 3, 53801)\n"
     ]
    }
   ],
   "source": [
    "pbulks4 = pbulks4.reshape(2,2,3,53801)\n",
    "print(pbulks4.shape)"
   ]
  },
  {
   "cell_type": "code",
   "execution_count": null,
   "id": "0ce451fe-e6de-4cb0-9e06-221b0169321e",
   "metadata": {},
   "outputs": [],
   "source": []
  },
  {
   "cell_type": "code",
   "execution_count": null,
   "id": "e287bb0f-3257-4591-a49a-6220bdcd0373",
   "metadata": {},
   "outputs": [],
   "source": []
  },
  {
   "cell_type": "code",
   "execution_count": 22,
   "id": "d3a6050b-9951-439c-b45e-84073b4e4f94",
   "metadata": {
    "tags": []
   },
   "outputs": [
    {
     "name": "stdout",
     "output_type": "stream",
     "text": [
      "P28NR.h5ad\n",
      "['L2/3_A' 'L2/3_B' 'L2/3_C']\n",
      "(3, 53801)\n",
      "P28DR.h5ad\n",
      "(3, 53801)\n",
      "(2, 3, 53801)\n",
      "(2, 1, 3, 53801)\n"
     ]
    }
   ],
   "source": [
    "pbulks5 = []\n",
    "xclsts = []\n",
    "xcnsts = []\n",
    "\n",
    "ncond, nrep, nclst, ngene = 2,1,3,-1, #42-3,-1 # remove 3 L4 types\n",
    "\n",
    "for f in np.array(files)[[0,2]]:\n",
    "    print(f)\n",
    "    \n",
    "    path = os.path.join(ddir, f)\n",
    "    adata = anndata.read(path)\n",
    "    genes = adata.var.index.values\n",
    "    \n",
    "    adata = adata[adata.obs['Type'].str.contains('L2/3')]\n",
    "    mat = adata.X\n",
    "    \n",
    "    # update new type \n",
    "    tmp = adata.obs.copy()\n",
    "    tmp['newtype'] = tmp['Type']\n",
    "    tmp.update(meta[['newtype']])\n",
    "    types = tmp['newtype'].values\n",
    "    # types = tmp['Subclass'].astype(str).values\n",
    "    \n",
    "    # 1 or 2\n",
    "    # sample_codes = adata.obs['sample'].apply(lambda x: x.split('_')[-1][:-1].replace('3', '2')).astype(str).values\n",
    "    # sample_codes = adata.obs['sample'].apply(lambda x: x.split('_')[-1].replace('3', '2')).astype(str).values\n",
    "    # sample_and_type = sample_codes + \"_\" + types\n",
    "    sample_and_type = types\n",
    "    unqs, cnts = np.unique(sample_and_type, return_counts=True)\n",
    "    _xclsts, Xk, Xk_n, Xk_ln = basicu.counts_to_bulk_profiles(mat, sample_and_type) \n",
    "    \n",
    "    # check all types + reps are the same\n",
    "    if len(xclsts) > 0:\n",
    "        if not np.all(_xclsts == xclsts):\n",
    "            raise ValueError(_xclsts.shape, xclsts.shape, _xclsts, xclsts,)\n",
    "        if not np.all(_xclsts == unqs):\n",
    "            raise ValueError(_xclsts.shape, unqs.shape, _xclsts, unqs,)\n",
    "    else:\n",
    "        xclsts = _xclsts\n",
    "        print(xclsts)\n",
    "        \n",
    "    print(Xk_ln.shape)\n",
    "    pbulks5.append(Xk_ln)\n",
    "    xcnsts.append(cnts)\n",
    "    \n",
    "pbulks5 = np.array(pbulks5)\n",
    "xcnsts = np.array(xcnsts)\n",
    "print(pbulks5.shape)\n",
    "pbulks5 = pbulks5.reshape(ncond,nrep,nclst,-1)\n",
    "xcnsts = xcnsts.reshape(ncond,nrep,nclst)\n",
    "xclsts = xclsts.reshape(      nrep,nclst)\n",
    "print(pbulks5.shape)"
   ]
  },
  {
   "cell_type": "code",
   "execution_count": 23,
   "id": "130c76d4-5a93-48f4-a583-c88e91a5dd71",
   "metadata": {
    "tags": []
   },
   "outputs": [
    {
     "name": "stdout",
     "output_type": "stream",
     "text": [
      "P28NR.h5ad\n",
      "['L2/3_A' 'L2/3_B' 'L2/3_C']\n",
      "(3, 53801)\n",
      "P28DR.h5ad\n",
      "(3, 53801)\n",
      "(2, 3, 53801)\n",
      "(2, 1, 3, 53801)\n"
     ]
    }
   ],
   "source": [
    "pbulks6 = []\n",
    "xclsts = []\n",
    "xcnsts = []\n",
    "\n",
    "ncond, nrep, nclst, ngene = 2,1,3,-1, #42-3,-1 # remove 3 L4 types\n",
    "\n",
    "for f in np.array(files)[[0,2]]:\n",
    "    print(f)\n",
    "    \n",
    "    path = os.path.join(ddir, f)\n",
    "    adata = anndata.read(path)\n",
    "    genes = adata.var.index.values\n",
    "    \n",
    "    adata = adata[adata.obs['Type'].str.contains('L2/3')]\n",
    "    mat = adata.X\n",
    "    \n",
    "    # update new type \n",
    "    tmp = adata.obs.copy()\n",
    "    tmp['easitype'] = tmp['Type']\n",
    "    tmp.update(meta[['easitype']])\n",
    "    types = tmp['easitype'].values\n",
    "    # types = tmp['Subclass'].astype(str).values\n",
    "    \n",
    "    # 1 or 2\n",
    "    # sample_codes = adata.obs['sample'].apply(lambda x: x.split('_')[-1][:-1].replace('3', '2')).astype(str).values\n",
    "    # sample_codes = adata.obs['sample'].apply(lambda x: x.split('_')[-1].replace('3', '2')).astype(str).values\n",
    "    # sample_and_type = sample_codes + \"_\" + types\n",
    "    sample_and_type = types\n",
    "    unqs, cnts = np.unique(sample_and_type, return_counts=True)\n",
    "    _xclsts, Xk, Xk_n, Xk_ln = basicu.counts_to_bulk_profiles(mat, sample_and_type) \n",
    "    \n",
    "    # check all types + reps are the same\n",
    "    if len(xclsts) > 0:\n",
    "        if not np.all(_xclsts == xclsts):\n",
    "            raise ValueError(_xclsts.shape, xclsts.shape, _xclsts, xclsts,)\n",
    "        if not np.all(_xclsts == unqs):\n",
    "            raise ValueError(_xclsts.shape, unqs.shape, _xclsts, unqs,)\n",
    "    else:\n",
    "        xclsts = _xclsts\n",
    "        print(xclsts)\n",
    "        \n",
    "    print(Xk_ln.shape)\n",
    "    pbulks6.append(Xk_ln)\n",
    "    xcnsts.append(cnts)\n",
    "    \n",
    "pbulks6 = np.array(pbulks6)\n",
    "xcnsts = np.array(xcnsts)\n",
    "print(pbulks6.shape)\n",
    "pbulks6 = pbulks6.reshape(ncond,nrep,nclst,-1)\n",
    "xcnsts = xcnsts.reshape(ncond,nrep,nclst)\n",
    "xclsts = xclsts.reshape(      nrep,nclst)\n",
    "print(pbulks6.shape)"
   ]
  },
  {
   "cell_type": "code",
   "execution_count": null,
   "id": "58d1ea48-29f6-4ac6-83dd-a865d22cde48",
   "metadata": {},
   "outputs": [],
   "source": []
  },
  {
   "cell_type": "code",
   "execution_count": 24,
   "id": "a3cdd250-0322-47be-929a-840c3566780f",
   "metadata": {
    "tags": []
   },
   "outputs": [],
   "source": [
    "type_genes = df2['gene'].values\n",
    "type_genes_idx = basicu.get_index_from_array(genes, type_genes)"
   ]
  },
  {
   "cell_type": "code",
   "execution_count": 25,
   "id": "6406bb4f-d387-4276-a66c-9d1a5e4bef7f",
   "metadata": {
    "tags": []
   },
   "outputs": [],
   "source": [
    "def get_corr(pbulks, gidx):\n",
    "    \"\"\"\n",
    "    \"\"\"\n",
    "    mat_a = pbulks[:,:,0,:].reshape(2*4,-1).T[gidx]\n",
    "    mat_b = pbulks[:,:,1,:].reshape(2*4,-1).T[gidx]\n",
    "    mat_c = pbulks[:,:,2,:].reshape(2*4,-1).T[gidx]\n",
    "    mat_all = np.hstack([mat_a, mat_b, mat_c])\n",
    "    mat_zscore = basicu.zscore(mat_all, axis=0) #.mean(axis=1) #u\n",
    "    corr = np.corrcoef(mat_zscore.T)\n",
    "    \n",
    "    return corr\n",
    "\n",
    "def get_corr_v2(pbulks, gidx):\n",
    "    \"\"\"\n",
    "    \"\"\"\n",
    "    mat_a = pbulks[:,:,0,:].reshape(4,-1).T[gidx]\n",
    "    mat_b = pbulks[:,:,1,:].reshape(4,-1).T[gidx]\n",
    "    mat_c = pbulks[:,:,2,:].reshape(4,-1).T[gidx]\n",
    "    mat_all = np.hstack([mat_a, mat_b, mat_c])\n",
    "    mat_zscore = basicu.zscore(mat_all, axis=0) #.mean(axis=1) #u\n",
    "    corr = np.corrcoef(mat_zscore.T)\n",
    "    \n",
    "    return corr\n",
    "\n",
    "def get_corr_v3(pbulks, gidx):\n",
    "    \"\"\"\n",
    "    \"\"\"\n",
    "    mat_a = pbulks[:,:,0,:].reshape(2,-1).T[gidx]\n",
    "    mat_b = pbulks[:,:,1,:].reshape(2,-1).T[gidx]\n",
    "    mat_c = pbulks[:,:,2,:].reshape(2,-1).T[gidx]\n",
    "    mat_all = np.hstack([mat_a, mat_b, mat_c])\n",
    "    mat_zscore = basicu.zscore(mat_all, axis=0) #.mean(axis=1) #u\n",
    "    corr = np.corrcoef(mat_zscore.T)\n",
    "    \n",
    "    return corr"
   ]
  },
  {
   "cell_type": "code",
   "execution_count": 26,
   "id": "340b1298-45ac-445e-8a33-6d38e95636d6",
   "metadata": {
    "tags": []
   },
   "outputs": [],
   "source": [
    "corr1 = get_corr(pbulks, type_genes_idx)\n",
    "corr2 = get_corr(pbulks2, type_genes_idx)\n",
    "corr3 = get_corr_v2(pbulks3, type_genes_idx)\n",
    "corr4 = get_corr_v2(pbulks4, type_genes_idx)\n",
    "corr5 = get_corr_v3(pbulks5, type_genes_idx)\n",
    "corr6 = get_corr_v3(pbulks6, type_genes_idx)"
   ]
  },
  {
   "cell_type": "code",
   "execution_count": 27,
   "id": "5b25f1ce-e89a-46b2-bc69-6c034048cf10",
   "metadata": {
    "tags": []
   },
   "outputs": [
    {
     "data": {
      "image/png": "[encoded data removed]",
      "text/plain": [
       "<Figure size 1000x400 with 4 Axes>"
      ]
     },
     "metadata": {
      "image/png": {
       "height": 372,
       "width": 861
      }
     },
     "output_type": "display_data"
    }
   ],
   "source": [
    "fig, axs = plt.subplots(1,2,figsize=(2*5,1*4))\n",
    "ax = axs[0]\n",
    "sns.heatmap(corr1, cmap='coolwarm', ax=ax, vmin=0.5, vmax=1, cbar_kws=dict(shrink=0.3))\n",
    "ax = axs[1]\n",
    "sns.heatmap(corr2, cmap='coolwarm', ax=ax, vmin=0.5, vmax=1, cbar_kws=dict(shrink=0.3))\n",
    "plt.show()"
   ]
  },
  {
   "cell_type": "code",
   "execution_count": 28,
   "id": "52f09db7-927a-40f9-96b4-692ae7553e34",
   "metadata": {
    "tags": []
   },
   "outputs": [
    {
     "data": {
      "image/png": "[encoded data removed]",
      "text/plain": [
       "<Figure size 1000x400 with 4 Axes>"
      ]
     },
     "metadata": {
      "image/png": {
       "height": 367,
       "width": 847
      }
     },
     "output_type": "display_data"
    }
   ],
   "source": [
    "fig, axs = plt.subplots(1,2,figsize=(2*5,1*4))\n",
    "ax = axs[0]\n",
    "sns.heatmap(corr3, cmap='rocket_r', ax=ax, vmin=0.75, vmax=1, cbar_kws=dict(shrink=0.3))\n",
    "ax = axs[1]\n",
    "sns.heatmap(corr4, cmap='rocket_r', ax=ax, vmin=0.75, vmax=1, cbar_kws=dict(shrink=0.3))\n",
    "plt.show()"
   ]
  },
  {
   "cell_type": "code",
   "execution_count": 29,
   "id": "d725f9df-6da7-4520-8243-5ef048489e8d",
   "metadata": {
    "tags": []
   },
   "outputs": [
    {
     "data": {
      "image/png": "[encoded data removed]",
      "text/plain": [
       "<Figure size 1000x400 with 4 Axes>"
      ]
     },
     "metadata": {
      "image/png": {
       "height": 367,
       "width": 840
      }
     },
     "output_type": "display_data"
    }
   ],
   "source": [
    "fig, axs = plt.subplots(1,2,figsize=(2*5,1*4))\n",
    "ax = axs[0]\n",
    "sns.heatmap(corr5, cmap='rocket_r', ax=ax, vmin=0.75, vmax=1, cbar_kws=dict(shrink=0.3))\n",
    "ax = axs[1]\n",
    "sns.heatmap(corr6, cmap='rocket_r', ax=ax, vmin=0.75, vmax=1, cbar_kws=dict(shrink=0.3))\n",
    "plt.show()"
   ]
  },
  {
   "cell_type": "code",
   "execution_count": 30,
   "id": "a6d08b56-df23-4df4-ba79-4c4480767775",
   "metadata": {
    "tags": []
   },
   "outputs": [
    {
     "data": {
      "text/plain": [
       "(2, 4, 3, 53801)"
      ]
     },
     "execution_count": 30,
     "metadata": {},
     "output_type": "execute_result"
    }
   ],
   "source": [
    "pbulks2.shape"
   ]
  },
  {
   "cell_type": "code",
   "execution_count": 31,
   "id": "709082c4-592c-419b-9d60-989a3428e90d",
   "metadata": {
    "tags": []
   },
   "outputs": [],
   "source": [
    "def get_corr_new(pbulks, gidx):\n",
    "    \"\"\"\n",
    "    \"\"\"\n",
    "    mat_nr = pbulks[0,:,:,:][:,:,gidx].T\n",
    "    mat_nr = mat_nr.reshape(-1,mat_nr.shape[1]*mat_nr.shape[2])\n",
    "    mat_dr = pbulks[1,:,:,:][:,:,gidx].T\n",
    "    mat_dr = mat_dr.reshape(-1,mat_dr.shape[1]*mat_dr.shape[2])\n",
    "    \n",
    "    n = mat_nr.shape[1]\n",
    "    mat_all = np.hstack([mat_nr, mat_dr])\n",
    "    mat_zscore = basicu.zscore(mat_all, axis=0) #.mean(axis=1) #u\n",
    "    corr = basicu.spearman_corrcoef(mat_zscore.T[:n], mat_zscore.T[n:])[:n,n:]\n",
    "    \n",
    "    # print(mat_nr.shape, mat_dr.shape)\n",
    "    # print(mat_all.shape) #nr.shape, mat_dr.shape)\n",
    "    # print(mat_zscore.shape)\n",
    "    \n",
    "    return corr\n",
    "    \n",
    "#     return corr"
   ]
  },
  {
   "cell_type": "code",
   "execution_count": 32,
   "id": "a1e6db83-3c0c-40de-9f54-696c1551e1c6",
   "metadata": {
    "tags": []
   },
   "outputs": [],
   "source": [
    "# corrnew1 = get_corr_new(pbulks5, type_genes_idx)\n",
    "# corrnew2 = get_corr_new(pbulks6, type_genes_idx)\n",
    "\n",
    "corrnew1 = get_corr_new(pbulks3, type_genes_idx)\n",
    "corrnew2 = get_corr_new(pbulks4, type_genes_idx)"
   ]
  },
  {
   "cell_type": "code",
   "execution_count": 33,
   "id": "d8ebcce7-9b65-40a0-98df-543d884cf578",
   "metadata": {
    "tags": []
   },
   "outputs": [
    {
     "data": {
      "image/png": "[encoded data removed]",
      "text/plain": [
       "<Figure size 1000x400 with 4 Axes>"
      ]
     },
     "metadata": {
      "image/png": {
       "height": 328,
       "width": 830
      }
     },
     "output_type": "display_data"
    }
   ],
   "source": [
    "lbls = ['P28', 'P38', '','','','']\n",
    "fig, axs = plt.subplots(1,2,figsize=(2*5,1*4))\n",
    "ax = axs[0]\n",
    "sns.heatmap(corrnew1, cmap='rocket_r', ax=ax, vmin=0.7, vmax=1, cbar_kws=dict(shrink=0.3, label='Spearman corr', ticks=[0.7, 1]),\n",
    "            xticklabels=False,\n",
    "            yticklabels=False,\n",
    "           )\n",
    "ax = axs[1]\n",
    "sns.heatmap(corrnew2, cmap='rocket_r', ax=ax, vmin=0.7, vmax=1, cbar_kws=dict(shrink=0.3, label='Spearman corr', ticks=[0.7, 1]), \n",
    "            xticklabels=False,\n",
    "            yticklabels=False,\n",
    "           )\n",
    "plt.show()"
   ]
  },
  {
   "cell_type": "code",
   "execution_count": 34,
   "id": "226f9c45-77b2-44ad-b1ca-c7cdda4d6581",
   "metadata": {},
   "outputs": [
    {
     "data": {
      "text/plain": [
       "array([[0.96718711, 0.94578977, 0.8184778 , 0.68669431, 0.52222463,\n",
       "        0.41459619],\n",
       "       [0.96845414, 0.9558834 , 0.83817825, 0.7066497 , 0.52713166,\n",
       "        0.42353051],\n",
       "       [0.62477215, 0.73459455, 0.87583713, 0.89191912, 0.73169013,\n",
       "        0.71836431],\n",
       "       [0.68279628, 0.7845805 , 0.88715264, 0.86835296, 0.74543813,\n",
       "        0.72149699],\n",
       "       [0.26078184, 0.35868547, 0.48693155, 0.54153318, 0.86496584,\n",
       "        0.91173807],\n",
       "       [0.34826662, 0.44534592, 0.5505265 , 0.57583367, 0.88973389,\n",
       "        0.92260063]])"
      ]
     },
     "execution_count": 34,
     "metadata": {},
     "output_type": "execute_result"
    }
   ],
   "source": [
    "corrnew1"
   ]
  },
  {
   "cell_type": "code",
   "execution_count": 43,
   "id": "462d005e-6f0d-409f-9b77-ce32e718817b",
   "metadata": {},
   "outputs": [
    {
     "data": {
      "text/plain": [
       "0.9124678915436295"
      ]
     },
     "execution_count": 43,
     "metadata": {},
     "output_type": "execute_result"
    }
   ],
   "source": [
    "np.mean([np.mean(corrnew1[:2,:2]), np.mean(corrnew1[2:4,2:4]), np.mean(corrnew1[4:,4:])])"
   ]
  },
  {
   "cell_type": "code",
   "execution_count": null,
   "id": "77312bea-7b30-4057-8167-1eb433744c53",
   "metadata": {},
   "outputs": [],
   "source": []
  }
 ],
 "metadata": {
  "kernelspec": {
   "display_name": "Python 3 (ipykernel)",
   "language": "python",
   "name": "python3"
  },
  "language_info": {
   "codemirror_mode": {
    "name": "ipython",
    "version": 3
   },
   "file_extension": ".py",
   "mimetype": "text/x-python",
   "name": "python",
   "nbconvert_exporter": "python",
   "pygments_lexer": "ipython3",
   "version": "3.9.16"
  }
 },
 "nbformat": 4,
 "nbformat_minor": 5
}
