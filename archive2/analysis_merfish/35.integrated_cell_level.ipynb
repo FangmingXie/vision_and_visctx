{
 "cells": [
  {
   "cell_type": "code",
   "execution_count": null,
   "id": "aa503af1-8bb5-427a-8241-06e28faa45f3",
   "metadata": {
    "tags": []
   },
   "outputs": [],
   "source": [
    "import numpy as np\n",
    "import pandas as pd\n",
    "import matplotlib.pyplot as plt\n",
    "import seaborn as sns\n",
    "import os\n",
    "\n",
    "import anndata as ad\n",
    "import scanpy as sc\n",
    "\n",
    "from sklearn.decomposition import PCA\n",
    "from sklearn.cluster import KMeans\n",
    "from umap import UMAP\n",
    "\n",
    "\n",
    "from scroutines import basicu\n",
    "from scroutines import powerplots\n",
    "from scroutines.miscu import is_in_polygon\n",
    "\n",
    "import utils_merfish\n",
    "from merfish_datasets import merfish_datasets\n",
    "from merfish_genesets import get_all_genesets\n",
    "\n",
    "import importlib\n",
    "importlib.reload(powerplots)\n",
    "importlib.reload(utils_merfish)"
   ]
  },
  {
   "cell_type": "code",
   "execution_count": null,
   "id": "ceefcad3-c84e-4daa-8241-b50bd0b60aba",
   "metadata": {
    "tags": []
   },
   "outputs": [],
   "source": [
    "np.random.seed(0)"
   ]
  },
  {
   "cell_type": "code",
   "execution_count": null,
   "id": "74da2800-6306-47cb-9a2d-39b234ab0e5c",
   "metadata": {
    "tags": []
   },
   "outputs": [],
   "source": [
    "def binning_pipe(adata, n=20, layer='lnorm', bin_type='depth_bin'):\n",
    "    \"\"\"\n",
    "    \"\"\"\n",
    "    assert bin_type in ['depth_bin', 'width_bin']\n",
    "    # bin it \n",
    "    depth_bins, depth_binned = utils_merfish.binning(adata.obs['depth'].values, n)\n",
    "    width_bins, width_binned = utils_merfish.binning(adata.obs['width'].values, n)\n",
    "\n",
    "    norm_ = pd.DataFrame(adata.layers[layer], columns=adata.var.index)\n",
    "    norm_['depth_bin'] = depth_binned\n",
    "    norm_['width_bin'] = width_binned\n",
    "    \n",
    "    norm_mean = norm_.groupby(bin_type).mean(numeric_only=True)\n",
    "    norm_sem  = norm_.groupby(bin_type).sem(numeric_only=True)\n",
    "    norm_std  = norm_.groupby(bin_type).std(numeric_only=True)\n",
    "    norm_n    = norm_[bin_type].value_counts(sort=False)\n",
    "\n",
    "    return norm_mean, norm_sem, norm_std, norm_n, depth_binned, width_binned, depth_bins, width_bins"
   ]
  },
  {
   "cell_type": "code",
   "execution_count": null,
   "id": "10056f83-d188-4aea-9e6b-6bfaed8f77e0",
   "metadata": {
    "tags": []
   },
   "outputs": [],
   "source": [
    "genesets = get_all_genesets()\n",
    "genesets"
   ]
  },
  {
   "cell_type": "code",
   "execution_count": null,
   "id": "9de52cb2-2b0c-4b9f-a864-1ec9e50eae47",
   "metadata": {
    "tags": []
   },
   "outputs": [],
   "source": [
    "directories = merfish_datasets\n",
    "print(merfish_datasets)\n",
    "\n",
    "ddir = \"/u/home/f/f7xiesnm/project-zipursky/v1-bb/v1/data/merfish/organized\" \n",
    "fout = os.path.join(ddir, 'P28NRDR_v1l23_merged_240429.h5ad')\n",
    "!ls $ddir/*240411.h5ad "
   ]
  },
  {
   "cell_type": "code",
   "execution_count": null,
   "id": "72ebe8f3-6d19-4bed-bea5-904b178eeed0",
   "metadata": {
    "tags": []
   },
   "outputs": [],
   "source": [
    "%%time\n",
    "names = [\n",
    "    'P28NRb_ant', \n",
    "    'P28NRb_pos',\n",
    "    'P28DRb_ant', \n",
    "    'P28DRb_pos',\n",
    "]\n",
    "\n",
    "alldata = {}\n",
    "for name in names:\n",
    "    alldata[name] = ad.read(os.path.join(ddir, f'{name}_ctxglut_240429.h5ad'))\n",
    "    print(name, len(alldata[name]))"
   ]
  },
  {
   "cell_type": "code",
   "execution_count": null,
   "id": "ef5fdd21-021c-400d-a8c2-be39d727c0a5",
   "metadata": {
    "tags": []
   },
   "outputs": [],
   "source": [
    "for name, adata in alldata.items():\n",
    "    print(name)\n",
    "    gns = ['Scnn1a', 'Rorb', 'Igfbp4', 'Fos', 'Sorcs3']\n",
    "    x = adata.obs['x']\n",
    "    y = adata.obs['y']\n",
    "    n = len(gns)\n",
    "\n",
    "    fig, axs = plt.subplots(1,n,figsize=(n*6,1*5))\n",
    "    for ax, gn in zip(axs, gns):\n",
    "        g = adata[:,gn].layers['norm']\n",
    "        utils_merfish.st_scatter_ax(fig, ax, x, y, gexp=g, s=1, title=gn)\n",
    "    plt.show()"
   ]
  },
  {
   "cell_type": "markdown",
   "id": "bf1e5ad7-cd0f-4bea-b0ca-7f2f3a741334",
   "metadata": {},
   "source": [
    "# viz"
   ]
  },
  {
   "cell_type": "code",
   "execution_count": null,
   "id": "2e0b1c1c-e2d1-48d7-85ea-3260d74471a1",
   "metadata": {
    "tags": []
   },
   "outputs": [],
   "source": [
    "v1l23_data = {}\n",
    "for name in names:\n",
    "    adata = alldata[name]\n",
    "    # bound_l, bound_r, bound_d = adata.uns['bound_lrd']\n",
    "    adatasub = adata[adata.obs['inside_v1l23']]\n",
    "    v1l23_data[name] = adatasub"
   ]
  },
  {
   "cell_type": "code",
   "execution_count": null,
   "id": "fc1c8847-7350-406f-80c4-d26b96becb6b",
   "metadata": {
    "tags": []
   },
   "outputs": [],
   "source": [
    "gns = ['Scnn1a', 'Rorb', 'Igfbp4', 'Whrn', 'Fos', 'Cdh13', 'Sorcs3', 'Chrm2',]# 'Astn2', 'Fos']\n",
    "\n",
    "name = 'P28DRb_pos' \n",
    "adata = alldata[name]\n",
    "bound_l, bound_r, bound_d = adata.uns['bound_lrd']\n",
    "x =  adata.obs['width']\n",
    "y = -adata.obs['depth']\n",
    "n = len(gns)\n",
    "\n",
    "fig, axs = plt.subplots(n,1,figsize=(1*10,n*1.5))\n",
    "fig.suptitle(name)\n",
    "for ax, gn in zip(axs, gns):\n",
    "    # gn = 'Scnn1a'\n",
    "    g = np.log2(1+adata[:,gn].layers['norm']).reshape(-1,)\n",
    "    \n",
    "    vmax = np.percentile(g, 99)\n",
    "    vmin = np.percentile(g,  5)\n",
    "    cond = g > 1e-5\n",
    "    \n",
    "    utils_merfish.st_scatter_ax(fig, ax, x[~cond], y[~cond], gexp=g[~cond], s=2, title='', vmin=vmin, vmax=vmax, cmap='rocket_r') #, axis_off=False)\n",
    "    utils_merfish.st_scatter_ax(fig, ax,  x[cond],  y[cond],  gexp=g[cond], s=2, title='', vmin=vmin, vmax=vmax, cmap='rocket_r') #, axis_off=False)\n",
    "    \n",
    "    ax.set_title(gn, loc='left', ha='right', y=0.5)\n",
    "    ax.axhline(-bound_d, linestyle='--', linewidth=1, color='gray', zorder=2)\n",
    "    ax.axvline( bound_l, linestyle='--', linewidth=1, color='gray', zorder=2)\n",
    "    ax.axvline( bound_r, linestyle='--', linewidth=1, color='gray', zorder=2)\n",
    "    # ax.grid(True)\n",
    "    # ax.axis('on')\n",
    "    \n",
    "plt.show()"
   ]
  },
  {
   "cell_type": "code",
   "execution_count": null,
   "id": "a2d535c6-94a4-4be4-86f0-c4e52aed8a22",
   "metadata": {
    "tags": []
   },
   "outputs": [],
   "source": [
    "gns = ['Fos', 'Cdh13', 'Sorcs3', 'Chrm2']\n",
    "densities = []\n",
    "for name in names:\n",
    "    adata = v1l23_data[name]\n",
    "    x = adata.obs['x']\n",
    "    y = adata.obs['y']\n",
    "    n = len(gns)\n",
    "    width_range = adata.obs['width'].max() - adata.obs['width'].min()\n",
    "    print(name, len(adata), width_range, len(adata)/width_range)\n",
    "    densities.append(len(adata)/width_range)\n",
    "\n",
    "    fig, axs = plt.subplots(1,n,figsize=(n*6,1*5))\n",
    "    for ax, gn in zip(axs, gns):\n",
    "        # gn = 'Scnn1a'\n",
    "        g = np.log2(1+adata[:,gn].layers['norm'])\n",
    "        utils_merfish.st_scatter_ax(fig, ax, x, y, gexp=g, s=5, title=gn)\n",
    "\n",
    "    plt.show()"
   ]
  },
  {
   "cell_type": "code",
   "execution_count": null,
   "id": "f5725522-8738-48ab-aa1a-9d7b1050226c",
   "metadata": {
    "tags": []
   },
   "outputs": [],
   "source": [
    "gns = ['Cdh13', 'Sorcs3', 'Chrm2', 'Fos']\n",
    "for name in names: \n",
    "    adatasub = v1l23_data[name]\n",
    "    x =  adatasub.obs['width']\n",
    "    y = -adatasub.obs['depth']\n",
    "    n = len(gns)\n",
    "\n",
    "    fig, axs = plt.subplots(n,1,figsize=(1*10,n*1.5))\n",
    "    fig.suptitle(name)\n",
    "    for ax, gn in zip(axs, gns):\n",
    "        g = np.log2(1+adatasub[:,gn].layers['norm']).reshape(-1,)\n",
    "\n",
    "        vmax = np.percentile(g, 99)\n",
    "        vmin = np.percentile(g,  5)\n",
    "        cond = g > 1e-5\n",
    "\n",
    "        utils_merfish.st_scatter_ax(fig, ax, x[~cond], y[~cond], gexp=g[~cond], s=4, title='', vmin=vmin, vmax=vmax, cmap='rocket_r') #, axis_off=False)\n",
    "        utils_merfish.st_scatter_ax(fig, ax,  x[cond],  y[cond],  gexp=g[cond], s=4, title='', vmin=vmin, vmax=vmax, cmap='rocket_r') #, axis_off=False)\n",
    "\n",
    "        ax.set_title(gn, loc='left', ha='right', y=0.5)\n",
    "        # ax.grid(True)\n",
    "        # ax.axis('on')\n",
    "\n",
    "    plt.show()"
   ]
  },
  {
   "cell_type": "markdown",
   "id": "d970e37f-8d5b-4545-bc7c-edc302c92813",
   "metadata": {},
   "source": [
    "# do a clustering together\n",
    "- abc genes"
   ]
  },
  {
   "cell_type": "code",
   "execution_count": null,
   "id": "78cc5fb2-7d50-4ade-8aca-44d9d7fed4e8",
   "metadata": {
    "tags": []
   },
   "outputs": [],
   "source": [
    "agenes = genesets['a']\n",
    "bgenes = genesets['b']\n",
    "cgenes = genesets['c']\n",
    "iegs   = genesets['i']\n",
    "up_agenes = genesets['a_up']\n",
    "abcgenes = np.hstack([agenes, bgenes, cgenes])\n",
    "len(abcgenes)"
   ]
  },
  {
   "cell_type": "code",
   "execution_count": null,
   "id": "aa173fcb-dbe7-4acc-baaa-ba0c7d0c2b36",
   "metadata": {
    "tags": []
   },
   "outputs": [],
   "source": [
    "agenes_idx = basicu.get_index_from_array(adatasub.var.index.values, agenes)\n",
    "bgenes_idx = basicu.get_index_from_array(adatasub.var.index.values, bgenes)\n",
    "cgenes_idx = basicu.get_index_from_array(adatasub.var.index.values, cgenes)\n",
    "igenes_idx = basicu.get_index_from_array(adatasub.var.index.values, iegs)"
   ]
  },
  {
   "cell_type": "code",
   "execution_count": null,
   "id": "1d7dc0b8-4e02-4fb8-ae93-f91201d7676d",
   "metadata": {
    "tags": []
   },
   "outputs": [],
   "source": [
    "# lnorm\n",
    "for name in names:\n",
    "    adatasub = v1l23_data[name]\n",
    "    adatasub.layers['lnorm'] = np.log2(1+adatasub.layers['norm']) # .sum(axis=1)"
   ]
  },
  {
   "cell_type": "code",
   "execution_count": null,
   "id": "f98c5b7d-3936-47fe-ac22-313f5165427f",
   "metadata": {},
   "outputs": [],
   "source": [
    "# cluster V1 L2/3 only\n",
    "adata_merged = []\n",
    "for i, name in enumerate(names):\n",
    "    adatasub = v1l23_data[name].copy()\n",
    "    if i == 0:\n",
    "        genes = adatasub.var.index.values\n",
    "    else:\n",
    "        np.all(genes == adatasub.var.index.values)\n",
    "        \n",
    "    adatasub.obs.index = adatasub.obs.index + '_' + name\n",
    "    adatasub.obs['sample'] = name\n",
    "    adatasub.obs['depth_show'] = -adatasub.obs['depth'].values - i*500 # name\n",
    "    adatasub.obs['width_show'] =  adatasub.obs['width'].values - np.min(adatasub.obs['width'].values)   # name\n",
    "    adata_merged.append(adatasub)\n",
    "    print(adatasub.shape)\n",
    "    # break\n",
    "    \n",
    "adata_merged = ad.concat(adata_merged)\n",
    "adata_merged_abcgenes = adata_merged[:,abcgenes].copy()\n",
    "\n",
    "adata_merged, adata_merged_abcgenes"
   ]
  },
  {
   "cell_type": "code",
   "execution_count": null,
   "id": "eba48c65-9722-4352-a8c8-f4b94ac04c7c",
   "metadata": {},
   "outputs": [],
   "source": [
    "adata = adata_merged\n",
    "\n",
    "# PCA\n",
    "pca = PCA(n_components=10)\n",
    "pcs = pca.fit_transform(adata.layers['lnorm'])\n",
    "ucs = UMAP(n_components=2, n_neighbors=30, random_state=0).fit_transform(pcs)\n",
    "\n",
    "adata.obsm['pca'] = pcs\n",
    "adata.obsm['umap'] = ucs\n",
    "sc.pp.neighbors(adata, n_neighbors=30, use_rep='pca', random_state=0)\n",
    "\n"
   ]
  },
  {
   "cell_type": "code",
   "execution_count": null,
   "id": "6f15e3d3-9e90-477c-83ca-54fb8754bbb3",
   "metadata": {
    "tags": []
   },
   "outputs": [],
   "source": [
    "# clustering\n",
    "r = 0.4\n",
    "sc.tl.leiden(adata, resolution=r, key_added=f'leiden_r{r}', random_state=0, n_iterations=1)"
   ]
  },
  {
   "cell_type": "code",
   "execution_count": null,
   "id": "4abd8ad4-6dba-43d7-90ab-3540e37d03c6",
   "metadata": {
    "tags": []
   },
   "outputs": [],
   "source": [
    "# plot\n",
    "gn = 'Slc17a7'\n",
    "# gn = 'Fos'\n",
    "# gn = 'Gad1'\n",
    "g = np.log2(1+adata[:,gn].layers['norm'].reshape(-1,))\n",
    "\n",
    "# add some quality metrics\n",
    "\n",
    "fig, (ax1, ax2) = plt.subplots(1,2,figsize=(2*5,1*4))\n",
    "utils_merfish.st_scatter_ax(fig, ax1, pcs[:,0], pcs[:,1], gexp=g)\n",
    "utils_merfish.st_scatter_ax(fig, ax2, ucs[:,0], ucs[:,1], gexp=g)\n",
    "plt.show()\n",
    "\n",
    "# plot\n",
    "gn = 'Slc17a7'\n",
    "# gn = 'Fos'\n",
    "# gn = 'Gad1'\n",
    "g = adata[:,gn].layers['norm'].reshape(-1,)\n",
    "\n",
    "# add some quality metrics\n",
    "\n",
    "fig, (ax1, ax2) = plt.subplots(1,2,figsize=(2*5,1*4))\n",
    "utils_merfish.st_scatter_ax(fig, ax1, pcs[:,0], pcs[:,1], gexp=g)\n",
    "utils_merfish.st_scatter_ax(fig, ax2, ucs[:,0], ucs[:,1], gexp=g)\n",
    "plt.show()"
   ]
  },
  {
   "cell_type": "code",
   "execution_count": null,
   "id": "6c2e2ca9-8eb9-44f1-9886-7910d7a49913",
   "metadata": {
    "tags": []
   },
   "outputs": [],
   "source": [
    "\n",
    "clsts = adata.obs[f'leiden_r{r}'].astype(int)\n",
    "xr =  adata.obs['width_show']\n",
    "yr =  adata.obs['depth_show']\n",
    "ux    = adata.obsm['umap'][:,0]\n",
    "uy    = adata.obsm['umap'][:,1]\n",
    "utils_merfish.plot_cluster(clsts, xr, yr, ux, uy, s=2)\n",
    "\n",
    "samples, uniq_labels = pd.factorize(adata.obs['sample']) # .astype(int)\n",
    "utils_merfish.plot_cluster(samples, xr, yr, ux, uy, s=2)"
   ]
  },
  {
   "cell_type": "code",
   "execution_count": null,
   "id": "b933bce0-4fb4-4e02-9970-a2edc8822a63",
   "metadata": {
    "tags": []
   },
   "outputs": [],
   "source": [
    "clsts = adata.obs[f'leiden_r{r}'].astype(int)\n",
    "uniq_clsts = np.unique(clsts)\n",
    "\n",
    "\n",
    "for clst in uniq_clsts:\n",
    "    show = (clsts == clst)\n",
    "    xr =  adata.obs['width_show']\n",
    "    yr =  adata.obs['depth_show']\n",
    "    ux    = adata.obsm['umap'][:,0]\n",
    "    uy    = adata.obsm['umap'][:,1]\n",
    "    utils_merfish.plot_cluster(show, xr, yr, ux, uy, s=2, cmap=plt.cm.copper_r, suptitle=clst)"
   ]
  },
  {
   "cell_type": "code",
   "execution_count": null,
   "id": "fc0761a3-57bf-4b8e-b7fc-7848234e00ed",
   "metadata": {},
   "outputs": [],
   "source": []
  },
  {
   "cell_type": "code",
   "execution_count": null,
   "id": "2ed79e5d-1aff-4501-97f5-008c01e34365",
   "metadata": {},
   "outputs": [],
   "source": []
  },
  {
   "cell_type": "code",
   "execution_count": null,
   "id": "f7d478d5-a172-4c98-bb27-bb14a2de2fb8",
   "metadata": {},
   "outputs": [],
   "source": []
  },
  {
   "cell_type": "code",
   "execution_count": null,
   "id": "aa697f03-b8b2-46b2-85fa-d547ef3486b6",
   "metadata": {
    "tags": []
   },
   "outputs": [],
   "source": [
    "clst_annots = [\n",
    "     'Glu_nr_low', \n",
    "     'olig_and_low_qual',\n",
    "     'Glu_dr_low', \n",
    "     'Glu_nr_high', \n",
    "     'Glu_dr_high', \n",
    "     'micro', \n",
    "     'astro',\n",
    "     'GABA',\n",
    "     'VLMC',\n",
    "]\n",
    "adata.uns['clst_annots'] = clst_annots"
   ]
  },
  {
   "cell_type": "code",
   "execution_count": null,
   "id": "d653a107-9179-4c97-a33b-c1aaf2084355",
   "metadata": {
    "tags": []
   },
   "outputs": [],
   "source": [
    "adata.write(fout)"
   ]
  },
  {
   "cell_type": "code",
   "execution_count": null,
   "id": "0ebaca5c-b850-4811-8188-c873ad8b6571",
   "metadata": {},
   "outputs": [],
   "source": []
  },
  {
   "cell_type": "code",
   "execution_count": null,
   "id": "7dbe5b63-228c-4285-ad34-a06e547b08e9",
   "metadata": {},
   "outputs": [],
   "source": []
  },
  {
   "cell_type": "markdown",
   "id": "7bb8ecbc-bbbd-4471-a757-4b9cb0f6511e",
   "metadata": {},
   "source": [
    "# figure out major cell population by marker genes; groups of genes; and quality metrics"
   ]
  },
  {
   "cell_type": "code",
   "execution_count": null,
   "id": "c4b8189e-53c4-414b-97ad-035e89907e56",
   "metadata": {
    "tags": []
   },
   "outputs": [],
   "source": [
    "# plot\n",
    "marker_genes = [\n",
    "       'Ptprn', 'Slc17a7', 'Gad1', 'Fos', \n",
    "       \n",
    "       'Gfap', 'Slc6a13', 'Slc47a1',\n",
    "       'Grin2c', 'Aqp4', 'Rfx4', 'Sox21', 'Slc1a3',\n",
    "       \n",
    "       'Sox10', 'Pdgfra', 'Mog',\n",
    "       \n",
    "       'Pecam1', 'Cd34' , 'Tnfrsf12a', 'Sema3c', \n",
    "       'Zfhx3', 'Pag1', 'Slco2b1', 'Cx3cr1',\n",
    "      ] \n",
    "gns = marker_genes\n",
    "n = len(gns)\n",
    "nx = 4\n",
    "ny = int((n+nx-1)/nx)\n",
    "# add some quality metrics\n",
    "fig, axs = plt.subplots(ny,nx,figsize=(nx*5,ny*4))\n",
    "for gn, ax in zip(gns, axs.flat):\n",
    "    g = np.log2(1+adata[:,gn].layers['norm'].reshape(-1,))\n",
    "    utils_merfish.st_scatter_ax(fig, ax, ucs[:,0], ucs[:,1], gexp=g)\n",
    "    ax.set_title(gn)\n",
    "plt.show()\n",
    "\n"
   ]
  },
  {
   "cell_type": "code",
   "execution_count": null,
   "id": "237b9f98-fa92-4740-b279-e4794b0d72ca",
   "metadata": {
    "tags": []
   },
   "outputs": [],
   "source": [
    "metrics = [\n",
    "    'volume', 'anisotropy', 'perimeter_area_ratio', 'solidity', \n",
    "    'PolyT_raw', 'PolyT_high_pass', 'DAPI_raw', 'DAPI_high_pass', \n",
    "    'transcript_count', 'gncov', 'gnnum', 'fpcov', \n",
    "    'depth', 'width', 'sample' \n",
    "       ]\n",
    "n = len(metrics)\n",
    "nx = 5\n",
    "ny = int((n+nx-1)/nx)\n",
    "# add some quality metrics\n",
    "fig, axs = plt.subplots(ny,nx,figsize=(nx*5,ny*4))\n",
    "for metric, ax in zip(metrics, axs.flat):\n",
    "    g = adata.obs[metric].values\n",
    "    if metric == 'sample':\n",
    "        g, uniq_lbls = pd.factorize(g)\n",
    "    utils_merfish.st_scatter_ax(fig, ax, ucs[:,0], ucs[:,1], gexp=g, s=3)\n",
    "    ax.set_title(metric)\n",
    "plt.show()\n"
   ]
  },
  {
   "cell_type": "code",
   "execution_count": null,
   "id": "9489b9be-b01f-438a-ac2f-08b8c07e2b10",
   "metadata": {
    "tags": []
   },
   "outputs": [],
   "source": [
    "n = len(metrics)\n",
    "nx = 5\n",
    "ny = int((n+nx-1)/nx)\n",
    "# add some quality metrics\n",
    "fig, axs = plt.subplots(ny,nx,figsize=(nx*5,ny*4))\n",
    "for metric, ax in zip(metrics, axs.flat):\n",
    "    if metric == 'sample':\n",
    "        g, uniq_lbls = pd.factorize(g)\n",
    "    else:\n",
    "        g = np.log10(1+adata.obs[metric].values)\n",
    "    utils_merfish.st_scatter_ax(fig, ax, ucs[:,0], ucs[:,1], gexp=g, s=3)\n",
    "    ax.set_title(metric)\n",
    "plt.show()"
   ]
  },
  {
   "cell_type": "code",
   "execution_count": null,
   "id": "0c843b76-0fbb-46bc-ae8c-f4faa506e71f",
   "metadata": {},
   "outputs": [],
   "source": []
  },
  {
   "cell_type": "code",
   "execution_count": null,
   "id": "bb2a9215-50da-4e26-bfd6-b47f3ca488b7",
   "metadata": {},
   "outputs": [],
   "source": []
  },
  {
   "cell_type": "code",
   "execution_count": null,
   "id": "5342c720-0def-42f6-8c2b-da54c01cf29c",
   "metadata": {},
   "outputs": [],
   "source": []
  },
  {
   "cell_type": "markdown",
   "id": "dc2e0948-8783-4790-9d25-9f51a3b479d1",
   "metadata": {},
   "source": [
    "# broad annotation and save"
   ]
  },
  {
   "cell_type": "code",
   "execution_count": null,
   "id": "0dfe040e-6326-434a-b5f9-bc51debddfd5",
   "metadata": {},
   "outputs": [],
   "source": []
  },
  {
   "cell_type": "code",
   "execution_count": null,
   "id": "b968ae5c-34ea-40f8-bffb-1332b2595b13",
   "metadata": {},
   "outputs": [],
   "source": []
  },
  {
   "cell_type": "code",
   "execution_count": null,
   "id": "7cde1893-4e4b-4d5f-9a9c-74598f851f30",
   "metadata": {},
   "outputs": [],
   "source": []
  },
  {
   "cell_type": "code",
   "execution_count": null,
   "id": "a520bc4c-1ce0-4220-a2d7-23a0f8aeeea4",
   "metadata": {
    "tags": []
   },
   "outputs": [],
   "source": []
  },
  {
   "cell_type": "code",
   "execution_count": null,
   "id": "5a48b425-eb08-4391-bde3-45121a925b09",
   "metadata": {},
   "outputs": [],
   "source": []
  },
  {
   "cell_type": "code",
   "execution_count": null,
   "id": "a4db3e33-ee49-4e93-acd4-51bb44032ee8",
   "metadata": {},
   "outputs": [],
   "source": []
  },
  {
   "cell_type": "code",
   "execution_count": null,
   "id": "3f7d950f-5804-47f7-9f71-1a829bd5e41d",
   "metadata": {},
   "outputs": [],
   "source": []
  },
  {
   "cell_type": "code",
   "execution_count": null,
   "id": "12084821-245c-4be7-936f-b1d76f678136",
   "metadata": {},
   "outputs": [],
   "source": []
  },
  {
   "cell_type": "code",
   "execution_count": null,
   "id": "7a37f3b2-4aca-4527-afe8-a8e9ad0fd2da",
   "metadata": {},
   "outputs": [],
   "source": []
  },
  {
   "cell_type": "markdown",
   "id": "8d7d06a2-99df-47f6-9073-3398e2643708",
   "metadata": {},
   "source": [
    "# visualize FISH"
   ]
  },
  {
   "cell_type": "code",
   "execution_count": null,
   "id": "680d3eba-a857-4612-bf20-4bffd5ec6bbe",
   "metadata": {
    "tags": []
   },
   "outputs": [],
   "source": [
    "# check\n",
    "gns = ['Cdh13', 'Sorcs3', 'Chrm2', 'Fos']\n",
    "x =  adata.obs['width_show']\n",
    "y =  adata.obs['depth_show']\n",
    "n = len(gns)\n",
    "\n",
    "for gn in gns:\n",
    "    fig, ax = plt.subplots(1,1,figsize=(1*10,1*3))\n",
    "    g = adata[:,gn].layers['norm'].reshape(-1,)\n",
    "    \n",
    "    vmax = np.percentile(g, 99)\n",
    "    vmin = np.percentile(g,  5)\n",
    "    cond = g > 1e-5\n",
    "    \n",
    "    utils_merfish.st_scatter_ax(fig, ax, x[~cond], y[~cond], gexp=g[~cond], s=2, title='', vmin=vmin, vmax=vmax, cmap='rocket_r') #, axis_off=False)\n",
    "    utils_merfish.st_scatter_ax(fig, ax,  x[cond],  y[cond],  gexp=g[cond], s=2, title='', vmin=vmin, vmax=vmax, cmap='rocket_r') #, axis_off=False)\n",
    "    ax.set_title(gn, loc='left')\n",
    "    \n",
    "    # ax.grid(True)\n",
    "    # ax.axis('on')\n",
    "    \n",
    "plt.show()"
   ]
  },
  {
   "cell_type": "code",
   "execution_count": null,
   "id": "040757e4-0055-4b2f-8ff0-d86f42b34dfd",
   "metadata": {},
   "outputs": [],
   "source": []
  },
  {
   "cell_type": "code",
   "execution_count": null,
   "id": "e565b48c-36df-433f-804f-db37e683fc52",
   "metadata": {},
   "outputs": [],
   "source": []
  },
  {
   "cell_type": "code",
   "execution_count": null,
   "id": "00fa9ef6-9205-49ea-b7e3-7ebccaa3f841",
   "metadata": {},
   "outputs": [],
   "source": []
  },
  {
   "cell_type": "code",
   "execution_count": null,
   "id": "1eace22e-4e4e-4045-b794-ebd9e27e679c",
   "metadata": {},
   "outputs": [],
   "source": []
  },
  {
   "cell_type": "markdown",
   "id": "3d2926cb-2d59-4080-aa7c-f6d62edd24b9",
   "metadata": {
    "tags": []
   },
   "source": [
    "# stats"
   ]
  },
  {
   "cell_type": "code",
   "execution_count": null,
   "id": "909e5119-d4ac-4bd6-8087-3060a98fdbc4",
   "metadata": {
    "tags": []
   },
   "outputs": [],
   "source": [
    "stats = {}\n",
    "for name in names:\n",
    "    adatasub = v1l23_data[name]\n",
    "    lnorm_mean, lnorm_sem, lnorm_std, n, d, w, db, wb = binning_pipe(adatasub, n=12)\n",
    "    stats[name] = (lnorm_mean, lnorm_sem, lnorm_std, n, d, w, db, wb)\n",
    "d.value_counts()"
   ]
  },
  {
   "cell_type": "code",
   "execution_count": null,
   "id": "592d3a8c-f612-4909-a89f-dac05bb6e7ca",
   "metadata": {
    "tags": []
   },
   "outputs": [],
   "source": [
    "# mean expression level across V1 L2/3 in NR\n",
    "base_a0 = []\n",
    "base_b0 = []\n",
    "base_c0 = []\n",
    "base_i0 = []\n",
    "for name in ['P28NRb_ant', 'P28NRb_pos']:\n",
    "    (lnorm_mean, lnorm_sem, lnorm_std, n, d, w, db, wb) = stats[name]\n",
    "    base_a = np.mean(lnorm_mean.iloc[:,agenes_idx], axis=0) # across depth bins for each gene\n",
    "    base_b = np.mean(lnorm_mean.iloc[:,bgenes_idx], axis=0) # across depth bins for each gene\n",
    "    base_c = np.mean(lnorm_mean.iloc[:,cgenes_idx], axis=0) # across depth bins for each gene\n",
    "    base_i = np.mean(lnorm_mean.iloc[:,igenes_idx], axis=0) # across depth bins for each gene\n",
    "    \n",
    "    base_a0.append(base_a)\n",
    "    base_b0.append(base_b)\n",
    "    base_c0.append(base_c)\n",
    "    base_i0.append(base_i)\n",
    "    \n",
    "base_a0 = np.mean(base_a0, axis=0)\n",
    "base_b0 = np.mean(base_b0, axis=0)\n",
    "base_c0 = np.mean(base_c0, axis=0)\n",
    "base_i0 = np.mean(base_i0, axis=0)\n",
    "\n",
    "base_a0.shape, base_b0.shape, base_c0.shape, base_i0.shape"
   ]
  },
  {
   "cell_type": "code",
   "execution_count": null,
   "id": "662d057b-3ae0-46ff-ade3-1745770e2a28",
   "metadata": {
    "tags": []
   },
   "outputs": [],
   "source": [
    "means = {}\n",
    "sems = {}\n",
    "for name in names:\n",
    "    (lnorm_mean, lnorm_sem, lnorm_std, n, d, w, db, wb) = stats[name]\n",
    "    \n",
    "    amean = np.mean(lnorm_mean.iloc[:,agenes_idx]-base_a0, axis=1) # a bin vector\n",
    "    bmean = np.mean(lnorm_mean.iloc[:,bgenes_idx]-base_b0, axis=1) # a bin vector\n",
    "    cmean = np.mean(lnorm_mean.iloc[:,cgenes_idx]-base_c0, axis=1) # a bin vector\n",
    "    imean = np.mean(lnorm_mean.iloc[:,igenes_idx]-base_i0, axis=1) # a bin vector\n",
    "    \n",
    "    asem = np.mean(lnorm_sem.iloc[:,agenes_idx], axis=1)\n",
    "    bsem = np.mean(lnorm_sem.iloc[:,bgenes_idx], axis=1)\n",
    "    csem = np.mean(lnorm_sem.iloc[:,cgenes_idx], axis=1)\n",
    "    isem = np.mean(lnorm_sem.iloc[:,igenes_idx], axis=1)\n",
    "    \n",
    "    means[name] = [amean, bmean, cmean, imean]\n",
    "    sems[name] = [asem, bsem, csem, isem]\n",
    "    "
   ]
  },
  {
   "cell_type": "code",
   "execution_count": null,
   "id": "ade69fe6-3b7c-4f9d-8c64-f465dad7741b",
   "metadata": {
    "tags": []
   },
   "outputs": [],
   "source": [
    "for name in names:\n",
    "    adatasub = v1l23_data[name]\n",
    "    \n",
    "    depth = adatasub.obs['depth'].values\n",
    "    width = adatasub.obs['width'].values\n",
    "    mat   = adatasub.layers['lnorm']\n",
    "\n",
    "    fig, axs = plt.subplots(4,1,figsize=(10,4*1.5))\n",
    "    fig.suptitle(name)\n",
    "    gnames = ['A genes', 'B genes', 'C genes', 'IEGs']\n",
    "    for i, (_idx, _baseline) in enumerate(zip([agenes_idx, bgenes_idx, cgenes_idx, igenes_idx], \n",
    "                                              [base_a0, base_b0, base_c0, base_i0])):\n",
    "        ax = axs[i]\n",
    "        lnorm_ = mat[:,_idx].copy()\n",
    "        g = (lnorm_ - np.array(_baseline).reshape(1,-1)).mean(axis=1) \n",
    "        gn = gnames[i]\n",
    "        if i < 3:\n",
    "            vmax = +0.08 # np.percentile(g, 95)\n",
    "            vmin = -0.08 # np.percentile(g,  0)\n",
    "        else:\n",
    "            vmax = +0.25 # np.percentile(g, 95)\n",
    "            vmin = -0.25 # np.percentile(g,  0)\n",
    "\n",
    "        utils_merfish.st_scatter_ax(fig, ax, width, -depth, gexp=g, s=5, title='', vmin=vmin, vmax=vmax, cmap='coolwarm') #, axis_off=False)\n",
    "        ax.set_title(gn, loc='left', ha='right', y=0.5)\n",
    "    plt.show()"
   ]
  },
  {
   "cell_type": "code",
   "execution_count": null,
   "id": "6be436ca-3b28-4b68-9cd3-cf4508ff24b7",
   "metadata": {},
   "outputs": [],
   "source": [
    "gnames = ['A genes (n=64)', 'B genes (n=35)', 'C genes (n=71)']\n",
    "\n",
    "fig, axs = plt.subplots(1, 4, figsize=(5*4,4), sharex=True, sharey=True)\n",
    "\n",
    "# ax.set_title('P28NR')\n",
    "linestyle = '-'\n",
    "for ax, name in zip(axs, ['P28NRb_ant', 'P28NRb_pos', 'P28DRb_ant', 'P28DRb_pos']):\n",
    "    (lnorm_mean, lnorm_sem, lnorm_std, n, d, w, db, wb) = stats[name]\n",
    "    amean, bmean, cmean, imean = means[name]\n",
    "    asem, bsem, csem, isem = sems[name]\n",
    "    \n",
    "    x = np.mean(np.vstack([db[:-1], db[1:]]), axis=0)\n",
    "    \n",
    "    ax.plot(x, amean, label='A genes', color='C0', linestyle=linestyle)\n",
    "    ax.fill_between(x, amean-asem, amean+asem, color='C0', alpha=0.1, edgecolor='none')\n",
    "    ax.plot(x, bmean, label='B genes', color='C1', linestyle=linestyle)\n",
    "    ax.fill_between(x, bmean-bsem, bmean+bsem, color='C1', alpha=0.1, edgecolor='none')\n",
    "    ax.plot(x, cmean, label='C genes', color='C2', linestyle=linestyle)\n",
    "    ax.fill_between(x, cmean-csem, cmean+csem, color='C2', alpha=0.1, edgecolor='none')\n",
    "    ax.axhline(color='k', linestyle='--', zorder=1)\n",
    "\n",
    "    sns.despine(ax=ax)\n",
    "    ax.set_xticks([0, 100, 200, 300])\n",
    "    ax.set_xlim(left=100, right=350)\n",
    "    ax.set_ylim([-0.2, 0.2])\n",
    "    ax.grid(False)\n",
    "    ax.set_title(name)\n",
    "axs[0].set_ylabel('mean (expr. +/- sem)')\n",
    "\n",
    "# ax = axs[1]\n",
    "# ax.set_title('P28DR')\n",
    "# for ax, name, in zip(axs[2:], ['P28NR_ant', 'P28NR_pos'], ):\n",
    "#     (lnorm_mean, lnorm_sem, lnorm_std, n, d, w, db, wb) = stats[name]\n",
    "#     amean, bmean, cmean, imean = means[name]\n",
    "#     asem, bsem, csem, isem = sems[name]\n",
    "    \n",
    "#     x = np.mean(np.vstack([db[:-1], db[1:]]), axis=0)\n",
    "    \n",
    "#     ax.plot(x, amean, label='A genes', color='C0', linestyle=linestyle)\n",
    "#     ax.fill_between(x, amean-asem, amean+asem, color='C0', alpha=0.1, edgecolor='none')\n",
    "#     ax.plot(x, bmean, label='B genes', color='C1', linestyle=linestyle)\n",
    "#     ax.fill_between(x, bmean-bsem, bmean+bsem, color='C1', alpha=0.1, edgecolor='none')\n",
    "#     ax.plot(x, cmean, label='C genes', color='C2', linestyle=linestyle)\n",
    "#     ax.fill_between(x, cmean-csem, cmean+csem, color='C2', alpha=0.1, edgecolor='none')\n",
    "#     ax.axhline(color='k', linestyle='--', zorder=1)\n",
    "\n",
    "#     sns.despine(ax=ax)\n",
    "#     ax.set_xticks([0, 100, 200, 300])\n",
    "#     ax.set_xlim(left=100, right=350)\n",
    "#     ax.set_ylim([-0.06, 0.06])\n",
    "#     ax.grid(False)\n",
    "\n",
    "    \n",
    "fig.subplots_adjust(wspace=0.1)\n",
    "# powerplots.savefig_autodate(fig, outdatadir+'/grant_saumya_lineq_abc_v3.pdf')"
   ]
  },
  {
   "cell_type": "code",
   "execution_count": null,
   "id": "2d8a139b-e3c8-45ec-b5a7-4c90544cbee4",
   "metadata": {},
   "outputs": [],
   "source": [
    "gnames = ['Type A genes', 'Type B genes', 'Type C genes']\n",
    "\n",
    "fig, axs = plt.subplots(1, 3, figsize=(5*3,4), sharex=True, sharey=True)\n",
    "\n",
    "for i in range(3):\n",
    "    ax = axs[i]\n",
    "    sns.despine(ax=ax)\n",
    "    ax.set_title(gnames[i])\n",
    "    ax.grid(False)\n",
    "    color = f'C{i}'\n",
    "    \n",
    "    for name in ['P28NRb_ant', 'P28NRb_pos']:\n",
    "        (lnorm_mean, lnorm_sem, lnorm_std, n, d, w, db, wb) = stats[name]\n",
    "        mean_vec = means[name][i]\n",
    "        sem_vec = sems[name][i]\n",
    "\n",
    "        x = np.mean(np.vstack([db[:-1], db[1:]]), axis=0)\n",
    "        ax.plot(x, mean_vec, label='NR', color=color, linestyle='-')\n",
    "        ax.fill_between(x, mean_vec-sem_vec, mean_vec+sem_vec, color=color, alpha=0.1, edgecolor='none')\n",
    "    \n",
    "    for name in ['P28DRb_ant', 'P28DRb_pos']:\n",
    "        (lnorm_mean, lnorm_sem, lnorm_std, n, d, w, db, wb) = stats[name]\n",
    "        mean_vec = means[name][i]\n",
    "        sem_vec = sems[name][i]\n",
    "\n",
    "        x = np.mean(np.vstack([db[:-1], db[1:]]), axis=0)\n",
    "        ax.plot(x, mean_vec, label='DR', color=color, linestyle='--')\n",
    "        ax.fill_between(x, mean_vec-sem_vec, mean_vec+sem_vec, color=color, alpha=0.1, edgecolor='none')\n",
    "        \n",
    "    ax.set_ylim([-0.2, 0.2])\n",
    "    ax.axhline(color='k', linestyle='dotted', zorder=1)\n",
    "    ax.set_xticks([100, 200, 300])\n",
    "    ax.set_xlim(left=100, right=350)\n",
    "    ax.set_xlabel('upper->lower cortical depth')\n",
    "    \n",
    "axs[0].set_ylabel('mean (expr. +/- sem)')\n",
    "axs[2].legend(bbox_to_anchor=(1,1))\n",
    "\n",
    "fig.subplots_adjust(wspace=0.1)\n",
    "# powerplots.savefig_autodate(fig, outdatadir+'/grant_saumya_lineq_abc_v3.pdf')"
   ]
  },
  {
   "cell_type": "code",
   "execution_count": null,
   "id": "7ebbd31b-843e-4098-8ea1-3770eda512f0",
   "metadata": {
    "tags": []
   },
   "outputs": [],
   "source": [
    "gnames = ['activity-dependent genes',]\n",
    "\n",
    "fig, ax = plt.subplots(1, 1, figsize=(5*1,4))\n",
    "\n",
    "i = 3\n",
    "color = f'C4'\n",
    "\n",
    "sns.despine(ax=ax)\n",
    "ax.set_title(gnames[0])\n",
    "ax.grid(False)\n",
    "\n",
    "for name in ['P28NRb_ant', 'P28NRb_pos']:\n",
    "    (lnorm_mean, lnorm_sem, lnorm_std, n, d, w, db, wb) = stats[name]\n",
    "    mean_vec = means[name][i]\n",
    "    sem_vec = sems[name][i]\n",
    "\n",
    "    x = np.mean(np.vstack([db[:-1], db[1:]]), axis=0)\n",
    "    ax.plot(x, mean_vec, label='NR', color=color, linestyle='-')\n",
    "    ax.fill_between(x, mean_vec-sem_vec, mean_vec+sem_vec, color=color, alpha=0.1, edgecolor='none')\n",
    "\n",
    "for name in ['P28DRb_ant', 'P28DRb_pos']:\n",
    "    (lnorm_mean, lnorm_sem, lnorm_std, n, d, w, db, wb) = stats[name]\n",
    "    mean_vec = means[name][i]\n",
    "    sem_vec = sems[name][i]\n",
    "\n",
    "    x = np.mean(np.vstack([db[:-1], db[1:]]), axis=0)\n",
    "    ax.plot(x, mean_vec, label='DR', color=color, linestyle='--')\n",
    "    ax.fill_between(x, mean_vec-sem_vec, mean_vec+sem_vec, color=color, alpha=0.1, edgecolor='none')\n",
    "\n",
    "# ax.set_ylim([-0.08, 0.08])\n",
    "ax.axhline(color='k', linestyle='dotted', zorder=1)\n",
    "# ax.set_xticks([0, 100, 200, 300])\n",
    "ax.set_xticks([100, 200, 300])\n",
    "ax.set_xlim(left=100)\n",
    "ax.set_xlabel('upper->lower cortical depth')\n",
    "    \n",
    "ax.set_ylabel('mean (expr. +/- sem)')\n",
    "ax.legend(bbox_to_anchor=(1,1))\n",
    "\n",
    "fig.subplots_adjust(wspace=0.1)\n",
    "# powerplots.savefig_autodate(fig, outdatadir+'/grant_saumya_lineq_abc_v3.pdf')"
   ]
  },
  {
   "cell_type": "markdown",
   "id": "cb7c18f1-eaa7-4b3f-bf3c-2031b0c7465c",
   "metadata": {},
   "source": [
    "# V1 vs outside of V1"
   ]
  },
  {
   "cell_type": "code",
   "execution_count": null,
   "id": "01b69dc0-742b-4489-ba0c-b06a9ef8bc0a",
   "metadata": {},
   "outputs": [],
   "source": []
  },
  {
   "cell_type": "code",
   "execution_count": null,
   "id": "36ee0a3c-045e-49d6-98cd-46bda5125540",
   "metadata": {},
   "outputs": [],
   "source": []
  },
  {
   "cell_type": "code",
   "execution_count": null,
   "id": "261c6bb0-7b0d-4009-9497-8c5bd14414b6",
   "metadata": {},
   "outputs": [],
   "source": []
  },
  {
   "cell_type": "code",
   "execution_count": null,
   "id": "3321a39e-eca9-4864-b663-286a7585c182",
   "metadata": {},
   "outputs": [],
   "source": []
  },
  {
   "cell_type": "code",
   "execution_count": null,
   "id": "f9a54397-3990-4113-be10-7ffb715ad441",
   "metadata": {},
   "outputs": [],
   "source": []
  },
  {
   "cell_type": "code",
   "execution_count": null,
   "id": "33682d35-d26b-4470-851f-ab9d32b0d70c",
   "metadata": {},
   "outputs": [],
   "source": []
  },
  {
   "cell_type": "code",
   "execution_count": null,
   "id": "aad89fa8-8a60-401c-9d5d-206d76f79f28",
   "metadata": {},
   "outputs": [],
   "source": []
  },
  {
   "cell_type": "code",
   "execution_count": null,
   "id": "613a0050-9462-4a82-bc09-8ff7887b8588",
   "metadata": {},
   "outputs": [],
   "source": []
  },
  {
   "cell_type": "code",
   "execution_count": null,
   "id": "bf120aa6-2783-41c2-9614-afbb5ead57a6",
   "metadata": {},
   "outputs": [],
   "source": []
  },
  {
   "cell_type": "code",
   "execution_count": null,
   "id": "7dfdf5d1-275f-4146-ae9a-d0cdd54a8b66",
   "metadata": {},
   "outputs": [],
   "source": []
  }
 ],
 "metadata": {
  "kernelspec": {
   "display_name": "Python 3 (ipykernel)",
   "language": "python",
   "name": "python3"
  },
  "language_info": {
   "codemirror_mode": {
    "name": "ipython",
    "version": 3
   },
   "file_extension": ".py",
   "mimetype": "text/x-python",
   "name": "python",
   "nbconvert_exporter": "python",
   "pygments_lexer": "ipython3",
   "version": "3.9.16"
  }
 },
 "nbformat": 4,
 "nbformat_minor": 5
}
