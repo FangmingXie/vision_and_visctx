{
 "cells": [
  {
   "cell_type": "code",
   "execution_count": null,
   "id": "aa503af1-8bb5-427a-8241-06e28faa45f3",
   "metadata": {
    "tags": []
   },
   "outputs": [],
   "source": [
    "import numpy as np\n",
    "import pandas as pd\n",
    "import matplotlib.pyplot as plt\n",
    "import seaborn as sns\n",
    "import anndata as ad\n",
    "import scanpy as sc\n",
    "from scipy import stats\n",
    "import os\n",
    "\n",
    "from scipy import spatial\n",
    "from scipy import sparse\n",
    "from scipy.interpolate import CubicSpline\n",
    "from sklearn.decomposition import PCA\n",
    "from sklearn.cluster import KMeans\n",
    "from sklearn.neighbors import NearestNeighbors\n",
    "import networkx as nx\n",
    "from umap import UMAP\n",
    "\n",
    "import json"
   ]
  },
  {
   "cell_type": "code",
   "execution_count": null,
   "id": "0f45245f-11c8-4e6e-b181-d2bf21e8c459",
   "metadata": {},
   "outputs": [],
   "source": [
    "import importlib\n",
    "\n",
    "from scroutines import powerplots\n",
    "from scroutines.miscu import is_in_polygon\n",
    "\n",
    "import utils_merfish\n",
    "importlib.reload(utils_merfish)\n",
    "from utils_merfish import rot2d, st_scatter, st_scatter_ax, plot_cluster, binning\n",
    "from utils_merfish import RefLineSegs\n",
    "\n",
    "import merfish_datasets\n",
    "import merfish_genesets\n",
    "importlib.reload(merfish_datasets)\n",
    "from merfish_datasets import merfish_datasets\n",
    "from merfish_datasets import merfish_datasets_params\n",
    "\n",
    "from scroutines import basicu"
   ]
  },
  {
   "cell_type": "code",
   "execution_count": null,
   "id": "5ee31c0c-9fc3-4bf8-a36e-1cdb4fe398dc",
   "metadata": {
    "tags": []
   },
   "outputs": [],
   "source": [
    "def get_qc_metrics(df):\n",
    "    \"\"\"\n",
    "    return metrics\n",
    "     - key\n",
    "      - (name, val, medval, bins)\n",
    "    \"\"\"\n",
    "    metrics = {}\n",
    "    cols  = ['volume', 'gncov', 'gnnum']\n",
    "    names = ['cell volume', 'num transcripts', 'num genes']\n",
    "    \n",
    "    for col, name in zip(cols, names):\n",
    "        val = df[col].values\n",
    "        medval = np.median(val)\n",
    "        bins = np.linspace(0, 10*medval, 50)\n",
    "        \n",
    "        metrics[col] = (name, val, medval, bins)\n",
    "    return metrics\n",
    "\n",
    "def get_norm_counts(adata, scaling=500):\n",
    "    \"\"\"norm - equalize the volume to be 500 for all cells\n",
    "    \"\"\"\n",
    "    cnts = adata.X\n",
    "    vol = adata.obs['volume'].values\n",
    "    normcnts = cnts/vol.reshape(-1,1)*scaling\n",
    "    adata.layers['norm'] = normcnts\n",
    "    \n",
    "    return normcnts"
   ]
  },
  {
   "cell_type": "code",
   "execution_count": null,
   "id": "f966b334-541e-4e6a-a02b-99b26455e254",
   "metadata": {
    "tags": []
   },
   "outputs": [],
   "source": [
    "def get_largest_spatial_components(adata, k=100, dist_th=80):\n",
    "    \"\"\"\n",
    "    k - number of neighbors\n",
    "    dist_th - distance to call connected components\n",
    "    \n",
    "    returns\n",
    "        - indices of the largest components\n",
    "    \"\"\"\n",
    "    XY = adata.obs[['x', 'y']].values\n",
    "    nc = len(XY)\n",
    "\n",
    "    # kNN\n",
    "    nbrs = NearestNeighbors(n_neighbors=k, algorithm='auto').fit(XY)\n",
    "    distances, indices = nbrs.kneighbors(XY)\n",
    "\n",
    "    # filtered by distance th\n",
    "    val = distances[:,1:].reshape(-1,)\n",
    "    i = np.repeat(indices[:,0],k-1)\n",
    "    j = indices[:,1:].reshape(-1,)\n",
    "\n",
    "    indices_filtered = np.vstack([i[val < dist_th], j[val < dist_th]]).T\n",
    "\n",
    "    G = nx.Graph()\n",
    "    G.add_nodes_from(np.arange(nc))\n",
    "    G.add_edges_from(indices_filtered)\n",
    "    components = nx.connected_components(G)\n",
    "    largest_component = max(components, key=len)\n",
    "    indices_selected = np.array(list(largest_component))\n",
    "\n",
    "    print(f\"fraction of cells included: {len(largest_component)/nc: .2f}\" )\n",
    "    \n",
    "    return indices_selected, XY"
   ]
  },
  {
   "cell_type": "markdown",
   "id": "948e0c4c-761e-4757-9027-2c6f309b4245",
   "metadata": {},
   "source": [
    "# load data and construct adata "
   ]
  },
  {
   "cell_type": "code",
   "execution_count": null,
   "id": "39889430-5345-48d5-acb5-32a077eb6b85",
   "metadata": {},
   "outputs": [],
   "source": [
    "np.random.seed(0)"
   ]
  },
  {
   "cell_type": "code",
   "execution_count": null,
   "id": "1abfa400-a56a-4bdd-b61a-d962b03ae2b1",
   "metadata": {
    "tags": []
   },
   "outputs": [],
   "source": [
    "outdir     = \"/u/home/f/f7xiesnm/project-zipursky/v1-bb/v1/results_merfish/plots_240718\"\n",
    "outdatadir = \"/u/home/f/f7xiesnm/project-zipursky/v1-bb/v1/data/merfish/organized\"\n",
    "!mkdir -p $outdir\n",
    "!mkdir -p $outdatadir"
   ]
  },
  {
   "cell_type": "code",
   "execution_count": null,
   "id": "10056f83-d188-4aea-9e6b-6bfaed8f77e0",
   "metadata": {
    "tags": []
   },
   "outputs": [],
   "source": [
    "genesets, df = merfish_genesets.get_all_genesets()\n",
    "for key, item in genesets.items():\n",
    "    print(key, len(item))"
   ]
  },
  {
   "cell_type": "code",
   "execution_count": null,
   "id": "9de52cb2-2b0c-4b9f-a864-1ec9e50eae47",
   "metadata": {
    "tags": []
   },
   "outputs": [],
   "source": [
    "ddir = \"/u/home/f/f7xiesnm/project-zipursky/v1-bb/v1/data/merfish/organized\" \n",
    "fout = os.path.join(ddir, 'P28NRDR_v1l23_merged_240508.h5ad')\n",
    "!ls $ddir/*l2*240723.h5ad "
   ]
  },
  {
   "cell_type": "code",
   "execution_count": null,
   "id": "72ebe8f3-6d19-4bed-bea5-904b178eeed0",
   "metadata": {
    "tags": []
   },
   "outputs": [],
   "source": [
    "%%time\n",
    "names = [\n",
    "    'P28NRa_ant', \n",
    "    'P28NRa_pos',\n",
    "    \n",
    "    'P28NRb_ant', \n",
    "    'P28NRb_pos',\n",
    "    \n",
    "    'P28DRa_ant', \n",
    "    'P28DRa_pos',\n",
    "    \n",
    "    'P28DRb_ant', \n",
    "    'P28DRb_pos',\n",
    "]\n",
    "\n",
    "alldata = {}\n",
    "for name in names:\n",
    "    adatasub = ad.read(os.path.join(ddir, f'{name}_l2_v1_240723.h5ad')) \n",
    "    adatasub.obs.index = np.char.add(f'{name}', adatasub.obs.index.values)\n",
    "    alldata[name] = adatasub \n",
    "    print(name, len(alldata[name]))\n",
    "    \n",
    "genes = adatasub.var.index.values\n",
    "genes.shape"
   ]
  },
  {
   "cell_type": "code",
   "execution_count": null,
   "id": "bbeb650a-238c-4dbf-b22b-2f64f203f0b3",
   "metadata": {
    "tags": []
   },
   "outputs": [],
   "source": [
    "agenes = genesets['a']\n",
    "bgenes = genesets['b']\n",
    "cgenes = genesets['c']\n",
    "iegs   = genesets['i']\n",
    "up_agenes = genesets['a_up']\n",
    "abcgenes = np.hstack([agenes, bgenes, cgenes])\n",
    "len(abcgenes)"
   ]
  },
  {
   "cell_type": "code",
   "execution_count": null,
   "id": "425bb22f-df22-4280-82a8-f4bffa73f40d",
   "metadata": {
    "tags": []
   },
   "outputs": [],
   "source": [
    "agenes_idx = basicu.get_index_from_array(adatasub.var.index.values, agenes)\n",
    "bgenes_idx = basicu.get_index_from_array(adatasub.var.index.values, bgenes)\n",
    "cgenes_idx = basicu.get_index_from_array(adatasub.var.index.values, cgenes)\n",
    "igenes_idx = basicu.get_index_from_array(adatasub.var.index.values, iegs)"
   ]
  },
  {
   "cell_type": "code",
   "execution_count": null,
   "id": "17dd1c5e-fc3e-4bf3-8854-ce4229df7267",
   "metadata": {
    "tags": []
   },
   "outputs": [],
   "source": [
    "mean_total_rna_target = 250\n",
    "adata_premerge = []\n",
    "for i, name in enumerate(names):\n",
    "    adatasub = alldata[name].copy()\n",
    "    \n",
    "    adatasub.obs['sample'] = name\n",
    "    \n",
    "    norm_cnts = adatasub.layers['norm']\n",
    "    mean_per_batch = np.mean(norm_cnts.sum(axis=1))\n",
    "    adatasub.layers['jnorm']  = norm_cnts*(mean_total_rna_target/mean_per_batch)\n",
    "    adatasub.layers['ljnorm'] = np.log2(1+adatasub.layers['jnorm'])\n",
    "    \n",
    "    adatasub.obs['norm_transcript_count']  = adatasub.layers['norm'].sum(axis=1)\n",
    "    adatasub.obs['jnorm_transcript_count'] = adatasub.layers['jnorm'].sum(axis=1)\n",
    "    \n",
    "    adata_premerge.append(adatasub)\n",
    "    \n",
    "adata_premerge = ad.concat(adata_premerge)"
   ]
  },
  {
   "cell_type": "code",
   "execution_count": null,
   "id": "03d116d2-3ba3-480d-8283-b3813faa3b40",
   "metadata": {
    "tags": []
   },
   "outputs": [],
   "source": [
    "adata_merged = []\n",
    "for i, name in enumerate(names):\n",
    "    j = i // 4\n",
    "    i = i % 4\n",
    "    \n",
    "    adatasub = adata_premerge[adata_premerge.obs['sample']==name].copy()\n",
    "        \n",
    "    adatasub.obs['sample'] = name\n",
    "    adatasub.obs['depth_show'] = -adatasub.obs['depth'].values - i*1300 # name\n",
    "    adatasub.obs['width_show'] =  adatasub.obs['width'].values - np.min(adatasub.obs['width'].values) + j*2500   # name\n",
    "    adata_merged.append(adatasub)\n",
    "    print(adatasub.shape)\n",
    "    # break\n",
    "    \n",
    "adata_merged = ad.concat(adata_merged)"
   ]
  },
  {
   "cell_type": "code",
   "execution_count": null,
   "id": "6059cd47-35ab-4410-963d-f809a8bf89fc",
   "metadata": {},
   "outputs": [],
   "source": [
    "\n",
    "sns.histplot(adata_premerge.obs['jnorm_transcript_count'], bins=np.linspace(0, 500, 50))"
   ]
  },
  {
   "cell_type": "code",
   "execution_count": null,
   "id": "f216ed54-619f-49f9-b628-137da46fbfe9",
   "metadata": {
    "tags": []
   },
   "outputs": [],
   "source": [
    "sns.histplot(adata_premerge.obs['norm_transcript_count'], bins=np.linspace(0, 500, 50))"
   ]
  },
  {
   "cell_type": "code",
   "execution_count": null,
   "id": "2cd9905f-81a8-4552-875b-38fa5e64e459",
   "metadata": {},
   "outputs": [],
   "source": [
    "from scipy.stats import zscore"
   ]
  },
  {
   "cell_type": "code",
   "execution_count": null,
   "id": "76c10acc-6bf1-4c14-b8de-d7aac46ec471",
   "metadata": {
    "tags": []
   },
   "outputs": [],
   "source": [
    "marker_genes = [\n",
    "       'Ptprn', 'Slc17a7', 'Gad1', 'Fos', \n",
    "       \n",
    "       'Gfap', 'Slc6a13', 'Slc47a1',\n",
    "       'Grin2c', 'Aqp4', 'Rfx4', 'Sox21', 'Slc1a3',\n",
    "       \n",
    "       'Sox10', 'Pdgfra', 'Mog',\n",
    "       \n",
    "       'Pecam1', 'Cd34' , 'Tnfrsf12a', 'Sema3c', \n",
    "       'Zfhx3', 'Pag1', 'Slco2b1', 'Cx3cr1',\n",
    "      ] "
   ]
  },
  {
   "cell_type": "code",
   "execution_count": null,
   "id": "d3917828-b2e4-4494-a673-47f7f7575c36",
   "metadata": {
    "tags": []
   },
   "outputs": [],
   "source": [
    "genes_noniegs = np.array([g for g in genes if g not in iegs])\n",
    "genes_noniegs.shape"
   ]
  },
  {
   "cell_type": "code",
   "execution_count": null,
   "id": "eba48c65-9722-4352-a8c8-f4b94ac04c7c",
   "metadata": {},
   "outputs": [],
   "source": [
    "adata = adata_merged # [:,marker_genes].copy()\n",
    "\n",
    "\n",
    "# PCA\n",
    "pca = PCA(n_components=50)\n",
    "pcs = pca.fit_transform(zscore(adata[:,genes_noniegs].layers['ljnorm'], axis=1))\n",
    "# pcs = pca.fit_transform(zscore(adata.layers['ljnorm'], axis=1))\n",
    "ucs = UMAP(n_components=2, n_neighbors=30, random_state=0).fit_transform(pcs)\n",
    "\n",
    "adata.obsm['pca'] = pcs\n",
    "adata.obsm['umap'] = ucs\n",
    "sc.pp.neighbors(adata, n_neighbors=30, use_rep='pca', random_state=0)"
   ]
  },
  {
   "cell_type": "code",
   "execution_count": null,
   "id": "6f15e3d3-9e90-477c-83ca-54fb8754bbb3",
   "metadata": {
    "tags": []
   },
   "outputs": [],
   "source": [
    "# clustering\n",
    "r = 0.3\n",
    "sc.tl.leiden(adata, resolution=r, key_added=f'leiden_r{r}', random_state=0, n_iterations=10)"
   ]
  },
  {
   "cell_type": "code",
   "execution_count": null,
   "id": "4abd8ad4-6dba-43d7-90ab-3540e37d03c6",
   "metadata": {
    "tags": []
   },
   "outputs": [],
   "source": [
    "# plot\n",
    "gn = 'Slc17a7'\n",
    "# gn = 'Fos'\n",
    "# gn = 'Gad1'\n",
    "g = np.log2(1+adata[:,gn].layers['jnorm'].reshape(-1,))\n",
    "\n",
    "# add some quality metrics\n",
    "\n",
    "fig, (ax1, ax2) = plt.subplots(1,2,figsize=(2*5,1*4))\n",
    "utils_merfish.st_scatter_ax(fig, ax1, pcs[:,0], pcs[:,1], gexp=g)\n",
    "utils_merfish.st_scatter_ax(fig, ax2, ucs[:,0], ucs[:,1], gexp=g)\n",
    "plt.show()\n",
    "\n",
    "# plot\n",
    "gn = 'Slc17a7'\n",
    "# gn = 'Fos'\n",
    "# gn = 'Gad1'\n",
    "g = adata[:,gn].layers['jnorm'].reshape(-1,)\n",
    "\n",
    "# add some quality metrics\n",
    "\n",
    "fig, (ax1, ax2) = plt.subplots(1,2,figsize=(2*5,1*4))\n",
    "utils_merfish.st_scatter_ax(fig, ax1, pcs[:,0], pcs[:,1], gexp=g)\n",
    "utils_merfish.st_scatter_ax(fig, ax2, ucs[:,0], ucs[:,1], gexp=g)\n",
    "plt.show()"
   ]
  },
  {
   "cell_type": "code",
   "execution_count": null,
   "id": "6c2e2ca9-8eb9-44f1-9886-7910d7a49913",
   "metadata": {
    "tags": []
   },
   "outputs": [],
   "source": [
    "\n",
    "clsts = adata.obs[f'leiden_r{r}'].astype(int)\n",
    "xr =  adata.obs['width_show']\n",
    "yr =  adata.obs['depth_show']\n",
    "ux = adata.obsm['umap'][:,0]\n",
    "uy = adata.obsm['umap'][:,1]\n",
    "utils_merfish.plot_cluster(clsts, xr, yr, ux, uy, s=2)\n",
    "\n",
    "samples, uniq_labels = pd.factorize(adata.obs['sample']) # .astype(int)\n",
    "utils_merfish.plot_cluster(samples, xr, yr, ux, uy, s=2)"
   ]
  },
  {
   "cell_type": "code",
   "execution_count": null,
   "id": "86bb6ef2-32c7-4ead-9c3f-4e2ebc027b4f",
   "metadata": {
    "tags": []
   },
   "outputs": [],
   "source": [
    "np.unique(clsts, return_counts=True)"
   ]
  },
  {
   "cell_type": "code",
   "execution_count": null,
   "id": "b933bce0-4fb4-4e02-9970-a2edc8822a63",
   "metadata": {
    "tags": []
   },
   "outputs": [],
   "source": [
    "clsts = adata.obs[f'leiden_r{r}'].astype(int)\n",
    "uniq_clsts = np.unique(clsts)\n",
    "\n",
    "\n",
    "for clst in uniq_clsts:\n",
    "    show = (clsts == clst)\n",
    "    xr =  adata.obs['width_show']\n",
    "    yr =  adata.obs['depth_show']\n",
    "    ux    = adata.obsm['umap'][:,0]\n",
    "    uy    = adata.obsm['umap'][:,1]\n",
    "    utils_merfish.plot_cluster(show, xr, yr, ux, uy, s=2, cmap=plt.cm.copper_r, suptitle=clst)"
   ]
  },
  {
   "cell_type": "code",
   "execution_count": null,
   "id": "e67e19ac-93bd-4bc7-a827-5043882e615c",
   "metadata": {},
   "outputs": [],
   "source": []
  },
  {
   "cell_type": "code",
   "execution_count": null,
   "id": "91b60a58-99e6-49b8-9ea3-361845b2bad5",
   "metadata": {},
   "outputs": [],
   "source": []
  },
  {
   "cell_type": "code",
   "execution_count": null,
   "id": "52a59e60-e95b-42c9-a19c-c1af5ad41e45",
   "metadata": {},
   "outputs": [],
   "source": []
  },
  {
   "cell_type": "markdown",
   "id": "7f9778cb-e173-4b16-aa2e-039f3417b479",
   "metadata": {},
   "source": [
    "# figure out major cell population by marker genes; groups of genes; and quality metrics"
   ]
  },
  {
   "cell_type": "code",
   "execution_count": null,
   "id": "735f21ca-97ca-4fea-918e-5e37e81e5822",
   "metadata": {
    "tags": []
   },
   "outputs": [],
   "source": [
    "# plot\n",
    "marker_genes = [\n",
    "       'Ptprn', 'Slc17a7', 'Gad1', 'Fos', \n",
    "       \n",
    "       'Gfap', 'Slc6a13', 'Slc47a1',\n",
    "       'Grin2c', 'Aqp4', 'Rfx4', 'Sox21', 'Slc1a3',\n",
    "       \n",
    "       'Sox10', 'Pdgfra', 'Mog',\n",
    "       \n",
    "       'Pecam1', 'Cd34' , 'Tnfrsf12a', 'Sema3c', \n",
    "       'Zfhx3', 'Pag1', 'Slco2b1', 'Cx3cr1',\n",
    "      ] \n",
    "gns = marker_genes\n",
    "n = len(gns)\n",
    "nx = 4\n",
    "ny = int((n+nx-1)/nx)\n",
    "# add some quality metrics\n",
    "fig, axs = plt.subplots(ny,nx,figsize=(nx*5,ny*4))\n",
    "for gn, ax in zip(gns, axs.flat):\n",
    "    g = adata[:,gn].layers['jnorm'].reshape(-1,)\n",
    "    utils_merfish.st_scatter_ax(fig, ax, ucs[:,0], ucs[:,1], gexp=g)\n",
    "    ax.set_title(gn)\n",
    "plt.show()\n"
   ]
  },
  {
   "cell_type": "code",
   "execution_count": null,
   "id": "c4b8189e-53c4-414b-97ad-035e89907e56",
   "metadata": {
    "tags": []
   },
   "outputs": [],
   "source": [
    "# plot\n",
    "gns = marker_genes\n",
    "n = len(gns)\n",
    "nx = 4\n",
    "ny = int((n+nx-1)/nx)\n",
    "# add some quality metrics\n",
    "fig, axs = plt.subplots(ny,nx,figsize=(nx*5,ny*4))\n",
    "for gn, ax in zip(gns, axs.flat):\n",
    "    g = np.log2(1+adata[:,gn].layers['jnorm'].reshape(-1,))\n",
    "    utils_merfish.st_scatter_ax(fig, ax, ucs[:,0], ucs[:,1], gexp=g)\n",
    "    ax.set_title(gn)\n",
    "plt.show()\n",
    "\n"
   ]
  },
  {
   "cell_type": "markdown",
   "id": "5e37582b-3ec7-4c4f-8c08-f2ea3c2afb08",
   "metadata": {},
   "source": [
    "# RNA data basic analysis "
   ]
  },
  {
   "cell_type": "code",
   "execution_count": null,
   "id": "8dcb3a41-6fed-4c27-a03a-3ac6508f4622",
   "metadata": {
    "tags": []
   },
   "outputs": [],
   "source": [
    "def preprocessing(adata):\n",
    "    # filter genes\n",
    "    cond = np.ravel((adata.X>0).sum(axis=0)) > 10 # expressed in more than 10 cells\n",
    "    adata_sub = adata[:,cond]\n",
    "\n",
    "    # counts\n",
    "    x = adata_sub.X\n",
    "    cov = adata_sub.obs['n_counts'].values\n",
    "\n",
    "    # CP10k\n",
    "    xn = (sparse.diags(1/cov).dot(x))*1e4\n",
    "\n",
    "    # log10(CP10k+1)\n",
    "    xln = xn.copy()\n",
    "    xln.data = np.log10(xln.data+1)\n",
    "\n",
    "    adata_sub.layers['norm'] = xn\n",
    "    adata_sub.layers['lognorm'] = xln\n",
    "    \n",
    "    return adata_sub"
   ]
  },
  {
   "cell_type": "code",
   "execution_count": null,
   "id": "20587803-cca5-420c-bff7-f406cd91a6c6",
   "metadata": {
    "tags": []
   },
   "outputs": [],
   "source": [
    "def get_hvgs(adata, layer, nbin=20, qth=0.3):\n",
    "    \"\"\"\n",
    "    \"\"\"\n",
    "    xn = adata.layers[layer]\n",
    "    \n",
    "    # min\n",
    "    gm = np.ravel(xn.mean(axis=0))\n",
    "\n",
    "    # var\n",
    "    tmp = xn.copy()\n",
    "    tmp.data = np.power(tmp.data, 2)\n",
    "    gv = np.ravel(tmp.mean(axis=0))-gm**2\n",
    "\n",
    "    # cut \n",
    "    lbl = pd.qcut(gm, nbin, labels=np.arange(nbin))\n",
    "    gres = pd.DataFrame()\n",
    "    gres['lbl'] = lbl\n",
    "    gres['mean'] = gm\n",
    "    gres['var'] = gv\n",
    "    gres['ratio']= gv/gm\n",
    "\n",
    "    # select\n",
    "    gres_sel = gres.groupby('lbl')['ratio'].nlargest(int(qth*(len(gm)/nbin))) #.reset_index()\n",
    "    gsel_idx = np.sort(gres_sel.index.get_level_values(1).values)\n",
    "\n",
    "    assert np.all(gsel_idx != -1)\n",
    "    \n",
    "    return adata.var.index.values[gsel_idx]"
   ]
  },
  {
   "cell_type": "code",
   "execution_count": null,
   "id": "00834b49-fa7e-4e45-b4c2-c8edd5f5fd16",
   "metadata": {},
   "outputs": [],
   "source": [
    "#\n",
    "f = '/u/home/f/f7xiesnm/project-zipursky/v1-bb/v1/data/cheng21_cell_scrna/organized/P28NR.h5ad'\n",
    "adata_rna_raw = sc.read(f)\n",
    "adata_rna_raw"
   ]
  },
  {
   "cell_type": "code",
   "execution_count": null,
   "id": "9846a3a6-eb3e-4f13-8f02-7774389a4c23",
   "metadata": {
    "tags": []
   },
   "outputs": [],
   "source": [
    "adata_rna_raw.obs['Class_broad']"
   ]
  },
  {
   "cell_type": "code",
   "execution_count": null,
   "id": "5f78caed-4877-4a07-822a-5040ae22b2d1",
   "metadata": {
    "tags": []
   },
   "outputs": [],
   "source": [
    "# adata_rna_raw = adata_rna_raw[~adata_rna_raw.obs['subclass'].isnull()]\n",
    "adata_rna_raw = preprocessing(adata_rna_raw)\n",
    "adata_rna_raw"
   ]
  },
  {
   "cell_type": "code",
   "execution_count": null,
   "id": "ad8cdcb7-b1d3-44ba-8878-369d69bd17ee",
   "metadata": {
    "tags": []
   },
   "outputs": [],
   "source": [
    "hvgs = get_hvgs(adata_rna_raw, 'norm')\n",
    "adata_rna = adata_rna_raw[:,hvgs]\n",
    "adata_rna"
   ]
  },
  {
   "cell_type": "code",
   "execution_count": null,
   "id": "418895d6-6d59-466c-807e-26227a8a115a",
   "metadata": {
    "tags": []
   },
   "outputs": [],
   "source": [
    "# genes overlap\n",
    "genes_overlap = np.intersect1d(adata_rna.var.index.values, adata.var.index.values)\n",
    "genes_overlap.shape"
   ]
  },
  {
   "cell_type": "code",
   "execution_count": null,
   "id": "a4bb71c6-f41a-4d38-b46d-43d66647fed3",
   "metadata": {
    "tags": []
   },
   "outputs": [],
   "source": [
    "adata_rna = adata_rna[:,genes_overlap]\n",
    "adata_rna"
   ]
  },
  {
   "cell_type": "code",
   "execution_count": null,
   "id": "5eef65c7-7618-48f5-9265-1284d42381dd",
   "metadata": {
    "tags": []
   },
   "outputs": [],
   "source": [
    "zlognorm = stats.zscore(np.array(adata_rna.layers['lognorm'].todense()), axis=0)\n",
    "pca = PCA(n_components=50, random_state=0)\n",
    "pcs = pca.fit_transform(zlognorm)\n",
    "adata_rna.obsm['X_pca'] = pcs"
   ]
  },
  {
   "cell_type": "code",
   "execution_count": null,
   "id": "7df08fe5-3a4b-42eb-8878-38fc32611cfd",
   "metadata": {
    "tags": []
   },
   "outputs": [],
   "source": [
    "sc.pp.neighbors(adata_rna, use_rep='X_pca')\n",
    "sc.tl.umap(adata_rna)"
   ]
  },
  {
   "cell_type": "code",
   "execution_count": null,
   "id": "d748dfcc-8791-4337-bd5a-b2d9374d9844",
   "metadata": {
    "tags": []
   },
   "outputs": [],
   "source": [
    "sc.pl.umap(adata_rna, color=[\"subclass\"])"
   ]
  },
  {
   "cell_type": "code",
   "execution_count": null,
   "id": "e459561a-d29c-4a9f-aa31-870c9fb73b5e",
   "metadata": {},
   "outputs": [],
   "source": [
    "sc.pl.umap(adata_rna, color=[\"Class_broad\"])"
   ]
  },
  {
   "cell_type": "code",
   "execution_count": null,
   "id": "6bd4f42f-afd8-4548-8acd-b43eda9a757f",
   "metadata": {},
   "outputs": [],
   "source": []
  },
  {
   "cell_type": "markdown",
   "id": "fabb76d2-aa6b-49d2-8370-e2c59129c1f6",
   "metadata": {},
   "source": [
    "# integration - everything to everything - now good and takes too long"
   ]
  },
  {
   "cell_type": "code",
   "execution_count": null,
   "id": "96127486-e602-46c1-86d9-eeaa9794c472",
   "metadata": {
    "tags": []
   },
   "outputs": [],
   "source": [
    "genes_overlap.shape, genes_overlap"
   ]
  },
  {
   "cell_type": "code",
   "execution_count": null,
   "id": "13fafa18-3b94-4a11-9397-060f8ac2e068",
   "metadata": {
    "tags": []
   },
   "outputs": [],
   "source": [
    "adata_rna = adata_rna[:,genes_overlap].copy()\n",
    "adata_mer = adata[adata.obs['transcript_count']>50, genes_overlap].copy()\n",
    "print(len(adata_rna), len(adata), len(adata_mer))\n",
    "adata_rna, adata_mer"
   ]
  },
  {
   "cell_type": "code",
   "execution_count": null,
   "id": "fae023a1-756e-4397-a269-827c2c516287",
   "metadata": {
    "tags": []
   },
   "outputs": [],
   "source": [
    "adata_rna.obs['modality'] = 'rna'\n",
    "adata_mer.obs['modality'] = 'merfish'\n",
    "adata_merge = sc.concat([adata_rna, adata_mer], join='outer')\n",
    "# adata_merge.obs.loc[adata_rna.obs.index, 'subclass'] = adata_rna.obs['subclass']\n",
    "# adata_merge.obs.loc[adata_mer.obs.index, 'transcript_count'] = adata_mer.obs['transcript_count']\n",
    "\n",
    "lognorm_rna = np.log10(1+np.array(adata_rna.layers['norm'].todense()))\n",
    "zlognorm_rna = stats.zscore(lognorm_rna, axis=0)\n",
    "\n",
    "lognorm_mer = np.log10(1+adata_mer.layers['norm'])\n",
    "zlognorm_mer = stats.zscore(lognorm_mer, axis=0)\n",
    "\n",
    "adata_merge.obsm['X_pca2'] = PCA(n_components=20).fit_transform(np.vstack([zlognorm_rna, zlognorm_mer])) \n",
    "adata_merge"
   ]
  },
  {
   "cell_type": "code",
   "execution_count": null,
   "id": "f49b24aa-aa7f-4dda-8b1a-18fa15988e85",
   "metadata": {},
   "outputs": [],
   "source": [
    "sc.external.pp.harmony_integrate(adata_merge, 'modality', basis='X_pca2', max_iter_harmony=20)"
   ]
  },
  {
   "cell_type": "code",
   "execution_count": null,
   "id": "8c8d541e-ff17-4a58-84be-51c4a795d175",
   "metadata": {
    "tags": []
   },
   "outputs": [],
   "source": [
    "sc.pp.neighbors(adata_merge, use_rep='X_pca_harmony')\n",
    "sc.tl.umap(adata_merge) # , key='modality')\n",
    "adata_merge.obs['umap1'] = adata_merge.obsm['X_umap'][:,0]\n",
    "adata_merge.obs['umap2'] = adata_merge.obsm['X_umap'][:,1]"
   ]
  },
  {
   "cell_type": "code",
   "execution_count": null,
   "id": "10f7bdb4-3771-4197-8f58-335a0efc51c5",
   "metadata": {
    "tags": []
   },
   "outputs": [],
   "source": [
    "sns.scatterplot(data=adata_merge.obs.sample(frac=1, replace=False), \n",
    "                x='umap1', y='umap2', hue='modality', s=1, edgecolor='none')"
   ]
  },
  {
   "cell_type": "code",
   "execution_count": null,
   "id": "042bc327-1630-4c47-871c-df425c21dd6f",
   "metadata": {
    "tags": []
   },
   "outputs": [],
   "source": [
    "# label transfer from RNA data\n",
    "from sklearn.neighbors import KNeighborsClassifier\n",
    "\n",
    "ref = adata_merge[adata_rna.obs.index].copy()\n",
    "qry = adata_merge[adata_mer.obs.index].copy()\n",
    "knnc = KNeighborsClassifier(n_neighbors=30)\n",
    "\n",
    "# report distance cutoff\n",
    "knnc.fit(ref.obsm['X_pca_harmony'], ref.obs['Class_broad'].values)\n",
    "\n",
    "qry.obs['pred'] = knnc.predict(qry.obsm['X_pca_harmony'])\n",
    "ref.obs['pred'] = knnc.predict(ref.obsm['X_pca_harmony'])\n",
    "adata_merge.obs['pred'] = knnc.predict(adata_merge.obsm['X_pca_harmony'])"
   ]
  },
  {
   "cell_type": "code",
   "execution_count": null,
   "id": "17e57120-ac1f-4c1d-9d12-188855ef70f3",
   "metadata": {
    "tags": []
   },
   "outputs": [],
   "source": [
    "from sklearn.neighbors import NearestNeighbors\n",
    "\n",
    "def neighbor_label_transfer(k, ref_emb, qry_emb, ref_lbl, p_cutoff=0.5, dist_cutoff=None):\n",
    "    \"\"\"ref vs qry neighbors\n",
    "    \"\"\"\n",
    "    unq_lbls = np.unique(ref_lbl).astype(str) # array(['L2/3_A', 'L2/3_B', 'L2/3_C'])\n",
    "    n_unq_lbls = len(unq_lbls)\n",
    "    ref_n = len(ref_emb)\n",
    "    qry_n = len(qry_emb)\n",
    "    \n",
    "    neigh = NearestNeighbors(n_neighbors=k) # , radius=0.4)\n",
    "    neigh.fit(ref_emb)\n",
    "    dists, idx = neigh.kneighbors(qry_emb, k, return_distance=True)\n",
    "    \n",
    "    raw_pred = ref_lbl[idx]\n",
    "\n",
    "    # p\n",
    "    pabc = np.empty((qry_n, n_unq_lbls))\n",
    "    for i, lbl in enumerate(unq_lbls):\n",
    "        p = np.sum(raw_pred==lbl, axis=1)/k\n",
    "        pabc[:,i] = p\n",
    "\n",
    "    # max\n",
    "    max_pred = unq_lbls[np.argmax(pabc, axis=1)]\n",
    "\n",
    "    # \n",
    "    gated_pred = max_pred.copy()\n",
    "    cond1 = np.max( pabc, axis=1) > p_cutoff\n",
    "    gated_pred[~cond1] = 'NA' \n",
    "    if dist_cutoff is not None:\n",
    "        cond2 = np.max(dists, axis=1) < dist_cutoff\n",
    "        gated_pred[~cond2] = 'NA' \n",
    "    \n",
    "    return max_pred, gated_pred, np.max(dists, axis=1)\n",
    "\n",
    "\n",
    "def neighbor_self_nonself(k, ref_emb, qry_emb):\n",
    "    \"\"\"ref vs qry neighbors\n",
    "    \"\"\"\n",
    "    unq_lbls = np.unique(ref_lbl).astype(str) # array(['L2/3_A', 'L2/3_B', 'L2/3_C'])\n",
    "    n_unq_lbls = len(unq_lbls)\n",
    "    ref_n = len(ref_emb)\n",
    "    qry_n = len(qry_emb)\n",
    "    lbls = np.array([0]*ref_n+[1]*qry_n)\n",
    "    \n",
    "    neigh = NearestNeighbors(n_neighbors=k) # , radius=0.4)\n",
    "    neigh.fit(np.vstack([ref_emb, qry_emb]))\n",
    "    idx = neigh.kneighbors(qry_emb, k, return_distance=False)\n",
    "    \n",
    "    isself = lbls[idx]\n",
    "\n",
    "    p = np.sum(isself, axis=1)/k\n",
    "\n",
    "    \n",
    "    return p # max_pred, gated_pred, np.max(dists, axis=1)"
   ]
  },
  {
   "cell_type": "code",
   "execution_count": null,
   "id": "4f5d2d95-2142-40a4-abbd-ff9a2dfa7a1b",
   "metadata": {
    "tags": []
   },
   "outputs": [],
   "source": [
    "ref_emb = ref.obsm['X_pca_harmony']\n",
    "qry_emb = qry.obsm['X_pca_harmony']\n",
    "ref_lbl = ref.obs['Class_broad'].values.astype(str) # res_nr['type'].values.astype(str)\n",
    "print(np.unique(ref_lbl))\n",
    "\n",
    "k = 100\n",
    "max_pred, _, dists = neighbor_label_transfer(k, ref_emb, qry_emb, ref_lbl, p_cutoff=0.5, dist_cutoff=None)\n",
    "ps = neighbor_self_nonself(k, ref_emb, qry_emb)\n",
    "\n",
    "adata_merge.obs['max_pred'] = 'NA' \n",
    "adata_merge.obs['frac_self_neighbors'] = np.nan # 'NA'\n",
    "adata_merge.obs['gated_pred'] = 'NA'\n",
    "\n",
    "adata_merge.obs.loc[qry.obs.index, 'max_pred'] = max_pred\n",
    "adata_merge.obs.loc[qry.obs.index, 'frac_self_neighbors'] = ps\n",
    "adata_merge.obs.loc[qry.obs.index, 'gated_pred'] = np.where(ps < 0.98, max_pred, 'NA')"
   ]
  },
  {
   "cell_type": "code",
   "execution_count": null,
   "id": "7097eeba-126d-436b-bf11-ba01cccf3ca2",
   "metadata": {
    "tags": []
   },
   "outputs": [],
   "source": [
    "adata_snrnasq = adata_merge[adata_rna.obs.index].copy() #adata_merge.obs['modality']=='merfish']\n",
    "adata_merfish = adata_merge[adata_mer.obs.index].copy() #adata_merge.obs['modality']=='merfish']\n",
    "\n",
    "adata_merfish.obs['umap1_self'] = adata_merfish.obsm['umap'][:,0]\n",
    "adata_merfish.obs['umap2_self'] = adata_merfish.obsm['umap'][:,1]\n",
    "adata_snrnasq, adata_merfish"
   ]
  },
  {
   "cell_type": "code",
   "execution_count": null,
   "id": "720ceb9d-f75d-4b76-b416-08c750456890",
   "metadata": {
    "tags": []
   },
   "outputs": [],
   "source": [
    "sc.pl.umap(adata_merfish, color=['gated_pred'])\n",
    "sc.pl.umap(adata_merfish, color=['frac_self_neighbors'], vmin=0.95)\n",
    "sc.pl.umap(adata_merfish, color=['transcript_count'], vmin=0.95)"
   ]
  },
  {
   "cell_type": "code",
   "execution_count": null,
   "id": "f30af6c8-82a6-40d1-acde-5beb22468726",
   "metadata": {
    "tags": []
   },
   "outputs": [],
   "source": [
    "sns.color_palette('tab20')"
   ]
  },
  {
   "cell_type": "code",
   "execution_count": null,
   "id": "4eb1fc98-509b-423b-80c1-9dd400d16a78",
   "metadata": {},
   "outputs": [],
   "source": [
    "x =   adata_merfish.obs['width']\n",
    "y =  -adata_merfish.obs['depth']\n",
    "ux =  adata_merfish.obsm['X_umap'][:,0]\n",
    "uy =  adata_merfish.obsm['X_umap'][:,1]\n",
    "clsts_lbl = adata_merfish.obs['gated_pred'].values\n",
    "clsts, _ = pd.factorize(clsts_lbl) # .astype(int) # requires [0,1,2...,N]\n",
    "clsts_palette, clsts_cmap = utils_merfish.generate_discrete_cmap([len(np.unique(clsts))], keys=['Set2',])\n",
    "\n",
    "csel = 'tab20'\n",
    "clsts_palette2 = {\n",
    "    'Excitatory':       sns.color_palette(csel, 8)[0], # 'C0', \n",
    "    'Inhibitory':       sns.color_palette(csel, 8)[1], \n",
    "    \n",
    "    'OPCs':             sns.color_palette(csel, 8)[2], \n",
    "    'Oligodendrocytes': sns.color_palette(csel, 8)[3], \n",
    "    \n",
    "    'Microglia':        sns.color_palette(csel, 8)[4], \n",
    "    'Endothelial':      sns.color_palette(csel, 8)[5], \n",
    "\n",
    "    'Astrocytes':       sns.color_palette(csel, 8)[6], \n",
    "    'VLMCs':            sns.color_palette(csel, 8)[7],\n",
    "    \n",
    "    'NA': 'gray',\n",
    "    \n",
    "}"
   ]
  },
  {
   "cell_type": "code",
   "execution_count": null,
   "id": "3c95f646-3a33-41ca-afa2-c7d7bcfde135",
   "metadata": {
    "tags": []
   },
   "outputs": [],
   "source": [
    "fig, ax = plt.subplots(1,1,figsize=(1*6,1*4))\n",
    "# c = np.log10(adata_merfish.obs['transcript_count'].values)\n",
    "ux = adata_merfish.obs['umap1_self'].values\n",
    "uy = adata_merfish.obs['umap2_self'].values\n",
    "c = adata_merfish.obs['transcript_count'].values\n",
    "\n",
    "sorting = np.argsort(c) # [::-1]\n",
    "# g = ax.scatter(ux[sorting], uy[sorting], c=c[sorting], s=1, cmap='rocket_r') \n",
    "g = ax.scatter(ux, uy, c=c<100, s=3, edgecolor='none', cmap='rocket_r') \n",
    "ax.set_aspect('equal')\n",
    "ax.axis('off')\n",
    "fig.colorbar(g)\n",
    "plt.show()\n",
    "\n"
   ]
  },
  {
   "cell_type": "code",
   "execution_count": null,
   "id": "215204ac-9832-4e8d-9ebe-3e7f68129282",
   "metadata": {
    "tags": []
   },
   "outputs": [],
   "source": [
    "fig, axs = plt.subplots(1,2,figsize=(8*2,6))\n",
    "for ax, adata_mod, col, x, y in zip(axs, \n",
    "                              [adata_merfish, adata_snrnasq], \n",
    "                              ['gated_pred', 'Class_broad'], \n",
    "                              ['umap1', 'umap1'],\n",
    "                              ['umap2', 'umap2'],\n",
    "                             ):\n",
    "    sns.scatterplot(data=adata_mod.obs.sample(frac=1, replace=False), \n",
    "                    x=x, y=y, \n",
    "                    hue=col, \n",
    "                    palette=clsts_palette2, hue_order=list(clsts_palette2.keys()),\n",
    "                    s=5, edgecolor='none', ax=ax, rasterized=True)\n",
    "    ax.axis('off')\n",
    "    ax.set_aspect('equal')\n",
    "    ax.legend(bbox_to_anchor=(1,1), fontsize=10)\n",
    "# powerplots.savefig_autodate(fig, os.path.join(outdir, 'fig1_umap.pdf'))\n",
    "fig.tight_layout()\n",
    "plt.show()\n",
    "\n",
    "fig, axs = plt.subplots(1,2,figsize=(8*2,6))\n",
    "for ax, adata_mod, col, x, y in zip(axs, \n",
    "                              [adata_merfish, adata_merfish, ], \n",
    "                              ['gated_pred', 'gated_pred'], \n",
    "                              ['umap1_self', 'umap1'],\n",
    "                              ['umap2_self', 'umap2'],\n",
    "                             ):\n",
    "    sns.scatterplot(data=adata_mod.obs.sample(frac=1, replace=False), \n",
    "                    x=x, y=y, \n",
    "                    hue=col, \n",
    "                    palette=clsts_palette2, hue_order=list(clsts_palette2.keys()),\n",
    "                    s=5, edgecolor='none', ax=ax, rasterized=True)\n",
    "    ax.axis('off')\n",
    "    ax.set_aspect('equal')\n",
    "    ax.legend(bbox_to_anchor=(1,1), fontsize=10)\n",
    "# powerplots.savefig_autodate(fig, os.path.join(outdir, 'fig1_umap.pdf'))\n",
    "fig.tight_layout()\n",
    "plt.show()"
   ]
  },
  {
   "cell_type": "code",
   "execution_count": null,
   "id": "d863cd05-7556-4de0-97c9-e5808f935e6f",
   "metadata": {
    "tags": []
   },
   "outputs": [],
   "source": [
    "fig, ax = plt.subplots(figsize=(8,8))\n",
    "sns.scatterplot(data=adata_merfish.obs.sample(frac=1, replace=False), \n",
    "                x='width_show', y='depth_show', \n",
    "                hue='gated_pred', \n",
    "                palette=clsts_palette2, hue_order=list(clsts_palette2.keys()),\n",
    "                s=2, edgecolor='none', ax=ax, rasterized=True)\n",
    "ax.legend(bbox_to_anchor=(1,1), fontsize=10)\n",
    "ax.axis('off')\n",
    "ax.set_aspect('equal')\n",
    "# ax.invert_yaxis()\n",
    "# powerplots.savefig_autodate(fig, os.path.join(outdir, 'fig1_dw.pdf'))\n",
    "plt.show()"
   ]
  },
  {
   "cell_type": "code",
   "execution_count": null,
   "id": "97578168-21d5-4447-b7d1-d8d22b0bbb5a",
   "metadata": {
    "tags": []
   },
   "outputs": [],
   "source": [
    "dfshow = adata_merfish.obs.sample(frac=1, replace=False).copy()\n",
    "types = list(clsts_palette2.keys()) # dfshow['gated_pred'].unique()\n",
    "print(types)\n",
    "\n",
    "fig, axs = plt.subplots(3,3,figsize=(8*3,8*3))\n",
    "for i, ax in enumerate(axs.flat):\n",
    "    thistype = types[i]\n",
    "    \n",
    "    ax.set_title(thistype)\n",
    "    sns.scatterplot(data=dfshow, \n",
    "                    x='width_show', y='depth_show', \n",
    "                    color='lightgray',\n",
    "                    s=1, edgecolor='none', ax=ax, rasterized=True)\n",
    "    \n",
    "    sns.scatterplot(data=dfshow[dfshow['gated_pred']==thistype], \n",
    "                    x='width_show', y='depth_show', \n",
    "                    color=clsts_palette2[thistype],\n",
    "                    s=10, edgecolor='none', ax=ax, rasterized=True)\n",
    "    ax.axis('off')\n",
    "    ax.set_aspect('equal')\n",
    "    # ax.invert_yaxis()\n",
    "    \n",
    "    # break\n",
    "    \n",
    "# ax.legend(bbox_to_anchor=(1,1), fontsize=10)\n",
    "# # powerplots.savefig_autodate(fig, os.path.join(outdir, 'fig1_dw.pdf'))\n",
    "# plt.show()"
   ]
  },
  {
   "cell_type": "code",
   "execution_count": null,
   "id": "4ef9357f-1da4-4184-af6f-b550093c58f7",
   "metadata": {},
   "outputs": [],
   "source": [
    "m =  adata_merge[adata_rna.obs.index].obs['Class_broad'].value_counts() # /len(adata_rna)\n",
    "m = m/m.sum()\n",
    "n =  adata_merge[adata_mer.obs.index].obs['gated_pred'].value_counts() # /len(adata_mer)).loc[m.index]\n",
    "print(n.loc['NA']/n.sum())\n",
    "n = n.loc[m.index]\n",
    "n = n/n.sum()\n",
    "# n = (n/n.sum()).loc[m.index]\n",
    "\n",
    "m, n\n"
   ]
  },
  {
   "cell_type": "code",
   "execution_count": null,
   "id": "24a64df7-71fc-44e0-bd9f-dd644a09567b",
   "metadata": {},
   "outputs": [],
   "source": [
    "fig, ax = plt.subplots()\n",
    "ax.scatter(m, n, color='k')\n",
    "r, p = stats.spearmanr(m.values, n.values)\n",
    "for i in range(len(m)):\n",
    "    ax.text(m.iloc[i], n.iloc[i], m.index.values[i], fontsize=10)\n",
    "    \n",
    "ax.set_title(f\"Spearman r={r:.2g}\")\n",
    "\n",
    "ax.plot([0, 0.1], [0, 0.1], '--', color='gray', zorder=0)\n",
    "ax.set_aspect('equal')\n",
    "# ax.set_xticks([0,0.1])\n",
    "# ax.set_yticks([0,0.1])\n",
    "sns.despine(ax=ax)\n",
    "\n",
    "ax.set_xlabel('subclass freq. snRNA-seq')\n",
    "ax.set_ylabel('subclass freq. MERFISH')\n",
    "# powerplots.savefig_autodate(fig, os.path.join(outdir, 'fig1_scatter.pdf'))\n",
    "ax.set_xscale('log')\n",
    "ax.set_yscale('log')\n",
    "                            \n",
    "plt.show()"
   ]
  },
  {
   "cell_type": "markdown",
   "id": "78dc3508-9843-440d-87a4-b31f6217886d",
   "metadata": {},
   "source": [
    "# get astro only"
   ]
  },
  {
   "cell_type": "code",
   "execution_count": null,
   "id": "341ff3bc-fc64-489b-b966-f5df263d08dc",
   "metadata": {
    "tags": []
   },
   "outputs": [],
   "source": [
    "adata_merged"
   ]
  },
  {
   "cell_type": "code",
   "execution_count": null,
   "id": "60ec4707-b731-4216-bb4a-b45fd598bde3",
   "metadata": {},
   "outputs": [],
   "source": [
    "astro_cells = adata_merfish[adata_merfish.obs['gated_pred']=='Astrocytes'].obs.index.values\n",
    "adata_astro = adata_merged[astro_cells]\n",
    "\n",
    "astro_cells.shape, adata_astro"
   ]
  },
  {
   "cell_type": "code",
   "execution_count": null,
   "id": "05b2b318-9f0f-4db1-aad9-5c039b2f552f",
   "metadata": {},
   "outputs": [],
   "source": [
    "adata = adata_astro # [:,marker_genes].copy()\n",
    "\n",
    "\n",
    "# PCA\n",
    "pca = PCA(n_components=5)\n",
    "pcs = pca.fit_transform(zscore(adata[:,genes_noniegs].layers['ljnorm'], axis=1))\n",
    "# pcs = pca.fit_transform(zscore(adata.layers['ljnorm'], axis=1))\n",
    "ucs = UMAP(n_components=2, n_neighbors=30, random_state=0).fit_transform(pcs)\n",
    "\n",
    "adata.obsm['pca'] = pcs\n",
    "adata.obsm['umap'] = ucs\n",
    "sc.pp.neighbors(adata, n_neighbors=30, use_rep='pca', random_state=0)"
   ]
  },
  {
   "cell_type": "code",
   "execution_count": null,
   "id": "50140c34-4747-405e-ae92-cf1e62ee25c6",
   "metadata": {
    "tags": []
   },
   "outputs": [],
   "source": [
    "# clustering\n",
    "r = 0.3\n",
    "sc.tl.leiden(adata, resolution=r, key_added=f'leiden_r{r}', random_state=0, n_iterations=10)"
   ]
  },
  {
   "cell_type": "code",
   "execution_count": null,
   "id": "26975ae2-c5cb-44be-ab22-b5c0eb995c96",
   "metadata": {
    "tags": []
   },
   "outputs": [],
   "source": [
    "# plot\n",
    "gn = 'Slc17a7'\n",
    "# gn = 'Fos'\n",
    "# gn = 'Gad1'\n",
    "g = np.log2(1+adata[:,gn].layers['jnorm'].reshape(-1,))\n",
    "\n",
    "# add some quality metrics\n",
    "\n",
    "fig, (ax1, ax2) = plt.subplots(1,2,figsize=(2*5,1*4))\n",
    "utils_merfish.st_scatter_ax(fig, ax1, pcs[:,0], pcs[:,1], gexp=g)\n",
    "utils_merfish.st_scatter_ax(fig, ax2, ucs[:,0], ucs[:,1], gexp=g)\n",
    "plt.show()\n",
    "\n",
    "# plot\n",
    "gn = 'Slc17a7'\n",
    "# gn = 'Fos'\n",
    "# gn = 'Gad1'\n",
    "g = adata[:,gn].layers['jnorm'].reshape(-1,)\n",
    "\n",
    "# add some quality metrics\n",
    "\n",
    "fig, (ax1, ax2) = plt.subplots(1,2,figsize=(2*5,1*4))\n",
    "utils_merfish.st_scatter_ax(fig, ax1, pcs[:,0], pcs[:,1], gexp=g)\n",
    "utils_merfish.st_scatter_ax(fig, ax2, ucs[:,0], ucs[:,1], gexp=g)\n",
    "plt.show()"
   ]
  },
  {
   "cell_type": "code",
   "execution_count": null,
   "id": "489e14a6-e01f-4457-8d40-8f73b2cd2f17",
   "metadata": {
    "tags": []
   },
   "outputs": [],
   "source": [
    "\n",
    "clsts = adata.obs[f'leiden_r{r}'].astype(int)\n",
    "xr =  adata.obs['width_show']\n",
    "yr =  adata.obs['depth_show']\n",
    "ux = adata.obsm['umap'][:,0]\n",
    "uy = adata.obsm['umap'][:,1]\n",
    "utils_merfish.plot_cluster(clsts, xr, yr, ux, uy, s=2)\n",
    "\n",
    "samples, uniq_labels = pd.factorize(adata.obs['sample']) # .astype(int)\n",
    "utils_merfish.plot_cluster(samples, xr, yr, ux, uy, s=2)\n",
    "\n",
    "adata.obs['cond'] = np.where(adata.obs['sample'].str.contains('DR'), 'DR', 'NR')\n",
    "nrdr, uniq_labels = pd.factorize(adata.obs['cond']) # .astype(int)\n",
    "utils_merfish.plot_cluster(nrdr, xr, yr, ux, uy, s=2)"
   ]
  },
  {
   "cell_type": "code",
   "execution_count": null,
   "id": "93617c73-cd9f-4111-bf06-5bc06a2f8582",
   "metadata": {
    "tags": []
   },
   "outputs": [],
   "source": [
    "np.unique(clsts, return_counts=True)"
   ]
  },
  {
   "cell_type": "code",
   "execution_count": null,
   "id": "8005ddd2-9bd1-4243-98ac-6753aea22a08",
   "metadata": {
    "tags": []
   },
   "outputs": [],
   "source": [
    "clsts = adata.obs[f'leiden_r{r}'].astype(int)\n",
    "uniq_clsts = np.unique(clsts)\n",
    "\n",
    "for clst in uniq_clsts:\n",
    "    show = (clsts == clst)\n",
    "    xr =  adata.obs['width_show']\n",
    "    yr =  adata.obs['depth_show']\n",
    "    ux    = adata.obsm['umap'][:,0]\n",
    "    uy    = adata.obsm['umap'][:,1]\n",
    "    utils_merfish.plot_cluster(show, xr, yr, ux, uy, s=2, cmap=plt.cm.copper_r, suptitle=clst)"
   ]
  },
  {
   "cell_type": "code",
   "execution_count": null,
   "id": "4af69d68-ff71-49f5-a21b-06b56605def4",
   "metadata": {
    "tags": []
   },
   "outputs": [],
   "source": [
    "# plot\n",
    "marker_genes = [\n",
    "       'Gfap', 'Aqp4', \n",
    "    \n",
    "       'Slc17a7', 'Ptprn',\n",
    "    \n",
    "       'Grin2c', 'Rfx4', \n",
    "    \n",
    "       'Sox10', 'Mog', 'Pdgfra', 'Slc6a13', \n",
    "    \n",
    "       'Sox21', 'Slc1a3', 'Slc47a1',\n",
    "       'Pecam1', 'Cd34' , 'Tnfrsf12a', 'Sema3c', \n",
    "       'Zfhx3', 'Pag1', 'Slco2b1', 'Cx3cr1',\n",
    "    \n",
    "       # 'Gad1', 'Fos', \n",
    "      ] \n",
    "gns = marker_genes\n",
    "n = len(gns)\n",
    "nx = 6\n",
    "ny = int((n+nx-1)/nx)\n",
    "# add some quality metrics\n",
    "fig, axs = plt.subplots(ny,nx,figsize=(nx*3,ny*3))\n",
    "for gn, ax in zip(gns, axs.flat):\n",
    "    g = adata[:,gn].layers['jnorm'].reshape(-1,)\n",
    "    utils_merfish.st_scatter_ax(fig, ax, ucs[:,0], ucs[:,1], gexp=g)\n",
    "    ax.set_title(gn)\n",
    "plt.show()"
   ]
  },
  {
   "cell_type": "code",
   "execution_count": null,
   "id": "6efac5de-176e-44f0-bfd3-e306f65a341c",
   "metadata": {},
   "outputs": [],
   "source": []
  },
  {
   "cell_type": "code",
   "execution_count": null,
   "id": "342b3c4b-2a1c-4b3b-99db-4a5b3b97fc80",
   "metadata": {
    "tags": []
   },
   "outputs": [],
   "source": [
    "# plot\n",
    "gns = ['Gfap', 'Slc6a13', 'Slc17a7', 'Grin2c', 'Aqp4', 'Rfx4']\n",
    "\n",
    "for gn in gns:\n",
    "\n",
    "    x  =  adata.obs['width_show']\n",
    "    y  =  adata.obs['depth_show']\n",
    "    g = adata[:,gn].layers['jnorm'].reshape(-1,)\n",
    "    vmin = 0\n",
    "    vmax = np.percentile(g, 99)\n",
    "    \n",
    "    adata_nr = adata[adata.obs['cond']=='NR']\n",
    "    ux_nr = adata_nr.obsm['umap'][:,0]\n",
    "    uy_nr = adata_nr.obsm['umap'][:,1]\n",
    "    g_nr = adata_nr[:,gn].layers['jnorm'].reshape(-1,)\n",
    "    \n",
    "    adata_dr = adata[adata.obs['cond']=='DR']\n",
    "    ux_dr = adata_dr.obsm['umap'][:,0]\n",
    "    uy_dr = adata_dr.obsm['umap'][:,1]\n",
    "    g_dr = adata_dr[:,gn].layers['jnorm'].reshape(-1,)\n",
    "\n",
    "    fig, (ax1, ax2, ax3) = plt.subplots(1,3,figsize=(3*3,1*3))\n",
    "    utils_merfish.st_scatter_ax(fig, ax1, x, y, gexp=g, vmin=vmin, vmax=vmax)\n",
    "    utils_merfish.st_scatter_ax(fig, ax2, ux_nr, uy_nr, gexp=g_nr, vmin=vmin, vmax=vmax)\n",
    "    utils_merfish.st_scatter_ax(fig, ax3, ux_dr, uy_dr, gexp=g_dr, vmin=vmin, vmax=vmax)\n",
    "    ax2.set_title(gn)\n",
    "    plt.show()\n",
    "    "
   ]
  },
  {
   "cell_type": "code",
   "execution_count": null,
   "id": "424c59c6-2a6d-44f4-b5bf-36eaf951e74b",
   "metadata": {
    "tags": []
   },
   "outputs": [],
   "source": [
    "sns.boxplot([g_nr, g_dr])"
   ]
  },
  {
   "cell_type": "code",
   "execution_count": null,
   "id": "46720adc-32aa-4f5b-9e41-9d4959471d17",
   "metadata": {
    "tags": []
   },
   "outputs": [],
   "source": [
    "gn = 'Rfx4'\n",
    "glist = []\n",
    "for sample in names:\n",
    "    g = adata[adata.obs['sample']==sample, gn].layers['jnorm'].reshape(-1,)\n",
    "    glist.append(g)\n",
    "sns.boxplot(glist)"
   ]
  },
  {
   "cell_type": "code",
   "execution_count": null,
   "id": "8d80706c-7fb0-4d50-82f1-09e2bff96711",
   "metadata": {
    "tags": []
   },
   "outputs": [],
   "source": [
    "def test(a, b, ax, m=0.05):\n",
    "    \"\"\"\n",
    "    \"\"\"\n",
    "    s, p = stats.mannwhitneyu(a, b)\n",
    "    if p > 0.05:\n",
    "        mark = 'ns'\n",
    "    elif p < 0.05 and p > 0.001:\n",
    "        mark = '*'\n",
    "    elif p < 0.001:\n",
    "        mark = '***'\n",
    "\n",
    "    # statistical annotation\n",
    "    x1, x2 = 0, 1   \n",
    "    y = np.max([a, b])\n",
    "    y, h = y+y*m, y*m\n",
    "    \n",
    "    ax.plot([x1, x1, x2, x2], [y, y+h, y+h, y], lw=1.5, c='k')\n",
    "    ax.text((x1+x2)*.5, y+h, mark, ha='center', va='bottom', color='k')\n",
    "    \n",
    "    return s, p"
   ]
  },
  {
   "cell_type": "code",
   "execution_count": null,
   "id": "009b8c99-1eb7-4682-b084-ad7366ead169",
   "metadata": {
    "tags": []
   },
   "outputs": [],
   "source": [
    "def check_gene(adata, gn, ax):\n",
    "    glist = []\n",
    "    for sample in names:\n",
    "        g = np.array(adata[adata.obs['sample']==sample, gn].layers['jnorm'].reshape(-1,))\n",
    "        gm = np.mean(g)\n",
    "        glist.append(gm)\n",
    "    gnr = glist[:4]\n",
    "    gdr = glist[4:]\n",
    "\n",
    "    ax.bar([0,1], [np.mean(gnr), np.mean(gdr)], facecolor='none', edgecolor=['C1', 'k',], linewidth=3)\n",
    "    sns.swarmplot([gnr, gdr], palette=['C1', 'k'], ax=ax)\n",
    "    s, p = test(gnr, gdr, ax)\n",
    "    sns.despine(ax=ax)\n",
    "    ax.set_title(gn)\n",
    "    ax.set_xticks([0,1])\n",
    "    ax.set_xticklabels(['NR', 'DR'])\n",
    "    ax.set_ylabel('norm expr')"
   ]
  },
  {
   "cell_type": "code",
   "execution_count": null,
   "id": "713d1f4c-bd28-4e05-9251-7a050f6ba028",
   "metadata": {
    "tags": []
   },
   "outputs": [],
   "source": [
    "adata_rfx4 = adata[adata.obs['leiden_r0.3']=='3']\n",
    "adata_rfx4"
   ]
  },
  {
   "cell_type": "code",
   "execution_count": null,
   "id": "4ead22b2-279f-45e1-834e-52e530a3dd1f",
   "metadata": {
    "tags": []
   },
   "outputs": [],
   "source": [
    "fig, ax = plt.subplots(figsize=(2,4))\n",
    "check_gene(adata, 'Rfx4', ax)\n",
    "plt.show()\n",
    "\n",
    "fig, ax = plt.subplots(figsize=(2,4))\n",
    "check_gene(adata_rfx4, 'Rfx4', ax)\n",
    "plt.show()"
   ]
  },
  {
   "cell_type": "code",
   "execution_count": null,
   "id": "3358e596-4e09-4113-a83a-c44c4b3601f7",
   "metadata": {
    "tags": []
   },
   "outputs": [],
   "source": [
    "# rfx4 -> target genes\n",
    "rfx4_target_genes = [\n",
    "    \"Rfx4\",\n",
    "    \"Junb\",\n",
    "    \"Fosl2\",\n",
    "    \"Mertk\",\n",
    "    \"Rora\",\n",
    "    \"Sdc4\",\n",
    "    \"Nr1d1\",\n",
    "    \"Slc1a3\",\n",
    "    \"Nrxn1\",\n",
    "    \"Sox21\",\n",
    "    \"Id3\",\n",
    "    \"Stat2\",\n",
    "    \"Klf3\",\n",
    "]"
   ]
  },
  {
   "cell_type": "code",
   "execution_count": null,
   "id": "1c385da4-f5fe-41d2-8657-40fdcaaff616",
   "metadata": {
    "tags": []
   },
   "outputs": [],
   "source": [
    "n = len(rfx4_target_genes) \n",
    "\n",
    "fig, axs = plt.subplots(1, n, figsize=(2*n,4))\n",
    "for gn, ax in zip(rfx4_target_genes, axs):\n",
    "    check_gene(adata, gn, ax)\n",
    "    ax.set_ylabel('')\n",
    "    \n",
    "axs[0].set_ylabel('norm expr')\n",
    "fig.tight_layout()\n",
    "plt.show()"
   ]
  },
  {
   "cell_type": "code",
   "execution_count": null,
   "id": "b1975a44-5684-4ab7-ba92-5828fcf9beaa",
   "metadata": {
    "tags": []
   },
   "outputs": [],
   "source": [
    "n = len(rfx4_target_genes) \n",
    "\n",
    "fig, axs = plt.subplots(1, n, figsize=(2*n,4))\n",
    "for gn, ax in zip(rfx4_target_genes, axs):\n",
    "    check_gene(adata_rfx4, gn, ax)\n",
    "    ax.set_ylabel('')\n",
    "    \n",
    "axs[0].set_ylabel('norm expr')\n",
    "fig.tight_layout()\n",
    "plt.show()"
   ]
  },
  {
   "cell_type": "code",
   "execution_count": null,
   "id": "7c0fa073-236c-4473-b9d5-a26a5145d72a",
   "metadata": {
    "tags": []
   },
   "outputs": [],
   "source": [
    "# plot\n",
    "gns = rfx4_target_genes # ['Gfap', 'Slc6a13', 'Slc17a7', 'Grin2c', 'Aqp4', 'Rfx4']\n",
    "\n",
    "for gn in gns:\n",
    "\n",
    "    x  =  adata.obs['width_show']\n",
    "    y  =  adata.obs['depth_show']\n",
    "    g = adata[:,gn].layers['jnorm'].reshape(-1,)\n",
    "    vmin = 0\n",
    "    vmax = np.percentile(g, 98)\n",
    "    \n",
    "    adata_nr = adata[adata.obs['cond']=='NR']\n",
    "    ux_nr = adata_nr.obsm['umap'][:,0]\n",
    "    uy_nr = adata_nr.obsm['umap'][:,1]\n",
    "    g_nr = adata_nr[:,gn].layers['jnorm'].reshape(-1,)\n",
    "    \n",
    "    adata_dr = adata[adata.obs['cond']=='DR']\n",
    "    ux_dr = adata_dr.obsm['umap'][:,0]\n",
    "    uy_dr = adata_dr.obsm['umap'][:,1]\n",
    "    g_dr = adata_dr[:,gn].layers['jnorm'].reshape(-1,)\n",
    "\n",
    "    fig, (ax1, ax2, ax3) = plt.subplots(1,3,figsize=(3*3,1*3))\n",
    "    utils_merfish.st_scatter_ax(fig, ax1, x, y, gexp=g, vmin=vmin, vmax=vmax, s=3)\n",
    "    utils_merfish.st_scatter_ax(fig, ax2, ux_nr, uy_nr, gexp=g_nr, vmin=vmin, vmax=vmax, s=3)\n",
    "    utils_merfish.st_scatter_ax(fig, ax3, ux_dr, uy_dr, gexp=g_dr, vmin=vmin, vmax=vmax, s=3)\n",
    "    ax2.set_title(gn)\n",
    "    plt.show()\n",
    "    "
   ]
  },
  {
   "cell_type": "markdown",
   "id": "62b85196-c191-49b3-9a42-be2e907f6926",
   "metadata": {},
   "source": [
    "# add single cell level"
   ]
  },
  {
   "cell_type": "code",
   "execution_count": null,
   "id": "71008480-6a55-47fa-b42d-ef28c20acc62",
   "metadata": {},
   "outputs": [],
   "source": []
  }
 ],
 "metadata": {
  "kernelspec": {
   "display_name": "napari",
   "language": "python",
   "name": "napari"
  },
  "language_info": {
   "codemirror_mode": {
    "name": "ipython",
    "version": 3
   },
   "file_extension": ".py",
   "mimetype": "text/x-python",
   "name": "python",
   "nbconvert_exporter": "python",
   "pygments_lexer": "ipython3",
   "version": "3.9.16"
  }
 },
 "nbformat": 4,
 "nbformat_minor": 5
}
