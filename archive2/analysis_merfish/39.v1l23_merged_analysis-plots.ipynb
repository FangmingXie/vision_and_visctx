{
 "cells": [
  {
   "cell_type": "code",
   "execution_count": null,
   "id": "aa503af1-8bb5-427a-8241-06e28faa45f3",
   "metadata": {
    "tags": []
   },
   "outputs": [],
   "source": [
    "import numpy as np\n",
    "import pandas as pd\n",
    "import matplotlib.pyplot as plt\n",
    "import seaborn as sns\n",
    "import os\n",
    "\n",
    "import anndata as ad\n",
    "import scanpy as sc\n",
    "\n",
    "from scipy import stats\n",
    "from sklearn.decomposition import PCA\n",
    "from sklearn.cluster import KMeans\n",
    "from umap import UMAP\n",
    "\n",
    "\n",
    "from scroutines import basicu\n",
    "from scroutines import powerplots\n",
    "from scroutines.miscu import is_in_polygon\n",
    "\n",
    "import utils_merfish\n",
    "from merfish_datasets import merfish_datasets\n",
    "from merfish_genesets import get_all_genesets\n",
    "\n",
    "import importlib\n",
    "importlib.reload(powerplots)\n",
    "importlib.reload(utils_merfish)"
   ]
  },
  {
   "cell_type": "code",
   "execution_count": null,
   "id": "ceefcad3-c84e-4daa-8241-b50bd0b60aba",
   "metadata": {
    "tags": []
   },
   "outputs": [],
   "source": [
    "np.random.seed(0)"
   ]
  },
  {
   "cell_type": "code",
   "execution_count": null,
   "id": "74da2800-6306-47cb-9a2d-39b234ab0e5c",
   "metadata": {
    "tags": []
   },
   "outputs": [],
   "source": [
    "def binning_pipe(adata, n=20, layer='lnorm', bin_type='depth_bin'):\n",
    "    \"\"\"\n",
    "    \"\"\"\n",
    "    assert bin_type in ['depth_bin', 'width_bin']\n",
    "    # bin it \n",
    "    depth_bins, depth_binned = utils_merfish.binning(adata.obs['depth'].values, n)\n",
    "    width_bins, width_binned = utils_merfish.binning(adata.obs['width'].values, n)\n",
    "\n",
    "    norm_ = pd.DataFrame(adata.layers[layer], columns=adata.var.index)\n",
    "    norm_['depth_bin'] = depth_binned\n",
    "    norm_['width_bin'] = width_binned\n",
    "    \n",
    "    norm_mean = norm_.groupby(bin_type).mean(numeric_only=True)\n",
    "    norm_sem  = norm_.groupby(bin_type).sem(numeric_only=True)\n",
    "    norm_std  = norm_.groupby(bin_type).std(numeric_only=True)\n",
    "    norm_n    = norm_[bin_type].value_counts(sort=False)\n",
    "\n",
    "    return norm_mean, norm_sem, norm_std, norm_n, depth_binned, width_binned, depth_bins, width_bins\n",
    "\n",
    "def binning_pipe2(adata, col_to_bin, layer, bins=None, n=20):\n",
    "    \"\"\"\n",
    "    \"\"\"\n",
    "    if bins is None:\n",
    "        # bin it \n",
    "        bins, binned = utils_merfish.binning(adata.obs[col_to_bin].values, n)\n",
    "    else:\n",
    "        binned = pd.cut(adata.obs[col_to_bin].values, bins=bins)\n",
    "\n",
    "    norm_ = pd.DataFrame(adata.layers[layer], columns=adata.var.index)\n",
    "    norm_['thebin'] = binned\n",
    "    \n",
    "    norm_mean = norm_.groupby('thebin').mean(numeric_only=True)\n",
    "    norm_sem  = norm_.groupby('thebin').sem(numeric_only=True)\n",
    "    norm_std  = norm_.groupby('thebin').std(numeric_only=True)\n",
    "    norm_n    = norm_['thebin'].value_counts(sort=False)\n",
    "\n",
    "    return norm_mean, norm_sem, norm_std, norm_n, binned, bins "
   ]
  },
  {
   "cell_type": "code",
   "execution_count": null,
   "id": "10056f83-d188-4aea-9e6b-6bfaed8f77e0",
   "metadata": {
    "tags": []
   },
   "outputs": [],
   "source": [
    "genesets = get_all_genesets()\n",
    "genesets"
   ]
  },
  {
   "cell_type": "code",
   "execution_count": null,
   "id": "78cc5fb2-7d50-4ade-8aca-44d9d7fed4e8",
   "metadata": {
    "tags": []
   },
   "outputs": [],
   "source": [
    "agenes = genesets['a']\n",
    "bgenes = genesets['b']\n",
    "cgenes = genesets['c']\n",
    "iegs   = genesets['i']\n",
    "up_agenes = genesets['a_up']\n",
    "abcgenes = np.hstack([agenes, bgenes, cgenes])\n",
    "len(abcgenes), len(iegs)"
   ]
  },
  {
   "cell_type": "code",
   "execution_count": null,
   "id": "9de52cb2-2b0c-4b9f-a864-1ec9e50eae47",
   "metadata": {
    "tags": []
   },
   "outputs": [],
   "source": [
    "directories = merfish_datasets\n",
    "print(merfish_datasets)\n",
    "\n",
    "ddir = \"/u/home/f/f7xiesnm/project-zipursky/v1-bb/v1/data/merfish/organized\" \n",
    "!ls $ddir/*240411.h5ad "
   ]
  },
  {
   "cell_type": "code",
   "execution_count": null,
   "id": "72ebe8f3-6d19-4bed-bea5-904b178eeed0",
   "metadata": {
    "tags": []
   },
   "outputs": [],
   "source": [
    "%%time\n",
    "fin = os.path.join(ddir, 'P28NRDR_v1l23_merged_240508.h5ad')\n",
    "adata = ad.read(fin) \n",
    "\n",
    "clst_annots = adata.uns['clst_annots']\n",
    "pcs = adata.obsm['pca']\n",
    "ucs = adata.obsm['umap']\n",
    "r = 0.3\n",
    "\n",
    "names = [\n",
    "    'P28NR_ant', \n",
    "    'P28NR_pos',\n",
    "    'P28NRb_ant', \n",
    "    'P28NRb_pos',\n",
    "    \n",
    "    'P28DR_ant', \n",
    "    'P28DR_pos',\n",
    "    'P28DRb_ant', \n",
    "    'P28DRb_pos',\n",
    "]\n",
    "adata"
   ]
  },
  {
   "cell_type": "code",
   "execution_count": null,
   "id": "aa173fcb-dbe7-4acc-baaa-ba0c7d0c2b36",
   "metadata": {
    "tags": []
   },
   "outputs": [],
   "source": [
    "agenes_idx = basicu.get_index_from_array(adata.var.index.values, agenes)\n",
    "bgenes_idx = basicu.get_index_from_array(adata.var.index.values, bgenes)\n",
    "cgenes_idx = basicu.get_index_from_array(adata.var.index.values, cgenes)\n",
    "igenes_idx = basicu.get_index_from_array(adata.var.index.values, iegs)"
   ]
  },
  {
   "cell_type": "markdown",
   "id": "f8ce489e-674a-44d5-ad6c-a5aad1020080",
   "metadata": {},
   "source": [
    "# plot everything "
   ]
  },
  {
   "cell_type": "code",
   "execution_count": null,
   "id": "9ac15540-5814-48ae-b86e-acc0d62de5cf",
   "metadata": {
    "tags": []
   },
   "outputs": [],
   "source": [
    "\n",
    "clsts = adata.obs[f'leiden_r{r}'].astype(int)\n",
    "xr =  adata.obs['width_show']\n",
    "yr =  adata.obs['depth_show']\n",
    "ux    = adata.obsm['umap'][:,0]\n",
    "uy    = adata.obsm['umap'][:,1]\n",
    "utils_merfish.plot_cluster(clsts, xr, yr, ux, uy, s=2)\n",
    "\n",
    "samples, uniq_labels = pd.factorize(adata.obs['sample']) # .astype(int)\n",
    "utils_merfish.plot_cluster(samples, xr, yr, ux, uy, s=2)"
   ]
  },
  {
   "cell_type": "code",
   "execution_count": null,
   "id": "8946693a-c7cf-412a-8129-0e489e20f7f3",
   "metadata": {
    "tags": []
   },
   "outputs": [],
   "source": [
    "np.unique(clsts, return_counts=True)"
   ]
  },
  {
   "cell_type": "code",
   "execution_count": null,
   "id": "a00ae6f6-68a9-43d3-a6b7-cbe643265736",
   "metadata": {},
   "outputs": [],
   "source": [
    "clsts = adata.obs[f'leiden_r{r}'].astype(int)\n",
    "uniq_clsts = np.unique(clsts)\n",
    "n = len(uniq_clsts)\n",
    "\n",
    "fig, axs = plt.subplots(1,n,figsize=(n*4,1*4))\n",
    "for i, clst in enumerate(uniq_clsts):\n",
    "    show = (clsts == clst)\n",
    "    xr =  adata.obs['width_show']\n",
    "    yr =  adata.obs['depth_show']\n",
    "    ux    = adata.obsm['umap'][:,0]\n",
    "    uy    = adata.obsm['umap'][:,1]\n",
    "    \n",
    "    ax = axs[i]\n",
    "    ax.scatter(ux, uy, c=show, s=1, edgecolor='none', cmap='rocket_r', rasterized=True)\n",
    "    ax.set_aspect('equal')\n",
    "    ax.axis('off')\n",
    "    ax.set_title(f\"C{clst}\")\n",
    "    \n",
    "fig, axs = plt.subplots(1,n,figsize=(n*4,1*6))\n",
    "for i, clst in enumerate(uniq_clsts):\n",
    "    show = (clsts == clst)\n",
    "    xr =  adata.obs['width_show']\n",
    "    yr =  adata.obs['depth_show']\n",
    "    ux    = adata.obsm['umap'][:,0]\n",
    "    uy    = adata.obsm['umap'][:,1]\n",
    "    \n",
    "    ax = axs[i]\n",
    "    ax.scatter(xr, yr, c=show, s=3, edgecolor='none', cmap='rocket_r', rasterized=True)\n",
    "    ax.set_aspect('equal')\n",
    "    ax.axis('off')\n",
    "    ax.set_title(f\"C{clst}\")\n",
    "    \n",
    "    \n",
    "    # utils_merfish.plot_cluster(show, xr, yr, ux, uy, s=2, cmap=plt.cm.copper_r, suptitle=clst)"
   ]
  },
  {
   "cell_type": "code",
   "execution_count": null,
   "id": "f31c7bd1-1b10-4858-96c0-1758b0b975bf",
   "metadata": {
    "tags": []
   },
   "outputs": [],
   "source": [
    "clsts = adata.obs[f'leiden_r{r}'].astype(int)\n",
    "uniq_clsts = np.unique(clsts)\n",
    "n = len(uniq_clsts)\n",
    "\n",
    "fig, ax = plt.subplots(1,1,figsize=(1*4,1*4))\n",
    "show = [_c in [0,1,2] for _c in clsts]\n",
    "xr =  adata.obs['width_show']\n",
    "yr =  adata.obs['depth_show']\n",
    "ux    = adata.obsm['umap'][:,0]\n",
    "uy    = adata.obsm['umap'][:,1]\n",
    "\n",
    "ax.scatter(ux, uy, c=show, s=1, edgecolor='none', cmap='rocket_r', rasterized=True)\n",
    "ax.set_aspect('equal')\n",
    "ax.axis('off')\n",
    "ax.set_title(f\"C0,C1,C2\")\n",
    "    \n",
    "fig, ax = plt.subplots(1,1,figsize=(1*4,1*6))\n",
    "show = [_c in [0,1,2] for _c in clsts]\n",
    "xr =  adata.obs['width_show']\n",
    "yr =  adata.obs['depth_show']\n",
    "ux    = adata.obsm['umap'][:,0]\n",
    "uy    = adata.obsm['umap'][:,1]\n",
    "\n",
    "ax.scatter(xr, yr, c=show, s=3, edgecolor='none', cmap='rocket_r', rasterized=True)\n",
    "ax.set_aspect('equal')\n",
    "ax.axis('off')\n",
    "ax.set_title(f\"C0,C1,C2\")\n",
    "\n",
    "\n",
    "# utils_merfish.plot_cluster(show, xr, yr, ux, uy, s=2, cmap=plt.cm.copper_r, suptitle=clst)"
   ]
  },
  {
   "cell_type": "code",
   "execution_count": null,
   "id": "0e5a7a78-aa8f-41d4-8055-51b32563fd14",
   "metadata": {},
   "outputs": [],
   "source": []
  },
  {
   "cell_type": "markdown",
   "id": "61c72691-1071-47b1-9b11-2e204d1c31b6",
   "metadata": {},
   "source": [
    "# figure out major cell population by marker genes; groups of genes; and quality metrics"
   ]
  },
  {
   "cell_type": "code",
   "execution_count": null,
   "id": "42668529-f054-4040-b612-115715408255",
   "metadata": {
    "tags": []
   },
   "outputs": [],
   "source": [
    "# plot\n",
    "marker_genes = [\n",
    "       'Ptprn', 'Slc17a7', 'Gad1', 'Fos', \n",
    "       \n",
    "       'Gfap', 'Slc6a13', 'Slc47a1',\n",
    "       'Grin2c', 'Aqp4', 'Rfx4', 'Sox21', 'Slc1a3',\n",
    "       \n",
    "       'Sox10', 'Pdgfra', 'Mog',\n",
    "       \n",
    "       'Pecam1', 'Cd34' , 'Tnfrsf12a', 'Sema3c', \n",
    "       'Zfhx3', 'Pag1', 'Slco2b1', 'Cx3cr1',\n",
    "      ] \n",
    "gns = marker_genes\n",
    "n = len(gns)\n",
    "nx = 4\n",
    "ny = int((n+nx-1)/nx)\n",
    "# add some quality metrics\n",
    "fig, axs = plt.subplots(ny,nx,figsize=(nx*5,ny*4))\n",
    "for gn, ax in zip(gns, axs.flat):\n",
    "    g = adata[:,gn].layers['jnorm'].reshape(-1,)\n",
    "    utils_merfish.st_scatter_ax(fig, ax, ucs[:,0], ucs[:,1], gexp=g)\n",
    "    ax.set_title(gn)\n",
    "plt.show()\n"
   ]
  },
  {
   "cell_type": "code",
   "execution_count": null,
   "id": "53c9adcf-0c20-4a02-af3e-5cd671b7e79c",
   "metadata": {
    "tags": []
   },
   "outputs": [],
   "source": [
    "# plot\n",
    "marker_genes = [\n",
    "       'Ptprn', 'Slc17a7', 'Gad1', 'Fos', \n",
    "       \n",
    "       'Gfap', 'Slc6a13', 'Slc47a1',\n",
    "       'Grin2c', 'Aqp4', 'Rfx4', 'Sox21', 'Slc1a3',\n",
    "       \n",
    "       'Sox10', 'Pdgfra', 'Mog',\n",
    "       \n",
    "       'Pecam1', 'Cd34' , 'Tnfrsf12a', 'Sema3c', \n",
    "       'Zfhx3', 'Pag1', 'Slco2b1', 'Cx3cr1',\n",
    "      ] \n",
    "gns = marker_genes\n",
    "n = len(gns)\n",
    "nx = 4\n",
    "ny = int((n+nx-1)/nx)\n",
    "# add some quality metrics\n",
    "fig, axs = plt.subplots(ny,nx,figsize=(nx*5,ny*4))\n",
    "for gn, ax in zip(gns, axs.flat):\n",
    "    g = np.log2(1+adata[:,gn].layers['jnorm'].reshape(-1,))\n",
    "    utils_merfish.st_scatter_ax(fig, ax, ucs[:,0], ucs[:,1], gexp=g)\n",
    "    ax.set_title(gn)\n",
    "plt.show()\n",
    "\n"
   ]
  },
  {
   "cell_type": "code",
   "execution_count": null,
   "id": "f7fb4d7e-ceac-4e00-be1a-d4e7428f6c18",
   "metadata": {
    "tags": []
   },
   "outputs": [],
   "source": [
    "metrics = [\n",
    "    'volume', 'anisotropy', 'perimeter_area_ratio', 'solidity', \n",
    "    'PolyT_raw', 'PolyT_high_pass', 'DAPI_raw', 'DAPI_high_pass', \n",
    "    'transcript_count', 'jnorm_transcript_count', 'gnnum', 'fpcov', \n",
    "    'depth', 'width', 'sample' \n",
    "       ]\n",
    "n = len(metrics)\n",
    "nx = 5\n",
    "ny = int((n+nx-1)/nx)\n",
    "# add some quality metrics\n",
    "fig, axs = plt.subplots(ny,nx,figsize=(nx*5,ny*4))\n",
    "for metric, ax in zip(metrics, axs.flat):\n",
    "    g = adata.obs[metric].values\n",
    "    if metric == 'sample':\n",
    "        g, uniq_lbls = pd.factorize(g)\n",
    "    p = utils_merfish.st_scatter_ax(fig, ax, ucs[:,0], ucs[:,1], gexp=g, s=3)\n",
    "    fig.colorbar(p, shrink=0.4)\n",
    "    ax.set_title(metric)\n",
    "plt.show()\n"
   ]
  },
  {
   "cell_type": "code",
   "execution_count": null,
   "id": "5b6dfb6e-ec30-4014-8199-0756c4a60358",
   "metadata": {
    "tags": []
   },
   "outputs": [],
   "source": [
    "metrics = [\n",
    "    'volume', 'PolyT_raw', \n",
    "    'gnnum', 'transcript_count', 'jnorm_transcript_count',  # 'fpcov', \n",
    "       ]\n",
    "n = len(metrics)\n",
    "nx = 5\n",
    "ny = int((n+nx-1)/nx)\n",
    "# add some quality metrics\n",
    "fig, axs = plt.subplots(ny,nx,figsize=(nx*5,ny*4))\n",
    "for metric, ax in zip(metrics, axs.flat):\n",
    "    g = adata.obs[metric].values\n",
    "    if metric == 'sample':\n",
    "        g, uniq_lbls = pd.factorize(g)\n",
    "    p = utils_merfish.st_scatter_ax(fig, ax, ucs[:,0], ucs[:,1], gexp=g, s=3)\n",
    "    fig.colorbar(p, shrink=0.4)\n",
    "    ax.set_title(metric)\n",
    "plt.show()"
   ]
  },
  {
   "cell_type": "code",
   "execution_count": null,
   "id": "ccc99e94-fe3e-4bcf-a3cc-06c313159802",
   "metadata": {
    "tags": []
   },
   "outputs": [],
   "source": [
    "\n",
    "dfwork = adata.obs.copy() \n",
    "xlbl = 'volume'\n",
    "x = dfwork[xlbl].values \n",
    "bins = np.logspace(2,3.2,50)\n",
    "dfwork['bin'] = pd.cut(x, bins)\n",
    "\n",
    "    \n",
    "fig, axs = plt.subplots(1,2,figsize=(8,4))\n",
    "for ax, ylbl in zip(axs, ['transcript_count', 'jnorm_transcript_count']):\n",
    "    \n",
    "    y = dfwork[ylbl].values\n",
    "    r, _ = stats.spearmanr(x, y)\n",
    "    res = dfwork.groupby('bin')[[xlbl, ylbl]].mean()\n",
    "    \n",
    "    ax.scatter(x,y,s=5, edgecolor='none') #, cmap='viridis')\n",
    "    ax.plot(res[xlbl], res[ylbl], color='k')\n",
    "    ax.set_title(f'r={r:.2f}')\n",
    "    ax.set_xlabel(xlbl)\n",
    "    ax.set_ylabel(ylbl)\n",
    "    ax.set_xscale('log')\n",
    "    ax.set_yscale('log')\n",
    "fig.tight_layout()\n",
    "plt.show()\n"
   ]
  },
  {
   "cell_type": "code",
   "execution_count": null,
   "id": "ecb42b9d-61c8-4945-889d-10c3b92b4a01",
   "metadata": {
    "tags": []
   },
   "outputs": [],
   "source": [
    "dfwork = adata.obs.copy() \n",
    "xlbl = 'volume'\n",
    "ylbl = 'jnorm_transcript_count'\n",
    "\n",
    "x = dfwork[xlbl].values \n",
    "y = dfwork[ylbl].values\n",
    "r, _ = stats.spearmanr(x, y)\n",
    "bins = np.logspace(2,3.2,50)\n",
    "dfwork['bin'] = pd.cut(x, bins)\n",
    "res = dfwork.groupby('bin')[[xlbl, ylbl]].mean()\n",
    "\n",
    "plt.scatter(x,y,s=5, edgecolor='none') #, cmap='viridis')\n",
    "plt.plot(res[xlbl], res[ylbl], color='k')\n",
    "plt.title(f'r={r:.2f}')\n",
    "plt.xlabel(xlbl)\n",
    "plt.ylabel(ylbl)\n",
    "plt.xscale('log')\n",
    "plt.yscale('log')"
   ]
  },
  {
   "cell_type": "code",
   "execution_count": null,
   "id": "76498c38-8c8c-40bf-89f8-4fc1dcc15cac",
   "metadata": {
    "tags": []
   },
   "outputs": [],
   "source": [
    "fig, axs = plt.subplots(1,2,figsize=(2*5,1*4), sharex=True, sharey=True)\n",
    "ax = axs[0]\n",
    "sns.boxplot(data=adata.obs, y='transcript_count', x='sample', ax=ax) #].values\n",
    "ax.set_xticklabels(ax.get_xticklabels(), rotation=90)\n",
    "ax.set_yscale('log')\n",
    "\n",
    "ax = axs[1]\n",
    "sns.boxplot(data=adata.obs, y='jnorm_transcript_count', x='sample', ax=ax) #].values\n",
    "ax.set_xticklabels(ax.get_xticklabels(), rotation=90)\n",
    "ax.set_yscale('log')\n",
    "\n",
    "fig.tight_layout()\n",
    "plt.show()\n"
   ]
  },
  {
   "cell_type": "code",
   "execution_count": null,
   "id": "c0e99e4a-55f8-49f4-a90e-f7230ec94be0",
   "metadata": {},
   "outputs": [],
   "source": [
    "adata"
   ]
  },
  {
   "cell_type": "code",
   "execution_count": null,
   "id": "4669256e-40af-442c-b953-0608e06428b3",
   "metadata": {},
   "outputs": [],
   "source": []
  },
  {
   "cell_type": "code",
   "execution_count": null,
   "id": "6e3f0854-ba69-410e-a4fe-690df04b1f91",
   "metadata": {},
   "outputs": [],
   "source": []
  },
  {
   "cell_type": "code",
   "execution_count": null,
   "id": "8d4edb2f-1e27-41ab-a904-1e0486112f5e",
   "metadata": {},
   "outputs": [],
   "source": []
  },
  {
   "cell_type": "markdown",
   "id": "b5f15876-8186-4533-9c97-970a870ac0a4",
   "metadata": {},
   "source": [
    "# focus on Glu neurons only"
   ]
  },
  {
   "cell_type": "code",
   "execution_count": null,
   "id": "c57ecf21-3e55-400d-b547-1dbfc812d498",
   "metadata": {
    "tags": []
   },
   "outputs": [],
   "source": [
    "adata.obs['annot'] = clst_annots[adata.obs[f'leiden_r{r}'].astype(int)]\n",
    "print(adata.obs['annot'].value_counts())"
   ]
  },
  {
   "cell_type": "code",
   "execution_count": null,
   "id": "5c84544b-8bb1-45f8-b163-3fd8f2c5fcaf",
   "metadata": {},
   "outputs": [],
   "source": [
    "adata = adata[adata.obs['annot'].str.contains('Glu')]\n",
    "print(adata)\n",
    "# # adata = adata[adata.obs['gncov']>100]\n",
    "# print(adata)"
   ]
  },
  {
   "cell_type": "code",
   "execution_count": null,
   "id": "35900c7a-c7db-4059-9154-d0d12d06cf89",
   "metadata": {
    "tags": []
   },
   "outputs": [],
   "source": [
    "width_min = adata.obs.groupby('sample')['width'].min().reindex(names)\n",
    "width_max = adata.obs.groupby('sample')['width'].max().reindex(names)\n",
    "width_rng = width_max - width_min \n",
    "width_cum = pd.Series(np.cumsum(np.hstack([0, width_rng[:-1]+100])), index=names)\n",
    "\n",
    "adata.obs['width_n0'] = adata.obs['width'] - width_min.reindex(adata.obs['sample']).values\n",
    "adata.obs['width_show2'] =  adata.obs['width_n0'] + width_cum.reindex(adata.obs['sample']).values\n",
    "adata.obs['depth_show2'] = -adata.obs['depth']"
   ]
  },
  {
   "cell_type": "code",
   "execution_count": null,
   "id": "5a1d5618-3125-46d8-a4fa-5b4e75b9f201",
   "metadata": {
    "tags": []
   },
   "outputs": [],
   "source": [
    "mat = adata[:,abcgenes].layers['ljnorm']\n",
    "mat = stats.zscore(mat, axis=0)\n",
    "\n",
    "mat_nr = adata[adata.obs['sample'].str.contains('NR'), abcgenes].layers['ljnorm']\n",
    "mat_nr = stats.zscore(mat_nr, axis=0)\n",
    "\n",
    "pca = PCA(n_components=5)\n",
    "pcs_typegenes = pca.fit(mat).transform(mat)\n",
    "# pcs_typegenes = pca.fit(mat_nr).transform(mat)\n",
    "adata.obsm['pcs_typegenes'] = pcs_typegenes"
   ]
  },
  {
   "cell_type": "code",
   "execution_count": null,
   "id": "ff7c7edd-5dca-41b9-908c-b0c906a1bb79",
   "metadata": {
    "tags": []
   },
   "outputs": [],
   "source": [
    "xi, yi = 0, 1\n",
    "xsign, ysign = 1, 1"
   ]
  },
  {
   "cell_type": "code",
   "execution_count": null,
   "id": "2c92340c-d291-489f-98e7-340ec4bf5850",
   "metadata": {
    "tags": []
   },
   "outputs": [],
   "source": [
    "metrics = ['gncov', 'gnnum', 'depth', 'width_show']\n",
    "\n",
    "fig, axs = plt.subplots(1,4,figsize=(4*5,1*4))\n",
    "for metric, ax in zip(metrics, axs):\n",
    "    # g = np.log10(1+adata.obs[metric])\n",
    "    g = adata.obs[metric]\n",
    "    x = xsign*adata.obsm['pcs_typegenes'][:,xi]\n",
    "    y = ysign*adata.obsm['pcs_typegenes'][:,yi]\n",
    "    utils_merfish.st_scatter_ax(fig, ax, x, y, gexp=g, s=3, )\n",
    "    ax.set_title(metric)"
   ]
  },
  {
   "cell_type": "code",
   "execution_count": null,
   "id": "ed1830dd-4213-4412-b8c4-24cdf867cfb3",
   "metadata": {
    "tags": []
   },
   "outputs": [],
   "source": [
    "xi, yi = 1, 2\n",
    "xsign, ysign = -1,-1"
   ]
  },
  {
   "cell_type": "code",
   "execution_count": null,
   "id": "2a530a1e-c928-4f0d-b5fe-8e04e2de3209",
   "metadata": {
    "tags": []
   },
   "outputs": [],
   "source": [
    "%%time\n",
    "\n",
    "from py_pcha import PCHA\n",
    "\n",
    "np.random.seed(0)\n",
    "\n",
    "X = np.vstack([\n",
    "    xsign*adata.obsm['pcs_typegenes'][:,xi], \n",
    "    ysign*adata.obsm['pcs_typegenes'][:,yi], \n",
    "])\n",
    "\n",
    "# X = np.vstack([\n",
    "#     xsign*adata[adata.obs['sample'].str.contains('NR')].obsm['pcs_typegenes'][:,xi], \n",
    "#     ysign*adata[adata.obs['sample'].str.contains('NR')].obsm['pcs_typegenes'][:,yi], \n",
    "# ])\n",
    "\n",
    "\n",
    "XC, S, C, SSE, varexpl = PCHA(X, noc=3, delta=0)\n",
    "XC = np.array(XC)\n",
    "XC = XC[:,np.argsort(XC[0])].copy() # order this\n",
    "print(XC.shape, S.shape, C.shape, SSE.shape, varexpl.shape, SSE, varexpl)\n",
    "\n",
    "\n"
   ]
  },
  {
   "cell_type": "code",
   "execution_count": null,
   "id": "3e097225-c6d6-4691-af8c-f0150020d8c4",
   "metadata": {},
   "outputs": [],
   "source": [
    "def add_triangle(XC, ax, zorder=0, vertices=False, **kwargs):\n",
    "    # add the triangle\n",
    "    ax.plot(XC[0].tolist()+[XC[0,0]], XC[1].tolist()+[XC[1,0]], '--',  color='gray', label='', zorder=zorder, linewidth=1, markersize=3)\n",
    "    \n",
    "    # add vertices\n",
    "    if vertices:\n",
    "        ax.scatter(XC[0,0], XC[1,0], color='C0', zorder=zorder, **kwargs)\n",
    "        ax.scatter(XC[0,1], XC[1,1], color='C1', zorder=zorder, **kwargs)\n",
    "        ax.scatter(XC[0,2], XC[1,2], color='C2', zorder=zorder, **kwargs)"
   ]
  },
  {
   "cell_type": "code",
   "execution_count": null,
   "id": "5d72dcf8-f90e-44f3-81b8-0e3f70b2622a",
   "metadata": {},
   "outputs": [],
   "source": []
  },
  {
   "cell_type": "code",
   "execution_count": null,
   "id": "c92257d4-7528-4cf5-b782-a46faf98e83b",
   "metadata": {
    "tags": []
   },
   "outputs": [],
   "source": [
    "gns = [agenes, bgenes, cgenes, iegs]\n",
    "titles = ['A genes', 'B genes', 'C genes', 'IEGs']\n",
    "adatas = [\n",
    "    adata,\n",
    "    adata[adata.obs['sample'].str.contains('NR')],\n",
    "    adata[adata.obs['sample'].str.contains('DR')],\n",
    "]\n",
    "conditions = ['combined', 'NR', 'DR']\n",
    "\n",
    "fig, axss = plt.subplots(3,4,figsize=(4*5,3*3), sharex=True, sharey=True)\n",
    "for i, (axs, adatasub, condition) in enumerate(zip(axss, adatas, conditions)):\n",
    "    condition = conditions[i]\n",
    "    for j, (ax, gn, title,) in enumerate(zip(axs, gns, titles)):\n",
    "        g = adatasub[:,gn].layers['ljnorm'].mean(axis=1)\n",
    "        x = xsign*adatasub.obsm['pcs_typegenes'][:,xi]\n",
    "        y = ysign*adatasub.obsm['pcs_typegenes'][:,yi]\n",
    "        \n",
    "        p = utils_merfish.st_scatter_ax(fig, ax, x, y, gexp=g, s=5, cmap='coolwarm', vmin_p=5, vmax_p=95)\n",
    "        colorbar = plt.colorbar(p, aspect=5, shrink=0.3)\n",
    "        \n",
    "        # Show ticks but no grid\n",
    "        ax.set_aspect('equal')\n",
    "        ax.axis('on')\n",
    "        ax.grid(False)  # Turn off grid lines\n",
    "        sns.despine(ax=ax)\n",
    "        ax.tick_params(axis='both', which='both', bottom=True, left=True)\n",
    "        \n",
    "        if i == 0:\n",
    "            ax.set_title(title)\n",
    "        if j == 0:\n",
    "            ax.set_ylabel(condition, rotation=0, loc='top')\n",
    "            \n",
    "        # add the triangle\n",
    "        add_triangle(XC, ax)\n",
    "plt.show()"
   ]
  },
  {
   "cell_type": "code",
   "execution_count": null,
   "id": "1f38228e-9a62-4822-8c66-db250c30a7fb",
   "metadata": {
    "tags": []
   },
   "outputs": [],
   "source": [
    "gns = [agenes, bgenes, cgenes, iegs]\n",
    "titles = ['A genes', 'B genes', 'C genes', 'IEGs']\n",
    "adatas = [\n",
    "    adata,\n",
    "    adata[adata.obs['sample'].str.contains('NR')],\n",
    "    adata[adata.obs['sample'].str.contains('DR')],\n",
    "]\n",
    "conditions = ['combined', 'NR', 'DR']\n",
    "\n",
    "fig, axss = plt.subplots(3,4,figsize=(4*5,3*3), sharex=True, sharey=True)\n",
    "for i, (axs, adatasub, condition) in enumerate(zip(axss, adatas, conditions)):\n",
    "    condition = conditions[i]\n",
    "    for j, (ax, gn, title,) in enumerate(zip(axs, gns, titles)):\n",
    "        g = adatasub[:,gn].layers['ljnorm'].mean(axis=1)\n",
    "        x = xsign*adatasub.obsm['pcs_typegenes'][:,xi]\n",
    "        y = ysign*adatasub.obsm['pcs_typegenes'][:,yi]\n",
    "        \n",
    "        # consistent over\n",
    "        g0 = adata[:,gn].layers['ljnorm'].mean(axis=1)\n",
    "        vmin = np.percentile(g0,  5)\n",
    "        vmax = np.percentile(g0, 95)\n",
    "            \n",
    "        p = utils_merfish.st_scatter_ax(fig, ax, x, y, gexp=g, s=5, cmap='coolwarm', vmin=vmin, vmax=vmax)\n",
    "        colorbar = plt.colorbar(p, aspect=5, shrink=0.3)\n",
    "        \n",
    "        # Show ticks but no grid\n",
    "        ax.set_aspect('equal')\n",
    "        ax.axis('on')\n",
    "        ax.grid(False)  # Turn off grid lines\n",
    "        sns.despine(ax=ax)\n",
    "        ax.tick_params(axis='both', which='both', bottom=True, left=True)\n",
    "        \n",
    "        if i == 0:\n",
    "            ax.set_title(title)\n",
    "        if j == 0:\n",
    "            ax.set_ylabel(condition, rotation=0, loc='top')\n",
    "            \n",
    "        # add the triangle\n",
    "        add_triangle(XC, ax)\n",
    "plt.show()"
   ]
  },
  {
   "cell_type": "code",
   "execution_count": null,
   "id": "7fe2fa47-ff02-4b2e-99ef-ff034f04f967",
   "metadata": {},
   "outputs": [],
   "source": []
  },
  {
   "cell_type": "code",
   "execution_count": null,
   "id": "b97d2201-1466-4630-b0cd-25345be23c26",
   "metadata": {},
   "outputs": [],
   "source": []
  },
  {
   "cell_type": "code",
   "execution_count": null,
   "id": "58ffe5a7-0cc6-478a-9f4c-bf5c3e8fcd20",
   "metadata": {},
   "outputs": [],
   "source": []
  },
  {
   "cell_type": "code",
   "execution_count": null,
   "id": "add3b866-4a3f-4dc9-be87-6a6eee844c81",
   "metadata": {
    "tags": []
   },
   "outputs": [],
   "source": [
    "gns = ['Cdh13', 'Sorcs3', 'Chrm2', 'Fos']\n",
    "titles = gns\n",
    "adatas = [\n",
    "    adata,\n",
    "    adata[adata.obs['sample'].str.contains('NR')],\n",
    "    adata[adata.obs['sample'].str.contains('DR')],\n",
    "]\n",
    "conditions = ['combined', 'NR', 'DR']\n",
    "\n",
    "fig, axss = plt.subplots(3,4,figsize=(4*5,3*3), sharex=True, sharey=True)\n",
    "for i, (axs, adatasub, condition) in enumerate(zip(axss, adatas, conditions)):\n",
    "    condition = conditions[i]\n",
    "    for j, (ax, gn, title,) in enumerate(zip(axs, gns, titles)):\n",
    "        g = adatasub[:,gn].layers['ljnorm'].reshape(-1,)\n",
    "        x = xsign*adatasub.obsm['pcs_typegenes'][:,xi]\n",
    "        y = ysign*adatasub.obsm['pcs_typegenes'][:,yi]\n",
    "        \n",
    "        # consistent over\n",
    "        g0 = adata[:,gn].layers['ljnorm'].mean(axis=1)\n",
    "        vmin = np.percentile(g0,  5)\n",
    "        vmax = np.percentile(g0, 99)\n",
    "            \n",
    "        p = utils_merfish.st_scatter_ax(fig, ax, x, y, gexp=g, s=5, vmin=vmin, vmax=vmax)\n",
    "        colorbar = plt.colorbar(p, aspect=5, shrink=0.3)\n",
    "        \n",
    "        # Show ticks but no grid\n",
    "        ax.set_aspect('equal')\n",
    "        ax.axis('on')\n",
    "        ax.grid(False)  # Turn off grid lines\n",
    "        sns.despine(ax=ax)\n",
    "        ax.tick_params(axis='both', which='both', bottom=True, left=True)\n",
    "        \n",
    "        if i == 0:\n",
    "            ax.set_title(title)\n",
    "        if j == 0:\n",
    "            ax.set_ylabel(condition, rotation=0, loc='top')\n",
    "            \n",
    "        add_triangle(XC, ax)\n",
    "plt.show()"
   ]
  },
  {
   "cell_type": "code",
   "execution_count": null,
   "id": "234d1280-871f-4a1c-8064-bbe7c3d2e968",
   "metadata": {
    "tags": []
   },
   "outputs": [],
   "source": [
    "gns = ['Syt17', 'Astn2', 'Etl4', 'Slc24a3'] \n",
    "titles = gns\n",
    "adatas = [\n",
    "    adata,\n",
    "    adata[adata.obs['sample'].str.contains('NR')],\n",
    "    adata[adata.obs['sample'].str.contains('DR')],\n",
    "]\n",
    "conditions = ['combined', 'NR', 'DR']\n",
    "\n",
    "fig, axss = plt.subplots(3,4,figsize=(4*5,3*3), sharex=True, sharey=True)\n",
    "for i, (axs, adatasub, condition) in enumerate(zip(axss, adatas, conditions)):\n",
    "    condition = conditions[i]\n",
    "    for j, (ax, gn, title,) in enumerate(zip(axs, gns, titles)):\n",
    "        g = adatasub[:,gn].layers['ljnorm'].reshape(-1,)\n",
    "        x = xsign*adatasub.obsm['pcs_typegenes'][:,xi]\n",
    "        y = ysign*adatasub.obsm['pcs_typegenes'][:,yi]\n",
    "        \n",
    "        # consistent over\n",
    "        g0 = adata[:,gn].layers['ljnorm'].mean(axis=1)\n",
    "        vmin = np.percentile(g0,  5)\n",
    "        vmax = np.percentile(g0, 99)\n",
    "            \n",
    "        p = utils_merfish.st_scatter_ax(fig, ax, x, y, gexp=g, s=5, vmin=vmin, vmax=vmax)\n",
    "        colorbar = plt.colorbar(p, aspect=5, shrink=0.3)\n",
    "        \n",
    "        # Show ticks but no grid\n",
    "        ax.set_aspect('equal')\n",
    "        ax.axis('on')\n",
    "        ax.grid(False)  # Turn off grid lines\n",
    "        sns.despine(ax=ax)\n",
    "        ax.tick_params(axis='both', which='both', bottom=True, left=True)\n",
    "        \n",
    "        if i == 0:\n",
    "            ax.set_title(title)\n",
    "        if j == 0:\n",
    "            ax.set_ylabel(condition, rotation=0, loc='top')\n",
    "            \n",
    "        add_triangle(XC, ax)\n",
    "plt.show()"
   ]
  },
  {
   "cell_type": "markdown",
   "id": "4a4aa111-cf68-4217-b0d6-b683ceb47307",
   "metadata": {},
   "source": [
    "# customized colormap "
   ]
  },
  {
   "cell_type": "code",
   "execution_count": null,
   "id": "c691952e-6d1f-40da-a111-db35dc9e43a5",
   "metadata": {},
   "outputs": [],
   "source": [
    "from matplotlib.colors import LinearSegmentedColormap\n",
    "\n",
    "colors_a = [(0.0, 'black'), (1.0, 'C0')]      \n",
    "colors_b = [(0.0, 'black'), (1.0, 'C1')]      \n",
    "colors_c = [(0.0, 'black'), (1.0, 'C2')]      \n",
    "colors_nrdr = [(0.0, 'C1'), (0.5, 'white'), (1.0, 'black')]\n",
    "colors_nr = [(0.0, 'white'), (1.0, 'C1'),]\n",
    "colors_dr = [(0.0, 'white'), (1.0, 'black'),]\n",
    "\n",
    "# Create a custom colormap using LinearSegmentedColormap\n",
    "cmap_a = LinearSegmentedColormap.from_list('cmap_a', colors_a)\n",
    "cmap_b = LinearSegmentedColormap.from_list('cmap_b', colors_b)\n",
    "cmap_c = LinearSegmentedColormap.from_list('cmap_c', colors_c)\n",
    "cmap_nrdr = LinearSegmentedColormap.from_list('cmap_nrdr', colors_nrdr)\n",
    "cmap_nr = LinearSegmentedColormap.from_list('cmap_nr', colors_nr)\n",
    "cmap_dr = LinearSegmentedColormap.from_list('cmap_dr', colors_dr)"
   ]
  },
  {
   "cell_type": "code",
   "execution_count": null,
   "id": "0a7e3f1b-2cb6-4cfb-9308-bde38617caef",
   "metadata": {
    "tags": []
   },
   "outputs": [],
   "source": [
    "xmin, xmax = -12, 12\n",
    "ymin, ymax = -7, 7 \n",
    "\n",
    "bins_x = np.linspace(xmin, xmax, 1*(xmax-xmin)+1)\n",
    "bins_y = np.linspace(ymin, ymax, 1*(ymax-ymin)+1)\n",
    "print(bins_x)\n",
    "print(bins_y)\n",
    "\n",
    "hists = []\n",
    "fig, axs = plt.subplots(1,4,figsize=(4*5,1*4), sharex=True, sharey=True)\n",
    "for ax, adatasub, cond, _cmap in zip(axs, [\n",
    "    adata,\n",
    "    adata[adata.obs['sample'].str.contains('NR')],\n",
    "    adata[adata.obs['sample'].str.contains('DR')],\n",
    "    ], \n",
    "    ['Combined', 'NR', 'DR'], \n",
    "    ['gray_r', cmap_nr, cmap_dr]):\n",
    "    x =  xsign*adatasub.obsm['pcs_typegenes'][:,xi]\n",
    "    y =  ysign*adatasub.obsm['pcs_typegenes'][:,yi]\n",
    "    sns.histplot(x=x, y=y, ax=ax, bins=(bins_x, bins_y), \n",
    "                 cmap=_cmap, # 'gray_r', \n",
    "                 stat='percent', vmin=0, vmax=2, \n",
    "                 cbar=True, cbar_kws=dict(shrink=0.4, ticks=[0,2]))\n",
    "    # sns.kdeplot(x=x, y=y, ax=ax, bins=(bins_x, bins_y))\n",
    "    \n",
    "    hist, _, _= np.histogram2d(x, y, bins=(bins_x, bins_y))\n",
    "    hist = hist/len(x)*100\n",
    "    hists.append(hist)\n",
    "    print(hist.shape)\n",
    "    ax.set_title(cond)\n",
    "    ax.set_aspect('equal')\n",
    "    sns.despine(ax=ax)\n",
    "    ax.grid(False)\n",
    "    \n",
    "    # g = ax.imshow(pd.DataFrame(np.log2(1e-3+hist), \n",
    "    #                          index=bins_x[1:]-0.5, \n",
    "    #                          columns=bins_y[1:]-0.5).T, \n",
    "    #             origin='lower',\n",
    "    #             extent=(xmin, xmax, ymin, ymax),\n",
    "    #             cmap='gray_r') # , vmax=1, vmin=-1)\n",
    "    \n",
    "    # add the triangle\n",
    "    add_triangle(XC, ax, zorder=2)\n",
    "    \n",
    "ax = axs[3] \n",
    "ax.set_title('DR-NR')\n",
    "g = ax.imshow(\n",
    "    # pd.DataFrame(np.log2(1e-3+hists[2])-np.log2(1e-3+hists[1]), #-hists[1], \n",
    "    pd.DataFrame(hists[2]-hists[1], #-hists[1], \n",
    "                         index=bins_x[1:]-0.5, \n",
    "                         columns=bins_y[1:]-0.5).T, \n",
    "            origin='lower',\n",
    "            extent=(xmin, xmax, ymin, ymax),\n",
    "            # cmap='coolwarm', \n",
    "            cmap=cmap_nrdr, \n",
    "            vmax=2, vmin=-2)\n",
    "# ax.invert_yaxis()\n",
    "ax.set_aspect('equal')\n",
    "ax.grid(False)\n",
    "fig.colorbar(g, shrink=0.4, ticks=[-2,0,2])\n",
    "sns.despine(ax=ax)\n",
    "\n",
    "# add the triangle\n",
    "add_triangle(XC, ax, zorder=2)\n",
    "\n",
    "plt.show()"
   ]
  },
  {
   "cell_type": "code",
   "execution_count": null,
   "id": "6b82e8d4-33fb-400c-a0c9-b91538da51eb",
   "metadata": {
    "tags": []
   },
   "outputs": [],
   "source": [
    "dfshow = adata.obs.copy()\n",
    "dfshow['nrdr'] = dfshow['sample'].str.contains('DR').astype(int)\n",
    "dfshow['dim1'] = xsign*adata.obsm['pcs_typegenes'][:,xi]\n",
    "dfshow['dim2'] = ysign*adata.obsm['pcs_typegenes'][:,yi]\n",
    "palette = {0: 'C1', 1: 'black'}\n",
    "\n",
    "\n",
    "fig, axs = plt.subplots(1,2,figsize=(2*5,1*4), sharex=True, sharey=True) \n",
    "ax = axs[0]\n",
    "add_triangle(XC, ax)\n",
    "sns.scatterplot(data=dfshow.sample(frac=1), x='dim1', y='dim2', hue='nrdr', s=3, edgecolor='none', palette=palette, ax=ax)\n",
    "ax.set_aspect('equal')\n",
    "sns.despine(ax=ax)\n",
    "ax.grid(False)\n",
    "ax.legend(bbox_to_anchor=(1,1))\n",
    "\n",
    "ax = axs[1]\n",
    "add_triangle(XC, ax)\n",
    "sns.kdeplot(data=dfshow, x='dim1', y='dim2', hue='nrdr', palette=palette, legend=False, ax=ax,)\n",
    "ax.set_aspect('equal')\n",
    "sns.despine(ax=ax)\n",
    "ax.grid(False)\n",
    "\n",
    "\n",
    "fig.tight_layout()\n",
    "plt.show()"
   ]
  },
  {
   "cell_type": "code",
   "execution_count": null,
   "id": "433d19fc-43cd-441a-ab5c-094755939a5a",
   "metadata": {
    "tags": []
   },
   "outputs": [],
   "source": [
    "fig, axs = plt.subplots(2,4,figsize=(4*4,2*3), sharex=True, sharey=True) \n",
    "for sample, ax in zip(names, axs.flat):\n",
    "    add_triangle(XC, ax)\n",
    "    sns.scatterplot(data=dfshow[dfshow['sample']==sample].sample(frac=1), \n",
    "                    x='dim1', y='dim2', hue='nrdr', s=5, edgecolor='none', palette=palette, ax=ax, legend=False)\n",
    "    sns.kdeplot(data=dfshow[dfshow['sample']==sample],\n",
    "                x='dim1', y='dim2', hue='nrdr', palette=palette, legend=False, ax=ax,)\n",
    "    ax.set_aspect('equal')\n",
    "    sns.despine(ax=ax)\n",
    "    ax.set_title(sample)\n",
    "    ax.grid(False)\n",
    "    # ax.legend(bbox_to_anchor=(1,1))\n",
    "\n",
    "fig.tight_layout()\n",
    "plt.show()"
   ]
  },
  {
   "cell_type": "markdown",
   "id": "07de89bf-3998-4ecb-8517-a24eac754e25",
   "metadata": {},
   "source": [
    "# customized colormap "
   ]
  },
  {
   "cell_type": "code",
   "execution_count": null,
   "id": "f3aa3ad3-7af0-4cc9-b228-e12fdd725c53",
   "metadata": {},
   "outputs": [],
   "source": [
    "from matplotlib.colors import LinearSegmentedColormap\n",
    "\n",
    "colors_a = [(0.0, 'black'), (1.0, 'C0')]      \n",
    "colors_b = [(0.0, 'black'), (1.0, 'C1')]      \n",
    "colors_c = [(0.0, 'black'), (1.0, 'C2')]      \n",
    "\n",
    "# Create a custom colormap using LinearSegmentedColormap\n",
    "cmap_a = LinearSegmentedColormap.from_list('cmap_a', colors_a)\n",
    "cmap_b = LinearSegmentedColormap.from_list('cmap_b', colors_b)\n",
    "cmap_c = LinearSegmentedColormap.from_list('cmap_c', colors_c)\n"
   ]
  },
  {
   "cell_type": "code",
   "execution_count": null,
   "id": "e9227e56-abd0-441f-878e-23f8a300469e",
   "metadata": {
    "tags": []
   },
   "outputs": [],
   "source": [
    "# get ABC scores\n",
    "g0_a = adata[:,agenes].layers['ljnorm'].mean(axis=1)\n",
    "g0_b = adata[:,bgenes].layers['ljnorm'].mean(axis=1)\n",
    "g0_c = adata[:,cgenes].layers['ljnorm'].mean(axis=1)\n",
    "\n",
    "# make ABC scores comparable and norm to [0,1] [50% to 95%]\n",
    "vmin_p, vmax_p = 50, 95\n",
    "vmin_a = np.percentile(g0_a, vmin_p)\n",
    "vmax_a = np.percentile(g0_a, vmax_p)\n",
    "\n",
    "vmin_b = np.percentile(g0_b, vmin_p)\n",
    "vmax_b = np.percentile(g0_b, vmax_p)\n",
    "\n",
    "vmin_c = np.percentile(g0_c, vmin_p)\n",
    "vmax_c = np.percentile(g0_c, vmax_p)\n",
    "\n",
    "g0_a = np.clip((g0_a-vmin_a)/(vmax_a-vmin_a), 0, 1)\n",
    "g0_b = np.clip((g0_b-vmin_b)/(vmax_b-vmin_b), 0, 1)\n",
    "g0_c = np.clip((g0_c-vmin_c)/(vmax_c-vmin_c), 0, 1)\n",
    "\n",
    "# separate them into scale and frequency\n",
    "g0_sum  = (g0_a+g0_b+g0_c)\n",
    "g0_size = np.clip(g0_sum/np.percentile(g0_sum, 50), 0, 1) # [0 - > 50%] - [0, 1]\n",
    "freq0_a = g0_a/(g0_sum+1e-5)\n",
    "freq0_b = g0_b/(g0_sum+1e-5)\n",
    "freq0_c = g0_c/(g0_sum+1e-5)\n",
    "\n",
    "adata.obs['raw_score_a'] = adata[:,agenes].layers['ljnorm'].mean(axis=1)\n",
    "adata.obs['raw_score_b'] = adata[:,bgenes].layers['ljnorm'].mean(axis=1)\n",
    "adata.obs['raw_score_c'] = adata[:,cgenes].layers['ljnorm'].mean(axis=1)\n",
    "\n",
    "adata.obsm['size_freq_abc'] = np.vstack([g0_size, freq0_a, freq0_b, freq0_c, g0_sum]).T"
   ]
  },
  {
   "cell_type": "markdown",
   "id": "19de42d4-969a-4fa7-bb58-718b01330b8d",
   "metadata": {
    "tags": []
   },
   "source": [
    "# distances to nearest archetype"
   ]
  },
  {
   "cell_type": "code",
   "execution_count": null,
   "id": "24d5eb11-9c4e-4e2b-a585-0f7cffe35b86",
   "metadata": {
    "tags": []
   },
   "outputs": [],
   "source": [
    "def get_dists_to_specialists(prj, XC):\n",
    "    \"\"\"\n",
    "    \"\"\"\n",
    "    diffs = np.array([prj-XC[:,0], prj-XC[:,1], prj-XC[:,2]]) # specialist by cell by dim\n",
    "    dists = np.sqrt(np.sum(np.power(diffs, 2), axis=2)) # specialist by cell\n",
    "    # print(diffs.shape, dists.shape)\n",
    "    return dists"
   ]
  },
  {
   "cell_type": "code",
   "execution_count": null,
   "id": "912f79f8-a6fb-4d1e-a4e4-4d35bfc5ff93",
   "metadata": {
    "tags": []
   },
   "outputs": [],
   "source": [
    "dists_dict = {}\n",
    "for cond in ['NR', 'DR']:\n",
    "    dists = get_dists_to_specialists(dfshow.loc[dfshow['sample'].str.contains(cond), ['dim1', 'dim2']].values, XC)\n",
    "    dists_dict[cond] = dists\n",
    "    "
   ]
  },
  {
   "cell_type": "code",
   "execution_count": null,
   "id": "0f199d9c-7796-4fb4-968b-14c0e2bc6b70",
   "metadata": {
    "tags": []
   },
   "outputs": [],
   "source": [
    "res_frac = pd.DataFrame(index=['A pole', 'B pole', 'C pole'])\n",
    "\n",
    "for cond in ['NR', 'DR']:\n",
    "    unqs, cnts = np.unique(np.argmin(dists_dict[cond], axis=0), return_counts=True)\n",
    "    print(unqs, cnts/cnts.sum())\n",
    "    res_frac[cond] = cnts/cnts.sum()"
   ]
  },
  {
   "cell_type": "code",
   "execution_count": null,
   "id": "5f2db8ad-4a08-4678-88b8-b2097c2bdcca",
   "metadata": {
    "tags": []
   },
   "outputs": [],
   "source": [
    "res_frac['DR']/res_frac['NR']"
   ]
  },
  {
   "cell_type": "code",
   "execution_count": null,
   "id": "f9cafa33-49d3-4675-8f06-4a929670a8cd",
   "metadata": {
    "tags": []
   },
   "outputs": [],
   "source": [
    "fig, ax = plt.subplots(figsize=(4,4))\n",
    "# res_frac[['P28NR', 'P38NR', 'P28DR', 'P38DR', 'P28DL']].T.plot.bar(\n",
    "res_frac.T.plot.bar(\n",
    "    ax=ax, stacked=True, width=0.8,  \n",
    ")\n",
    "ax.legend(bbox_to_anchor=(1,1), title='closest to')\n",
    "sns.despine(ax=ax)\n",
    "ax.set_ylabel('Frac of cells')\n",
    "ax.grid(False)\n",
    "# output = os.path.join(outfigdir, 'bar_frac_abc_pole.pdf')\n",
    "# powerplots.savefig_autodate(fig, output)\n",
    "plt.show()\n"
   ]
  },
  {
   "cell_type": "markdown",
   "id": "ae4d3946-4fae-43b2-9130-91c6248524f4",
   "metadata": {},
   "source": [
    "# ABC scores - expression level distributions"
   ]
  },
  {
   "cell_type": "code",
   "execution_count": null,
   "id": "a169680f-914a-4e2f-acd4-55cb61ac4e1f",
   "metadata": {
    "tags": []
   },
   "outputs": [],
   "source": [
    "ascores_nr = -adata[adata.obs['sample'].str.contains(f'NR')][:,agenes].layers['ljnorm'].mean(axis=1)\n",
    "ascores_dr = -adata[adata.obs['sample'].str.contains(f'DR')][:,agenes].layers['ljnorm'].mean(axis=1)\n",
    "\n",
    "bscores_nr = -adata[adata.obs['sample'].str.contains(f'NR')][:,bgenes].layers['ljnorm'].mean(axis=1)\n",
    "bscores_dr = -adata[adata.obs['sample'].str.contains(f'DR')][:,bgenes].layers['ljnorm'].mean(axis=1)\n",
    "\n",
    "cscores_nr = -adata[adata.obs['sample'].str.contains(f'NR')][:,cgenes].layers['ljnorm'].mean(axis=1)\n",
    "cscores_dr = -adata[adata.obs['sample'].str.contains(f'DR')][:,cgenes].layers['ljnorm'].mean(axis=1)"
   ]
  },
  {
   "cell_type": "code",
   "execution_count": null,
   "id": "6bfa4456-5fba-48c9-a188-7131755bf5c8",
   "metadata": {},
   "outputs": [],
   "source": [
    "fig, axs = plt.subplots(1,3, figsize=(3*4,4), sharex=False, sharey=False)\n",
    "\n",
    "ax = axs[0]\n",
    "sns.histplot(ascores_nr, ax=ax, stat='percent', cumulative=True, element='step', fill=False, color='C1')\n",
    "sns.histplot(ascores_dr, ax=ax, stat='percent', cumulative=True, element='step', fill=False, color='black')\n",
    "ax.set_title('A score')\n",
    "sns.despine(ax=ax)\n",
    "ax.grid(False)\n",
    "\n",
    "ax = axs[1]\n",
    "sns.histplot(bscores_nr, ax=ax, stat='percent', cumulative=True, element='step', fill=False, color='C1')\n",
    "sns.histplot(bscores_dr, ax=ax, stat='percent', cumulative=True, element='step', fill=False, color='black')\n",
    "ax.set_title('B score')\n",
    "sns.despine(ax=ax)\n",
    "ax.grid(False)\n",
    "\n",
    "ax = axs[2]\n",
    "sns.histplot(cscores_nr, ax=ax, stat='percent', cumulative=True, element='step', fill=False, color='C1')\n",
    "sns.histplot(cscores_dr, ax=ax, stat='percent', cumulative=True, element='step', fill=False, color='black')\n",
    "ax.set_title('C score')\n",
    "sns.despine(ax=ax)\n",
    "ax.grid(False)\n",
    "\n",
    "fig.tight_layout()\n",
    "plt.show()"
   ]
  },
  {
   "cell_type": "code",
   "execution_count": null,
   "id": "eebca6a7-2ae5-4d3c-b155-64a33546a46c",
   "metadata": {},
   "outputs": [],
   "source": [
    "fig, axs = plt.subplots(1,4, figsize=(4*4,4), sharex=False, sharey=True)\n",
    "for ax, genegroup, title in zip(axs, \n",
    "                                [agenes, bgenes, cgenes, iegs], \n",
    "                                ['A genes', 'B genes', 'C genes', 'IEGs'],\n",
    "                               ):\n",
    "    for i, sample in enumerate(names):\n",
    "        scores_ = adata[adata.obs['sample']==sample][:,genegroup].layers['ljnorm'].mean(axis=1)\n",
    "        if 'NR' in sample:\n",
    "            color = 'C1'\n",
    "        elif 'DR' in sample:\n",
    "            color = 'black'\n",
    "\n",
    "        sns.ecdfplot(scores_, ax=ax, color=color)#, complementary=True) # , linewidth=2)\n",
    "        \n",
    "        # _x = np.percentile(scores_, 50)\n",
    "        # _y = 0.5\n",
    "        # ax.text(_x, _y, i, fontsize=10, color='red')\n",
    "    ax.set_ylabel('Cumulative proportion\\nof cells')\n",
    "    ax.set_xlabel('Mean log norm expr.')\n",
    "    ax.set_title(title)\n",
    "    sns.despine(ax=ax)\n",
    "    ax.grid(False)\n",
    "    \n",
    "\n",
    "fig.tight_layout()\n",
    "plt.show()"
   ]
  },
  {
   "cell_type": "markdown",
   "id": "e5a496b8-4486-48d1-9611-649aae6b59f5",
   "metadata": {},
   "source": [
    "###  mean and sem over 4 samples"
   ]
  },
  {
   "cell_type": "code",
   "execution_count": null,
   "id": "f878ade7-c780-4aa4-ac46-2fada7fb3a5d",
   "metadata": {},
   "outputs": [],
   "source": [
    "from statsmodels.distributions.empirical_distribution import ECDF"
   ]
  },
  {
   "cell_type": "code",
   "execution_count": null,
   "id": "3439f562-90de-41c4-b8c5-a6b41980823c",
   "metadata": {
    "tags": []
   },
   "outputs": [],
   "source": [
    "allbins = [\n",
    "    np.linspace(0,1,20),\n",
    "    np.linspace(0,1,20),\n",
    "    np.linspace(0,1,20),\n",
    "    np.linspace(0,3,20),\n",
    "]\n",
    "\n",
    "fig, axs = plt.subplots(1,4, figsize=(4*4,4), sharex=False, sharey=True)\n",
    "for ax, genegroup, title, color, bins in zip(axs, \n",
    "                                [agenes, bgenes, cgenes, iegs], \n",
    "                                ['A genes', 'B genes', 'C genes', 'IEGs'],\n",
    "                                ['C0', 'C1', 'C2', 'C4'],\n",
    "                                allbins,\n",
    "                               ):\n",
    "    nr_tracks = []\n",
    "    dr_tracks = []\n",
    "    for i, sample in enumerate(names):\n",
    "        scores_ = adata[adata.obs['sample']==sample][:,genegroup].layers['ljnorm'].mean(axis=1)\n",
    "        ecdf = ECDF(scores_)\n",
    "        val = ecdf(bins)\n",
    "        \n",
    "        if 'NR' in sample:\n",
    "            nr_tracks.append(val)\n",
    "        elif 'DR' in sample:\n",
    "            dr_tracks.append(val)\n",
    "\n",
    "        \n",
    "    m = np.mean(nr_tracks, axis=0)\n",
    "    s = np.std(nr_tracks, axis=0)/np.sqrt(len(nr_tracks))\n",
    "    ax.plot(bins, m, color=color)\n",
    "    ax.fill_between(bins, m-s, m+s, color=color, alpha=0.1)\n",
    "    \n",
    "    m = np.mean(dr_tracks, axis=0)\n",
    "    s = np.std(dr_tracks, axis=0)/np.sqrt(len(dr_tracks))\n",
    "    ax.plot(bins, m, color=color, linestyle='--')\n",
    "    ax.fill_between(bins, m-s, m+s, color=color, alpha=0.1)\n",
    "    \n",
    "    ax.set_ylabel('Cumulative\\nproportion of cells')\n",
    "    ax.set_xlabel('Mean log norm expr.')\n",
    "    ax.set_title(title)\n",
    "    sns.despine(ax=ax)\n",
    "    ax.grid(False)\n",
    "    \n",
    "\n",
    "fig.tight_layout()\n",
    "plt.show()"
   ]
  },
  {
   "cell_type": "code",
   "execution_count": null,
   "id": "ba415615-c762-475f-bdc4-d8c8b04aa955",
   "metadata": {},
   "outputs": [],
   "source": []
  },
  {
   "cell_type": "code",
   "execution_count": null,
   "id": "de08801f-5c3e-4abd-a054-2889f3e68d2d",
   "metadata": {},
   "outputs": [],
   "source": []
  },
  {
   "cell_type": "code",
   "execution_count": null,
   "id": "e1cd6c48-33dd-4daa-94c9-df86a2bb4d03",
   "metadata": {},
   "outputs": [],
   "source": []
  },
  {
   "cell_type": "code",
   "execution_count": null,
   "id": "05d4b5fc-59ef-4ea7-bf63-19657ee88f90",
   "metadata": {},
   "outputs": [],
   "source": []
  },
  {
   "cell_type": "code",
   "execution_count": null,
   "id": "f3912886-7744-42b1-b27f-dc558106a70e",
   "metadata": {},
   "outputs": [],
   "source": []
  },
  {
   "cell_type": "code",
   "execution_count": null,
   "id": "c3a3de30-2dff-41f5-97ea-3ff7ab6dbea4",
   "metadata": {},
   "outputs": [],
   "source": []
  },
  {
   "cell_type": "code",
   "execution_count": null,
   "id": "1a3ab77e-4221-445f-93f9-00a9badc1b13",
   "metadata": {},
   "outputs": [],
   "source": []
  },
  {
   "cell_type": "code",
   "execution_count": null,
   "id": "23b23f98-5564-4334-926e-6259e40d5690",
   "metadata": {},
   "outputs": [],
   "source": [
    "adatas = [\n",
    "    adata,\n",
    "    adata[adata.obs['sample'].str.contains('NR')],\n",
    "    adata[adata.obs['sample'].str.contains('DR')],\n",
    "]\n",
    "conditions = ['combined', 'NR', 'DR']\n",
    "\n",
    "fig, axs = plt.subplots(1,3,figsize=(3*5,1*3), sharex=True, sharey=True)\n",
    "for i, (ax, adatasub, condition) in enumerate(zip(axs, adatas, conditions)):\n",
    "    condition = conditions[i]\n",
    "    x = xsign*adatasub.obsm['pcs_typegenes'][:,xi]\n",
    "    y = ysign*adatasub.obsm['pcs_typegenes'][:,yi]\n",
    "    \n",
    "    g_size = adatasub.obsm['size_freq_abc'][:,0]\n",
    "    freq_a = adatasub.obsm['size_freq_abc'][:,1]\n",
    "    freq_b = adatasub.obsm['size_freq_abc'][:,2]\n",
    "    freq_c = adatasub.obsm['size_freq_abc'][:,3]\n",
    "    \n",
    "    # visualize ABC scores using additive blending\n",
    "    additive = (cmap_a(freq_a)+cmap_b(freq_b)+cmap_c(freq_c))[:,:3]\n",
    "    p = ax.scatter(x, y, c=additive, s=5, edgecolor='none', alpha=g_size)\n",
    "        \n",
    "    # Show ticks but no grid\n",
    "    ax.set_aspect('equal')\n",
    "    ax.axis('on')\n",
    "    ax.grid(False)  # Turn off grid lines\n",
    "    sns.despine(ax=ax)\n",
    "    ax.tick_params(axis='both', which='both', bottom=True, left=True)\n",
    "    ax.set_title(condition)\n",
    "\n",
    "    # add the triangle\n",
    "    add_triangle(XC, ax, vertices=True, edgecolors='k', linewidths=1, marker='o')\n",
    "    # break\n",
    "# plt.show()"
   ]
  },
  {
   "cell_type": "code",
   "execution_count": null,
   "id": "66e98e8b-698b-493b-8a52-0378ad57c09f",
   "metadata": {
    "tags": []
   },
   "outputs": [],
   "source": [
    "res = []\n",
    "for sample in names:\n",
    "    if 'NR' in sample:\n",
    "        cond = 'NR'\n",
    "    elif 'DR' in sample:\n",
    "        cond = 'DR'\n",
    "        \n",
    "    adatasub = adata[adata.obs['sample']==sample]\n",
    "    g_size = adatasub.obsm['size_freq_abc'][:,0]\n",
    "    g_sum  = adatasub.obsm['size_freq_abc'][:,4]\n",
    "    freq_a = adatasub.obsm['size_freq_abc'][:,1]\n",
    "    freq_b = adatasub.obsm['size_freq_abc'][:,2]\n",
    "    freq_c = adatasub.obsm['size_freq_abc'][:,3]\n",
    "\n",
    "    # ta = np.sum(g_size*(freq_a))\n",
    "    # tb = np.sum(g_size*(freq_b))\n",
    "    # tc = np.sum(g_size*(freq_c))\n",
    "    ta = np.sum(g_sum*(freq_a))\n",
    "    tb = np.sum(g_sum*(freq_b))\n",
    "    tc = np.sum(g_sum*(freq_c))\n",
    "    tt = (ta+tb+tc)\n",
    "    # print(sample, f'{ta/tt: .2f}', f'{tb/tt: .2f}', f'{tc/tt: .2f}')\n",
    "    res.append([sample, cond, ta/tt*100, tb/tt*100, tc/tt*100, ta, tb, tc, tt])\n",
    "    \n",
    "res = pd.DataFrame(res, columns=['sample', 'cond', 'A', 'B', 'C', 'tA', 'tB', 'tC', 'tt']).set_index('sample')\n",
    "res"
   ]
  },
  {
   "cell_type": "code",
   "execution_count": null,
   "id": "e527cb1a-6115-4ba9-a425-2282bec76bbc",
   "metadata": {},
   "outputs": [],
   "source": []
  },
  {
   "cell_type": "code",
   "execution_count": null,
   "id": "7470c176-b8a1-46c0-8630-8bf6b66409a7",
   "metadata": {},
   "outputs": [],
   "source": []
  },
  {
   "cell_type": "code",
   "execution_count": null,
   "id": "828d0dd5-7787-4202-b39c-80e8ca03020f",
   "metadata": {},
   "outputs": [],
   "source": []
  },
  {
   "cell_type": "code",
   "execution_count": null,
   "id": "cdf6fd23-0264-433a-b30b-9edcf0d8c500",
   "metadata": {},
   "outputs": [],
   "source": []
  },
  {
   "cell_type": "code",
   "execution_count": null,
   "id": "e7bea6f3-7aa3-40dd-81c2-225ea2f6e7bf",
   "metadata": {
    "tags": []
   },
   "outputs": [],
   "source": [
    "for i in range(3):\n",
    "    print(stats.ttest_ind(res.iloc[:4,1+i], res.iloc[4:,1+i]))"
   ]
  },
  {
   "cell_type": "code",
   "execution_count": null,
   "id": "eff5cde0-74f5-4ec8-b662-a7c18e10ca24",
   "metadata": {
    "tags": []
   },
   "outputs": [],
   "source": [
    "fig, axs = plt.subplots(1, 2, figsize=(4,3), sharey=True)\n",
    "ax = axs[0]\n",
    "res.loc[names[:4]].plot.bar(ax=ax, stacked=True, width=0.8, edgecolor='none', legend=False)\n",
    "ax.grid(False)\n",
    "sns.despine(ax=ax)\n",
    "ax.set_title('NR')\n",
    "ax.set_ylabel('L2/3 cells (%)')\n",
    "\n",
    "ax = axs[1]\n",
    "res.loc[names[4:]].plot.bar(ax=ax, stacked=True, width=0.8, edgecolor='none')\n",
    "ax.legend(bbox_to_anchor=(1,1))\n",
    "ax.grid(False)\n",
    "sns.despine(ax=ax)\n",
    "ax.set_title('DR')\n",
    "\n",
    "plt.show()"
   ]
  },
  {
   "cell_type": "code",
   "execution_count": null,
   "id": "f2fb5892-f7d5-40f2-8b51-d550154e1c05",
   "metadata": {
    "tags": []
   },
   "outputs": [],
   "source": [
    "for i, lbl in enumerate(['A', 'B', 'C']):\n",
    "    fig, axs = plt.subplots(1, 2, figsize=(4,3), sharey=True)\n",
    "    ax = axs[0]\n",
    "    res.loc[names[:4]][lbl].plot.bar(ax=ax, stacked=False, width=0.8, edgecolor='none', color=f'C{i}', legend=False)\n",
    "    ax.grid(False)\n",
    "    sns.despine(ax=ax)\n",
    "    ax.set_title('NR')\n",
    "    ax.set_ylabel('L2/3 cells (%)')\n",
    "\n",
    "    ax = axs[1]\n",
    "    res.loc[names[4:]][lbl].plot.bar(ax=ax, stacked=False, width=0.8, edgecolor='none', color=f'C{i}')\n",
    "    ax.grid(False)\n",
    "    sns.despine(ax=ax, left=True)\n",
    "    ax.set_title('DR')\n",
    "\n",
    "\n",
    "    plt.show()"
   ]
  },
  {
   "cell_type": "code",
   "execution_count": null,
   "id": "c19685c9-69bb-4665-9e47-711b2881c27b",
   "metadata": {},
   "outputs": [],
   "source": []
  },
  {
   "cell_type": "code",
   "execution_count": null,
   "id": "8bf06c90-dae0-4949-8715-4ce81b833ce9",
   "metadata": {},
   "outputs": [],
   "source": []
  },
  {
   "cell_type": "code",
   "execution_count": null,
   "id": "26cf9ada-06c2-44e3-8c9a-1a9682d760e9",
   "metadata": {},
   "outputs": [],
   "source": []
  },
  {
   "cell_type": "code",
   "execution_count": null,
   "id": "47374bd4-2bd8-432d-a1c4-32a9de3e6f5b",
   "metadata": {},
   "outputs": [],
   "source": []
  },
  {
   "cell_type": "code",
   "execution_count": null,
   "id": "bf534fd4-34e1-400d-b1b1-6107507c6b18",
   "metadata": {
    "tags": []
   },
   "outputs": [],
   "source": [
    "from statsmodels.stats.proportion import test_proportions_2indep"
   ]
  },
  {
   "cell_type": "code",
   "execution_count": null,
   "id": "e47e4647-fe98-4e68-a113-b15c3883f910",
   "metadata": {
    "tags": []
   },
   "outputs": [],
   "source": [
    "fig, axs = plt.subplots(1, 3, figsize=(2*3,4))\n",
    "for ax, col, color in zip(axs, ['A', 'B', 'C'], ['C0', 'C1', 'C2']):\n",
    "    sns.barplot(data=res, x='cond', y=col, ax=ax, color=color, capsize=0.3, errwidth=1)\n",
    "    sns.swarmplot(data=res, x='cond', y=col, color='k', ax=ax, )\n",
    "    ax.set_title(f'type {col}', y=1.1)\n",
    "    sns.despine(ax=ax)\n",
    "    ax.grid(False)\n",
    "    ax.set_ylabel('')\n",
    "    \n",
    "    a = res[res['cond']=='NR'][col]/100\n",
    "    b = res[res['cond']=='DR'][col]/100\n",
    "    # t, p = stats.ttest_ind(a, b)\n",
    "    s, p = stats.mannwhitneyu(a, b)\n",
    "    # testres = test_proportions_2indep(np.mean(a),4,np.mean(b),4)\n",
    "    \n",
    "    if p > 0.05:\n",
    "        mark = 'ns'\n",
    "    elif p < 0.05 and p > 0.001:\n",
    "        mark = '*'\n",
    "    elif p < 0.001:\n",
    "        mark = '***'\n",
    "    \n",
    "    # statistical annotation\n",
    "    x1, x2 = 0, 1   \n",
    "    y, h = res[col].max() + 2, 2\n",
    "    ax.plot([x1, x1, x2, x2], [y, y+h, y+h, y], lw=1.5, c='k')\n",
    "    ax.text((x1+x2)*.5, y+h, mark, ha='center', va='bottom', color='k')\n",
    "    \n",
    "axs[0].set_ylabel('L2/3 cells (%)')\n",
    "fig.tight_layout()\n",
    "plt.show()"
   ]
  },
  {
   "cell_type": "code",
   "execution_count": null,
   "id": "e76dbb00-1745-4b95-9dff-b91c562471f7",
   "metadata": {},
   "outputs": [],
   "source": []
  },
  {
   "cell_type": "code",
   "execution_count": null,
   "id": "9f183193-9876-46c0-9622-d56dc1317549",
   "metadata": {},
   "outputs": [],
   "source": []
  },
  {
   "cell_type": "code",
   "execution_count": null,
   "id": "a422652a-ca20-451f-a7cd-9aa67c463bf2",
   "metadata": {},
   "outputs": [],
   "source": []
  },
  {
   "cell_type": "code",
   "execution_count": null,
   "id": "f991a09a-258e-4ea7-829e-24b417908fbf",
   "metadata": {},
   "outputs": [],
   "source": []
  },
  {
   "cell_type": "code",
   "execution_count": null,
   "id": "8a9a15c3-211d-40f7-93f5-95d3bdb6f562",
   "metadata": {},
   "outputs": [],
   "source": []
  },
  {
   "cell_type": "code",
   "execution_count": null,
   "id": "f42e2ba8-79f2-42ab-9523-b5718bb486d7",
   "metadata": {},
   "outputs": [],
   "source": []
  },
  {
   "cell_type": "code",
   "execution_count": null,
   "id": "0b77ba3c-0de2-4713-abfc-94f950674910",
   "metadata": {},
   "outputs": [],
   "source": [
    "fig, axs = plt.subplots(1, 3, figsize=(2*3,4))\n",
    "for ax, col, color in zip(axs, ['A', 'B', 'C'], ['C0', 'C1', 'C2']):\n",
    "    sns.boxplot(data=res, x='cond', y=col, color='white', ax=ax)\n",
    "    sns.swarmplot(data=res, x='cond', y=col, color=color, ax=ax)\n",
    "    ax.set_title(f'type {col}')\n",
    "    sns.despine(ax=ax)\n",
    "    ax.grid(False)\n",
    "    ax.set_ylabel('')\n",
    "    \n",
    "axs[0].set_ylabel('L2/3 cells (%)')\n",
    "fig.tight_layout()\n",
    "plt.show()"
   ]
  },
  {
   "cell_type": "code",
   "execution_count": null,
   "id": "a611ddd2-3aee-4b2b-b4ac-6775a019eef3",
   "metadata": {
    "tags": []
   },
   "outputs": [],
   "source": [
    "res = []\n",
    "for sample in names:\n",
    "    if 'NR' in sample:\n",
    "        cond = 'NR'\n",
    "    elif 'DR' in sample:\n",
    "        cond = 'DR'\n",
    "        \n",
    "    adatasub = adata[adata.obs['sample']==sample]\n",
    "    depths = adatasub.obs['depth'].values\n",
    "    g_size = adatasub.obsm['size_freq_abc'][:,0]\n",
    "    g_sum  = adatasub.obsm['size_freq_abc'][:,4]\n",
    "    freq_a = adatasub.obsm['size_freq_abc'][:,1]\n",
    "    freq_b = adatasub.obsm['size_freq_abc'][:,2]\n",
    "    freq_c = adatasub.obsm['size_freq_abc'][:,3]\n",
    "\n",
    "    # ta = np.sum(g_size*(freq_a))\n",
    "    # tb = np.sum(g_size*(freq_b))\n",
    "    # tc = np.sum(g_size*(freq_c))\n",
    "    ta = np.sum(g_sum*(freq_a))\n",
    "    tb = np.sum(g_sum*(freq_b))\n",
    "    tc = np.sum(g_sum*(freq_c))\n",
    "    tt = (ta+tb+tc)\n",
    "    print(sample, f'{ta/tt: .2f}', f'{tb/tt: .2f}', f'{tc/tt: .2f}')\n",
    "    res.append([sample, cond, ta/tt*100, tb/tt*100, tc/tt*100])\n",
    "    \n",
    "res = pd.DataFrame(res, columns=['sample', 'cond', 'A', 'B', 'C']).set_index('sample')"
   ]
  },
  {
   "cell_type": "code",
   "execution_count": null,
   "id": "829abccc-05f1-406c-8c5c-992a89890fdf",
   "metadata": {},
   "outputs": [],
   "source": []
  },
  {
   "cell_type": "code",
   "execution_count": null,
   "id": "1d48df8a-073c-4ed6-b2b7-75ee80b1182e",
   "metadata": {
    "tags": []
   },
   "outputs": [],
   "source": [
    "for sample in names:\n",
    "    adatasub = adata[adata.obs['sample']==sample]\n",
    "    g_size = adatasub.obsm['size_freq_abc'][:,0]\n",
    "    g_sum  = adatasub.obsm['size_freq_abc'][:,4]\n",
    "    freq_a = adatasub.obsm['size_freq_abc'][:,1]\n",
    "    freq_b = adatasub.obsm['size_freq_abc'][:,2]\n",
    "    freq_c = adatasub.obsm['size_freq_abc'][:,3]\n",
    "\n",
    "    # ta = np.sum(g_size*(freq_a))\n",
    "    # tb = np.sum(g_size*(freq_b))\n",
    "    # tc = np.sum(g_size*(freq_c))\n",
    "    ta = np.sum(g_size*(freq_a))\n",
    "    tb = np.sum(g_size*(freq_b))\n",
    "    tc = np.sum(g_size*(freq_c))\n",
    "    tt = (ta+tb+tc)\n",
    "    print(sample, f'{ta/tt: .2f}', f'{tb/tt: .2f}', f'{tc/tt: .2f}')"
   ]
  },
  {
   "cell_type": "code",
   "execution_count": null,
   "id": "2251d291-4f3e-4e93-9d2e-d1a0767cf390",
   "metadata": {},
   "outputs": [],
   "source": []
  },
  {
   "cell_type": "code",
   "execution_count": null,
   "id": "3bee1f16-e6d7-487f-8551-c45cbbcf9f8a",
   "metadata": {},
   "outputs": [],
   "source": []
  },
  {
   "cell_type": "code",
   "execution_count": null,
   "id": "4d79c846-73fe-472c-9270-9882da91276b",
   "metadata": {},
   "outputs": [],
   "source": []
  },
  {
   "cell_type": "code",
   "execution_count": null,
   "id": "b21fe779-5281-4ed2-a8a8-0c91d46116ed",
   "metadata": {
    "tags": []
   },
   "outputs": [],
   "source": [
    "for sample in names:\n",
    "    adatasub = adata[adata.obs['sample']==sample]\n",
    "    g_size = adatasub.obsm['size_freq_abc'][:,0]\n",
    "    g_sum  = adatasub.obsm['size_freq_abc'][:,4]\n",
    "    freq_a = adatasub.obsm['size_freq_abc'][:,1]\n",
    "    freq_b = adatasub.obsm['size_freq_abc'][:,2]\n",
    "    freq_c = adatasub.obsm['size_freq_abc'][:,3]\n",
    "\n",
    "    rank = np.argsort(np.vstack([freq_a,freq_b,freq_c]).T, axis=1)[:,-1]\n",
    "    ta = np.sum(rank==0)\n",
    "    tb = np.sum(rank==1)\n",
    "    tc = np.sum(rank==2)\n",
    "    tt = len(g_size)\n",
    "    print(sample, f'{ta/tt: .2f}', f'{tb/tt: .2f}', f'{tc/tt: .2f}')"
   ]
  },
  {
   "cell_type": "code",
   "execution_count": null,
   "id": "8e2857af-d3ba-4578-a678-c1324fac1fe0",
   "metadata": {},
   "outputs": [],
   "source": []
  },
  {
   "cell_type": "code",
   "execution_count": null,
   "id": "b1601c91-42c5-4bab-9773-bf8babc6a7f5",
   "metadata": {},
   "outputs": [],
   "source": []
  },
  {
   "cell_type": "code",
   "execution_count": null,
   "id": "38b2788a-a4ae-434c-9913-8c4929d26f25",
   "metadata": {},
   "outputs": [],
   "source": []
  },
  {
   "cell_type": "code",
   "execution_count": null,
   "id": "13a4aa94-5f07-4853-85db-c890538ac1ff",
   "metadata": {},
   "outputs": [],
   "source": []
  },
  {
   "cell_type": "code",
   "execution_count": null,
   "id": "67342fcb-643f-4174-8b88-70a310cde698",
   "metadata": {},
   "outputs": [],
   "source": []
  },
  {
   "cell_type": "code",
   "execution_count": null,
   "id": "0df9ab75-c906-4767-9830-7dfe32f6ba7e",
   "metadata": {},
   "outputs": [],
   "source": []
  },
  {
   "cell_type": "code",
   "execution_count": null,
   "id": "3e5219bb-edc1-433b-a0d2-7158251c1c8d",
   "metadata": {},
   "outputs": [],
   "source": [
    "x =  adata.obs['width_show2']\n",
    "y =  adata.obs['depth_show2']\n",
    "\n",
    "g_size = adata.obsm['size_freq_abc'][:,0]\n",
    "freq_a = adata.obsm['size_freq_abc'][:,1]\n",
    "freq_b = adata.obsm['size_freq_abc'][:,2]\n",
    "freq_c = adata.obsm['size_freq_abc'][:,3]\n",
    "\n",
    "# visualize ABC scores using additive blending\n",
    "additive = (cmap_a(freq_a)+cmap_b(freq_b)+cmap_c(freq_c))[:,:3]\n",
    "\n",
    "fig, ax = plt.subplots(1,1,figsize=(1*25,1))\n",
    "for lbl, coord in width_cum.items():\n",
    "    ax.text(coord, 0, lbl, fontsize=12)\n",
    "    \n",
    "sorting = np.argsort(np.max(additive, axis=1))# [::-1]\n",
    "p = ax.scatter(x[sorting], y[sorting], c=additive[sorting], s=5, edgecolor='none', alpha=g_size[sorting])\n",
    "# cond = np.max(additive, axis=1) > 1e-5\n",
    "# p = ax.scatter(x[cond], y[cond], c=normed[cond], s=1, edgecolor='none')\n",
    "ax.set_aspect('equal')\n",
    "ax.axis('off')\n",
    "\n",
    "plt.show()"
   ]
  },
  {
   "cell_type": "code",
   "execution_count": null,
   "id": "243e0f3b-995d-4441-8c68-6b008e3b6522",
   "metadata": {},
   "outputs": [],
   "source": []
  },
  {
   "cell_type": "code",
   "execution_count": null,
   "id": "6e3c5ea1-135d-40d5-a1df-3a126dccd5d5",
   "metadata": {},
   "outputs": [],
   "source": []
  },
  {
   "cell_type": "code",
   "execution_count": null,
   "id": "76e9b1ae-b992-4329-bb2d-c0b7fba80a84",
   "metadata": {},
   "outputs": [],
   "source": []
  },
  {
   "cell_type": "code",
   "execution_count": null,
   "id": "358f552a-b1bb-4ae7-a5be-d41772e534e6",
   "metadata": {},
   "outputs": [],
   "source": []
  },
  {
   "cell_type": "markdown",
   "id": "8d7d06a2-99df-47f6-9073-3398e2643708",
   "metadata": {},
   "source": [
    "# visualize FISH"
   ]
  },
  {
   "cell_type": "code",
   "execution_count": null,
   "id": "680d3eba-a857-4612-bf20-4bffd5ec6bbe",
   "metadata": {
    "tags": []
   },
   "outputs": [],
   "source": [
    "gns = ['Cdh13', 'Sorcs3', 'Chrm2', 'Fos'] \n",
    "x =  adata.obs['width_show2']\n",
    "y =  adata.obs['depth_show2']\n",
    "n = len(gns)\n",
    "\n",
    "fig, axs = plt.subplots(n,1,figsize=(1*25,n*1))\n",
    "for i, (ax, gn) in enumerate(zip(axs, gns)):\n",
    "    if i == 0:\n",
    "        for lbl, coord in width_cum.items():\n",
    "            ax.text(coord, 0, lbl, fontsize=12)\n",
    "    \n",
    "    g = np.log2(1+adata[:,gn].layers['jnorm'].reshape(-1,))\n",
    "    vmax = np.percentile(g, 99)\n",
    "    vmin = np.percentile(g,  5)\n",
    "    sorting = np.argsort(g)\n",
    "    \n",
    "    p = utils_merfish.st_scatter_ax(fig, ax,  x[sorting],  y[sorting],  gexp=g[sorting], s=5, title='', vmin=vmin, vmax=vmax, cmap='rocket_r')\n",
    "    ax.set_title(gn, loc='left', va='center', ha='right', y=0.5, pad=None)\n",
    "    fig.colorbar(p, pad=0, shrink=0.5, aspect=5, ticks=[np.round(vmin, decimals=1), np.round(vmax-0.1, decimals=1)])\n",
    "    \n",
    "plt.show()\n",
    "    "
   ]
  },
  {
   "cell_type": "code",
   "execution_count": null,
   "id": "f91b40f4-e6ea-44cc-bc97-9e2d5d534fb1",
   "metadata": {
    "tags": []
   },
   "outputs": [],
   "source": [
    "gns = ['Syt17', 'Astn2', 'Etl4', 'Slc24a3'] \n",
    "x =  adata.obs['width_show2']\n",
    "y =  adata.obs['depth_show2']\n",
    "n = len(gns)\n",
    "\n",
    "fig, axs = plt.subplots(n,1,figsize=(1*25,n*1))\n",
    "for i, (ax, gn) in enumerate(zip(axs, gns)):\n",
    "    if i == 0:\n",
    "        for lbl, coord in width_cum.items():\n",
    "            ax.text(coord, 0, lbl, fontsize=12)\n",
    "    \n",
    "    g = np.log2(1+adata[:,gn].layers['jnorm'].reshape(-1,))\n",
    "    vmax = np.percentile(g, 99)\n",
    "    vmin = np.percentile(g,  5)\n",
    "    sorting = np.argsort(g)\n",
    "    \n",
    "    p = utils_merfish.st_scatter_ax(fig, ax,  x[sorting],  y[sorting],  gexp=g[sorting], s=5, title='', vmin=vmin, vmax=vmax, cmap='rocket_r')\n",
    "    ax.set_title(gn, loc='left', va='center', ha='right', y=0.5, pad=None)\n",
    "    fig.colorbar(p, pad=0, shrink=0.5, aspect=5, ticks=[np.round(vmin, decimals=1), np.round(vmax-0.1, decimals=1)])\n",
    "    \n",
    "plt.show()\n",
    "    "
   ]
  },
  {
   "cell_type": "code",
   "execution_count": null,
   "id": "ec531f09-a419-4a56-9a8e-ff17e117f3dd",
   "metadata": {},
   "outputs": [],
   "source": []
  },
  {
   "cell_type": "code",
   "execution_count": null,
   "id": "c472f63a-1d6c-4c75-8d87-1806daa093ad",
   "metadata": {
    "tags": []
   },
   "outputs": [],
   "source": [
    "x =  adata.obs['width_show2']\n",
    "y =  adata.obs['depth_show2']\n",
    "gns = [agenes, bgenes, cgenes, iegs] \n",
    "titles = ['A genes', 'B genes', 'C genes', 'IEGs']\n",
    "n = len(gns)\n",
    "\n",
    "fig, axs = plt.subplots(n,1,figsize=(1*25,n*1))\n",
    "for i, (ax, gn, title) in enumerate(zip(axs, gns, titles)):\n",
    "    if i == 0:\n",
    "        for lbl, coord in width_cum.items():\n",
    "            ax.text(coord, 0, lbl, fontsize=12)\n",
    "    \n",
    "    g = adata[:,gn].layers['ljnorm'].mean(axis=1)\n",
    "    sorting = np.argsort(g)\n",
    "    \n",
    "    vmin = np.percentile(g,  5)\n",
    "    vmax = np.percentile(g, 95)\n",
    "    p = utils_merfish.st_scatter_ax(fig, ax, x[sorting], y[sorting], gexp=g[sorting], \n",
    "                                    s=5, title='', vmin=vmin, vmax=vmax, cmap='coolwarm') #, axis_off=False)\n",
    "    ax.set_title(title, loc='left', va='center', ha='right', y=0.5, pad=None)\n",
    "    fig.colorbar(p, pad=0, shrink=0.5, aspect=5, ticks=[np.round(vmin, decimals=1), np.round(vmax-0.1, decimals=1)])\n",
    "    \n",
    "plt.show()\n",
    "    "
   ]
  },
  {
   "cell_type": "code",
   "execution_count": null,
   "id": "fa83a3cc-44d6-4ba4-81cc-578283698e06",
   "metadata": {},
   "outputs": [],
   "source": []
  },
  {
   "cell_type": "markdown",
   "id": "3d2926cb-2d59-4080-aa7c-f6d62edd24b9",
   "metadata": {
    "tags": []
   },
   "source": [
    "# stats"
   ]
  },
  {
   "cell_type": "code",
   "execution_count": null,
   "id": "909e5119-d4ac-4bd6-8087-3060a98fdbc4",
   "metadata": {
    "tags": []
   },
   "outputs": [],
   "source": [
    "stats = {}\n",
    "bins = np.linspace(0, 400, 12)\n",
    "\n",
    "for name in names:\n",
    "    adatasub = adata[adata.obs['sample']==name]# v1l23_data[name]\n",
    "    lnorm_mean, lnorm_sem, lnorm_std, n, d, db = binning_pipe2(adatasub, 'depth', 'ljnorm', bins=bins)\n",
    "    stats[name] = (lnorm_mean, lnorm_sem, lnorm_std, n, d, db)\n",
    "d.value_counts()"
   ]
  },
  {
   "cell_type": "code",
   "execution_count": null,
   "id": "592d3a8c-f612-4909-a89f-dac05bb6e7ca",
   "metadata": {
    "tags": []
   },
   "outputs": [],
   "source": [
    "# mean expression level across V1 L2/3 in NR\n",
    "base_a0 = []\n",
    "base_b0 = []\n",
    "base_c0 = []\n",
    "base_i0 = []\n",
    "for name in [\n",
    "    'P28NR_ant', 'P28NR_pos', 'P28NRb_ant', 'P28NRb_pos',]:\n",
    "    (lnorm_mean, lnorm_sem, lnorm_std, n, d, db) = stats[name]\n",
    "    base_a = np.mean(lnorm_mean.iloc[:,agenes_idx], axis=0) # across depth bins for each gene\n",
    "    base_b = np.mean(lnorm_mean.iloc[:,bgenes_idx], axis=0) # across depth bins for each gene\n",
    "    base_c = np.mean(lnorm_mean.iloc[:,cgenes_idx], axis=0) # across depth bins for each gene\n",
    "    base_i = np.mean(lnorm_mean.iloc[:,igenes_idx], axis=0) # across depth bins for each gene\n",
    "    \n",
    "    base_a0.append(base_a)\n",
    "    base_b0.append(base_b)\n",
    "    base_c0.append(base_c)\n",
    "    base_i0.append(base_i)\n",
    "    \n",
    "base_a0 = np.mean(base_a0, axis=0)\n",
    "base_b0 = np.mean(base_b0, axis=0)\n",
    "base_c0 = np.mean(base_c0, axis=0)\n",
    "base_i0 = np.mean(base_i0, axis=0)\n",
    "\n",
    "base_a0.shape, base_b0.shape, base_c0.shape, base_i0.shape"
   ]
  },
  {
   "cell_type": "code",
   "execution_count": null,
   "id": "662d057b-3ae0-46ff-ade3-1745770e2a28",
   "metadata": {
    "tags": []
   },
   "outputs": [],
   "source": [
    "means = {}\n",
    "sems = {}\n",
    "for name in names:\n",
    "    (lnorm_mean, lnorm_sem, lnorm_std, n, d, db) = stats[name]\n",
    "    \n",
    "    amean = np.mean(lnorm_mean.iloc[:,agenes_idx]-base_a0, axis=1) # a bin vector\n",
    "    bmean = np.mean(lnorm_mean.iloc[:,bgenes_idx]-base_b0, axis=1) # a bin vector\n",
    "    cmean = np.mean(lnorm_mean.iloc[:,cgenes_idx]-base_c0, axis=1) # a bin vector\n",
    "    imean = np.mean(lnorm_mean.iloc[:,igenes_idx]-base_i0, axis=1) # a bin vector\n",
    "    \n",
    "    asem = np.mean(lnorm_sem.iloc[:,agenes_idx], axis=1)\n",
    "    bsem = np.mean(lnorm_sem.iloc[:,bgenes_idx], axis=1)\n",
    "    csem = np.mean(lnorm_sem.iloc[:,cgenes_idx], axis=1)\n",
    "    isem = np.mean(lnorm_sem.iloc[:,igenes_idx], axis=1)\n",
    "    \n",
    "    means[name] = [amean, bmean, cmean, imean]\n",
    "    sems[name] = [asem, bsem, csem, isem]\n",
    "    "
   ]
  },
  {
   "cell_type": "code",
   "execution_count": null,
   "id": "9a1889e2-cb55-42b5-9167-334afac16b9a",
   "metadata": {
    "tags": []
   },
   "outputs": [],
   "source": [
    "midpoints = np.mean(np.vstack([bins[:-1], bins[1:]]), axis=0)\n",
    "midpoints"
   ]
  },
  {
   "cell_type": "code",
   "execution_count": null,
   "id": "60d9f381-7703-4d96-a122-76ce38f44542",
   "metadata": {
    "tags": []
   },
   "outputs": [],
   "source": [
    "names"
   ]
  },
  {
   "cell_type": "code",
   "execution_count": null,
   "id": "6be436ca-3b28-4b68-9cd3-cf4508ff24b7",
   "metadata": {},
   "outputs": [],
   "source": [
    "gnames = ['A genes (n=64)', 'B genes (n=35)', 'C genes (n=71)']\n",
    "\n",
    "fig, axs = plt.subplots(2, 4, figsize=(5*4,4*2), sharex=True, sharey=True)\n",
    "\n",
    "# ax.set_title('P28NR')\n",
    "linestyle = '-'\n",
    "for ax, name in zip(axs.flat, names):\n",
    "    # (lnorm_mean, lnorm_sem, lnorm_std, n, d, db) = stats[name]\n",
    "    amean, bmean, cmean, imean = means[name]\n",
    "    asem, bsem, csem, isem = sems[name]\n",
    "    \n",
    "    x = midpoints\n",
    "    ax.plot(x, amean, label='A genes', color='C0', linestyle=linestyle)\n",
    "    ax.fill_between(x, amean-asem, amean+asem, color='C0', alpha=0.1, edgecolor='none')\n",
    "    ax.plot(x, bmean, label='B genes', color='C1', linestyle=linestyle)\n",
    "    ax.fill_between(x, bmean-bsem, bmean+bsem, color='C1', alpha=0.1, edgecolor='none')\n",
    "    ax.plot(x, cmean, label='C genes', color='C2', linestyle=linestyle)\n",
    "    ax.fill_between(x, cmean-csem, cmean+csem, color='C2', alpha=0.1, edgecolor='none')\n",
    "    ax.axhline(color='lightgray', linestyle='dotted', zorder=1)\n",
    "\n",
    "    sns.despine(ax=ax)\n",
    "    ax.set_xticks([0, 100, 200, 300])\n",
    "    ax.set_xlim(left=100, right=350)\n",
    "    ax.set_ylim([-0.3, 0.3])\n",
    "    ax.grid(False)\n",
    "    ax.set_title(name)\n",
    "axs.flat[0].set_ylabel('mean (expr. +/- sem)')\n",
    "\n",
    "    \n",
    "fig.subplots_adjust(wspace=0.1)\n",
    "# powerplots.savefig_autodate(fig, outdatadir+'/grant_saumya_lineq_abc_v3.pdf')"
   ]
  },
  {
   "cell_type": "code",
   "execution_count": null,
   "id": "cddf1fdc-3ff6-42bd-a366-5f9ecb4bb7c5",
   "metadata": {
    "tags": []
   },
   "outputs": [],
   "source": [
    "gnames = ['IEGs']\n",
    "\n",
    "fig, axs = plt.subplots(2, 4, figsize=(5*4,4*2), sharex=True, sharey=True)\n",
    "\n",
    "# ax.set_title('P28NR')\n",
    "linestyle = '-'\n",
    "for ax, name in zip(axs.flat, names):\n",
    "    (lnorm_mean, lnorm_sem, lnorm_std, n, d, db) = stats[name]\n",
    "    amean, bmean, cmean, imean = means[name]\n",
    "    asem, bsem, csem, isem = sems[name]\n",
    "    \n",
    "    x = midpoints\n",
    "    ax.plot(x, imean, label='IEGs', color='C4', linestyle=linestyle)\n",
    "    ax.fill_between(x, imean-isem, imean+isem, color='C0', alpha=0.1, edgecolor='none')\n",
    "    ax.axhline(color='lightgray', linestyle='dotted', zorder=1)\n",
    "\n",
    "    sns.despine(ax=ax)\n",
    "    ax.set_xticks([0, 100, 200, 300])\n",
    "    ax.set_xlim(left=100, right=350)\n",
    "    # ax.set_ylim([-0.3, 0.3])\n",
    "    ax.grid(False)\n",
    "    ax.set_title(name)\n",
    "axs.flat[0].set_ylabel('mean (expr. +/- sem)')\n",
    "\n",
    "    \n",
    "fig.subplots_adjust(wspace=0.1)\n",
    "# powerplots.savefig_autodate(fig, outdatadir+'/grant_saumya_lineq_abc_v3.pdf')"
   ]
  },
  {
   "cell_type": "code",
   "execution_count": null,
   "id": "3d011e00-0ad8-4dbe-bc70-8078b28e76a6",
   "metadata": {
    "tags": []
   },
   "outputs": [],
   "source": [
    "samp_gene_dpth_mat = np.array([np.array(means[name]) for name in names]) \n",
    "print(samp_gene_dpth_mat.shape) # sample, gene group, depth\n",
    "\n",
    "nr_mat = samp_gene_dpth_mat[:4]\n",
    "nr_mean = np.mean(nr_mat, axis=0) # gene group, depth\n",
    "nr_sem  = np.std(nr_mat, axis=0)/np.sqrt(4) # gene group, depth\n",
    "\n",
    "dr_mat = samp_gene_dpth_mat[4:]\n",
    "dr_mean = np.mean(dr_mat, axis=0) # gene group, depth\n",
    "dr_sem  = np.std(dr_mat, axis=0)/np.sqrt(4) # gene group, depth\n",
    "nr_mean.shape, dr_mean.shape"
   ]
  },
  {
   "cell_type": "code",
   "execution_count": null,
   "id": "38b7c41e-95fb-4233-b3f8-2ce5f8e0abda",
   "metadata": {
    "tags": []
   },
   "outputs": [],
   "source": [
    "# t-test between NR and DR for each gene group and each location\n",
    "from scipy import stats\n",
    "from statsmodels.stats.multitest import multipletests\n",
    "\n",
    "ts, ps = stats.ttest_ind(nr_mat, dr_mat)\n",
    "rejs, qs, _, _ = multipletests(np.nan_to_num(ps, nan=1).reshape(-1,), alpha=0.05, method='fdr_bh')\n",
    "qs = qs.reshape(ps.shape)\n",
    "nrdr_mean = np.stack([nr_mean, dr_mean], axis=2).mean(axis=2)"
   ]
  },
  {
   "cell_type": "code",
   "execution_count": null,
   "id": "ff57f01b-ca81-44fc-be0d-456bb473c063",
   "metadata": {
    "tags": []
   },
   "outputs": [],
   "source": [
    "# nr_bio_mat = np.stack([\n",
    "#     np.mean(samp_gene_dpth_mat[0:2], axis=0),\n",
    "#     np.mean(samp_gene_dpth_mat[2:4], axis=0),\n",
    "#     ], axis=0)\n",
    "# dr_bio_mat = np.stack([\n",
    "#     np.mean(samp_gene_dpth_mat[4:6], axis=0),\n",
    "#     np.mean(samp_gene_dpth_mat[6:8], axis=0),\n",
    "#     ], axis=0)\n",
    "# ts, ps = stats.ttest_ind(nr_bio_mat, dr_bio_mat)\n",
    "# qs = ps\n",
    "# rejs, qs, _, _ = multipletests(np.nan_to_num(ps, nan=1).reshape(-1,), alpha=0.05, method='fdr_bh')\n",
    "# qs = qs.reshape(ps.shape)\n",
    "# nrdr_mean = np.stack([nr_mean, dr_mean], axis=2).mean(axis=2)"
   ]
  },
  {
   "cell_type": "code",
   "execution_count": null,
   "id": "6770421a-b8af-4973-a8cb-387083b0e9a7",
   "metadata": {
    "tags": []
   },
   "outputs": [],
   "source": [
    "titles = ['NR', 'DR']\n",
    "data_mean = [nr_mean, dr_mean]\n",
    "data_sem = [nr_sem, dr_sem]\n",
    "gnames = ['A genes', 'B genes', 'C genes']\n",
    "colors = ['C0', 'C1', 'C2']\n",
    "\n",
    "fig, axs = plt.subplots(1, 2, figsize=(5*2,4), sharex=True, sharey=True)\n",
    "for ax, cond_mean, cond_sem, title in zip(axs, data_mean, data_sem, titles):\n",
    "    # ax.set_title('P28NR')\n",
    "    linestyle = '-'\n",
    "    ax.axhline(color='lightgray', linestyle='dotted', zorder=1)\n",
    "    for i, (gname, color) in enumerate(zip(gnames, colors)):\n",
    "        ax.plot(midpoints, cond_mean[i], label=gname, color=color, linestyle=linestyle)\n",
    "        ax.fill_between(midpoints, cond_mean[i]-cond_sem[i], cond_mean[i]+cond_sem[i], color=color, alpha=0.1, edgecolor='none')\n",
    "\n",
    "    sns.despine(ax=ax)\n",
    "    ax.set_xticks([0, 100, 200, 300])\n",
    "    ax.set_xlim(left=100, right=350)\n",
    "    # ax.set_ylim([-0.3, 0.3])\n",
    "    ax.grid(False)\n",
    "    ax.set_title(title)\n",
    "    ax.set_xlabel('upper->lower cortical depth')\n",
    "    \n",
    "axs[0].set_ylabel('mean (expr. +/- sem)')\n",
    "fig.subplots_adjust(wspace=0.1)\n",
    "# powerplots.savefig_autodate(fig, outdatadir+'/grant_saumya_lineq_abc_v3.pdf')\n",
    "plt.show()"
   ]
  },
  {
   "cell_type": "code",
   "execution_count": null,
   "id": "91dea5f8-93b2-48dd-893b-0da75e22aaa3",
   "metadata": {
    "tags": []
   },
   "outputs": [],
   "source": [
    "\n",
    "titles = ['NR', 'DR']\n",
    "data_mean = [nr_mean, dr_mean]\n",
    "data_sem = [nr_sem, dr_sem]\n",
    "gnames = ['IEGs']\n",
    "colors = ['C4']\n",
    "i = 3\n",
    "\n",
    "fig, axs = plt.subplots(1, 2, figsize=(5*2,4), sharex=True, sharey=True)\n",
    "for ax, cond_mean, cond_sem, title in zip(axs, data_mean, data_sem, titles):\n",
    "    # ax.set_title('P28NR')\n",
    "    linestyle = '-'\n",
    "    ax.axhline(color='lightgray', linestyle='dotted', zorder=1)\n",
    "    for (gname, color) in zip(gnames, colors):\n",
    "        ax.plot(midpoints, cond_mean[i], label=gname, color=color, linestyle=linestyle)\n",
    "        ax.fill_between(midpoints, cond_mean[i]-cond_sem[i], cond_mean[i]+cond_sem[i], color=color, alpha=0.1, edgecolor='none')\n",
    "\n",
    "    sns.despine(ax=ax)\n",
    "    ax.set_xticks([0, 100, 200, 300])\n",
    "    ax.set_xlim(left=100, right=350)\n",
    "    # ax.set_ylim([-0.3, 0.3])\n",
    "    ax.grid(False)\n",
    "    ax.set_title(title)\n",
    "    ax.set_xlabel('upper->lower cortical depth')\n",
    "    \n",
    "axs[0].set_ylabel('mean (expr. +/- sem)')\n",
    "fig.subplots_adjust(wspace=0.1)\n",
    "# powerplots.savefig_autodate(fig, outdatadir+'/grant_saumya_lineq_abc_v3.pdf')\n",
    "plt.show()"
   ]
  },
  {
   "cell_type": "code",
   "execution_count": null,
   "id": "aad928e7-01ae-448c-82b5-7456639d9110",
   "metadata": {
    "tags": []
   },
   "outputs": [],
   "source": [
    "linestyles = ['-', '--']\n",
    "data_mean = [nr_mean, dr_mean]\n",
    "data_sem = [nr_sem, dr_sem]\n",
    "gnames = ['A genes', 'B genes', 'C genes']\n",
    "titles = gnames\n",
    "colors = ['C0', 'C1', 'C2']\n",
    "labels = ['NR', 'DR']\n",
    "sigs = qs\n",
    "allmeans = nrdr_mean\n",
    "\n",
    "fig, axs = plt.subplots(1, 3, figsize=(5*3,4), sharex=True, sharey=True)\n",
    "for i, (ax, gname, color) in enumerate(zip(axs, gnames, colors)):\n",
    "    ax.axhline(color='lightgray', linestyle='dotted', zorder=1)\n",
    "    for cond_mean, cond_sem, title, linestyle in zip(data_mean, data_sem, titles, linestyles):\n",
    "        ax.plot(midpoints, cond_mean[i], label=gname, color=color, linestyle=linestyle, marker='o', markersize=5)\n",
    "        ax.fill_between(midpoints, cond_mean[i]-cond_sem[i], cond_mean[i]+cond_sem[i], color=color, alpha=0.1, edgecolor='none')\n",
    "        \n",
    "    for _x, _y, _sig in zip(midpoints, allmeans[i], sigs[i]):\n",
    "        if _sig < 1e-3:\n",
    "            ax.text(_x, _y, \"***\", ha='left', va='center', fontsize=12, rotation=90)\n",
    "            ax.vlines(_x, _y-0.02, _y+0.02, color='k', linewidth=0.5)\n",
    "        elif _sig < 5e-2:\n",
    "            ax.text(_x, _y, \"*\", ha='left', va='center', fontsize=12, rotation=90)\n",
    "            ax.vlines(_x, _y-0.02, _y+0.02, color='k', linewidth=0.5)\n",
    "\n",
    "    sns.despine(ax=ax)\n",
    "    ax.set_xticks([0, 100, 200, 300])\n",
    "    ax.set_xlim(left=100, right=350)\n",
    "    ax.set_ylim([-0.2, 0.3])\n",
    "    ax.grid(False)\n",
    "    ax.set_title(gname)\n",
    "    ax.set_xlabel('upper->lower cortical depth')\n",
    "    \n",
    "axs[0].set_ylabel('mean (expr. +/- sem)')\n",
    "fig.subplots_adjust(wspace=0.1)\n",
    "# powerplots.savefig_autodate(fig, outdatadir+'/grant_saumya_lineq_abc_v3.pdf')\n",
    "plt.show()"
   ]
  },
  {
   "cell_type": "code",
   "execution_count": null,
   "id": "5d319b70-a614-4e5e-a360-3ddba8fe99ca",
   "metadata": {
    "tags": []
   },
   "outputs": [],
   "source": [
    "linestyles = ['-', '--']\n",
    "data_mean = [nr_mean, dr_mean]\n",
    "data_sem = [nr_sem, dr_sem]\n",
    "gnames = ['IEGs']\n",
    "titles = gnames\n",
    "colors = ['C4']\n",
    "labels = ['NR', 'DR']\n",
    "i = 3\n",
    "sigs = qs\n",
    "allmeans = nrdr_mean\n",
    "\n",
    "fig, ax = plt.subplots(1, 1, figsize=(5*1,4), sharex=True, sharey=True)\n",
    "for (gname, color) in zip(gnames, colors):\n",
    "    ax.axhline(color='lightgray', linestyle='dotted', zorder=1)\n",
    "    for cond_mean, cond_sem, linestyle in zip(data_mean, data_sem, linestyles):\n",
    "        ax.plot(midpoints, cond_mean[i], label=gname, color=color, linestyle=linestyle, marker='o', markersize=5)\n",
    "        ax.fill_between(midpoints, cond_mean[i]-cond_sem[i], cond_mean[i]+cond_sem[i], color=color, alpha=0.1, edgecolor='none')\n",
    "        \n",
    "    for _x, _y, _sig in zip(midpoints, allmeans[i], sigs[i]):\n",
    "        if _sig < 1e-3:\n",
    "            ax.text(_x, _y, \"***\", ha='left', va='center', fontsize=12, rotation=90)\n",
    "            ax.vlines(_x, _y-0.1, _y+0.1, color='k', linewidth=0.5)\n",
    "        elif _sig < 5e-2:\n",
    "            ax.text(_x, _y, \"*\", ha='left', va='center', fontsize=12, rotation=90)\n",
    "            ax.vlines(_x, _y-0.1, _y+0.1, color='k', linewidth=0.5)\n",
    "\n",
    "    sns.despine(ax=ax)\n",
    "    ax.set_xticks([0, 100, 200, 300])\n",
    "    ax.set_xlim(left=100, right=350)\n",
    "    ax.set_ylim([-0.2, 1.2])\n",
    "    ax.grid(False)\n",
    "    ax.set_title(gname)\n",
    "    ax.set_xlabel('upper->lower cortical depth')\n",
    "    \n",
    "ax.set_ylabel('mean (expr. +/- sem)')\n",
    "fig.subplots_adjust(wspace=0.1)\n",
    "# powerplots.savefig_autodate(fig, outdatadir+'/grant_saumya_lineq_abc_v3.pdf')\n",
    "plt.show()"
   ]
  },
  {
   "cell_type": "code",
   "execution_count": null,
   "id": "36ee0a3c-045e-49d6-98cd-46bda5125540",
   "metadata": {},
   "outputs": [],
   "source": []
  },
  {
   "cell_type": "code",
   "execution_count": null,
   "id": "261c6bb0-7b0d-4009-9497-8c5bd14414b6",
   "metadata": {},
   "outputs": [],
   "source": []
  },
  {
   "cell_type": "code",
   "execution_count": null,
   "id": "3321a39e-eca9-4864-b663-286a7585c182",
   "metadata": {},
   "outputs": [],
   "source": []
  },
  {
   "cell_type": "code",
   "execution_count": null,
   "id": "f9a54397-3990-4113-be10-7ffb715ad441",
   "metadata": {},
   "outputs": [],
   "source": []
  },
  {
   "cell_type": "code",
   "execution_count": null,
   "id": "33682d35-d26b-4470-851f-ab9d32b0d70c",
   "metadata": {},
   "outputs": [],
   "source": []
  },
  {
   "cell_type": "code",
   "execution_count": null,
   "id": "aad89fa8-8a60-401c-9d5d-206d76f79f28",
   "metadata": {},
   "outputs": [],
   "source": []
  },
  {
   "cell_type": "code",
   "execution_count": null,
   "id": "613a0050-9462-4a82-bc09-8ff7887b8588",
   "metadata": {},
   "outputs": [],
   "source": []
  },
  {
   "cell_type": "code",
   "execution_count": null,
   "id": "bf120aa6-2783-41c2-9614-afbb5ead57a6",
   "metadata": {},
   "outputs": [],
   "source": []
  },
  {
   "cell_type": "code",
   "execution_count": null,
   "id": "7dfdf5d1-275f-4146-ae9a-d0cdd54a8b66",
   "metadata": {},
   "outputs": [],
   "source": []
  },
  {
   "cell_type": "code",
   "execution_count": null,
   "id": "b9067f3b-ec33-4112-8ae4-49b09377b6d8",
   "metadata": {},
   "outputs": [],
   "source": []
  }
 ],
 "metadata": {
  "kernelspec": {
   "display_name": "Python 3 (ipykernel)",
   "language": "python",
   "name": "python3"
  },
  "language_info": {
   "codemirror_mode": {
    "name": "ipython",
    "version": 3
   },
   "file_extension": ".py",
   "mimetype": "text/x-python",
   "name": "python",
   "nbconvert_exporter": "python",
   "pygments_lexer": "ipython3",
   "version": "3.9.16"
  }
 },
 "nbformat": 4,
 "nbformat_minor": 5
}
