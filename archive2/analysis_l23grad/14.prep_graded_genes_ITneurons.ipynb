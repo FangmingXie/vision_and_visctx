{
 "cells": [
  {
   "cell_type": "code",
   "execution_count": 1,
   "id": "bb214b6d-836a-49b8-93dd-a19f021215b7",
   "metadata": {
    "tags": []
   },
   "outputs": [
    {
     "name": "stderr",
     "output_type": "stream",
     "text": [
      "/home/qlyu/mambaforge/envs/bbbroutine/lib/python3.8/site-packages/tqdm/auto.py:22: TqdmWarning: IProgress not found. Please update jupyter and ipywidgets. See https://ipywidgets.readthedocs.io/en/stable/user_install.html\n",
      "  from .autonotebook import tqdm as notebook_tqdm\n"
     ]
    }
   ],
   "source": [
    "import os\n",
    "import numpy as np\n",
    "import pandas as pd\n",
    "import scanpy as sc\n",
    "import anndata \n",
    "import seaborn as sns\n",
    "from scipy.stats import zscore\n",
    "import matplotlib.pyplot as plt\n",
    "\n",
    "from sklearn.decomposition import PCA\n",
    "from umap import UMAP\n",
    "\n",
    "from matplotlib.colors import LinearSegmentedColormap\n",
    "\n",
    "from scroutines.config_plots import *\n",
    "from scroutines import powerplots # .config_plots import *\n",
    "from scroutines import pnmf\n",
    "from scroutines import basicu\n"
   ]
  },
  {
   "cell_type": "code",
   "execution_count": 2,
   "id": "f45abc88-0cbc-4575-8035-9cb157c42bc2",
   "metadata": {},
   "outputs": [],
   "source": [
    "outdir_fig = \"/scr/qlyu/projects/v1/figures\""
   ]
  },
  {
   "cell_type": "code",
   "execution_count": 3,
   "id": "28dae66e-9e92-4cb3-91d4-e5b9b71a714e",
   "metadata": {
    "tags": []
   },
   "outputs": [
    {
     "name": "stderr",
     "output_type": "stream",
     "text": [
      "/tmp/ipykernel_1148557/2672825771.py:25: ImplicitModificationWarning: Trying to modify attribute `.obs` of view, initializing view as actual.\n",
      "  adata.obs['cond'] = cond\n",
      "/tmp/ipykernel_1148557/2672825771.py:25: ImplicitModificationWarning: Trying to modify attribute `.obs` of view, initializing view as actual.\n",
      "  adata.obs['cond'] = cond\n",
      "/tmp/ipykernel_1148557/2672825771.py:25: ImplicitModificationWarning: Trying to modify attribute `.obs` of view, initializing view as actual.\n",
      "  adata.obs['cond'] = cond\n",
      "/tmp/ipykernel_1148557/2672825771.py:25: ImplicitModificationWarning: Trying to modify attribute `.obs` of view, initializing view as actual.\n",
      "  adata.obs['cond'] = cond\n",
      "/tmp/ipykernel_1148557/2672825771.py:25: ImplicitModificationWarning: Trying to modify attribute `.obs` of view, initializing view as actual.\n",
      "  adata.obs['cond'] = cond\n",
      "/tmp/ipykernel_1148557/2672825771.py:25: ImplicitModificationWarning: Trying to modify attribute `.obs` of view, initializing view as actual.\n",
      "  adata.obs['cond'] = cond\n",
      "/tmp/ipykernel_1148557/2672825771.py:25: ImplicitModificationWarning: Trying to modify attribute `.obs` of view, initializing view as actual.\n",
      "  adata.obs['cond'] = cond\n",
      "/tmp/ipykernel_1148557/2672825771.py:25: ImplicitModificationWarning: Trying to modify attribute `.obs` of view, initializing view as actual.\n",
      "  adata.obs['cond'] = cond\n",
      "/tmp/ipykernel_1148557/2672825771.py:25: ImplicitModificationWarning: Trying to modify attribute `.obs` of view, initializing view as actual.\n",
      "  adata.obs['cond'] = cond\n"
     ]
    }
   ],
   "source": [
    "conditions = [\n",
    "    'P8NR',\n",
    "    'P14NR',\n",
    "    'P17NR',\n",
    "    'P21NR',\n",
    "    'P28NR',\n",
    "    'P38NR',\n",
    "    \n",
    "    'P28DL',\n",
    "    \n",
    "    'P28DR',\n",
    "    'P38DR',\n",
    "]\n",
    "\n",
    "types = [\"L2/3\", \"L4\", \"L5IT\", \"L6IT\"]\n",
    "\n",
    "# get genes\n",
    "genes = anndata.read(f\"../../data/cheng21_cell_scrna/organized/{conditions[0]}.h5ad\", backed='r').var.index.values\n",
    "\n",
    "adata_all = []\n",
    "for cond in conditions:\n",
    "    adata = anndata.read(f\"../../data/cheng21_cell_scrna/organized/{cond}.h5ad\")\n",
    "    # select L2/3\n",
    "    adata = adata[adata.obs['Subclass'].isin(types)]\n",
    "    adata.obs['cond'] = cond\n",
    "    \n",
    "    _genes = adata.var.index.values\n",
    "    assert np.all(_genes == genes)\n",
    "    \n",
    "    adata_all.append(adata)\n",
    "    # break"
   ]
  },
  {
   "cell_type": "code",
   "execution_count": 4,
   "id": "967bd65b-d1f1-477e-9871-dc87ab940a5a",
   "metadata": {
    "tags": []
   },
   "outputs": [
    {
     "data": {
      "text/plain": [
       "AnnData object with n_obs × n_vars = 104726 × 53801\n",
       "    obs: 'Class_broad', 'Doublet', 'Doublet Score', 'batch', 'leiden', 'n_counts', 'n_genes', 'percent_mito', 'sample', 'Type', 'Subclass', 'cond'"
      ]
     },
     "execution_count": 4,
     "metadata": {},
     "output_type": "execute_result"
    }
   ],
   "source": [
    "adata = anndata.concat(adata_all)\n",
    "adata"
   ]
  },
  {
   "cell_type": "code",
   "execution_count": 5,
   "id": "281b6dcc-245a-4c6a-a9a9-e362d529af1e",
   "metadata": {
    "tags": []
   },
   "outputs": [
    {
     "name": "stderr",
     "output_type": "stream",
     "text": [
      "... storing 'Class_broad' as categorical\n",
      "... storing 'batch' as categorical\n",
      "... storing 'leiden' as categorical\n",
      "... storing 'sample' as categorical\n",
      "... storing 'Type' as categorical\n",
      "... storing 'cond' as categorical\n"
     ]
    }
   ],
   "source": [
    "fout = \"/scr/qlyu/projects/v1/data/cheng21_cell_scrna/reorganized/all_IT.h5ad\"\n",
    "adata.write(fout)"
   ]
  }
 ],
 "metadata": {
  "kernelspec": {
   "display_name": "Python 3 (ipykernel)",
   "language": "python",
   "name": "python3"
  },
  "language_info": {
   "codemirror_mode": {
    "name": "ipython",
    "version": 3
   },
   "file_extension": ".py",
   "mimetype": "text/x-python",
   "name": "python",
   "nbconvert_exporter": "python",
   "pygments_lexer": "ipython3",
   "version": "3.8.16"
  }
 },
 "nbformat": 4,
 "nbformat_minor": 5
}
